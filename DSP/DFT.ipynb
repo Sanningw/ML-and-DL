{
 "cells": [
  {
   "cell_type": "code",
   "execution_count": 3,
   "metadata": {},
   "outputs": [],
   "source": [
    "%plot native"
   ]
  },
  {
   "cell_type": "code",
   "execution_count": 5,
   "metadata": {},
   "outputs": [
    {
     "name": "stdout",
     "output_type": "stream",
     "text": [
      "\n",
      "t =\n",
      "\n",
      "  1 至 7 列\n",
      "\n",
      "    0.0010    0.0120    0.0230    0.0340    0.0450    0.0560    0.0670\n",
      "\n",
      "  8 至 10 列\n",
      "\n",
      "    0.0780    0.0890    0.1000\n",
      "\n",
      "\n",
      "xn =\n",
      "\n",
      "  1 至 7 列\n",
      "\n",
      "    0.5878    0.9511    0.9511    0.5878   -0.0000   -0.5878   -0.9511\n",
      "\n",
      "  8 至 10 列\n",
      "\n",
      "   -0.9511   -0.5878    0.0000\n",
      "\n",
      "\n",
      "N =\n",
      "\n",
      "    10\n",
      "\n"
     ]
    }
   ],
   "source": [
    "t = linspace(1e-3, 100e-3, 10);\n",
    "xn = sin(100 * 2 * pi *t);\n",
    "N = length(xn);\n",
    "t, xn, N"
   ]
  },
  {
   "cell_type": "code",
   "execution_count": 6,
   "metadata": {},
   "outputs": [
    {
     "name": "stderr",
     "output_type": "stream",
     "text": [
      "\u001b[0;31m错误使用 signal.internal.sigcheckfloattype\n",
      "无法重新加载 '/Applications/MATLAB_R2018a.app/bin/maci64/libmwxcp_dwarf.dylib'\n",
      "\n",
      "出错 signal.internal.sigcasttofloat (line 36)\n",
      "signal.internal.sigcheckfloattype(x,'', fcnName, varName, datacheckflag);\n",
      "\n",
      "出错 dftmtx (line 38)\n",
      "n = signal.internal.sigcasttofloat(n,'double','dftmtx','N',...\n",
      "\n",
      "\u001b[0m"
     ]
    }
   ],
   "source": [
    "WNnk = dftmtx(N);\n",
    "Xk = xn * WNnk\n",
    "subplot(1, 2, 1);stem(1 : N, xn);\n",
    "subplot(1, 2, 2);stem(1 : N, abs(Xk));"
   ]
  },
  {
   "cell_type": "code",
   "execution_count": 11,
   "metadata": {},
   "outputs": [],
   "source": [
    "clc; clear all; close all;\n",
    "%%%%%%%%%%%%%%%%%%%%%%%%%%%%%%%%%%%%%%%%%%%%%%%%%%%%%%%%%%%%%%%%%%%%%%%%%%%\n",
    "N=10000;                                     % sampling numbers\n",
    "Tau0=1;                                      % define initial Tau\n",
    "for i=1:100\n",
    "    Tau=Tau0/i; \n",
    "    TimeRange=linspace(-10*Tau,10*Tau,N);        % display time range\n",
    "    FreqRange=linspace(-200*pi/i,200*pi/i,N);    % display frequency range\n",
    "    Half_Tau=Tau/2;                              % -0.5 Tao ==> 0.5 Tao\n",
    "    RECT=1/Tau*double(abs(TimeRange)<Half_Tau);  % one rectangular pulse\n",
    "    SINC=sinc(FreqRange*Tau*pi);                 % sinc pulse, Xtra\n",
    "    \n",
    "    subplot(2,1,1);\n",
    "    plot(TimeRange,RECT,'LineWidth',1.5); grid on;\n",
    "    xlim([-1 1]); ylim([-0.5 120]);\n",
    "    xlabel('Time'); ylabel('Amplitude');\n",
    "    title('Made by J Pan')\n",
    "    \n",
    "    subplot(2,1,2);\n",
    "    plot(FreqRange,SINC,'LineWidth',1.5); grid on; \n",
    "    xlim([-200*pi/i 200*pi/i]);ylim([-0.5 1.5]); \n",
    "    xlabel('Frequency'); ylabel('Amplitude');\n",
    "    title('Made by J Pan')\n",
    "    drawnow;   \n",
    "end"
   ]
  },
  {
   "cell_type": "code",
   "execution_count": 12,
   "metadata": {},
   "outputs": [
    {
     "name": "stderr",
     "output_type": "stream",
     "text": [
      "\u001b[0;31m错误使用 signal.internal.sigcheckfloattype\n",
      "无法重新加载 '/Applications/MATLAB_R2018a.app/bin/maci64/libmwxcp_dwarf.dylib'\n",
      "\n",
      "出错 signal.internal.sigcasttofloat (line 36)\n",
      "signal.internal.sigcheckfloattype(x,'', fcnName, varName, datacheckflag);\n",
      "\n",
      "出错 gencoswin (line 15)\n",
      "n = signal.internal.sigcasttofloat(varargin{2},'double','gencoswin','N',...\n",
      "\n",
      "出错 hamming (line 22)\n",
      "[w,msg,msgobj] = gencoswin('hamming',varargin{:});\n",
      "\n",
      "出错 welchparse>segment_info (line 213)\n",
      "        win = hamming(win);\n",
      "\n",
      "出错 welchparse (line 32)\n",
      "[L,noverlap,win] = segment_info(M,win,noverlap);\n",
      "\n",
      "出错 pspectrogram (line 34)\n",
      "[x,nx,~,y,ny,win,~,~,noverlap,~,~,options] = welchparse(x,esttype,varargin{:});\n",
      "\n",
      "出错 spectrogram (line 166)\n",
      "  [varargout{1:nargout}] = pspectrogram({x},'spect',varargin{:});\n",
      "\n",
      "\u001b[0m"
     ]
    }
   ],
   "source": [
    "clc; clear all; close all;\n",
    "%%%%%%%%%%%%%%%%%%%%%%%%%%%%%%%%%%%%\n",
    "Fs = 1000;       %Sampling frequency\n",
    "T = 1/Fs;        %Sample time\n",
    "L = 800;         %Length of signal\n",
    "t = (0:L-1)*T;\n",
    "\n",
    "s1 = 5*sin(2*pi*100*t);\n",
    "s2 = 5*sin(2*pi*180*t);\n",
    "s3 = 5*sin(2*pi*320*t);\n",
    "s4 = 5*sin(2*pi*400*t);\n",
    "\n",
    "signal = [s1 s2 s3 s4];\n",
    "tp = (0:4*L-1)*T;\n",
    "figure('color','w');\n",
    "plot(tp,signal);\n",
    "title('Original Signal  Made by J Pan');\n",
    "\n",
    "[S F T P] = spectrogram(signal,128,120,1024,1000);\n",
    "surf(T,F,abs(S));\n",
    "shading flat;view(-67,70);\n",
    "xlim([0 max(tp)]);\n",
    "xl=xlabel('  Time');\n",
    "yl=ylabel('Frequency');\n",
    "zlabel('Amplitude');\n",
    "set(xl,'Rotation',70);% \n",
    "set(yl,'Rotation',-10);%\n",
    "title('Made by J Pan');"
   ]
  },
  {
   "cell_type": "code",
   "execution_count": null,
   "metadata": {},
   "outputs": [],
   "source": []
  }
 ],
 "metadata": {
  "kernelspec": {
   "display_name": "Matlab",
   "language": "matlab",
   "name": "matlab"
  },
  "language_info": {
   "codemirror_mode": "octave",
   "file_extension": ".m",
   "help_links": [
    {
     "text": "MetaKernel Magics",
     "url": "https://github.com/calysto/metakernel/blob/master/metakernel/magics/README.md"
    }
   ],
   "mimetype": "text/x-octave",
   "name": "matlab",
   "version": "0.15.1"
  }
 },
 "nbformat": 4,
 "nbformat_minor": 2
}
