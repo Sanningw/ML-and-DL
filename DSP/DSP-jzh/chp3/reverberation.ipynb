{
 "cells": [
  {
   "cell_type": "code",
   "execution_count": 1,
   "metadata": {},
   "outputs": [],
   "source": [
    "%plot native\n",
    "% 混响系统分析\n",
    "%%%%%%%%%%%%%%%%%%%%%%%%%%%%%%%%%%%%%%%%\n",
    "\n",
    "close all; clear all; clc;"
   ]
  },
  {
   "cell_type": "code",
   "execution_count": 2,
   "metadata": {},
   "outputs": [],
   "source": [
    "a =  .83; b = .08; L = 10;                     %混响系统参数\n",
    "B = [zeros(1, L), a, - a * b];                 %传递函数分母多项式\n",
    "A = [1, -b, zeros(1,L - 2), - a * (1 - b)];    %传递函数分子多项式\n",
    "\n",
    "zplane(B, A);                                  %分析系统的零极点\n",
    "\n",
    "\n",
    "N = 256;\n",
    "x = [1,zeros(1, N - 1)];                       %长度为N的单位冲激函数\n",
    "h = filter(B, A, x);                           %计算单位冲激响应\n",
    "figure;plot(h);\n",
    "\n",
    "w = [0 : 0.5 : 100] * pi / 100;\n",
    "H = freqz(B, A, w);                            %计算系统的频率响应\n",
    "magH = abs(H);                                 %计算幅频响应\n",
    "phaH = angle(H);                               %计算相频响应\n",
    "figure;plot(w / pi, magH);\n",
    "figure;plot(w / pi, phaH);"
   ]
  },
  {
   "cell_type": "code",
   "execution_count": null,
   "metadata": {},
   "outputs": [],
   "source": []
  }
 ],
 "metadata": {
  "kernelspec": {
   "display_name": "Matlab",
   "language": "matlab",
   "name": "matlab"
  },
  "language_info": {
   "codemirror_mode": "octave",
   "file_extension": ".m",
   "help_links": [
    {
     "text": "MetaKernel Magics",
     "url": "https://github.com/calysto/metakernel/blob/master/metakernel/magics/README.md"
    }
   ],
   "mimetype": "text/x-octave",
   "name": "matlab",
   "version": "0.15.1"
  }
 },
 "nbformat": 4,
 "nbformat_minor": 2
}
