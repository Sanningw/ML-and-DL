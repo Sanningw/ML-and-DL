{
 "cells": [
  {
   "cell_type": "code",
   "execution_count": 2,
   "metadata": {},
   "outputs": [],
   "source": [
    "%plot native\n",
    "close all; clear all; clc;\n",
    "% 数字分频器工作过程\n",
    "% 包括分频器单位冲激响应及幅频响应\n",
    "% 数字音频信号通过分频器的输出"
   ]
  },
  {
   "cell_type": "code",
   "execution_count": 3,
   "metadata": {},
   "outputs": [
    {
     "name": "stderr",
     "output_type": "stream",
     "text": [
      "\u001b[0;31m����ʹ�� eval\n",
      "δ���庯������� 'wavread'��\n",
      "\n",
      "\u001b[0m"
     ]
    }
   ],
   "source": [
    "fs = 44100; %采样频率\n",
    "\n",
    "hL = load('hl.dat');%读取分频器低通系统单位冲激响应\n",
    "hH = load('hh.dat');%读取分频器高通系统单位冲激响应\n",
    "\n",
    "\n",
    "figure;%绘图，分频器低通和高通系统单位冲激响应\n",
    "subplot(2,1,1);stem(hL);grid;xlabel('n');ylabel('Impulse response of LPF');\n",
    "subplot(2,1,2);stem(hH);grid;xlabel('n');ylabel('Impulse response of HPF');\n",
    "\n",
    "[HL f]=freqz(hL,1,44100,fs);%计算分频器低通系统频率响应\n",
    "[HH f]=freqz(hH,1,44100,fs);%计算分频器高通系统频率响应\n",
    "\n",
    "figure;%绘图，分频器低通和高通系统幅频响应\n",
    "subplot(2,1,1);semilogx(f,20*log10(abs(HL)));grid\n",
    "axis([1  45000 -200 20]);\n",
    "xlabel('Frequency (Hz)');ylabel('Magnitude response (dB)');\n",
    "subplot(2,1,2);semilogx(f,20*log10(abs(HH)));grid\n",
    "axis([1  45000 -200 20]);\n",
    "xlabel('Frequency (Hz)');ylabel('Magnitude response (dB)');\n",
    "\n",
    "xt = wavread('we.wav');%读取音频信号\n",
    "x = xt(:,1);%提取其中的一个声道\n",
    "\n",
    "N=length(x);\n",
    "f1=[0:N/2]*fs/N;\n",
    "magX=2*abs(fft(x))/N;magX(1)=magX(1)/2;%分析输入音频信号的频谱\n",
    "\n",
    "figure;%绘图，输入音频信号的时域和频域波形\n",
    "subplot(2,1,1);plot(x);\n",
    "axis([1  N -0.1 0.15]);\n",
    "xlabel('Number of samples');ylabel('Sample value');grid;\n",
    "subplot(2,1,2); semilogx(f1,magX(1:N/2+1));\n",
    "axis([1  N/2+1 0 0.003]);\n",
    "xlabel('Frequency (Hz)'); ylabel('Amplitude |X(f)| ');grid;\n",
    "\n",
    "yH=filter(hH,1,x);%音频信号通过分频器高通系统\n",
    "yL=filter(hL,1,x);%音频信号通过分频器低通系统\n",
    "magYH=2*abs(fft(yH))/N;magYH(1)=magYH(1)/2;%分析高通系统输出信号的频谱\n",
    "magYL=2*abs(fft(yL))/N;magYL(1)=magYL(1)/2;%分析低通系统输出信号的频谱\n",
    "\n",
    "figure;%绘图，低通系统输出的时域和频域波形，高通系统输出的时域和频域波形\n",
    "subplot(2,2,1); plot(yL);\n",
    "axis([1  N -0.1 0.15]);\n",
    "xlabel('Number of samples');ylabel('Sample value');grid;\n",
    "subplot(2,2,2);semilogx(f1,magYL(1:N/2+1));\n",
    "axis([1  N/2+1 0 0.003]);\n",
    "xlabel('Frequency (Hz)'); ylabel('Amplitude |YL(f)| ');grid;\n",
    "subplot(2,2,3); plot(yH);\n",
    "axis([1  N -0.1 0.15]);\n",
    "xlabel('Number of samples');ylabel('Sample value');grid;\n",
    "subplot(2,2,4);semilogx(f1,magYH(1:N/2+1));\n",
    "axis([1  N/2+1 0 0.003]);\n",
    "xlabel('Frequency (Hz)'); ylabel('Amplitude |YH(f)| ');grid;\n"
   ]
  },
  {
   "cell_type": "code",
   "execution_count": null,
   "metadata": {},
   "outputs": [],
   "source": []
  }
 ],
 "metadata": {
  "kernelspec": {
   "display_name": "Matlab",
   "language": "matlab",
   "name": "matlab"
  },
  "language_info": {
   "codemirror_mode": "octave",
   "file_extension": ".m",
   "help_links": [
    {
     "text": "MetaKernel Magics",
     "url": "https://github.com/calysto/metakernel/blob/master/metakernel/magics/README.md"
    }
   ],
   "mimetype": "text/x-octave",
   "name": "matlab",
   "version": "0.15.1"
  }
 },
 "nbformat": 4,
 "nbformat_minor": 2
}
