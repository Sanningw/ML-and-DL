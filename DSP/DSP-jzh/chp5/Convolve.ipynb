{
 "cells": [
  {
   "cell_type": "code",
   "execution_count": 10,
   "metadata": {},
   "outputs": [],
   "source": [
    "%plot native\n",
    "\n",
    "% 第五章实例 example_5_2.m\n",
    "% 股票市场移动平均线\n",
    "% 用DFT计算线性卷积\n",
    "%%%%%%%%%%%%%%%%%%%%%%%%%%%%%%%%%%%%%%%%%%%%%%%%%%\n",
    "\n",
    "close all; clear all; clc;"
   ]
  },
  {
   "cell_type": "code",
   "execution_count": 3,
   "metadata": {},
   "outputs": [
    {
     "name": "stdout",
     "output_type": "stream",
     "text": [
      "\n",
      "M =\n",
      "\n",
      "    90\n",
      "\n"
     ]
    }
   ],
   "source": [
    "x = load('stockSH.txt','-ascii');                          %导入输入数据\n",
    "M = length(x)\n",
    "\n",
    "L = 10;\n",
    "h = 1/L*ones(L,1);                                         %生成滑动平均滤波器,10*1的值为0.1的向量\n",
    "\n",
    "m = 0:M-1;\n",
    "l = 0:L-1;\n",
    "\n",
    "figure;                                                    %绘图，输入数据和滤波器单位冲激响应\n",
    "subplot(1,2,1);plot(m,x,'-o');grid;\n",
    "xlabel('Number of samples');ylabel('Sample Value');\n",
    "subplot(1,2,2);plot(l,h,'-o');\n",
    "xlabel('Number of samples');ylabel('Sample Value');\n",
    "axis([0,L,0,0.16]);grid;\n",
    "\n",
    "N = M+L-1;\n",
    "X = fft(x,N);                                              %计算输入数据N点DFT\n",
    "magX = abs(X);\n",
    "phaX = angle(X);\n",
    "H = fft(h,N);                                              %计算滤波器N点DFT\n",
    "magH = abs(H);\n",
    "phaH = angle(H);\n",
    "\n",
    "n = 0:N-1;\n",
    "figure;                                                    %绘图，补零后输入和系统的频谱\n",
    "subplot(2,2,1);plot(n,magX,'-o');grid;\n",
    "xlabel('Number of samples');ylabel('Amplitude');\n",
    "subplot(2,2,2);plot(n,phaX,'-o');grid;\n",
    "xlabel('Number of samples');ylabel('Phase');\n",
    "subplot(2,2,3);plot(n,magH,'-o');grid;\n",
    "xlabel('Number of samples');ylabel('Amplitude');\n",
    "subplot(2,2,4);plot(n,phaH,'-o');grid;\n",
    "xlabel('Number of samples');ylabel('Phase');\n",
    "\n",
    "Y = X.*H;                                                  %频域相乘\n",
    "\n",
    "y = ifft(Y);                                               %计算iDFT\n",
    "\n",
    "n1 = L-1:M-1;\n",
    "figure;                                                    %绘图，移动平均线\n",
    "subplot(1,2,1);plot(n,y,'-o');grid;\n",
    "xlabel('Number of samples');ylabel('Sample Value');\n",
    "subplot(1,2,2);plot(n1,y(n1+1),'-o');grid;\n",
    "xlabel('Number of samples');ylabel('Sample Value');"
   ]
  },
  {
   "cell_type": "code",
   "execution_count": 12,
   "metadata": {},
   "outputs": [
    {
     "name": "stdout",
     "output_type": "stream",
     "text": [
      "\n",
      "M =\n",
      "\n",
      "    90\n",
      "\n"
     ]
    }
   ],
   "source": [
    "x = load('stockSH.txt','-ascii');                          %导入输入数据\n",
    "M = length(x)\n",
    "\n",
    "L = 10;\n",
    "h = 1/L*ones(L,1);                                         %生成滑动平均滤波器,10*1的值为0.1的向量\n",
    "\n",
    "m = 0:M-1;\n",
    "l = 0:L-1;\n",
    "\n",
    "figure;                                                    %绘图，输入数据和滤波器单位冲激响应\n",
    "subplot(1,2,1);plot(m,x,'-o');grid;\n",
    "xlabel('Number of samples');ylabel('Sample Value');\n",
    "subplot(1,2,2);plot(l,h,'-o');\n",
    "xlabel('Number of samples');ylabel('Sample Value');\n",
    "axis([0,L,0,0.16]);grid;"
   ]
  },
  {
   "cell_type": "code",
   "execution_count": null,
   "metadata": {},
   "outputs": [],
   "source": []
  }
 ],
 "metadata": {
  "kernelspec": {
   "display_name": "Matlab",
   "language": "matlab",
   "name": "matlab"
  },
  "language_info": {
   "codemirror_mode": "octave",
   "file_extension": ".m",
   "help_links": [
    {
     "text": "MetaKernel Magics",
     "url": "https://github.com/calysto/metakernel/blob/master/metakernel/magics/README.md"
    }
   ],
   "mimetype": "text/x-octave",
   "name": "matlab",
   "version": "0.15.1"
  }
 },
 "nbformat": 4,
 "nbformat_minor": 2
}
