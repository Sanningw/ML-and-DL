{
 "cells": [
  {
   "cell_type": "code",
   "execution_count": 1,
   "metadata": {},
   "outputs": [],
   "source": [
    "%plot native\n",
    "close all; clear all; clc;\n",
    "\n",
    "% 第六章实例 example_6_1.m\n",
    "% 大点数FFT\n",
    "%%%%%%%%%%%%%%%%%%%%%%%%%%%%%%%%%%%%%%%%%%%%%%%%%%"
   ]
  },
  {
   "cell_type": "code",
   "execution_count": 2,
   "metadata": {},
   "outputs": [],
   "source": [
    "N = 16*1024;                           %FFT点数\n",
    "\n",
    "n = 0:N-1;\n",
    "x = exp(j*0.25*pi.*n)+5*randn(1,N);    %输入，被噪声污染的单频复正弦信号\n",
    "\n",
    "for n1 = 1:N/2                         %对输入信号进行组合\n",
    "    x0(n1) = x(n1)+x(n1+N/2);\n",
    "    Twi = exp(-j*2*pi/N*(n1-1));\n",
    "    x1(n1) = (x(n1)-x(n1+N/2))*Twi;\n",
    "end\n",
    "\n",
    "n2 = 0:N/2-1;\n",
    "figure;                                %绘图，组合后的x0和x1\n",
    "subplot(1,2,1);plot(n2,real(x0));\n",
    "xlabel('Number of samples');ylabel('Sample value');\n",
    "axis([0 N/2+100 -30 30]);grid;\n",
    "subplot(1,2,2);plot(n2,real(x1));\n",
    "xlabel('Number of samples');ylabel('Sample value');\n",
    "axis([0 N/2+100 -30 30]);grid;\n",
    "\n",
    "X0 = fft(x0);                          %N/2点的FFT\n",
    "X1 = fft(x1);                          %N/2点的FFT\n",
    "\n",
    "for n1 = 1:N/2                         %X0为偶数部分，X1为奇数部分\n",
    "    Xk(2*n1-1) = X0(n1);\n",
    "    Xk(2*n1) = X1(n1);\n",
    "end\n",
    "\n",
    "Xd = fft(x);                           %直接计算N点FFT\n",
    "error = Xk-Xd;                         %结果误差\n",
    "\n",
    "figure;                                %绘图，误差幅度\n",
    "plot(n,abs(error));\n",
    "xlabel('Number of samples');ylabel('Error value');grid;\n",
    "    \n"
   ]
  },
  {
   "cell_type": "code",
   "execution_count": 27,
   "metadata": {},
   "outputs": [
    {
     "name": "stdout",
     "output_type": "stream",
     "text": [
      "\n",
      "ans =\n",
      "\n",
      "   1.9450 - 0.0000i\n",
      "\n"
     ]
    }
   ],
   "source": [
    "x0(1)"
   ]
  },
  {
   "cell_type": "code",
   "execution_count": 7,
   "metadata": {},
   "outputs": [
    {
     "name": "stdout",
     "output_type": "stream",
     "text": [
      "\n",
      "ans =\n",
      "\n",
      "       16384\n",
      "\n"
     ]
    }
   ],
   "source": [
    "16 * 1024"
   ]
  },
  {
   "cell_type": "code",
   "execution_count": null,
   "metadata": {},
   "outputs": [],
   "source": []
  }
 ],
 "metadata": {
  "kernelspec": {
   "display_name": "Matlab",
   "language": "matlab",
   "name": "matlab"
  },
  "language_info": {
   "codemirror_mode": "octave",
   "file_extension": ".m",
   "help_links": [
    {
     "text": "MetaKernel Magics",
     "url": "https://github.com/calysto/metakernel/blob/master/metakernel/magics/README.md"
    }
   ],
   "mimetype": "text/x-octave",
   "name": "matlab",
   "version": "0.15.2"
  }
 },
 "nbformat": 4,
 "nbformat_minor": 2
}
