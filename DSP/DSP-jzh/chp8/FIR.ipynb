{
 "cells": [
  {
   "cell_type": "code",
   "execution_count": 2,
   "metadata": {},
   "outputs": [],
   "source": [
    "%plot native\n",
    "close all; clear all; clc;\n",
    "\n",
    "%计算FIR滤波器系数\n",
    "%%%%%%%%%%%%%%%%%%%%%%%%%%%%%%%%%%%%%%%%"
   ]
  },
  {
   "cell_type": "markdown",
   "metadata": {},
   "source": [
    "## 窗函数法"
   ]
  },
  {
   "cell_type": "code",
   "execution_count": 5,
   "metadata": {},
   "outputs": [
    {
     "name": "stderr",
     "output_type": "stream",
     "text": [
      "\u001b[0;31m�Ҳ��� 'Hamming' ����ȫƥ����(���ִ�Сд)��\n",
      "\n",
      "��ӽ���ƥ����Ϊ: hamming(�� /Applications/MATLAB_R2018a.app/toolbox/signal/signal/hamming.m ��)\n",
      "\n",
      "\u001b[0m"
     ]
    }
   ],
   "source": [
    "fs = 44100;%采样频率\n",
    "wc = 2*pi*1000/fs;%截止频率\n",
    "\n",
    "N = 183;%滤波器长度\n",
    "hl = fir1(N-1,wc/pi);%计算低通滤波器系数\n",
    "hh = fir1(N-1,wc/pi,'high',Hamming(N));%计算高通滤波器系数\n",
    "\n",
    "figure;%绘图，低通和高通滤波器时域波形\n",
    "subplot(2,1,1);stem(hl);grid;\n",
    "xlabel('n');ylabel('Impulse response of LPF');\n",
    "subplot(2,1,2);stem(hh);grid;\n",
    "xlabel('n');ylabel('Impulse response of HPF');\n",
    "\n",
    "save('hl.dat', 'hl', '-ascii');%保存低通滤波器系数\n",
    "save('hh.dat', 'hh', '-ascii');%保存高通滤波器系数\n",
    "\n",
    "[HL f]=freqz(hl,1,44100,fs);%计算低通滤波器幅频响应\n",
    "[HH f]=freqz(hh,1,44100,fs);%计算高通滤波器幅频响应\n",
    "\n",
    "figure;%绘图，低通和高通滤波器幅频响应\n",
    "subplot(2,1,1);semilogx(f,20*log10(HL));grid;\n",
    "xlabel('Frequency (Hz)');ylabel('Magnitude response (dB)');\n",
    "subplot(2,1,2);semilogx(f,20*log10(HH));grid;\n",
    "xlabel('Frequency (Hz)');ylabel('Magnitude response (dB)');"
   ]
  },
  {
   "cell_type": "markdown",
   "metadata": {},
   "source": [
    "## 频率采样法"
   ]
  },
  {
   "cell_type": "code",
   "execution_count": 4,
   "metadata": {},
   "outputs": [],
   "source": [
    "clear all; close all;clc;\n",
    "\n",
    "N = 81;%滤波器长度\n",
    "f = [0,0.45,0.5,1];%期望滤波器的边沿频率\n",
    "A = [0,1,0,0];%指定频率点上的幅度响应\n",
    "h = fir2(N-1,f,A);%计算实际滤波器系数\n",
    "\n",
    "[H,w]=freqz(h,1);%计算实际滤波器频率响应\n",
    "\n",
    "figure;\n",
    "subplot(3,1,1);plot(f,A);grid;%绘图，期望滤波器的幅频响应\n",
    "xlabel('Normalized Frequency');ylabel('Magnitude response');\n",
    "subplot(3,1,2);stem(h);grid;%绘图，实际滤波器时域波形\n",
    "xlabel('n');ylabel('Impulse response of Filter');\n",
    "subplot(3,1,3);plot(w/pi,abs(H));grid;%绘图，实际滤波器幅频响应\n",
    "xlabel('Normalized Frequency');ylabel('Magnitude response');"
   ]
  },
  {
   "cell_type": "markdown",
   "metadata": {},
   "source": [
    "## 最优化方法 "
   ]
  },
  {
   "cell_type": "code",
   "execution_count": 7,
   "metadata": {},
   "outputs": [],
   "source": [
    "clear all; close all;clc;\n",
    "\n",
    "fs = 44100;%采样频率\n",
    "N = 147;%滤波器长度\n",
    "\n",
    "%低通滤波器设计\n",
    "wlpe = 2*pi*600/fs;%通带边沿频率\n",
    "wlse = 2*pi*1400/fs;%阻带边沿频率\n",
    "\n",
    "fl = [0,wlpe/pi,wlse/pi,1];%滤波器给定的边沿频率\n",
    "Al = [1,1,0,0];%理想滤波器指定频率点上的幅度响应\n",
    "hl = remez(N-1,fl,Al);%计算低通滤波器系数 \n",
    "[HL f]=freqz(hl,1,44100,fs);%计算低通滤波器幅频响应\n",
    "\n",
    "%高通滤波器设计\n",
    "whpe = 2*pi*1400/fs;%通带边沿频率\n",
    "whse = 2*pi*600/fs;%阻带边沿频率\n",
    "\n",
    "fh = [0,whse/pi,whpe/pi,1];%滤波器给定的边沿频率\n",
    "Ah = [0,0,1,1];%理想滤波器指定频率点上的幅度响应\n",
    "hh = remez(N-1,fh,Ah);%计算高通滤波器系数 \n",
    "[HH f]=freqz(hh,1,44100,fs);%计算高通滤波器幅频响应\n",
    "\n",
    "\n",
    "figure;%绘图，滤波器时域及频域波形\n",
    "subplot(2,2,1);stem(hl);grid;\n",
    "xlabel('n');ylabel('Impulse response of LPF');\n",
    "subplot(2,2,2);semilogx(f,20*log10(abs(HL)));grid;\n",
    "xlabel('Frequency (Hz)');ylabel('Magnitude response (dB)');\n",
    "subplot(2,2,3);stem(hh);grid;\n",
    "xlabel('n');ylabel('Impulse response of HPF');\n",
    "subplot(2,2,4);semilogx(f,20*log10(abs(HH)));grid;\n",
    "xlabel('Frequency (Hz)');ylabel('Magnitude response (dB)');"
   ]
  },
  {
   "cell_type": "code",
   "execution_count": null,
   "metadata": {},
   "outputs": [],
   "source": []
  }
 ],
 "metadata": {
  "kernelspec": {
   "display_name": "Matlab",
   "language": "matlab",
   "name": "matlab"
  },
  "language_info": {
   "codemirror_mode": "octave",
   "file_extension": ".m",
   "help_links": [
    {
     "text": "MetaKernel Magics",
     "url": "https://github.com/calysto/metakernel/blob/master/metakernel/magics/README.md"
    }
   ],
   "mimetype": "text/x-octave",
   "name": "matlab",
   "version": "0.15.2"
  }
 },
 "nbformat": 4,
 "nbformat_minor": 2
}
