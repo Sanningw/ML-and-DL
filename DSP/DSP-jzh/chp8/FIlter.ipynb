{
 "cells": [
  {
   "cell_type": "code",
   "execution_count": 1,
   "metadata": {},
   "outputs": [],
   "source": [
    "%plot native\n",
    "% 音频信号的噪声消除\n",
    "% 包括FIR滤波器的系数计算\n",
    "% 窗函数方法\n",
    "% 音频信号通过所设计的滤波器\n",
    "%%%%%%%%%%%%%%%%%%%%%%%%%%%%%%%%%%%%%%%%%%%%%%%%%%\n",
    "\n",
    "clear all; close all;clc;"
   ]
  },
  {
   "cell_type": "code",
   "execution_count": 2,
   "metadata": {},
   "outputs": [
    {
     "name": "stderr",
     "output_type": "stream",
     "text": [
      "\u001b[0;31m����ʹ�� eval\n",
      "δ���庯������� 'wavread'��\n",
      "\n",
      "\u001b[0m"
     ]
    }
   ],
   "source": [
    "[s,fs,B] = wavread('music.wav');% 读取音频信号\n",
    "\n",
    "Ts = 1/fs;%采样周期\n",
    "M = length(s);%音频信号长度\n",
    "\n",
    "m = 0:M-1;\n",
    "sigma = mean(s.*s);%噪声方差\n",
    "v = sqrt(sigma)*randn([M,1]);%噪声生成\n",
    "x = s+v;%受宽带噪声干扰的音频信号\n",
    "f=[0:M/2]*fs/M;\n",
    "X = fft(x);\n",
    "magX = abs(X);%受噪声污染音频信号的频谱\n",
    "\n",
    "figure;%绘图，受噪声污染信号的时域和频域波形\n",
    "subplot(2,1,1);plot(m,x);\n",
    "xlabel('Number of samples');ylabel('Sample value x(n)');\n",
    "axis([0 M+100 -1.5 1.5]);grid;\n",
    "subplot(2,1,2); semilogx(f,magX(1:M/2+1));\n",
    "xlabel('Frequency (Hz)'); ylabel('Amplitude |X(f)| ');\n",
    "axis([0 max(f)+100*fs/M 0 2500]);grid;\n",
    "\n",
    "% 窗函数方法计算滤波器系数\n",
    "wc=2*pi*2000/fs;%截止频率\n",
    "Nwin = 147;%滤波器长度\n",
    "hwin = fir1(Nwin-1,wc/pi);%计算低通滤波器系数;\n",
    "[Hwin f1]=freqz(hwin,1,44100,fs);%计算低通滤波器频率响应\n",
    "magHwin = abs(Hwin);%幅频响应\n",
    "phaHwin = angle(Hwin);%相频响应\n",
    "phaHwin = 180*unwrap(phaHwin)/pi;\n",
    "nwin = 0:Nwin-1;\n",
    "\n",
    "figure;%绘图，低通滤波器特性\n",
    "subplot(3,1,1);stem(nwin,hwin);grid;\n",
    "xlabel('n');ylabel('Impulse response of LPF');\n",
    "subplot(3,1,2);semilogx(f1,20*log10(magHwin));grid;\n",
    "xlabel('Frequency (Hz)');ylabel('Magnitude response (dB)');\n",
    "subplot(3,1,3);plot(f1,phaHwin);grid;\n",
    "xlabel('Frequency (Hz)');ylabel('Phase response (degree)');\n",
    "\n",
    "\n",
    "% 滤波之后的信号\n",
    "y = filter(Hwin,1,x);%滤波\n",
    "Y = fft(y);\n",
    "magY = abs(Y);%滤波后信号的频谱\n",
    "\n",
    "figure;%绘图，滤波后信号的时域和频域波形\n",
    "subplot(2,1,1); plot(m,y);\n",
    "xlabel('Number of samples');ylabel('Sample value y(n)');grid;\n",
    "subplot(2,1,2); semilogx(f,magY(1:M/2+1));\n",
    "xlabel('Frequency (Hz)'); ylabel('Amplitude |Y(f)| ');grid;"
   ]
  },
  {
   "cell_type": "code",
   "execution_count": null,
   "metadata": {},
   "outputs": [],
   "source": []
  }
 ],
 "metadata": {
  "kernelspec": {
   "display_name": "Matlab",
   "language": "matlab",
   "name": "matlab"
  },
  "language_info": {
   "codemirror_mode": "octave",
   "file_extension": ".m",
   "help_links": [
    {
     "text": "MetaKernel Magics",
     "url": "https://github.com/calysto/metakernel/blob/master/metakernel/magics/README.md"
    }
   ],
   "mimetype": "text/x-octave",
   "name": "matlab",
   "version": "0.15.2"
  }
 },
 "nbformat": 4,
 "nbformat_minor": 2
}
