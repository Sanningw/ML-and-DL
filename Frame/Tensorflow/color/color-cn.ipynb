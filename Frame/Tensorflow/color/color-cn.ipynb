{
 "cells": [
  {
   "cell_type": "markdown",
   "metadata": {},
   "source": [
    "## 引入库"
   ]
  },
  {
   "cell_type": "code",
   "execution_count": 1,
   "metadata": {},
   "outputs": [],
   "source": [
    "import tensorflow as tf\n",
    "import numpy as np\n",
    "import pandas as pd\n",
    "import os\n",
    "import xlrd\n",
    "import jieba"
   ]
  },
  {
   "cell_type": "code",
   "execution_count": 2,
   "metadata": {},
   "outputs": [
    {
     "data": {
      "text/html": [
       "<div>\n",
       "<style scoped>\n",
       "    .dataframe tbody tr th:only-of-type {\n",
       "        vertical-align: middle;\n",
       "    }\n",
       "\n",
       "    .dataframe tbody tr th {\n",
       "        vertical-align: top;\n",
       "    }\n",
       "\n",
       "    .dataframe thead th {\n",
       "        text-align: right;\n",
       "    }\n",
       "</style>\n",
       "<table border=\"1\" class=\"dataframe\">\n",
       "  <thead>\n",
       "    <tr style=\"text-align: right;\">\n",
       "      <th></th>\n",
       "      <th>name</th>\n",
       "      <th>red</th>\n",
       "      <th>green</th>\n",
       "      <th>blue</th>\n",
       "      <th>name_cn</th>\n",
       "    </tr>\n",
       "  </thead>\n",
       "  <tbody>\n",
       "    <tr>\n",
       "      <th>0</th>\n",
       "      <td>parakeet</td>\n",
       "      <td>174</td>\n",
       "      <td>182</td>\n",
       "      <td>87</td>\n",
       "      <td>多嘴人</td>\n",
       "    </tr>\n",
       "    <tr>\n",
       "      <th>1</th>\n",
       "      <td>saddle brown</td>\n",
       "      <td>88</td>\n",
       "      <td>52</td>\n",
       "      <td>1</td>\n",
       "      <td>马鞍棕</td>\n",
       "    </tr>\n",
       "    <tr>\n",
       "      <th>2</th>\n",
       "      <td>cucumber crush</td>\n",
       "      <td>222</td>\n",
       "      <td>237</td>\n",
       "      <td>215</td>\n",
       "      <td>黄瓜粉碎</td>\n",
       "    </tr>\n",
       "    <tr>\n",
       "      <th>3</th>\n",
       "      <td>pool blue</td>\n",
       "      <td>134</td>\n",
       "      <td>194</td>\n",
       "      <td>201</td>\n",
       "      <td>池蓝</td>\n",
       "    </tr>\n",
       "    <tr>\n",
       "      <th>4</th>\n",
       "      <td>distance</td>\n",
       "      <td>98</td>\n",
       "      <td>110</td>\n",
       "      <td>130</td>\n",
       "      <td>距离</td>\n",
       "    </tr>\n",
       "  </tbody>\n",
       "</table>\n",
       "</div>"
      ],
      "text/plain": [
       "             name  red  green  blue name_cn\n",
       "0        parakeet  174    182    87     多嘴人\n",
       "1    saddle brown   88     52     1     马鞍棕\n",
       "2  cucumber crush  222    237   215    黄瓜粉碎\n",
       "3       pool blue  134    194   201      池蓝\n",
       "4        distance   98    110   130      距离"
      ]
     },
     "execution_count": 2,
     "metadata": {},
     "output_type": "execute_result"
    }
   ],
   "source": [
    "data_cn = pd.read_excel('colors.xls')\n",
    "data_cn.head()"
   ]
  },
  {
   "cell_type": "code",
   "execution_count": 3,
   "metadata": {},
   "outputs": [
    {
     "name": "stdout",
     "output_type": "stream",
     "text": [
      "<class 'pandas.core.frame.DataFrame'>\n",
      "RangeIndex: 14157 entries, 0 to 14156\n",
      "Data columns (total 5 columns):\n",
      "name       14157 non-null object\n",
      "red        14157 non-null int64\n",
      "green      14157 non-null int64\n",
      "blue       14157 non-null int64\n",
      "name_cn    14157 non-null object\n",
      "dtypes: int64(3), object(2)\n",
      "memory usage: 553.1+ KB\n"
     ]
    }
   ],
   "source": [
    "data_cn.info()"
   ]
  },
  {
   "cell_type": "code",
   "execution_count": 4,
   "metadata": {},
   "outputs": [],
   "source": [
    "def cut_words(x):\n",
    "    return \" \".join(jieba.cut(x, cut_all=True))"
   ]
  },
  {
   "cell_type": "code",
   "execution_count": 5,
   "metadata": {},
   "outputs": [],
   "source": [
    "names_cn = data_cn['name_cn']"
   ]
  },
  {
   "cell_type": "code",
   "execution_count": 6,
   "metadata": {},
   "outputs": [],
   "source": [
    "# cutted_names = names_cn.apply(cut_words)\n",
    "cutted_names = names_cn"
   ]
  },
  {
   "cell_type": "code",
   "execution_count": 7,
   "metadata": {},
   "outputs": [],
   "source": [
    "maxlen_cn = 10\n",
    "t_cn = tf.keras.preprocessing.text.Tokenizer(num_words=None, char_level=True)\n",
    "t_cn.fit_on_texts(cutted_names)\n",
    "tokenized_cn = t_cn.texts_to_sequences(cutted_names)\n",
    "padded_names_cn = tf.keras.preprocessing.sequence.pad_sequences(tokenized_cn, maxlen=maxlen_cn, padding='post')"
   ]
  },
  {
   "cell_type": "code",
   "execution_count": 8,
   "metadata": {},
   "outputs": [],
   "source": [
    "def norm(value):\n",
    "    return value / 255.0\n",
    "\n",
    "normalized_values_cn = np.column_stack([norm(data_cn[\"red\"]), norm(data_cn[\"green\"]), norm(data_cn[\"blue\"])])"
   ]
  },
  {
   "cell_type": "code",
   "execution_count": 9,
   "metadata": {},
   "outputs": [
    {
     "name": "stdout",
     "output_type": "stream",
     "text": [
      "_________________________________________________________________\n",
      "Layer (type)                 Output Shape              Param #   \n",
      "=================================================================\n",
      "reshape (Reshape)            (None, 1, 10)             0         \n",
      "_________________________________________________________________\n",
      "lstm (LSTM)                  (None, 1, 256)            273408    \n",
      "_________________________________________________________________\n",
      "lstm_1 (LSTM)                (None, 128)               197120    \n",
      "_________________________________________________________________\n",
      "dense (Dense)                (None, 128)               16512     \n",
      "_________________________________________________________________\n",
      "dense_1 (Dense)              (None, 3)                 387       \n",
      "=================================================================\n",
      "Total params: 487,427\n",
      "Trainable params: 487,427\n",
      "Non-trainable params: 0\n",
      "_________________________________________________________________\n"
     ]
    }
   ],
   "source": [
    "model_cn = tf.keras.models.Sequential()\n",
    "model_cn.add(tf.keras.layers.Reshape((1, 10), input_shape=(10,)))\n",
    "model_cn.add(tf.keras.layers.LSTM(256, return_sequences=True))\n",
    "model_cn.add(tf.keras.layers.LSTM(128))\n",
    "model_cn.add(tf.keras.layers.Dense(128, activation='relu'))\n",
    "model_cn.add(tf.keras.layers.Dense(3, activation='sigmoid'))\n",
    "model_cn.compile(optimizer=tf.train.AdamOptimizer(0.001), loss='mse')\n",
    "model_cn.summary()"
   ]
  },
  {
   "cell_type": "code",
   "execution_count": 10,
   "metadata": {},
   "outputs": [
    {
     "name": "stdout",
     "output_type": "stream",
     "text": [
      "Train on 12741 samples, validate on 1416 samples\n",
      "Epoch 1/40\n",
      "12741/12741 [==============================] - 3s 268us/step - loss: 0.0657 - val_loss: 0.0673\n",
      "Epoch 2/40\n",
      "12741/12741 [==============================] - 2s 166us/step - loss: 0.0651 - val_loss: 0.0665\n",
      "Epoch 3/40\n",
      "12741/12741 [==============================] - 2s 166us/step - loss: 0.0649 - val_loss: 0.0662\n",
      "Epoch 4/40\n",
      "12741/12741 [==============================] - 2s 165us/step - loss: 0.0647 - val_loss: 0.0661\n",
      "Epoch 5/40\n",
      "12741/12741 [==============================] - 2s 170us/step - loss: 0.0645 - val_loss: 0.0665\n",
      "Epoch 6/40\n",
      "12741/12741 [==============================] - 2s 179us/step - loss: 0.0645 - val_loss: 0.0661\n",
      "Epoch 7/40\n",
      "12741/12741 [==============================] - 2s 187us/step - loss: 0.0643 - val_loss: 0.0663\n",
      "Epoch 8/40\n",
      "12741/12741 [==============================] - 2s 179us/step - loss: 0.0641 - val_loss: 0.0663\n",
      "Epoch 9/40\n",
      "12741/12741 [==============================] - 2s 172us/step - loss: 0.0640 - val_loss: 0.0661\n",
      "Epoch 10/40\n",
      "12741/12741 [==============================] - 2s 179us/step - loss: 0.0639 - val_loss: 0.0667\n",
      "Epoch 11/40\n",
      "12741/12741 [==============================] - 2s 173us/step - loss: 0.0639 - val_loss: 0.0665\n",
      "Epoch 12/40\n",
      "12741/12741 [==============================] - 2s 172us/step - loss: 0.0638 - val_loss: 0.0672\n",
      "Epoch 13/40\n",
      "12741/12741 [==============================] - 2s 171us/step - loss: 0.0637 - val_loss: 0.0667\n",
      "Epoch 14/40\n",
      "12741/12741 [==============================] - 2s 174us/step - loss: 0.0635 - val_loss: 0.0669\n",
      "Epoch 15/40\n",
      "12741/12741 [==============================] - 2s 171us/step - loss: 0.0635 - val_loss: 0.0666\n",
      "Epoch 16/40\n",
      "12741/12741 [==============================] - 2s 172us/step - loss: 0.0635 - val_loss: 0.0666\n",
      "Epoch 17/40\n",
      "12741/12741 [==============================] - 2s 176us/step - loss: 0.0633 - val_loss: 0.0671\n",
      "Epoch 18/40\n",
      "12741/12741 [==============================] - 2s 172us/step - loss: 0.0631 - val_loss: 0.0662\n",
      "Epoch 19/40\n",
      "12741/12741 [==============================] - 2s 166us/step - loss: 0.0631 - val_loss: 0.0671\n",
      "Epoch 20/40\n",
      "12741/12741 [==============================] - 2s 171us/step - loss: 0.0629 - val_loss: 0.0669\n",
      "Epoch 21/40\n",
      "12741/12741 [==============================] - 2s 165us/step - loss: 0.0630 - val_loss: 0.0673\n",
      "Epoch 22/40\n",
      "12741/12741 [==============================] - 2s 165us/step - loss: 0.0628 - val_loss: 0.0668\n",
      "Epoch 23/40\n",
      "12741/12741 [==============================] - 2s 164us/step - loss: 0.0628 - val_loss: 0.0667\n",
      "Epoch 24/40\n",
      "12741/12741 [==============================] - 2s 165us/step - loss: 0.0627 - val_loss: 0.0665\n",
      "Epoch 25/40\n",
      "12741/12741 [==============================] - 2s 167us/step - loss: 0.0627 - val_loss: 0.0663\n",
      "Epoch 26/40\n",
      "12741/12741 [==============================] - 2s 166us/step - loss: 0.0626 - val_loss: 0.0667\n",
      "Epoch 27/40\n",
      "12741/12741 [==============================] - 2s 164us/step - loss: 0.0625 - val_loss: 0.0666\n",
      "Epoch 28/40\n",
      "12741/12741 [==============================] - 2s 165us/step - loss: 0.0626 - val_loss: 0.0665\n",
      "Epoch 29/40\n",
      "12741/12741 [==============================] - 2s 165us/step - loss: 0.0622 - val_loss: 0.0663\n",
      "Epoch 30/40\n",
      "12741/12741 [==============================] - 2s 164us/step - loss: 0.0622 - val_loss: 0.0661\n",
      "Epoch 31/40\n",
      "12741/12741 [==============================] - 2s 164us/step - loss: 0.0621 - val_loss: 0.0662\n",
      "Epoch 32/40\n",
      "12741/12741 [==============================] - 2s 163us/step - loss: 0.0622 - val_loss: 0.0666\n",
      "Epoch 33/40\n",
      "12741/12741 [==============================] - 2s 164us/step - loss: 0.0620 - val_loss: 0.0672\n",
      "Epoch 34/40\n",
      "12741/12741 [==============================] - 2s 164us/step - loss: 0.0618 - val_loss: 0.0671\n",
      "Epoch 35/40\n",
      "12741/12741 [==============================] - 2s 164us/step - loss: 0.0618 - val_loss: 0.0665\n",
      "Epoch 36/40\n",
      "12741/12741 [==============================] - 2s 166us/step - loss: 0.0618 - val_loss: 0.0667\n",
      "Epoch 37/40\n",
      "12741/12741 [==============================] - 2s 164us/step - loss: 0.0616 - val_loss: 0.0664\n",
      "Epoch 38/40\n",
      "12741/12741 [==============================] - 2s 165us/step - loss: 0.0617 - val_loss: 0.0675\n",
      "Epoch 39/40\n",
      "12741/12741 [==============================] - 2s 165us/step - loss: 0.0617 - val_loss: 0.0673\n",
      "Epoch 40/40\n",
      "12741/12741 [==============================] - 2s 164us/step - loss: 0.0615 - val_loss: 0.0672\n"
     ]
    }
   ],
   "source": [
    "history = model_cn.fit(padded_names_cn, normalized_values_cn,\n",
    "                    epochs=40,\n",
    "                    batch_size=32,\n",
    "                    validation_split=0.1)"
   ]
  },
  {
   "cell_type": "code",
   "execution_count": 11,
   "metadata": {},
   "outputs": [
    {
     "data": {
      "image/png": "[encoded data removed]",
      "text/plain": [
       "<Figure size 432x288 with 1 Axes>"
      ]
     },
     "metadata": {
      "needs_background": "light"
     },
     "output_type": "display_data"
    }
   ],
   "source": [
    "import matplotlib.pyplot as plt\n",
    "%matplotlib inline\n",
    "loss = history.history['loss']\n",
    "val_loss = history.history['val_loss']\n",
    "epochs = range(len(loss))\n",
    "plt.plot(epochs, loss, 'bo')\n",
    "plt.plot(epochs, val_loss, 'b')\n",
    "plt.title('Training and validation loss')\n",
    "plt.show()"
   ]
  },
  {
   "cell_type": "code",
   "execution_count": 12,
   "metadata": {},
   "outputs": [],
   "source": [
    "def predict_cn(name):\n",
    "    # name = cut_words(name)\n",
    "    tokenized_cn = t_cn.texts_to_sequences([name])\n",
    "    padded = tf.keras.preprocessing.sequence.pad_sequences(tokenized_cn, maxlen=10)\n",
    "    pred = model_cn.predict(np.array(padded))[0]\n",
    "    r, g, b = scale(pred[0]), scale(pred[1]), scale(pred[2])\n",
    "    print(name + ',', 'R,G,B:', r,g,b)\n",
    "    print(pred)\n",
    "    plot_rgb(pred)"
   ]
  },
  {
   "cell_type": "code",
   "execution_count": 13,
   "metadata": {},
   "outputs": [],
   "source": [
    "# plots a color image\n",
    "def plot_rgb(rgb):\n",
    "    data = [[rgb]]\n",
    "    plt.figure(figsize=(2,2))\n",
    "    plt.imshow(data, interpolation='nearest')\n",
    "    plt.show()\n",
    "    \n",
    "def scale(n):\n",
    "    return int(n * 255)\n",
    "\n",
    "def predict(name):\n",
    "    tokenized = t.texts_to_sequences([name])\n",
    "    padded = tf.keras.preprocessing.sequence.pad_sequences(tokenized, maxlen=maxlen)\n",
    "    pred = model.predict(np.array(padded))[0]\n",
    "    r, g, b = scale(pred[0]), scale(pred[1]), scale(pred[2])\n",
    "    print(name + ',', 'R,G,B:', r,g,b)\n",
    "    plot_rgb(pred)"
   ]
  },
  {
   "cell_type": "code",
   "execution_count": 19,
   "metadata": {},
   "outputs": [
    {
     "name": "stdout",
     "output_type": "stream",
     "text": [
      "绿, R,G,B: 80 199 67\n",
      "[0.316958   0.7808579  0.26574242]\n"
     ]
    },
    {
     "data": {
      "image/png": "[encoded data removed]",
      "text/plain": [
       "<Figure size 144x144 with 1 Axes>"
      ]
     },
     "metadata": {
      "needs_background": "light"
     },
     "output_type": "display_data"
    },
    {
     "name": "stdout",
     "output_type": "stream",
     "text": [
      "青, R,G,B: 185 150 138\n",
      "[0.72764176 0.59045655 0.54414105]\n"
     ]
    },
    {
     "data": {
      "image/png": "[encoded data removed]",
      "text/plain": [
       "<Figure size 144x144 with 1 Axes>"
      ]
     },
     "metadata": {
      "needs_background": "light"
     },
     "output_type": "display_data"
    },
    {
     "name": "stdout",
     "output_type": "stream",
     "text": [
      "紫, R,G,B: 125 87 121\n",
      "[0.49233544 0.34473115 0.47457916]\n"
     ]
    },
    {
     "data": {
      "image/png": "[encoded data removed]",
      "text/plain": [
       "<Figure size 144x144 with 1 Axes>"
      ]
     },
     "metadata": {
      "needs_background": "light"
     },
     "output_type": "display_data"
    }
   ],
   "source": [
    "predict_cn(\"绿\")\n",
    "predict_cn(\"青\")\n",
    "predict_cn(\"紫\")"
   ]
  },
  {
   "cell_type": "code",
   "execution_count": 21,
   "metadata": {},
   "outputs": [
    {
     "name": "stdout",
     "output_type": "stream",
     "text": [
      "粉, R,G,B: 100 89 115\n",
      "[0.3936223  0.34921488 0.45286214]\n"
     ]
    },
    {
     "data": {
      "image/png": "[encoded data removed]",
      "text/plain": [
       "<Figure size 144x144 with 1 Axes>"
      ]
     },
     "metadata": {
      "needs_background": "light"
     },
     "output_type": "display_data"
    },
    {
     "name": "stdout",
     "output_type": "stream",
     "text": [
      "脸, R,G,B: 206 174 140\n",
      "[0.81122804 0.6846364  0.55183303]\n"
     ]
    },
    {
     "data": {
      "image/png": "[encoded data removed]",
      "text/plain": [
       "<Figure size 144x144 with 1 Axes>"
      ]
     },
     "metadata": {
      "needs_background": "light"
     },
     "output_type": "display_data"
    },
    {
     "name": "stdout",
     "output_type": "stream",
     "text": [
      "褐, R,G,B: 175 138 137\n",
      "[0.6871789  0.54202515 0.5382649 ]\n"
     ]
    },
    {
     "data": {
      "image/png": "[encoded data removed]",
      "text/plain": [
       "<Figure size 144x144 with 1 Axes>"
      ]
     },
     "metadata": {
      "needs_background": "light"
     },
     "output_type": "display_data"
    }
   ],
   "source": [
    "predict_cn(\"粉\")\n",
    "predict_cn(\"脸\")\n",
    "predict_cn(\"褐\")"
   ]
  },
  {
   "cell_type": "code",
   "execution_count": null,
   "metadata": {},
   "outputs": [],
   "source": []
  }
 ],
 "metadata": {
  "kernelspec": {
   "display_name": "Python3.5",
   "language": "python",
   "name": "python35"
  },
  "language_info": {
   "codemirror_mode": {
    "name": "ipython",
    "version": 3
   },
   "file_extension": ".py",
   "mimetype": "text/x-python",
   "name": "python",
   "nbconvert_exporter": "python",
   "pygments_lexer": "ipython3",
   "version": "3.5.6"
  }
 },
 "nbformat": 4,
 "nbformat_minor": 2
}
