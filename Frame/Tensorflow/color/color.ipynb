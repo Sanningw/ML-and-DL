{
 "cells": [
  {
   "cell_type": "markdown",
   "metadata": {},
   "source": [
    "## 引入库"
   ]
  },
  {
   "cell_type": "code",
   "execution_count": 1,
   "metadata": {},
   "outputs": [],
   "source": [
    "import tensorflow as tf\n",
    "import numpy as np\n",
    "import pandas as pd\n",
    "import os"
   ]
  },
  {
   "cell_type": "code",
   "execution_count": 2,
   "metadata": {},
   "outputs": [
    {
     "data": {
      "text/html": [
       "<div>\n",
       "<style scoped>\n",
       "    .dataframe tbody tr th:only-of-type {\n",
       "        vertical-align: middle;\n",
       "    }\n",
       "\n",
       "    .dataframe tbody tr th {\n",
       "        vertical-align: top;\n",
       "    }\n",
       "\n",
       "    .dataframe thead th {\n",
       "        text-align: right;\n",
       "    }\n",
       "</style>\n",
       "<table border=\"1\" class=\"dataframe\">\n",
       "  <thead>\n",
       "    <tr style=\"text-align: right;\">\n",
       "      <th></th>\n",
       "      <th>name</th>\n",
       "      <th>red</th>\n",
       "      <th>green</th>\n",
       "      <th>blue</th>\n",
       "    </tr>\n",
       "  </thead>\n",
       "  <tbody>\n",
       "    <tr>\n",
       "      <th>0</th>\n",
       "      <td>parakeet</td>\n",
       "      <td>174</td>\n",
       "      <td>182</td>\n",
       "      <td>87</td>\n",
       "    </tr>\n",
       "    <tr>\n",
       "      <th>1</th>\n",
       "      <td>saddle brown</td>\n",
       "      <td>88</td>\n",
       "      <td>52</td>\n",
       "      <td>1</td>\n",
       "    </tr>\n",
       "    <tr>\n",
       "      <th>2</th>\n",
       "      <td>cucumber crush</td>\n",
       "      <td>222</td>\n",
       "      <td>237</td>\n",
       "      <td>215</td>\n",
       "    </tr>\n",
       "    <tr>\n",
       "      <th>3</th>\n",
       "      <td>pool blue</td>\n",
       "      <td>134</td>\n",
       "      <td>194</td>\n",
       "      <td>201</td>\n",
       "    </tr>\n",
       "    <tr>\n",
       "      <th>4</th>\n",
       "      <td>distance</td>\n",
       "      <td>98</td>\n",
       "      <td>110</td>\n",
       "      <td>130</td>\n",
       "    </tr>\n",
       "  </tbody>\n",
       "</table>\n",
       "</div>"
      ],
      "text/plain": [
       "             name  red  green  blue\n",
       "0        parakeet  174    182    87\n",
       "1    saddle brown   88     52     1\n",
       "2  cucumber crush  222    237   215\n",
       "3       pool blue  134    194   201\n",
       "4        distance   98    110   130"
      ]
     },
     "execution_count": 2,
     "metadata": {},
     "output_type": "execute_result"
    }
   ],
   "source": [
    "data = pd.read_csv('colors.csv')\n",
    "data.head()"
   ]
  },
  {
   "cell_type": "code",
   "execution_count": 3,
   "metadata": {},
   "outputs": [],
   "source": [
    "names = data['name']"
   ]
  },
  {
   "cell_type": "markdown",
   "metadata": {},
   "source": [
    "## 数据预处理"
   ]
  },
  {
   "cell_type": "code",
   "execution_count": 23,
   "metadata": {},
   "outputs": [],
   "source": [
    "maxlen = 25\n",
    "# 首先将文字处理为以字母为单位的分割形式. \n",
    "t = tf.keras.preprocessing.text.Tokenizer(char_level=True)\n",
    "t.fit_on_texts(names)\n",
    "# 分词\n",
    "tokenized = t.texts_to_sequences(names)\n",
    "# pre 补全\n",
    "padded_names = tf.keras.preprocessing.sequence.pad_sequences(tokenized, maxlen=maxlen)"
   ]
  },
  {
   "cell_type": "markdown",
   "metadata": {},
   "source": [
    "## 将 RGB 数值从0-255降为 0-1"
   ]
  },
  {
   "cell_type": "code",
   "execution_count": 27,
   "metadata": {},
   "outputs": [],
   "source": [
    "def norm(value):\n",
    "    return value / 255.0\n",
    "\n",
    "normalized_values = np.column_stack([norm(data['red']), norm(data['green']), norm(data['blue'])])"
   ]
  },
  {
   "cell_type": "markdown",
   "metadata": {},
   "source": [
    "## 搭建模型. 输入根据文字处理部分做好. "
   ]
  },
  {
   "cell_type": "code",
   "execution_count": 29,
   "metadata": {},
   "outputs": [
    {
     "name": "stdout",
     "output_type": "stream",
     "text": [
      "_________________________________________________________________\n",
      "Layer (type)                 Output Shape              Param #   \n",
      "=================================================================\n",
      "reshape_2 (Reshape)          (None, 1, 25)             0         \n",
      "_________________________________________________________________\n",
      "lstm_4 (LSTM)                (None, 1, 256)            288768    \n",
      "_________________________________________________________________\n",
      "lstm_5 (LSTM)                (None, 128)               197120    \n",
      "_________________________________________________________________\n",
      "dense_4 (Dense)              (None, 128)               16512     \n",
      "_________________________________________________________________\n",
      "dense_5 (Dense)              (None, 3)                 387       \n",
      "=================================================================\n",
      "Total params: 502,787\n",
      "Trainable params: 502,787\n",
      "Non-trainable params: 0\n",
      "_________________________________________________________________\n"
     ]
    }
   ],
   "source": [
    "model = tf.keras.models.Sequential()\n",
    "model.add(tf.keras.layers.Reshape((1, maxlen), input_shape=(maxlen,)))\n",
    "model.add(tf.keras.layers.LSTM(256, return_sequences=True))\n",
    "model.add(tf.keras.layers.LSTM(128))\n",
    "model.add(tf.keras.layers.Dense(128, activation='relu'))\n",
    "model.add(tf.keras.layers.Dense(3, activation='sigmoid'))\n",
    "model.compile(optimizer=tf.train.AdamOptimizer(0.001), loss='mse')\n",
    "model.summary()"
   ]
  },
  {
   "cell_type": "markdown",
   "metadata": {},
   "source": [
    "## 添加保存点, 并训练数据"
   ]
  },
  {
   "cell_type": "code",
   "execution_count": 30,
   "metadata": {},
   "outputs": [
    {
     "name": "stdout",
     "output_type": "stream",
     "text": [
      "Train on 12741 samples, validate on 1416 samples\n",
      "Epoch 1/40\n",
      "12741/12741 [==============================] - 4s 324us/step - loss: 0.0631 - val_loss: 0.0636\n",
      "Epoch 2/40\n",
      "12741/12741 [==============================] - 3s 196us/step - loss: 0.0593 - val_loss: 0.0613\n",
      "Epoch 3/40\n",
      "12741/12741 [==============================] - 3s 205us/step - loss: 0.0572 - val_loss: 0.0602\n",
      "Epoch 4/40\n",
      "12741/12741 [==============================] - 3s 227us/step - loss: 0.0554 - val_loss: 0.0597\n",
      "Epoch 5/40\n",
      "12640/12741 [============================>.] - ETA: 0s - loss: 0.0537\n",
      "Epoch 00005: saving model to color/0005.ckpt\n",
      "12741/12741 [==============================] - 3s 275us/step - loss: 0.0537 - val_loss: 0.0590\n",
      "Epoch 6/40\n",
      "12741/12741 [==============================] - 3s 253us/step - loss: 0.0520 - val_loss: 0.0575\n",
      "Epoch 7/40\n",
      "12741/12741 [==============================] - 3s 234us/step - loss: 0.0506 - val_loss: 0.0583\n",
      "Epoch 8/40\n",
      "12741/12741 [==============================] - 3s 224us/step - loss: 0.0490 - val_loss: 0.0577\n",
      "Epoch 9/40\n",
      "12741/12741 [==============================] - 3s 227us/step - loss: 0.0475 - val_loss: 0.0575\n",
      "Epoch 10/40\n",
      "12640/12741 [============================>.] - ETA: 0s - loss: 0.0459\n",
      "Epoch 00010: saving model to color/0010.ckpt\n",
      "12741/12741 [==============================] - 3s 230us/step - loss: 0.0459 - val_loss: 0.0572\n",
      "Epoch 11/40\n",
      "12741/12741 [==============================] - 3s 237us/step - loss: 0.0445 - val_loss: 0.0576\n",
      "Epoch 12/40\n",
      "12741/12741 [==============================] - 3s 238us/step - loss: 0.0427 - val_loss: 0.0587\n",
      "Epoch 13/40\n",
      "12741/12741 [==============================] - 3s 244us/step - loss: 0.0415 - val_loss: 0.0610\n",
      "Epoch 14/40\n",
      "12741/12741 [==============================] - 3s 241us/step - loss: 0.0399 - val_loss: 0.0593\n",
      "Epoch 15/40\n",
      "12736/12741 [============================>.] - ETA: 0s - loss: 0.0386\n",
      "Epoch 00015: saving model to color/0015.ckpt\n",
      "12741/12741 [==============================] - 3s 242us/step - loss: 0.0386 - val_loss: 0.0577\n",
      "Epoch 16/40\n",
      "12741/12741 [==============================] - 3s 244us/step - loss: 0.0371 - val_loss: 0.0586\n",
      "Epoch 17/40\n",
      "12741/12741 [==============================] - 3s 245us/step - loss: 0.0357 - val_loss: 0.0590\n",
      "Epoch 18/40\n",
      "12741/12741 [==============================] - 3s 253us/step - loss: 0.0343 - val_loss: 0.0594\n",
      "Epoch 19/40\n",
      "12741/12741 [==============================] - 3s 247us/step - loss: 0.0332 - val_loss: 0.0600\n",
      "Epoch 20/40\n",
      "12672/12741 [============================>.] - ETA: 0s - loss: 0.0317\n",
      "Epoch 00020: saving model to color/0020.ckpt\n",
      "12741/12741 [==============================] - 3s 243us/step - loss: 0.0318 - val_loss: 0.0611\n",
      "Epoch 21/40\n",
      "12741/12741 [==============================] - 3s 240us/step - loss: 0.0305 - val_loss: 0.0603\n",
      "Epoch 22/40\n",
      "12741/12741 [==============================] - 3s 241us/step - loss: 0.0290 - val_loss: 0.0614\n",
      "Epoch 23/40\n",
      "12741/12741 [==============================] - 3s 249us/step - loss: 0.0280 - val_loss: 0.0628\n",
      "Epoch 24/40\n",
      "12741/12741 [==============================] - 3s 249us/step - loss: 0.0270 - val_loss: 0.0628\n",
      "Epoch 25/40\n",
      "12704/12741 [============================>.] - ETA: 0s - loss: 0.0260\n",
      "Epoch 00025: saving model to color/0025.ckpt\n",
      "12741/12741 [==============================] - 3s 270us/step - loss: 0.0259 - val_loss: 0.0656\n",
      "Epoch 26/40\n",
      "12741/12741 [==============================] - 3s 254us/step - loss: 0.0245 - val_loss: 0.0644\n",
      "Epoch 27/40\n",
      "12741/12741 [==============================] - 3s 252us/step - loss: 0.0240 - val_loss: 0.0635\n",
      "Epoch 28/40\n",
      "12741/12741 [==============================] - 3s 257us/step - loss: 0.0227 - val_loss: 0.0640\n",
      "Epoch 29/40\n",
      "12741/12741 [==============================] - 3s 258us/step - loss: 0.0220 - val_loss: 0.0653\n",
      "Epoch 30/40\n",
      "12544/12741 [============================>.] - ETA: 0s - loss: 0.0211\n",
      "Epoch 00030: saving model to color/0030.ckpt\n",
      "12741/12741 [==============================] - 3s 267us/step - loss: 0.0211 - val_loss: 0.0678\n",
      "Epoch 31/40\n",
      "12741/12741 [==============================] - 3s 263us/step - loss: 0.0203 - val_loss: 0.0659\n",
      "Epoch 32/40\n",
      "12741/12741 [==============================] - 3s 258us/step - loss: 0.0197 - val_loss: 0.0670\n",
      "Epoch 33/40\n",
      "12741/12741 [==============================] - 3s 258us/step - loss: 0.0188 - val_loss: 0.0685\n",
      "Epoch 34/40\n",
      "12741/12741 [==============================] - 3s 267us/step - loss: 0.0183 - val_loss: 0.0669\n",
      "Epoch 35/40\n",
      "12704/12741 [============================>.] - ETA: 0s - loss: 0.0177\n",
      "Epoch 00035: saving model to color/0035.ckpt\n",
      "12741/12741 [==============================] - 4s 277us/step - loss: 0.0177 - val_loss: 0.0676\n",
      "Epoch 36/40\n",
      "12741/12741 [==============================] - 4s 277us/step - loss: 0.0171 - val_loss: 0.0688\n",
      "Epoch 37/40\n",
      "12741/12741 [==============================] - 4s 276us/step - loss: 0.0165 - val_loss: 0.0688\n",
      "Epoch 38/40\n",
      "12741/12741 [==============================] - 3s 271us/step - loss: 0.0160 - val_loss: 0.0692\n",
      "Epoch 39/40\n",
      "12741/12741 [==============================] - 3s 274us/step - loss: 0.0155 - val_loss: 0.0686\n",
      "Epoch 40/40\n",
      "12640/12741 [============================>.] - ETA: 0s - loss: 0.0150\n",
      "Epoch 00040: saving model to color/0040.ckpt\n",
      "12741/12741 [==============================] - 4s 279us/step - loss: 0.0150 - val_loss: 0.0698\n"
     ]
    }
   ],
   "source": [
    "checkpoint_path = \"color/{epoch:04d}.ckpt\"\n",
    "checkpoint_dir = os.path.dirname(checkpoint_path)\n",
    "callback = tf.keras.callbacks.ModelCheckpoint(checkpoint_path, verbose=1, save_weights_only=True,period=5)\n",
    "\n",
    "history = model.fit(padded_names, normalized_values, \n",
    "                   epochs=40, \n",
    "                   batch_size=32,\n",
    "                   validation_split=0.1,\n",
    "                   callbacks=[callback])"
   ]
  },
  {
   "cell_type": "code",
   "execution_count": 31,
   "metadata": {},
   "outputs": [
    {
     "data": {
      "image/png": "[encoded data removed]",
      "text/plain": [
       "<Figure size 432x288 with 1 Axes>"
      ]
     },
     "metadata": {
      "needs_background": "light"
     },
     "output_type": "display_data"
    }
   ],
   "source": [
    "import matplotlib.pyplot as plt\n",
    "%matplotlib inline\n",
    "loss = history.history['loss']\n",
    "val_loss = history.history['val_loss']\n",
    "epochs = range(len(loss))\n",
    "plt.plot(epochs, loss, 'bo')\n",
    "plt.plot(epochs, val_loss, 'b')\n",
    "plt.title('Training and validation loss')\n",
    "plt.show()"
   ]
  },
  {
   "cell_type": "code",
   "execution_count": 32,
   "metadata": {},
   "outputs": [],
   "source": [
    "# plots a color image\n",
    "def plot_rgb(rgb):\n",
    "    data = [[rgb]]\n",
    "    plt.figure(figsize=(2,2))\n",
    "    plt.imshow(data, interpolation='nearest')\n",
    "    plt.show()\n",
    "    \n",
    "def scale(n):\n",
    "    return int(n * 255)\n",
    "\n",
    "def predict(name):\n",
    "    tokenized = t.texts_to_sequences([name])\n",
    "    padded = tf.keras.preprocessing.sequence.pad_sequences(tokenized, maxlen=maxlen)\n",
    "    pred = model.predict(np.array(padded))[0]\n",
    "    r, g, b = scale(pred[0]), scale(pred[1]), scale(pred[2])\n",
    "    print(name + ',', 'R,G,B:', r,g,b)\n",
    "    plot_rgb(pred)"
   ]
  },
  {
   "cell_type": "code",
   "execution_count": 33,
   "metadata": {},
   "outputs": [
    {
     "name": "stdout",
     "output_type": "stream",
     "text": [
      "sky, R,G,B: 180 211 215\n"
     ]
    },
    {
     "data": {
      "image/png": "[encoded data removed]",
      "text/plain": [
       "<Figure size 144x144 with 1 Axes>"
      ]
     },
     "metadata": {
      "needs_background": "light"
     },
     "output_type": "display_data"
    },
    {
     "name": "stdout",
     "output_type": "stream",
     "text": [
      "blue, R,G,B: 25 63 208\n"
     ]
    },
    {
     "data": {
      "image/png": "[encoded data removed]",
      "text/plain": [
       "<Figure size 144x144 with 1 Axes>"
      ]
     },
     "metadata": {
      "needs_background": "light"
     },
     "output_type": "display_data"
    },
    {
     "name": "stdout",
     "output_type": "stream",
     "text": [
      "dark blue, R,G,B: 22 54 116\n"
     ]
    },
    {
     "data": {
      "image/png": "[encoded data removed]",
      "text/plain": [
       "<Figure size 144x144 with 1 Axes>"
      ]
     },
     "metadata": {
      "needs_background": "light"
     },
     "output_type": "display_data"
    }
   ],
   "source": [
    "# some \"test\" data\n",
    "predict(\"sky\")\n",
    "predict(\"blue\")\n",
    "predict(\"dark blue\")"
   ]
  },
  {
   "cell_type": "code",
   "execution_count": 49,
   "metadata": {},
   "outputs": [
    {
     "name": "stdout",
     "output_type": "stream",
     "text": [
      "tf orange, R,G,B: 250 198 158\n"
     ]
    },
    {
     "data": {
      "image/png": "[encoded data removed]",
      "text/plain": [
       "<Figure size 144x144 with 1 Axes>"
      ]
     },
     "metadata": {
      "needs_background": "light"
     },
     "output_type": "display_data"
    }
   ],
   "source": [
    "predict(\"tf orange\")"
   ]
  },
  {
   "cell_type": "code",
   "execution_count": null,
   "metadata": {},
   "outputs": [],
   "source": []
  }
 ],
 "metadata": {
  "kernelspec": {
   "display_name": "Python 3",
   "language": "python",
   "name": "python3"
  },
  "language_info": {
   "codemirror_mode": {
    "name": "ipython",
    "version": 3
   },
   "file_extension": ".py",
   "mimetype": "text/x-python",
   "name": "python",
   "nbconvert_exporter": "python",
   "pygments_lexer": "ipython3",
   "version": "3.6.5"
  }
 },
 "nbformat": 4,
 "nbformat_minor": 2
}
