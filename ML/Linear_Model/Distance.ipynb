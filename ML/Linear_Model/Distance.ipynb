{
 "cells": [
  {
   "cell_type": "code",
   "execution_count": 11,
   "metadata": {},
   "outputs": [],
   "source": [
    "from scipy.spatial.distance import pdist    #成对距离\n",
    "from scipy.spatial.distance import cdist    #成对数组距离"
   ]
  },
  {
   "cell_type": "markdown",
   "metadata": {},
   "source": [
    "[pdist](https://docs.scipy.org/doc/scipy/reference/generated/scipy.spatial.distance.pdist.html#scipy.spatial.distance.pdist):n维空间中观测值的成对距离；\n",
    "[cdist](https://docs.scipy.org/doc/scipy/reference/generated/scipy.spatial.distance.cdist.html#scipy.spatial.distance.cdist):计算两组输入的每对之间的距离。"
   ]
  },
  {
   "cell_type": "code",
   "execution_count": 2,
   "metadata": {},
   "outputs": [],
   "source": [
    "from scipy.spatial import distance"
   ]
  },
  {
   "cell_type": "code",
   "execution_count": 8,
   "metadata": {},
   "outputs": [
    {
     "name": "stdout",
     "output_type": "stream",
     "text": [
      "0.026271008879704683\n"
     ]
    },
    {
     "data": {
      "text/plain": [
       "array([0.03509872])"
      ]
     },
     "execution_count": 8,
     "metadata": {},
     "output_type": "execute_result"
    }
   ],
   "source": [
    "print(distance.cosine([1, 1, 1], [2, 5, 3], w = [0.2, 0.4, 0.4]))\n",
    "pdist([[1, 1, 1], [2, 5, 3]], 'cosine')    #余弦距离"
   ]
  },
  {
   "cell_type": "code",
   "execution_count": 9,
   "metadata": {},
   "outputs": [
    {
     "data": {
      "text/plain": [
       "3"
      ]
     },
     "execution_count": 9,
     "metadata": {},
     "output_type": "execute_result"
    }
   ],
   "source": [
    "distance.chebyshev([1, 0, 0], [0, 3, 0])    #切比雪夫距离"
   ]
  },
  {
   "cell_type": "code",
   "execution_count": 12,
   "metadata": {},
   "outputs": [
    {
     "data": {
      "text/plain": [
       "array([[0.        , 4.70444794, 1.6171966 , 1.88558331],\n",
       "       [4.70444794, 0.        , 6.0892811 , 3.35605413],\n",
       "       [1.6171966 , 6.0892811 , 0.        , 2.84770898],\n",
       "       [1.88558331, 3.35605413, 2.84770898, 0.        ]])"
      ]
     },
     "execution_count": 12,
     "metadata": {},
     "output_type": "execute_result"
    }
   ],
   "source": [
    "'''四个二维坐标之间的欧几里德距离'''\n",
    "coords = [(35.0456, -85.2672), (35.1174, -89.9711), (35.9728, -83.9422), (36.1667, -86.7833)]\n",
    "cdist(coords, coords, 'euclidean')"
   ]
  },
  {
   "cell_type": "code",
   "execution_count": 13,
   "metadata": {},
   "outputs": [
    {
     "data": {
      "text/plain": [
       "array([[0.7],\n",
       "       [0.9],\n",
       "       [1.3],\n",
       "       [1.5],\n",
       "       [1.5],\n",
       "       [1.7],\n",
       "       [2.1],\n",
       "       [2.3]])"
      ]
     },
     "execution_count": 13,
     "metadata": {},
     "output_type": "execute_result"
    }
   ],
   "source": [
    "'''三维点到单位立方体角落的曼哈顿距离'''\n",
    "import numpy as np\n",
    "a = np.array([[0, 0, 0],\n",
    "              [0, 0, 1],\n",
    "              [0, 1, 0],\n",
    "              [0, 1, 1],\n",
    "              [1, 0, 0],\n",
    "              [1, 0, 1],\n",
    "              [1, 1, 0],\n",
    "              [1, 1, 1]])\n",
    "\n",
    "b = np.array([[ 0.1,  0.2,  0.4]])\n",
    "\n",
    "cdist(a, b, 'cityblock')"
   ]
  },
  {
   "cell_type": "markdown",
   "metadata": {},
   "source": [
    "[马氏距离](https://blog.csdn.net/bbbeoy/article/details/78617680)"
   ]
  },
  {
   "cell_type": "code",
   "execution_count": 17,
   "metadata": {},
   "outputs": [
    {
     "data": {
      "text/plain": [
       "array([0.77954668, 1.29641616, 1.93655732, 3.19820149, 1.42004906,\n",
       "       2.75519389, 2.69222929, 3.30500306, 2.79028109, 0.80857745,\n",
       "       1.16396493, 2.54254633, 0.72901016, 2.08473549, 2.15895462,\n",
       "       2.55369947, 2.14153709, 1.30268122, 1.91928265, 0.41934528,\n",
       "       1.49394948, 1.40318992, 2.65474314, 2.53082265, 1.94729385,\n",
       "       0.88376258, 1.51955028, 1.95009438, 1.40918641, 1.26043199,\n",
       "       1.81431793, 0.46156546, 0.78301128, 2.34857469, 2.91094418,\n",
       "       1.35806441, 1.4646383 , 2.24314963, 2.1208306 , 0.67571248,\n",
       "       2.12654785, 2.56876004, 2.7764032 , 3.12113901, 0.96225754])"
      ]
     },
     "execution_count": 17,
     "metadata": {},
     "output_type": "execute_result"
    }
   ],
   "source": [
    "x=np.random.random(10)\n",
    "y=np.random.random(10)\n",
    "\n",
    "#马氏距离要求样本数要大于维数，否则无法求协方差矩阵\n",
    "#此处进行转置，表示10个样本，每个样本2维\n",
    "X=np.vstack([x,y])\n",
    "XT=X.T\n",
    "\n",
    "pdist(XT,'mahalanobis')"
   ]
  },
  {
   "cell_type": "code",
   "execution_count": null,
   "metadata": {},
   "outputs": [],
   "source": []
  }
 ],
 "metadata": {
  "kernelspec": {
   "display_name": "Python 3",
   "language": "python",
   "name": "python3"
  },
  "language_info": {
   "codemirror_mode": {
    "name": "ipython",
    "version": 3
   },
   "file_extension": ".py",
   "mimetype": "text/x-python",
   "name": "python",
   "nbconvert_exporter": "python",
   "pygments_lexer": "ipython3",
   "version": "3.6.5"
  }
 },
 "nbformat": 4,
 "nbformat_minor": 2
}
