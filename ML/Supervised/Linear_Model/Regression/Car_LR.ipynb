{
 "cells": [
  {
   "cell_type": "code",
   "execution_count": 17,
   "metadata": {},
   "outputs": [],
   "source": [
    "import pandas as pd\n",
    "import numpy as np\n",
    "from sklearn.linear_model import LogisticRegressionCV\n",
    "from sklearn.ensemble import RandomForestClassifier\n",
    "from sklearn import metrics\n",
    "from sklearn.model_selection import train_test_split\n",
    "from sklearn.preprocessing import label_binarize\n",
    "import matplotlib as mpl\n",
    "import matplotlib.pyplot as plt\n",
    "from IPython.display import display"
   ]
  },
  {
   "cell_type": "code",
   "execution_count": 94,
   "metadata": {},
   "outputs": [
    {
     "data": {
      "text/html": [
       "<div>\n",
       "<style scoped>\n",
       "    .dataframe tbody tr th:only-of-type {\n",
       "        vertical-align: middle;\n",
       "    }\n",
       "\n",
       "    .dataframe tbody tr th {\n",
       "        vertical-align: top;\n",
       "    }\n",
       "\n",
       "    .dataframe thead th {\n",
       "        text-align: right;\n",
       "    }\n",
       "</style>\n",
       "<table border=\"1\" class=\"dataframe\">\n",
       "  <thead>\n",
       "    <tr style=\"text-align: right;\">\n",
       "      <th></th>\n",
       "      <th>0</th>\n",
       "      <th>1</th>\n",
       "      <th>2</th>\n",
       "      <th>3</th>\n",
       "      <th>4</th>\n",
       "      <th>5</th>\n",
       "      <th>6</th>\n",
       "    </tr>\n",
       "  </thead>\n",
       "  <tbody>\n",
       "    <tr>\n",
       "      <th>0</th>\n",
       "      <td>vhigh</td>\n",
       "      <td>vhigh</td>\n",
       "      <td>2</td>\n",
       "      <td>2</td>\n",
       "      <td>small</td>\n",
       "      <td>low</td>\n",
       "      <td>unacc</td>\n",
       "    </tr>\n",
       "    <tr>\n",
       "      <th>1</th>\n",
       "      <td>vhigh</td>\n",
       "      <td>vhigh</td>\n",
       "      <td>2</td>\n",
       "      <td>2</td>\n",
       "      <td>small</td>\n",
       "      <td>med</td>\n",
       "      <td>unacc</td>\n",
       "    </tr>\n",
       "    <tr>\n",
       "      <th>2</th>\n",
       "      <td>vhigh</td>\n",
       "      <td>vhigh</td>\n",
       "      <td>2</td>\n",
       "      <td>2</td>\n",
       "      <td>small</td>\n",
       "      <td>high</td>\n",
       "      <td>unacc</td>\n",
       "    </tr>\n",
       "    <tr>\n",
       "      <th>3</th>\n",
       "      <td>vhigh</td>\n",
       "      <td>vhigh</td>\n",
       "      <td>2</td>\n",
       "      <td>2</td>\n",
       "      <td>med</td>\n",
       "      <td>low</td>\n",
       "      <td>unacc</td>\n",
       "    </tr>\n",
       "    <tr>\n",
       "      <th>4</th>\n",
       "      <td>vhigh</td>\n",
       "      <td>vhigh</td>\n",
       "      <td>2</td>\n",
       "      <td>2</td>\n",
       "      <td>med</td>\n",
       "      <td>med</td>\n",
       "      <td>unacc</td>\n",
       "    </tr>\n",
       "  </tbody>\n",
       "</table>\n",
       "</div>"
      ],
      "text/plain": [
       "       0      1  2  3      4     5      6\n",
       "0  vhigh  vhigh  2  2  small   low  unacc\n",
       "1  vhigh  vhigh  2  2  small   med  unacc\n",
       "2  vhigh  vhigh  2  2  small  high  unacc\n",
       "3  vhigh  vhigh  2  2    med   low  unacc\n",
       "4  vhigh  vhigh  2  2    med   med  unacc"
      ]
     },
     "metadata": {},
     "output_type": "display_data"
    },
    {
     "data": {
      "text/plain": [
       "{0: 'buy',\n",
       " 1: 'maintain',\n",
       " 2: 'doors',\n",
       " 3: 'persons',\n",
       " 4: 'boot',\n",
       " 5: 'saftey',\n",
       " 6: 'accept'}"
      ]
     },
     "metadata": {},
     "output_type": "display_data"
    },
    {
     "data": {
      "text/html": [
       "<div>\n",
       "<style scoped>\n",
       "    .dataframe tbody tr th:only-of-type {\n",
       "        vertical-align: middle;\n",
       "    }\n",
       "\n",
       "    .dataframe tbody tr th {\n",
       "        vertical-align: top;\n",
       "    }\n",
       "\n",
       "    .dataframe thead th {\n",
       "        text-align: right;\n",
       "    }\n",
       "</style>\n",
       "<table border=\"1\" class=\"dataframe\">\n",
       "  <thead>\n",
       "    <tr style=\"text-align: right;\">\n",
       "      <th></th>\n",
       "      <th>buy</th>\n",
       "      <th>maintain</th>\n",
       "      <th>doors</th>\n",
       "      <th>persons</th>\n",
       "      <th>boot</th>\n",
       "      <th>saftey</th>\n",
       "      <th>accept</th>\n",
       "    </tr>\n",
       "  </thead>\n",
       "  <tbody>\n",
       "    <tr>\n",
       "      <th>0</th>\n",
       "      <td>vhigh</td>\n",
       "      <td>vhigh</td>\n",
       "      <td>2</td>\n",
       "      <td>2</td>\n",
       "      <td>small</td>\n",
       "      <td>low</td>\n",
       "      <td>unacc</td>\n",
       "    </tr>\n",
       "    <tr>\n",
       "      <th>1</th>\n",
       "      <td>vhigh</td>\n",
       "      <td>vhigh</td>\n",
       "      <td>2</td>\n",
       "      <td>2</td>\n",
       "      <td>small</td>\n",
       "      <td>med</td>\n",
       "      <td>unacc</td>\n",
       "    </tr>\n",
       "    <tr>\n",
       "      <th>2</th>\n",
       "      <td>vhigh</td>\n",
       "      <td>vhigh</td>\n",
       "      <td>2</td>\n",
       "      <td>2</td>\n",
       "      <td>small</td>\n",
       "      <td>high</td>\n",
       "      <td>unacc</td>\n",
       "    </tr>\n",
       "    <tr>\n",
       "      <th>3</th>\n",
       "      <td>vhigh</td>\n",
       "      <td>vhigh</td>\n",
       "      <td>2</td>\n",
       "      <td>2</td>\n",
       "      <td>med</td>\n",
       "      <td>low</td>\n",
       "      <td>unacc</td>\n",
       "    </tr>\n",
       "    <tr>\n",
       "      <th>4</th>\n",
       "      <td>vhigh</td>\n",
       "      <td>vhigh</td>\n",
       "      <td>2</td>\n",
       "      <td>2</td>\n",
       "      <td>med</td>\n",
       "      <td>med</td>\n",
       "      <td>unacc</td>\n",
       "    </tr>\n",
       "  </tbody>\n",
       "</table>\n",
       "</div>"
      ],
      "text/plain": [
       "     buy maintain doors persons   boot saftey accept\n",
       "0  vhigh    vhigh     2       2  small    low  unacc\n",
       "1  vhigh    vhigh     2       2  small    med  unacc\n",
       "2  vhigh    vhigh     2       2  small   high  unacc\n",
       "3  vhigh    vhigh     2       2    med    low  unacc\n",
       "4  vhigh    vhigh     2       2    med    med  unacc"
      ]
     },
     "execution_count": 94,
     "metadata": {},
     "output_type": "execute_result"
    }
   ],
   "source": [
    "pd.set_option('display.width', 300)\n",
    "pd.set_option('display.max_columns', 300)\n",
    "\n",
    "data = pd.read_csv('car.data', header = None)\n",
    "display(data.head())\n",
    "n_columns = len(data.columns)\n",
    "columns = ['buy', 'maintain', 'doors', 'persons', 'boot', 'saftey', 'accept']\n",
    "new_columns = dict(list(zip(np.arange(n_columns), columns)))    #0-6进行命名\n",
    "data.rename(columns = new_columns, inplace = True)\n",
    "display(new_columns)\n",
    "data.head()"
   ]
  },
  {
   "cell_type": "markdown",
   "metadata": {},
   "source": [
    "## one-hot编码"
   ]
  },
  {
   "cell_type": "code",
   "execution_count": 95,
   "metadata": {
    "scrolled": true
   },
   "outputs": [
    {
     "data": {
      "text/plain": [
       "(0, 0)"
      ]
     },
     "metadata": {},
     "output_type": "display_data"
    },
    {
     "data": {
      "text/html": [
       "<div>\n",
       "<style scoped>\n",
       "    .dataframe tbody tr th:only-of-type {\n",
       "        vertical-align: middle;\n",
       "    }\n",
       "\n",
       "    .dataframe tbody tr th {\n",
       "        vertical-align: top;\n",
       "    }\n",
       "\n",
       "    .dataframe thead th {\n",
       "        text-align: right;\n",
       "    }\n",
       "</style>\n",
       "<table border=\"1\" class=\"dataframe\">\n",
       "  <thead>\n",
       "    <tr style=\"text-align: right;\">\n",
       "      <th></th>\n",
       "      <th>buy_high</th>\n",
       "      <th>buy_low</th>\n",
       "      <th>buy_med</th>\n",
       "      <th>buy_vhigh</th>\n",
       "      <th>maintain_high</th>\n",
       "      <th>maintain_low</th>\n",
       "      <th>maintain_med</th>\n",
       "      <th>maintain_vhigh</th>\n",
       "      <th>doors_2</th>\n",
       "      <th>doors_3</th>\n",
       "      <th>doors_4</th>\n",
       "      <th>doors_5more</th>\n",
       "      <th>persons_2</th>\n",
       "      <th>persons_4</th>\n",
       "      <th>persons_more</th>\n",
       "      <th>boot_big</th>\n",
       "      <th>boot_med</th>\n",
       "      <th>boot_small</th>\n",
       "      <th>saftey_high</th>\n",
       "      <th>saftey_low</th>\n",
       "      <th>saftey_med</th>\n",
       "    </tr>\n",
       "  </thead>\n",
       "  <tbody>\n",
       "    <tr>\n",
       "      <th>0</th>\n",
       "      <td>0</td>\n",
       "      <td>0</td>\n",
       "      <td>0</td>\n",
       "      <td>1</td>\n",
       "      <td>0</td>\n",
       "      <td>0</td>\n",
       "      <td>0</td>\n",
       "      <td>1</td>\n",
       "      <td>1</td>\n",
       "      <td>0</td>\n",
       "      <td>0</td>\n",
       "      <td>0</td>\n",
       "      <td>1</td>\n",
       "      <td>0</td>\n",
       "      <td>0</td>\n",
       "      <td>0</td>\n",
       "      <td>0</td>\n",
       "      <td>1</td>\n",
       "      <td>0</td>\n",
       "      <td>1</td>\n",
       "      <td>0</td>\n",
       "    </tr>\n",
       "    <tr>\n",
       "      <th>1</th>\n",
       "      <td>0</td>\n",
       "      <td>0</td>\n",
       "      <td>0</td>\n",
       "      <td>1</td>\n",
       "      <td>0</td>\n",
       "      <td>0</td>\n",
       "      <td>0</td>\n",
       "      <td>1</td>\n",
       "      <td>1</td>\n",
       "      <td>0</td>\n",
       "      <td>0</td>\n",
       "      <td>0</td>\n",
       "      <td>1</td>\n",
       "      <td>0</td>\n",
       "      <td>0</td>\n",
       "      <td>0</td>\n",
       "      <td>0</td>\n",
       "      <td>1</td>\n",
       "      <td>0</td>\n",
       "      <td>0</td>\n",
       "      <td>1</td>\n",
       "    </tr>\n",
       "    <tr>\n",
       "      <th>2</th>\n",
       "      <td>0</td>\n",
       "      <td>0</td>\n",
       "      <td>0</td>\n",
       "      <td>1</td>\n",
       "      <td>0</td>\n",
       "      <td>0</td>\n",
       "      <td>0</td>\n",
       "      <td>1</td>\n",
       "      <td>1</td>\n",
       "      <td>0</td>\n",
       "      <td>0</td>\n",
       "      <td>0</td>\n",
       "      <td>1</td>\n",
       "      <td>0</td>\n",
       "      <td>0</td>\n",
       "      <td>0</td>\n",
       "      <td>0</td>\n",
       "      <td>1</td>\n",
       "      <td>1</td>\n",
       "      <td>0</td>\n",
       "      <td>0</td>\n",
       "    </tr>\n",
       "    <tr>\n",
       "      <th>3</th>\n",
       "      <td>0</td>\n",
       "      <td>0</td>\n",
       "      <td>0</td>\n",
       "      <td>1</td>\n",
       "      <td>0</td>\n",
       "      <td>0</td>\n",
       "      <td>0</td>\n",
       "      <td>1</td>\n",
       "      <td>1</td>\n",
       "      <td>0</td>\n",
       "      <td>0</td>\n",
       "      <td>0</td>\n",
       "      <td>1</td>\n",
       "      <td>0</td>\n",
       "      <td>0</td>\n",
       "      <td>0</td>\n",
       "      <td>1</td>\n",
       "      <td>0</td>\n",
       "      <td>0</td>\n",
       "      <td>1</td>\n",
       "      <td>0</td>\n",
       "    </tr>\n",
       "    <tr>\n",
       "      <th>4</th>\n",
       "      <td>0</td>\n",
       "      <td>0</td>\n",
       "      <td>0</td>\n",
       "      <td>1</td>\n",
       "      <td>0</td>\n",
       "      <td>0</td>\n",
       "      <td>0</td>\n",
       "      <td>1</td>\n",
       "      <td>1</td>\n",
       "      <td>0</td>\n",
       "      <td>0</td>\n",
       "      <td>0</td>\n",
       "      <td>1</td>\n",
       "      <td>0</td>\n",
       "      <td>0</td>\n",
       "      <td>0</td>\n",
       "      <td>1</td>\n",
       "      <td>0</td>\n",
       "      <td>0</td>\n",
       "      <td>0</td>\n",
       "      <td>1</td>\n",
       "    </tr>\n",
       "  </tbody>\n",
       "</table>\n",
       "</div>"
      ],
      "text/plain": [
       "   buy_high  buy_low  buy_med  buy_vhigh  maintain_high  maintain_low  maintain_med  maintain_vhigh  doors_2  doors_3  doors_4  doors_5more  persons_2  persons_4  persons_more  boot_big  boot_med  boot_small  saftey_high  saftey_low  saftey_med\n",
       "0         0        0        0          1              0             0             0               1        1        0        0            0          1          0             0         0         0           1            0           1           0\n",
       "1         0        0        0          1              0             0             0               1        1        0        0            0          1          0             0         0         0           1            0           0           1\n",
       "2         0        0        0          1              0             0             0               1        1        0        0            0          1          0             0         0         0           1            1           0           0\n",
       "3         0        0        0          1              0             0             0               1        1        0        0            0          1          0             0         0         1           0            0           1           0\n",
       "4         0        0        0          1              0             0             0               1        1        0        0            0          1          0             0         0         1           0            0           0           1"
      ]
     },
     "metadata": {},
     "output_type": "display_data"
    },
    {
     "data": {
      "text/plain": [
       "array([2, 2, 2, ..., 2, 1, 3], dtype=int8)"
      ]
     },
     "execution_count": 95,
     "metadata": {},
     "output_type": "execute_result"
    }
   ],
   "source": [
    "# one-hot编码\n",
    "x = pd.DataFrame()\n",
    "display(x.shape)\n",
    "for col in columns[:-1]:\n",
    "    t = pd.get_dummies(data[col])    #对当前col进行one-hot\n",
    "    t = t.rename(columns=lambda x: col+'_'+str(x))    #重命名每一类别\n",
    "    x = pd.concat((x, t), axis=1)    #合并\n",
    "    \n",
    "y = pd.Categorical(data['accept']).codes    #对'accept'列元素进行汇总，用数字代替\n",
    "\n",
    "display(x.head())\n",
    "y"
   ]
  },
  {
   "cell_type": "code",
   "execution_count": 6,
   "metadata": {},
   "outputs": [],
   "source": [
    "from sklearn.preprocessing import OneHotEncoder"
   ]
  },
  {
   "cell_type": "code",
   "execution_count": 23,
   "metadata": {},
   "outputs": [
    {
     "data": {
      "text/plain": [
       "array([[0., 1., 0., 0., 1., 0., 0., 1., 0.],\n",
       "       [0., 1., 0., 0., 0., 1., 1., 0., 0.],\n",
       "       [0., 0., 1., 1., 0., 0., 0., 0., 1.],\n",
       "       [1., 0., 0., 0., 1., 0., 0., 0., 1.]])"
      ]
     },
     "metadata": {},
     "output_type": "display_data"
    }
   ],
   "source": [
    "ohe = OneHotEncoder(sparse = False)\n",
    "x = [[1, 2, 1],\n",
    "     [1, 3, 0],\n",
    "     [4, 0, 2],\n",
    "     [0, 2, 2]]\n",
    "x_onehot = ohe.fit_transform(x)\n",
    "display(x_onehot)"
   ]
  },
  {
   "cell_type": "markdown",
   "metadata": {},
   "source": [
    "## 拟合曲线"
   ]
  },
  {
   "cell_type": "code",
   "execution_count": 96,
   "metadata": {},
   "outputs": [
    {
     "name": "stdout",
     "output_type": "stream",
     "text": [
      "Logistic回归训练集精度： 0.8974358974358975\n",
      "随机森林回归训练集精度： 0.9553349875930521\n",
      "=====================\n",
      "Logistic回归测试集精度： 0.9152215799614644\n",
      "随机森林回归测试集精度： 0.9344894026974951\n"
     ]
    },
    {
     "data": {
      "text/plain": [
       "4"
      ]
     },
     "execution_count": 96,
     "metadata": {},
     "output_type": "execute_result"
    }
   ],
   "source": [
    "x, x_test, y, y_test =  train_test_split(x, y, test_size = 0.3)   #分割训练/测试集\n",
    "#使用交叉验证进行对数回归，惩罚项由lg(10^-3)~lg(10^4)共8个量级, 10折交叉\n",
    "clf_lr = LogisticRegressionCV(Cs = np.logspace(-3, 4, 8), cv = 10)\n",
    "clf_lr.fit(x, y)\n",
    "\n",
    "clf_rf = RandomForestClassifier(n_estimators = 50, max_depth = 7)    #随机森林\n",
    "clf_rf.fit(x, y)\n",
    "\n",
    "y_hat_lr = clf_lr.predict(x)\n",
    "y_hat_rf = clf_rf.predict(x)\n",
    "print('Logistic回归训练集精度：', metrics.accuracy_score(y, y_hat_lr))    #返回精度(1-错误率)\n",
    "print('随机森林回归训练集精度：', metrics.accuracy_score(y, y_hat_rf))\n",
    "\n",
    "print(\"=====================\")\n",
    "\n",
    "y_test_hat_lr = clf_lr.predict(x_test)\n",
    "y_test_hat_rf = clf_rf.predict(x_test)\n",
    "print('Logistic回归测试集精度：', metrics.accuracy_score(y_test, y_test_hat_lr))\n",
    "print('随机森林回归测试集精度：', metrics.accuracy_score(y_test, y_test_hat_rf))\n",
    "\n",
    "n_class = len(np.unique(y))\n",
    "n_class"
   ]
  },
  {
   "cell_type": "code",
   "execution_count": 97,
   "metadata": {},
   "outputs": [
    {
     "data": {
      "text/plain": [
       "array([[5.62832127e-02, 3.59141054e-02, 9.07755312e-01, 4.73702096e-05],\n",
       "       [2.59187433e-01, 2.93718908e-02, 7.11440672e-01, 3.53401763e-09],\n",
       "       [2.62321470e-01, 3.43777155e-02, 7.03264588e-01, 3.62269553e-05],\n",
       "       ...,\n",
       "       [4.95582313e-01, 3.25482693e-02, 3.97982506e-04, 4.71471435e-01],\n",
       "       [3.26763851e-02, 3.80331834e-02, 9.29290417e-01, 1.44029125e-08],\n",
       "       [4.92728993e-02, 3.53714241e-02, 9.15355630e-01, 4.63882543e-08]])"
      ]
     },
     "metadata": {},
     "output_type": "display_data"
    },
    {
     "data": {
      "text/plain": [
       "array([[0.05332756, 0.        , 0.94667244, 0.        ],\n",
       "       [0.19479174, 0.0178013 , 0.78343049, 0.00397647],\n",
       "       [0.25457498, 0.00148148, 0.69975825, 0.04418528],\n",
       "       ...,\n",
       "       [0.48433796, 0.0678586 , 0.10771214, 0.3400913 ],\n",
       "       [0.01614516, 0.        , 0.98385484, 0.        ],\n",
       "       [0.03303922, 0.00235294, 0.96460784, 0.        ]])"
      ]
     },
     "metadata": {},
     "output_type": "display_data"
    },
    {
     "name": "stdout",
     "output_type": "stream",
     "text": [
      "Logistc Regression Micro AUC:\t 0.9855101518037133\n",
      "Random Forest Micro AUC:\t 0.9942468781053432\n"
     ]
    }
   ],
   "source": [
    "y_test_one_hot = label_binarize(y_test, classes = np.arange(n_class))    #将测试集进行one-hot编码\n",
    "\n",
    "y_test_one_hot_hat_lr = clf_lr.predict_proba(x_test)\n",
    "'''返回的是一个n行k列的数组，第i行第j列上的数值是模型预测第i个预测样本为某个标签的概率，并且每一行的概率和为1'''\n",
    "display(y_test_one_hot_hat_lr)\n",
    "\n",
    "y_test_one_hot_hat_rf = clf_rf.predict_proba(x_test)\n",
    "display(y_test_one_hot_hat_rf)\n",
    "\n",
    "fpr_lr, tpr_lr, _ = metrics.roc_curve(y_test_one_hot.ravel(), y_test_one_hot_hat_lr.ravel())\n",
    "print('Logistc Regression Micro AUC:\\t', metrics.auc(fpr_lr, tpr_lr))\n",
    "\n",
    "fpr_rf, tpr_rf, _ = metrics.roc_curve(y_test_one_hot.ravel(), y_test_one_hot_hat_rf.ravel())\n",
    "print('Random Forest Micro AUC:\\t', metrics.auc(fpr_rf, tpr_rf))"
   ]
  },
  {
   "cell_type": "code",
   "execution_count": 99,
   "metadata": {},
   "outputs": [
    {
     "name": "stdout",
     "output_type": "stream",
     "text": [
      "Logistics Regression\n",
      "Micro AUC:\t 0.9855101518037133\n",
      "Micro AUC(System):\t 0.9855101518037133\n",
      "Macro AUC:\t 0.9698665604361705\n",
      "============\n",
      "Random Forest\n",
      "Micro AUC:\t 0.9942468781053432\n",
      "Micro AUC(System):\t 0.9942468781053432\n",
      "Macro AUC:\t 0.9918299876740564\n"
     ]
    },
    {
     "name": "stderr",
     "output_type": "stream",
     "text": [
      "/Users/lee_excited/anaconda3/lib/python3.6/site-packages/matplotlib/font_manager.py:1331: UserWarning: findfont: Font family ['sans-serif'] not found. Falling back to DejaVu Sans\n",
      "  (prop.get_family(), self.defaultFamily[fontext]))\n"
     ]
    },
    {
     "data": {
      "image/png": "[encoded data removed]",
      "text/plain": [
       "<Figure size 640x560 with 2 Axes>"
      ]
     },
     "metadata": {},
     "output_type": "display_data"
    }
   ],
   "source": [
    "#ROC\n",
    "def print_AUC(clf, y_test, x_test):\n",
    "    global fpr\n",
    "    global tpr\n",
    "    y_test_one_hot = label_binarize(y_test, classes = np.arange(n_class))    #利用二值化函数将y_test进行one-hot编码\n",
    "    y_test_one_hot_hat = clf.predict_proba(x_test)    # 返回属于各个标签概率的预测值\n",
    "    fpr, tpr, _ = metrics.roc_curve(y_test_one_hot.ravel(), y_test_one_hot_hat.ravel())    #ROC值\n",
    "    print('Micro AUC:\\t', metrics.auc(fpr, tpr))\n",
    "    auc = metrics.roc_auc_score(y_test_one_hot, y_test_one_hot_hat, average = 'micro')\n",
    "    print('Micro AUC(System):\\t', auc)\n",
    "    auc = metrics.roc_auc_score(y_test_one_hot, y_test_one_hot_hat, average = 'macro')\n",
    "    print('Macro AUC:\\t', auc)\n",
    "\n",
    "\n",
    "plt.figure(figsize = (8, 7), dpi = 80, facecolor = 'w')\n",
    "fpr, tpr = 0, 0\n",
    "if n_class > 2:\n",
    "    print(\"Logistics Regression\")\n",
    "    print_AUC(clf_lr, y_test, x_test)\n",
    "    plt.subplot(1, 3, 1)\n",
    "    plt.plot(fpr, tpr, 'r-', lw = 2, label = 'AUC=%.4f' % auc)\n",
    "    plt.legend(loc = 'best')\n",
    "    plt.xlim((-0.01, 1.02))\n",
    "    plt.ylim((-0.01, 1.02))\n",
    "    plt.xticks(np.arange(0, 1.1, 0.1))\n",
    "    plt.yticks(np.arange(0, 1.1, 0.1))\n",
    "    plt.xlabel('False Positive Rate', fontsize = 14)\n",
    "    plt.ylabel('True Positive Rate', fontsize = 14)\n",
    "    plt.grid(b=True, ls=':')\n",
    "    plt.title('ROC & AUC', fontsize=18)\n",
    "    \n",
    "    print(\"============\")\n",
    "    print(\"Random Forest\")\n",
    "    print_AUC(clf_rf, y_test, x_test)\n",
    "    plt.subplot(1, 3, 2)\n",
    "    plt.plot(fpr, tpr, 'r-', lw = 2, label = 'AUC=%.4f' % auc)\n",
    "    plt.legend(loc = 'best')\n",
    "    plt.xlim((-0.01, 1.02))\n",
    "    plt.ylim((-0.01, 1.02))\n",
    "    plt.xticks(np.arange(0, 1.1, 0.1))\n",
    "    plt.yticks(np.arange(0, 1.1, 0.1))\n",
    "    plt.xlabel('False Positive Rate', fontsize = 14)\n",
    "    plt.ylabel('True Positive Rate', fontsize = 14)\n",
    "    plt.grid(b=True, ls=':')\n",
    "    plt.title('ROC & AUC', fontsize=18)\n",
    "    \n",
    "    \n",
    "else:\n",
    "    fpr, tpr, _ = metrics.roc_curve(y_test.ravel(), y_test_hat.ravel())\n",
    "    print('AUC:\\t', metrics.auc(fpr, tpr))\n",
    "    auc = metrics.roc_auc_score(y_test, y_test_hat)\n",
    "    print('AUC(System):\\t', auc)\n",
    "    \n",
    "plt.show()"
   ]
  },
  {
   "cell_type": "code",
   "execution_count": null,
   "metadata": {},
   "outputs": [],
   "source": []
  }
 ],
 "metadata": {
  "kernelspec": {
   "display_name": "Python 3",
   "language": "python",
   "name": "python3"
  },
  "language_info": {
   "codemirror_mode": {
    "name": "ipython",
    "version": 3
   },
   "file_extension": ".py",
   "mimetype": "text/x-python",
   "name": "python",
   "nbconvert_exporter": "python",
   "pygments_lexer": "ipython3",
   "version": "3.6.5"
  }
 },
 "nbformat": 4,
 "nbformat_minor": 2
}
