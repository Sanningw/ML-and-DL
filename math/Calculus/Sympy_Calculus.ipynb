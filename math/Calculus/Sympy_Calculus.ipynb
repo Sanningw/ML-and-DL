{
 "cells": [
  {
   "cell_type": "code",
   "execution_count": 2,
   "metadata": {},
   "outputs": [],
   "source": [
    "from sympy import *\n",
    "import sympy\n",
    "import math\n",
    "import numpy as np\n",
    "from IPython.display import display"
   ]
  },
  {
   "cell_type": "code",
   "execution_count": 3,
   "metadata": {},
   "outputs": [],
   "source": [
    "x, y, z = symbols('x y z')\n",
    "init_printing(use_unicode=True)"
   ]
  },
  {
   "cell_type": "markdown",
   "metadata": {},
   "source": [
    "## 求导"
   ]
  },
  {
   "cell_type": "markdown",
   "metadata": {},
   "source": [
    "$e^{x^2}$求一阶导，$x^4$求三阶导"
   ]
  },
  {
   "cell_type": "code",
   "execution_count": 17,
   "metadata": {},
   "outputs": [
    {
     "data": {
      "image/png": "[encoded data removed]",
      "text/latex": [
       "$$\\left ( 2 x e^{x^{2}}, \\quad 24 x\\right )$$"
      ],
      "text/plain": [
       "⎛     ⎛ 2⎞      ⎞\n",
       "⎜     ⎝x ⎠      ⎟\n",
       "⎝2⋅x⋅ℯ    , 24⋅x⎠"
      ]
     },
     "execution_count": 17,
     "metadata": {},
     "output_type": "execute_result"
    }
   ],
   "source": [
    "diff(exp(x**2), x), diff(x**4, x, 3)    #求3阶导"
   ]
  },
  {
   "cell_type": "markdown",
   "metadata": {},
   "source": [
    "#### 求偏导"
   ]
  },
  {
   "cell_type": "code",
   "execution_count": 24,
   "metadata": {},
   "outputs": [
    {
     "data": {
      "image/png": "[encoded data removed]",
      "text/latex": [
       "$$e^{x y z}$$"
      ],
      "text/plain": [
       " x⋅y⋅z\n",
       "ℯ     "
      ]
     },
     "metadata": {},
     "output_type": "display_data"
    },
    {
     "data": {
      "image/png": "[encoded data removed]",
      "text/latex": [
       "$$x^{3} y^{2} \\left(x^{3} y^{3} z^{3} + 14 x^{2} y^{2} z^{2} + 52 x y z + 48\\right) e^{x y z}$$"
      ],
      "text/plain": [
       " 3  2 ⎛ 3  3  3       2  2  2                ⎞  x⋅y⋅z\n",
       "x ⋅y ⋅⎝x ⋅y ⋅z  + 14⋅x ⋅y ⋅z  + 52⋅x⋅y⋅z + 48⎠⋅ℯ     "
      ]
     },
     "metadata": {},
     "output_type": "display_data"
    },
    {
     "data": {
      "image/png": "[encoded data removed]",
      "text/latex": [
       "$$x^{3} y^{2} \\left(x^{3} y^{3} z^{3} + 14 x^{2} y^{2} z^{2} + 52 x y z + 48\\right) e^{x y z}$$"
      ],
      "text/plain": [
       " 3  2 ⎛ 3  3  3       2  2  2                ⎞  x⋅y⋅z\n",
       "x ⋅y ⋅⎝x ⋅y ⋅z  + 14⋅x ⋅y ⋅z  + 52⋅x⋅y⋅z + 48⎠⋅ℯ     "
      ]
     },
     "execution_count": 24,
     "metadata": {},
     "output_type": "execute_result"
    }
   ],
   "source": [
    "expr = exp(x*y*z)\n",
    "display(expr)\n",
    "display(diff(expr, x, y, y, z, z, z, z))    #x一阶y二阶z四阶\n",
    "#diff(expr, x, y, 2, z, 4)\n",
    "#diff(expr, x, y, y, z, 4)\n",
    "\n",
    "expr.diff(x, y, 2, z, 4)    #也可直接命令求导"
   ]
  },
  {
   "cell_type": "code",
   "execution_count": 21,
   "metadata": {},
   "outputs": [
    {
     "data": {
      "image/png": "[encoded data removed]",
      "text/latex": [
       "$$\\frac{\\partial^{7}}{\\partial z^{4}\\partial y^{2}\\partial x} e^{x y z}$$"
      ],
      "text/plain": [
       "     7            \n",
       "    ∂     ⎛ x⋅y⋅z⎞\n",
       "──────────⎝ℯ     ⎠\n",
       "  4   2           \n",
       "∂z  ∂y  ∂x        "
      ]
     },
     "metadata": {},
     "output_type": "display_data"
    },
    {
     "data": {
      "image/png": "[encoded data removed]",
      "text/latex": [
       "$$x^{3} y^{2} \\left(x^{3} y^{3} z^{3} + 14 x^{2} y^{2} z^{2} + 52 x y z + 48\\right) e^{x y z}$$"
      ],
      "text/plain": [
       " 3  2 ⎛ 3  3  3       2  2  2                ⎞  x⋅y⋅z\n",
       "x ⋅y ⋅⎝x ⋅y ⋅z  + 14⋅x ⋅y ⋅z  + 52⋅x⋅y⋅z + 48⎠⋅ℯ     "
      ]
     },
     "execution_count": 21,
     "metadata": {},
     "output_type": "execute_result"
    }
   ],
   "source": [
    "deriv = Derivative(expr, x, y, y, z, 4)\n",
    "display(deriv)\n",
    "deriv.doit()"
   ]
  },
  {
   "cell_type": "code",
   "execution_count": 25,
   "metadata": {},
   "outputs": [
    {
     "data": {
      "image/png": "[encoded data removed]",
      "text/latex": [
       "$$\\frac{3^{x} \\log{\\left (3 \\right )}}{x^{3}} - \\frac{3 \\cdot 3^{x}}{x^{4}} + \\log{\\left (x \\right )} \\cos{\\left (x \\right )} + \\frac{\\sin{\\left (x \\right )}}{x} + \\frac{1}{x^{2}}$$"
      ],
      "text/plain": [
       " x             x                              \n",
       "3 ⋅log(3)   3⋅3                    sin(x)   1 \n",
       "───────── - ──── + log(x)⋅cos(x) + ────── + ──\n",
       "     3        4                      x       2\n",
       "    x        x                              x "
      ]
     },
     "metadata": {},
     "output_type": "display_data"
    },
    {
     "data": {
      "image/png": "[encoded data removed]",
      "text/latex": [
       "$$y$$"
      ],
      "text/plain": [
       "y"
      ]
     },
     "execution_count": 25,
     "metadata": {},
     "output_type": "execute_result"
    }
   ],
   "source": [
    "display(diff(sin(x) * ln(x) - 1 / x + 3 ** x / x ** 3 + tan(E), x))   #E为自然底数e\n",
    "diff(E ** y + x * y - E, x)"
   ]
  },
  {
   "cell_type": "markdown",
   "metadata": {},
   "source": [
    "## 积分"
   ]
  },
  {
   "cell_type": "markdown",
   "metadata": {},
   "source": [
    "求积分：$\\int_0^{+\\infty}e^{-x}\\text{d}x$"
   ]
  },
  {
   "cell_type": "code",
   "execution_count": 6,
   "metadata": {},
   "outputs": [
    {
     "data": {
      "image/png": "[encoded data removed]",
      "text/latex": [
       "$$1$$"
      ],
      "text/plain": [
       "1"
      ]
     },
     "execution_count": 6,
     "metadata": {},
     "output_type": "execute_result"
    }
   ],
   "source": [
    "integrate(exp(-x), (x, 0, oo))    #对x从0到正无穷积分"
   ]
  },
  {
   "cell_type": "code",
   "execution_count": 15,
   "metadata": {},
   "outputs": [
    {
     "data": {
      "image/png": "[encoded data removed]",
      "text/latex": [
       "$$\\int x^{x}\\, dx$$"
      ],
      "text/plain": [
       "⌠      \n",
       "⎮  x   \n",
       "⎮ x  dx\n",
       "⌡      "
      ]
     },
     "execution_count": 15,
     "metadata": {},
     "output_type": "execute_result"
    }
   ],
   "source": [
    "integrate(x**x, x)    #无法求得则原样返回"
   ]
  },
  {
   "cell_type": "markdown",
   "metadata": {},
   "source": [
    "求积分：$\\int\\frac{1}{x^2-9}\\text{d}x$"
   ]
  },
  {
   "cell_type": "code",
   "execution_count": 4,
   "metadata": {},
   "outputs": [
    {
     "data": {
      "image/png": "[encoded data removed]",
      "text/latex": [
       "$$\\frac{\\log{\\left (x - 3 \\right )}}{6} - \\frac{\\log{\\left (x + 3 \\right )}}{6}$$"
      ],
      "text/plain": [
       "log(x - 3)   log(x + 3)\n",
       "────────── - ──────────\n",
       "    6            6     "
      ]
     },
     "execution_count": 4,
     "metadata": {},
     "output_type": "execute_result"
    }
   ],
   "source": [
    "integrate(1 / (x ** 2 - 9), x)"
   ]
  },
  {
   "cell_type": "markdown",
   "metadata": {},
   "source": [
    "求积分：$\\int\\frac{\\sqrt{y^2-x^2}}{x^4}\\text{d}x$"
   ]
  },
  {
   "cell_type": "code",
   "execution_count": 4,
   "metadata": {},
   "outputs": [
    {
     "name": "stdout",
     "output_type": "stream",
     "text": [
      "Wall time: 303 ms\n"
     ]
    },
    {
     "data": {
      "text/latex": [
       "$$\\begin{cases} \\frac{\\sqrt{-1 + \\frac{y^{2}}{x^{2}}}}{3 y^{2}} - \\frac{\\sqrt{-1 + \\frac{y^{2}}{x^{2}}}}{3 x^{2}} & \\text{for}\\: \\left|{\\frac{y^{2}}{x^{2}}}\\right| > 1 \\\\\\frac{i \\sqrt{1 - \\frac{y^{2}}{x^{2}}}}{3 y^{2}} - \\frac{i \\sqrt{1 - \\frac{y^{2}}{x^{2}}}}{3 x^{2}} & \\text{otherwise} \\end{cases}$$"
      ],
      "text/plain": [
       "⎧       _________         _________               \n",
       "⎪      ╱       2         ╱       2                \n",
       "⎪     ╱       y         ╱       y                 \n",
       "⎪    ╱   -1 + ──       ╱   -1 + ──                \n",
       "⎪   ╱          2      ╱          2        │ 2│    \n",
       "⎪ ╲╱          x     ╲╱          x         │y │    \n",
       "⎪ ─────────────── - ───────────────   for │──│ > 1\n",
       "⎪          2                 2            │ 2│    \n",
       "⎪       3⋅y               3⋅x             │x │    \n",
       "⎨                                                 \n",
       "⎪        ________           ________              \n",
       "⎪       ╱      2           ╱      2               \n",
       "⎪      ╱      y           ╱      y                \n",
       "⎪ⅈ⋅   ╱   1 - ──    ⅈ⋅   ╱   1 - ──               \n",
       "⎪    ╱         2        ╱         2               \n",
       "⎪  ╲╱         x       ╲╱         x                \n",
       "⎪──────────────── - ────────────────   otherwise  \n",
       "⎪         2                  2                    \n",
       "⎩      3⋅y                3⋅x                     "
      ]
     },
     "execution_count": 4,
     "metadata": {},
     "output_type": "execute_result"
    }
   ],
   "source": [
    "%%time\n",
    "integrate(sqrt(y ** 2 - x ** 2) / x ** 4, x)"
   ]
  },
  {
   "cell_type": "markdown",
   "metadata": {},
   "source": [
    "求积分：$\\int_{0}^{2\\pi}y^{2}sin^{2}(x)(-y\\cdot sinx){d}x$"
   ]
  },
  {
   "cell_type": "code",
   "execution_count": 5,
   "metadata": {},
   "outputs": [
    {
     "data": {
      "image/png": "[encoded data removed]",
      "text/latex": [
       "$$- \\frac{4 y^{3}}{3}$$"
      ],
      "text/plain": [
       "    3 \n",
       "-4⋅y  \n",
       "──────\n",
       "  3   "
      ]
     },
     "execution_count": 5,
     "metadata": {},
     "output_type": "execute_result"
    }
   ],
   "source": [
    "integrate(y ** 2 * sin(x) ** 2 * (- y * sin(x)), (x, 0, pi))"
   ]
  },
  {
   "cell_type": "markdown",
   "metadata": {},
   "source": [
    "$\\int_{0}^{1}(ax^{2}+b){d}x$"
   ]
  },
  {
   "cell_type": "code",
   "execution_count": 11,
   "metadata": {},
   "outputs": [
    {
     "data": {
      "image/png": "[encoded data removed]",
      "text/latex": [
       "$$\\left ( 1.6666666666666667, \\quad 1.8503717077085944e-14\\right )$$"
      ],
      "text/plain": [
       "(1.6666666666666667, 1.8503717077085944e-14)"
      ]
     },
     "execution_count": 11,
     "metadata": {},
     "output_type": "execute_result"
    }
   ],
   "source": [
    "def integrand(x, a, b):\n",
    "    return a * x ** 2 + b\n",
    "a = 2\n",
    "b = 1\n",
    "I = quad(integrand, 0, 1, args = (a, b))\n",
    "I"
   ]
  },
  {
   "cell_type": "code",
   "execution_count": 13,
   "metadata": {},
   "outputs": [
    {
     "data": {
      "image/png": "[encoded data removed]",
      "text/latex": [
       "$$\\frac{5}{3}$$"
      ],
      "text/plain": [
       "5/3"
      ]
     },
     "execution_count": 13,
     "metadata": {},
     "output_type": "execute_result"
    }
   ],
   "source": [
    "integrate(a * x ** 2 + 1, (x, 0, 1))"
   ]
  },
  {
   "cell_type": "code",
   "execution_count": 15,
   "metadata": {},
   "outputs": [
    {
     "data": {
      "image/png": "[encoded data removed]",
      "text/latex": [
       "$$\\left ( 0.010416666666666668, \\quad 4.101620128472366e-16\\right )$$"
      ],
      "text/plain": [
       "(0.010416666666666668, 4.101620128472366e-16)"
      ]
     },
     "execution_count": 15,
     "metadata": {},
     "output_type": "execute_result"
    }
   ],
   "source": [
    "area = dblquad(lambda x, y: x * y, 0, 0.5, lambda x: 0, lambda x: 1 - 2 * x)\n",
    "area"
   ]
  },
  {
   "cell_type": "code",
   "execution_count": 25,
   "metadata": {},
   "outputs": [
    {
     "data": {
      "image/png": "[encoded data removed]",
      "text/latex": [
       "$$\\left ( 0.010416666666666668, \\quad 4.101620128472366e-16\\right )$$"
      ],
      "text/plain": [
       "(0.010416666666666668, 4.101620128472366e-16)"
      ]
     },
     "execution_count": 25,
     "metadata": {},
     "output_type": "execute_result"
    }
   ],
   "source": [
    "def f(x, y):\n",
    "    return x * y\n",
    "def bounds_y():\n",
    "    return [0, 0.5]\n",
    "def bounds_x(y):\n",
    "    return [0, 1 - 2 * y]\n",
    "\n",
    "nquad(f, [bounds_x, bounds_y])"
   ]
  },
  {
   "cell_type": "markdown",
   "metadata": {},
   "source": [
    "### 计算拉普拉斯变换:\n",
    "$F(s)=\\int_0^\\infty e^{-st}f(t)dt$"
   ]
  },
  {
   "cell_type": "code",
   "execution_count": 12,
   "metadata": {},
   "outputs": [
    {
     "data": {
      "image/png": "[encoded data removed]",
      "text/latex": [
       "$$\\left ( \\frac{s^{- a} \\Gamma\\left(a + 1\\right)}{s}, \\quad 0, \\quad - \\Re{\\left(a\\right)} < 1\\right )$$"
      ],
      "text/plain": [
       "⎛ -a                        ⎞\n",
       "⎜s  ⋅Γ(a + 1)               ⎟\n",
       "⎜────────────, 0, -re(a) < 1⎟\n",
       "⎝     s                     ⎠"
      ]
     },
     "execution_count": 12,
     "metadata": {},
     "output_type": "execute_result"
    }
   ],
   "source": [
    "from sympy.abc import t, s, a\n",
    "laplace_transform(t ** a, t, s)"
   ]
  },
  {
   "cell_type": "markdown",
   "metadata": {},
   "source": [
    "### 二重积分"
   ]
  },
  {
   "cell_type": "markdown",
   "metadata": {},
   "source": [
    "求积分：$\\int_{-\\infty}^\\infty\\int_{-\\infty}^\\infty e^{-x^2-y^2}$"
   ]
  },
  {
   "cell_type": "code",
   "execution_count": 14,
   "metadata": {},
   "outputs": [
    {
     "data": {
      "image/png": "[encoded data removed]",
      "text/latex": [
       "$$\\pi$$"
      ],
      "text/plain": [
       "π"
      ]
     },
     "execution_count": 14,
     "metadata": {},
     "output_type": "execute_result"
    }
   ],
   "source": [
    "integrate(exp(-x**2 - y**2), (x, -oo, oo), (y, -oo, oo))"
   ]
  },
  {
   "cell_type": "markdown",
   "metadata": {},
   "source": [
    "求积分：$\\int_{0}^{2\\pi}{d}x\\int_{0}^{1}y^{2}\\sqrt{1+4y^{2}}\\cdot y{d}y$"
   ]
  },
  {
   "cell_type": "code",
   "execution_count": 28,
   "metadata": {},
   "outputs": [
    {
     "data": {
      "image/png": "[encoded data removed]",
      "text/latex": [
       "$$\\frac{\\pi}{60} + \\frac{5 \\pi}{12} \\sqrt{5}$$"
      ],
      "text/plain": [
       "π    5⋅√5⋅π\n",
       "── + ──────\n",
       "60     12  "
      ]
     },
     "execution_count": 28,
     "metadata": {},
     "output_type": "execute_result"
    }
   ],
   "source": [
    "integrate(y ** 3 * sqrt(1 + 4 * y ** 2), (x, 0, 2 * pi), (y, 0, 1))"
   ]
  },
  {
   "cell_type": "markdown",
   "metadata": {},
   "source": [
    "求积分：$4\\int_{0}^\\frac{\\pi}{2}{d}x\\int_{0}^{2zcosx}\\sqrt{4z^{2}-y^{2}}\\cdot y{d}y$"
   ]
  },
  {
   "cell_type": "code",
   "execution_count": 34,
   "metadata": {},
   "outputs": [
    {
     "data": {
      "image/png": "[encoded data removed]",
      "text/latex": [
       "$$\\frac{16 \\pi}{3} z^{2} \\left(- \\sqrt{z^{2} \\sin^{2}{\\left (x \\right )}} \\sin^{2}{\\left (x \\right )} + \\sqrt{z^{2}}\\right)$$"
      ],
      "text/plain": [
       "        ⎛     ____________              ____⎞\n",
       "      2 ⎜    ╱  2    2        2        ╱  2 ⎟\n",
       "16⋅π⋅z ⋅⎝- ╲╱  z ⋅sin (x) ⋅sin (x) + ╲╱  z  ⎠\n",
       "─────────────────────────────────────────────\n",
       "                      3                      "
      ]
     },
     "execution_count": 34,
     "metadata": {},
     "output_type": "execute_result"
    }
   ],
   "source": [
    "simplify(integrate(4* y * sqrt(4 * z ** 2 - y ** 2), (x, 0, pi / 2), (y, 0, 2 * z * cos(x))))"
   ]
  },
  {
   "cell_type": "markdown",
   "metadata": {
    "toc-hr-collapsed": false
   },
   "source": [
    "## 解方程（solve方法默认所有等式为0）\n",
    "#### solveset(equation, variable=None, domain=S.Complexes)"
   ]
  },
  {
   "cell_type": "markdown",
   "metadata": {},
   "source": [
    "$x^2=1$"
   ]
  },
  {
   "cell_type": "code",
   "execution_count": 4,
   "metadata": {},
   "outputs": [
    {
     "data": {
      "image/png": "[encoded data removed]",
      "text/latex": [
       "$$\\left [ -1, \\quad 1\\right ]$$"
      ],
      "text/plain": [
       "[-1, 1]"
      ]
     },
     "execution_count": 4,
     "metadata": {},
     "output_type": "execute_result"
    }
   ],
   "source": [
    "solve(x ** 2 -1, x)"
   ]
  },
  {
   "cell_type": "markdown",
   "metadata": {},
   "source": [
    "$x+2x^2+3x^3=6$ "
   ]
  },
  {
   "cell_type": "code",
   "execution_count": 5,
   "metadata": {},
   "outputs": [
    {
     "data": {
      "image/png": "[encoded data removed]",
      "text/latex": [
       "$$\\left [ 1, \\quad - \\frac{5}{6} - \\frac{\\sqrt{47} i}{6}, \\quad - \\frac{5}{6} + \\frac{\\sqrt{47} i}{6}\\right ]$$"
      ],
      "text/plain": [
       "⎡     5   √47⋅ⅈ    5   √47⋅ⅈ⎤\n",
       "⎢1, - ─ - ─────, - ─ + ─────⎥\n",
       "⎣     6     6      6     6  ⎦"
      ]
     },
     "execution_count": 5,
     "metadata": {},
     "output_type": "execute_result"
    }
   ],
   "source": [
    "solve(x + 2 * (x ** 2) + 3 * (x ** 3) - 6, x)"
   ]
  },
  {
   "cell_type": "markdown",
   "metadata": {},
   "source": [
    "解方程组:$\\begin{cases}2x - y = 3\\\\3x + y = 7\\end{cases}$"
   ]
  },
  {
   "cell_type": "code",
   "execution_count": 6,
   "metadata": {},
   "outputs": [
    {
     "data": {
      "image/png": "[encoded data removed]",
      "text/latex": [
       "$$\\left ( \\left \\{ x : 2, \\quad y : 1\\right \\}, \\quad \\left\\{\\left ( 2, \\quad 1\\right )\\right\\}\\right )$$"
      ],
      "text/plain": [
       "({x: 2, y: 1}, {(2, 1)})"
      ]
     },
     "execution_count": 6,
     "metadata": {},
     "output_type": "execute_result"
    }
   ],
   "source": [
    "solve([2 * x - y - 3, 3 * x + y - 7],[x, y]), linsolve([2 * x - y - 3, 3 * x + y - 7],[x, y])"
   ]
  },
  {
   "cell_type": "markdown",
   "metadata": {},
   "source": [
    "### linsolve解方程组"
   ]
  },
  {
   "cell_type": "code",
   "execution_count": 4,
   "metadata": {},
   "outputs": [
    {
     "data": {
      "image/png": "[encoded data removed]",
      "text/latex": [
       "$$\\left\\{\\left ( - y - 1, \\quad y, \\quad 2\\right )\\right\\}$$"
      ],
      "text/plain": [
       "{(-y - 1, y, 2)}"
      ]
     },
     "execution_count": 4,
     "metadata": {},
     "output_type": "execute_result"
    }
   ],
   "source": [
    "linsolve([x + y + z - 1, x + y + 2*z - 3 ], [x, y, z])"
   ]
  }
 ],
 "metadata": {
  "kernelspec": {
   "display_name": "Python 3",
   "language": "python",
   "name": "python3"
  },
  "language_info": {
   "codemirror_mode": {
    "name": "ipython",
    "version": 3
   },
   "file_extension": ".py",
   "mimetype": "text/x-python",
   "name": "python",
   "nbconvert_exporter": "python",
   "pygments_lexer": "ipython3",
   "version": "3.6.6"
  }
 },
 "nbformat": 4,
 "nbformat_minor": 2
}
