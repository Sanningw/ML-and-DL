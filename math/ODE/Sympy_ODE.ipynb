{
 "cells": [
  {
   "cell_type": "code",
   "execution_count": 1,
   "metadata": {},
   "outputs": [],
   "source": [
    "from sympy import *\n",
    "import sympy\n",
    "import math \n",
    "import numpy as np\n",
    "from mpl_toolkits.mplot3d import Axes3D\n",
    "import matplotlib.pyplot as plt "
   ]
  },
  {
   "cell_type": "code",
   "execution_count": 2,
   "metadata": {},
   "outputs": [],
   "source": [
    "x, y, z = symbols('x y z')\n",
    "init_printing(use_unicode=True)\n",
    "%matplotlib inline"
   ]
  },
  {
   "cell_type": "code",
   "execution_count": 3,
   "metadata": {},
   "outputs": [
    {
     "data": {
      "image/png": "[encoded data removed]",
      "text/latex": [
       "$$\\left ( k \\left(- T_{a} + T{\\left (t \\right )}\\right) + \\frac{d}{d t} T{\\left (t \\right )} = 0, \\quad T{\\left (t \\right )} = C_{1} e^{- k t} + T_{a}\\right )$$"
      ],
      "text/plain": [
       "⎛                 d                        -k⋅t     ⎞\n",
       "⎜k⋅(-Tₐ + T(t)) + ──(T(t)) = 0, T(t) = C₁⋅ℯ     + Tₐ⎟\n",
       "⎝                 dt                                ⎠"
      ]
     },
     "execution_count": 3,
     "metadata": {},
     "output_type": "execute_result"
    }
   ],
   "source": [
    "t, k, T0, Ta = sympy.symbols('t, k, T_0, T_a')\n",
    "T = sympy.Function('T')\n",
    "ode = T(t).diff(t) + k*(T(t) - Ta)\n",
    "sympy.Eq(ode), sympy.dsolve(ode)"
   ]
  }
 ],
 "metadata": {
  "kernelspec": {
   "display_name": "Python 3",
   "language": "python",
   "name": "python3"
  },
  "language_info": {
   "codemirror_mode": {
    "name": "ipython",
    "version": 3
   },
   "file_extension": ".py",
   "mimetype": "text/x-python",
   "name": "python",
   "nbconvert_exporter": "python",
   "pygments_lexer": "ipython3",
   "version": "3.6.6"
  }
 },
 "nbformat": 4,
 "nbformat_minor": 2
}
