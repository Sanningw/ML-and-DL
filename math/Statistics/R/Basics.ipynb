{
 "cells": [
  {
   "cell_type": "markdown",
   "metadata": {},
   "source": [
    "# 包安装"
   ]
  },
  {
   "cell_type": "code",
   "execution_count": 3,
   "metadata": {},
   "outputs": [],
   "source": [
    "update.packages()    #更新所有包"
   ]
  },
  {
   "cell_type": "code",
   "execution_count": 1,
   "metadata": {},
   "outputs": [
    {
     "name": "stderr",
     "output_type": "stream",
     "text": [
      "Updating HTML index of packages in '.Library'\n",
      "Making 'packages.html' ... done\n"
     ]
    }
   ],
   "source": [
    "install.packages(\"reticulate\")"
   ]
  },
  {
   "cell_type": "code",
   "execution_count": 18,
   "metadata": {},
   "outputs": [
    {
     "name": "stdout",
     "output_type": "stream",
     "text": [
      "\n",
      "The downloaded binary packages are in\n",
      "\t/var/folders/05/cqptwrtn1_l8n2w5kcl_2pg80000gp/T//RtmpDq3sV8/downloaded_packages\n"
     ]
    }
   ],
   "source": [
    "install.packages(\"git2r\", \n",
    "                  repos = \"https://cran.r-project.org\", \n",
    "                  type = \"mac.binary.el-capitan\")\n",
    "install.packages('devtools')"
   ]
  },
  {
   "cell_type": "code",
   "execution_count": 1,
   "metadata": {},
   "outputs": [],
   "source": [
    "file.edit('~/.Rprofile')    #编辑文件\n",
    "options(repos=structure(c(CRAN=\"https://mirrors.tuna.tsinghua.edu.cn/CRAN/\")))    #更改源贴到文件中"
   ]
  },
  {
   "cell_type": "code",
   "execution_count": null,
   "metadata": {},
   "outputs": [
    {
     "name": "stderr",
     "output_type": "stream",
     "text": [
      "Downloading GitHub repo cosname/recharts@master\n",
      "from URL https://api.github.com/repos/cosname/recharts/zipball/master\n"
     ]
    }
   ],
   "source": [
    "devtools::install_github('cosname/recharts')"
   ]
  },
  {
   "cell_type": "markdown",
   "metadata": {},
   "source": [
    "### 获取包位置"
   ]
  },
  {
   "cell_type": "code",
   "execution_count": 2,
   "metadata": {},
   "outputs": [
    {
     "data": {
      "text/html": [
       "'/Users/lee_excited/anaconda3/lib/R/library'"
      ],
      "text/latex": [
       "'/Users/lee\\_excited/anaconda3/lib/R/library'"
      ],
      "text/markdown": [
       "'/Users/lee_excited/anaconda3/lib/R/library'"
      ],
      "text/plain": [
       "[1] \"/Users/lee_excited/anaconda3/lib/R/library\""
      ]
     },
     "metadata": {},
     "output_type": "display_data"
    }
   ],
   "source": [
    ".libPaths()"
   ]
  },
  {
   "cell_type": "code",
   "execution_count": null,
   "metadata": {},
   "outputs": [],
   "source": [
    "library()    #查看已安装包"
   ]
  },
  {
   "cell_type": "code",
   "execution_count": 3,
   "metadata": {},
   "outputs": [
    {
     "data": {
      "text/html": [
       "<ol class=list-inline>\n",
       "\t<li>'.GlobalEnv'</li>\n",
       "\t<li>'jupyter:irkernel'</li>\n",
       "\t<li>'package:stats'</li>\n",
       "\t<li>'package:graphics'</li>\n",
       "\t<li>'package:grDevices'</li>\n",
       "\t<li>'package:utils'</li>\n",
       "\t<li>'package:datasets'</li>\n",
       "\t<li>'package:methods'</li>\n",
       "\t<li>'Autoloads'</li>\n",
       "\t<li>'package:base'</li>\n",
       "</ol>\n"
      ],
      "text/latex": [
       "\\begin{enumerate*}\n",
       "\\item '.GlobalEnv'\n",
       "\\item 'jupyter:irkernel'\n",
       "\\item 'package:stats'\n",
       "\\item 'package:graphics'\n",
       "\\item 'package:grDevices'\n",
       "\\item 'package:utils'\n",
       "\\item 'package:datasets'\n",
       "\\item 'package:methods'\n",
       "\\item 'Autoloads'\n",
       "\\item 'package:base'\n",
       "\\end{enumerate*}\n"
      ],
      "text/markdown": [
       "1. '.GlobalEnv'\n",
       "2. 'jupyter:irkernel'\n",
       "3. 'package:stats'\n",
       "4. 'package:graphics'\n",
       "5. 'package:grDevices'\n",
       "6. 'package:utils'\n",
       "7. 'package:datasets'\n",
       "8. 'package:methods'\n",
       "9. 'Autoloads'\n",
       "10. 'package:base'\n",
       "\n",
       "\n"
      ],
      "text/plain": [
       " [1] \".GlobalEnv\"        \"jupyter:irkernel\"  \"package:stats\"    \n",
       " [4] \"package:graphics\"  \"package:grDevices\" \"package:utils\"    \n",
       " [7] \"package:datasets\"  \"package:methods\"   \"Autoloads\"        \n",
       "[10] \"package:base\"     "
      ]
     },
     "metadata": {},
     "output_type": "display_data"
    }
   ],
   "source": [
    "search()    #获取已加载包"
   ]
  },
  {
   "cell_type": "markdown",
   "metadata": {},
   "source": [
    "# 帮助调用"
   ]
  },
  {
   "cell_type": "code",
   "execution_count": 5,
   "metadata": {},
   "outputs": [
    {
     "data": {
      "text/html": [
       "\n",
       "<table width=\"100%\" summary=\"page for transform {base}\"><tr><td>transform {base}</td><td style=\"text-align: right;\">R Documentation</td></tr></table>\n",
       "\n",
       "<h2>Transform an Object, for Example a Data Frame</h2>\n",
       "\n",
       "<h3>Description</h3>\n",
       "\n",
       "<p><code>transform</code> is a generic function, which&mdash;at least\n",
       "currently&mdash;only does anything useful with\n",
       "data frames.  <code>transform.default</code> converts its first argument to\n",
       "a data frame if possible and calls <code>transform.data.frame</code>.\n",
       "</p>\n",
       "\n",
       "\n",
       "<h3>Usage</h3>\n",
       "\n",
       "<pre>\n",
       "transform(`_data`, ...)\n",
       "</pre>\n",
       "\n",
       "\n",
       "<h3>Arguments</h3>\n",
       "\n",
       "<table summary=\"R argblock\">\n",
       "<tr valign=\"top\"><td><code>_data</code></td>\n",
       "<td>\n",
       "<p>The object to be transformed</p>\n",
       "</td></tr>\n",
       "<tr valign=\"top\"><td><code>...</code></td>\n",
       "<td>\n",
       "<p>Further arguments of the form <code>tag=value</code></p>\n",
       "</td></tr>\n",
       "</table>\n",
       "\n",
       "\n",
       "<h3>Details</h3>\n",
       "\n",
       "<p>The <code>...</code> arguments to <code>transform.data.frame</code> are tagged\n",
       "vector expressions, which are evaluated in the data frame\n",
       "<code>_data</code>.  The tags are matched against <code>names(_data)</code>, and for\n",
       "those that match, the value replace the corresponding variable in\n",
       "<code>_data</code>, and the others are appended to <code>_data</code>.\n",
       "</p>\n",
       "\n",
       "\n",
       "<h3>Value</h3>\n",
       "\n",
       "<p>The modified value of <code>_data</code>.\n",
       "</p>\n",
       "\n",
       "\n",
       "<h3>Warning</h3>\n",
       "\n",
       "<p>This is a convenience function intended for use interactively.  For\n",
       "programming it is better to use the standard subsetting arithmetic functions,\n",
       "and in particular the non-standard evaluation of\n",
       "argument <code>transform</code> can have unanticipated consequences.\n",
       "</p>\n",
       "\n",
       "\n",
       "<h3>Note</h3>\n",
       "\n",
       "<p>If some of the values are not vectors of the appropriate length,\n",
       "you deserve whatever you get!\n",
       "</p>\n",
       "\n",
       "\n",
       "<h3>Author(s)</h3>\n",
       "\n",
       "<p>Peter Dalgaard</p>\n",
       "\n",
       "\n",
       "<h3>See Also</h3>\n",
       "\n",
       " <p><code>within</code> for a more flexible approach,\n",
       "<code>subset</code>,\n",
       "<code>list</code>,\n",
       "<code>data.frame</code>\n",
       "</p>\n",
       "\n",
       "\n",
       "<h3>Examples</h3>\n",
       "\n",
       "<pre>\n",
       "transform(airquality, Ozone = -Ozone)\n",
       "transform(airquality, new = -Ozone, Temp = (Temp-32)/1.8)\n",
       "\n",
       "attach(airquality)\n",
       "transform(Ozone, logOzone = log(Ozone)) # marginally interesting ...\n",
       "detach(airquality)\n",
       "</pre>\n",
       "\n",
       "<hr /><div style=\"text-align: center;\">[Package <em>base</em> version 3.5.1 ]</div>"
      ],
      "text/latex": [
       "\\inputencoding{utf8}\n",
       "\\HeaderA{transform}{Transform an Object, for Example a Data Frame}{transform}\n",
       "\\methaliasA{transform.data.frame}{transform}{transform.data.frame}\n",
       "\\methaliasA{transform.default}{transform}{transform.default}\n",
       "\\keyword{manip}{transform}\n",
       "%\n",
       "\\begin{Description}\\relax\n",
       "\\code{transform} is a generic function, which---at least\n",
       "currently---only does anything useful with\n",
       "data frames.  \\code{transform.default} converts its first argument to\n",
       "a data frame if possible and calls \\code{transform.data.frame}.\n",
       "\\end{Description}\n",
       "%\n",
       "\\begin{Usage}\n",
       "\\begin{verbatim}\n",
       "transform(`_data`, ...)\n",
       "\\end{verbatim}\n",
       "\\end{Usage}\n",
       "%\n",
       "\\begin{Arguments}\n",
       "\\begin{ldescription}\n",
       "\\item[\\code{\\_data}] The object to be transformed\n",
       "\\item[\\code{...}] Further arguments of the form \\code{tag=value}\n",
       "\\end{ldescription}\n",
       "\\end{Arguments}\n",
       "%\n",
       "\\begin{Details}\\relax\n",
       "The \\code{...} arguments to \\code{transform.data.frame} are tagged\n",
       "vector expressions, which are evaluated in the data frame\n",
       "\\code{\\_data}.  The tags are matched against \\code{names(\\_data)}, and for\n",
       "those that match, the value replace the corresponding variable in\n",
       "\\code{\\_data}, and the others are appended to \\code{\\_data}.\n",
       "\\end{Details}\n",
       "%\n",
       "\\begin{Value}\n",
       "The modified value of \\code{\\_data}.\n",
       "\\end{Value}\n",
       "%\n",
       "\\begin{Section}{Warning}\n",
       "This is a convenience function intended for use interactively.  For\n",
       "programming it is better to use the standard subsetting arithmetic functions,\n",
       "and in particular the non-standard evaluation of\n",
       "argument \\code{transform} can have unanticipated consequences.\n",
       "\n",
       "\\end{Section}\n",
       "%\n",
       "\\begin{Note}\\relax\n",
       "If some of the values are not vectors of the appropriate length,\n",
       "you deserve whatever you get!\n",
       "\\end{Note}\n",
       "%\n",
       "\\begin{Author}\\relax\n",
       "Peter Dalgaard\n",
       "\\end{Author}\n",
       "%\n",
       "\\begin{SeeAlso}\\relax\n",
       " \\code{\\LinkA{within}{within}} for a more flexible approach,\n",
       "\\code{\\LinkA{subset}{subset}},\n",
       "\\code{\\LinkA{list}{list}},\n",
       "\\code{\\LinkA{data.frame}{data.frame}}\n",
       "\\end{SeeAlso}\n",
       "%\n",
       "\\begin{Examples}\n",
       "\\begin{ExampleCode}\n",
       "transform(airquality, Ozone = -Ozone)\n",
       "transform(airquality, new = -Ozone, Temp = (Temp-32)/1.8)\n",
       "\n",
       "attach(airquality)\n",
       "transform(Ozone, logOzone = log(Ozone)) # marginally interesting ...\n",
       "detach(airquality)\n",
       "\\end{ExampleCode}\n",
       "\\end{Examples}"
      ],
      "text/plain": [
       "transform                 package:base                 R Documentation\n",
       "\n",
       "_\bT_\br_\ba_\bn_\bs_\bf_\bo_\br_\bm _\ba_\bn _\bO_\bb_\bj_\be_\bc_\bt, _\bf_\bo_\br _\bE_\bx_\ba_\bm_\bp_\bl_\be _\ba _\bD_\ba_\bt_\ba _\bF_\br_\ba_\bm_\be\n",
       "\n",
       "_\bD_\be_\bs_\bc_\br_\bi_\bp_\bt_\bi_\bo_\bn:\n",
       "\n",
       "     ‘transform’ is a generic function, which-at least currently-only\n",
       "     does anything useful with data frames.  ‘transform.default’\n",
       "     converts its first argument to a data frame if possible and calls\n",
       "     ‘transform.data.frame’.\n",
       "\n",
       "_\bU_\bs_\ba_\bg_\be:\n",
       "\n",
       "     transform(`_data`, ...)\n",
       "     \n",
       "_\bA_\br_\bg_\bu_\bm_\be_\bn_\bt_\bs:\n",
       "\n",
       "   _data: The object to be transformed\n",
       "\n",
       "     ...: Further arguments of the form ‘tag=value’\n",
       "\n",
       "_\bD_\be_\bt_\ba_\bi_\bl_\bs:\n",
       "\n",
       "     The ‘...’ arguments to ‘transform.data.frame’ are tagged vector\n",
       "     expressions, which are evaluated in the data frame ‘_data’.  The\n",
       "     tags are matched against ‘names(_data)’, and for those that match,\n",
       "     the value replace the corresponding variable in ‘_data’, and the\n",
       "     others are appended to ‘_data’.\n",
       "\n",
       "_\bV_\ba_\bl_\bu_\be:\n",
       "\n",
       "     The modified value of ‘_data’.\n",
       "\n",
       "_\bW_\ba_\br_\bn_\bi_\bn_\bg:\n",
       "\n",
       "     This is a convenience function intended for use interactively.\n",
       "     For programming it is better to use the standard subsetting\n",
       "     arithmetic functions, and in particular the non-standard\n",
       "     evaluation of argument ‘transform’ can have unanticipated\n",
       "     consequences.\n",
       "\n",
       "_\bN_\bo_\bt_\be:\n",
       "\n",
       "     If some of the values are not vectors of the appropriate length,\n",
       "     you deserve whatever you get!\n",
       "\n",
       "_\bA_\bu_\bt_\bh_\bo_\br(_\bs):\n",
       "\n",
       "     Peter Dalgaard\n",
       "\n",
       "_\bS_\be_\be _\bA_\bl_\bs_\bo:\n",
       "\n",
       "     ‘within’ for a more flexible approach, ‘subset’, ‘list’,\n",
       "     ‘data.frame’\n",
       "\n",
       "_\bE_\bx_\ba_\bm_\bp_\bl_\be_\bs:\n",
       "\n",
       "     transform(airquality, Ozone = -Ozone)\n",
       "     transform(airquality, new = -Ozone, Temp = (Temp-32)/1.8)\n",
       "     \n",
       "     attach(airquality)\n",
       "     transform(Ozone, logOzone = log(Ozone)) # marginally interesting ...\n",
       "     detach(airquality)\n",
       "     "
      ]
     },
     "metadata": {},
     "output_type": "display_data"
    }
   ],
   "source": [
    "help(transform)"
   ]
  },
  {
   "cell_type": "markdown",
   "metadata": {},
   "source": [
    "# 输出格式"
   ]
  },
  {
   "cell_type": "code",
   "execution_count": 1,
   "metadata": {},
   "outputs": [
    {
     "name": "stdout",
     "output_type": "stream",
     "text": [
      "[1] \"Hello, World!\"\n",
      "Hello, World!"
     ]
    }
   ],
   "source": [
    "my_string = \"Hello, World!\"\n",
    "print(my_string)\n",
    "cat(my_string)    #下一输出默认不换行"
   ]
  }
 ],
 "metadata": {
  "kernelspec": {
   "display_name": "R",
   "language": "R",
   "name": "ir"
  },
  "language_info": {
   "codemirror_mode": "r",
   "file_extension": ".r",
   "mimetype": "text/x-r-source",
   "name": "R",
   "pygments_lexer": "r",
   "version": "3.5.1"
  }
 },
 "nbformat": 4,
 "nbformat_minor": 2
}
