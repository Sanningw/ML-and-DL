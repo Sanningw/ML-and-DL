{
 "cells": [
  {
   "cell_type": "markdown",
   "metadata": {
    "toc-hr-collapsed": true
   },
   "source": [
    "# 变量"
   ]
  },
  {
   "cell_type": "markdown",
   "metadata": {
    "toc-hr-collapsed": false
   },
   "source": [
    "## 获取对象属性：class"
   ]
  },
  {
   "cell_type": "code",
   "execution_count": 50,
   "metadata": {},
   "outputs": [
    {
     "data": {
      "text/html": [
       "'character'"
      ],
      "text/latex": [
       "'character'"
      ],
      "text/markdown": [
       "'character'"
      ],
      "text/plain": [
       "[1] \"character\""
      ]
     },
     "metadata": {},
     "output_type": "display_data"
    }
   ],
   "source": [
    "class(class(2))"
   ]
  },
  {
   "cell_type": "code",
   "execution_count": 34,
   "metadata": {},
   "outputs": [
    {
     "data": {
      "text/html": [
       "'character'"
      ],
      "text/latex": [
       "'character'"
      ],
      "text/markdown": [
       "'character'"
      ],
      "text/plain": [
       "[1] \"character\""
      ]
     },
     "metadata": {},
     "output_type": "display_data"
    }
   ],
   "source": [
    "class('5')    #字符"
   ]
  },
  {
   "cell_type": "code",
   "execution_count": 27,
   "metadata": {},
   "outputs": [
    {
     "data": {
      "text/html": [
       "'logical'"
      ],
      "text/latex": [
       "'logical'"
      ],
      "text/markdown": [
       "'logical'"
      ],
      "text/plain": [
       "[1] \"logical\""
      ]
     },
     "metadata": {},
     "output_type": "display_data"
    },
    {
     "data": {
      "text/html": [
       "'logical'"
      ],
      "text/latex": [
       "'logical'"
      ],
      "text/markdown": [
       "'logical'"
      ],
      "text/plain": [
       "[1] \"logical\""
      ]
     },
     "metadata": {},
     "output_type": "display_data"
    }
   ],
   "source": [
    "v = TRUE; r = FALSE\n",
    "class(v)    #逻辑型\n",
    "class(r)"
   ]
  },
  {
   "cell_type": "code",
   "execution_count": 35,
   "metadata": {},
   "outputs": [
    {
     "data": {
      "text/html": [
       "'integer'"
      ],
      "text/latex": [
       "'integer'"
      ],
      "text/markdown": [
       "'integer'"
      ],
      "text/plain": [
       "[1] \"integer\""
      ]
     },
     "metadata": {},
     "output_type": "display_data"
    },
    {
     "data": {
      "text/html": [
       "'numeric'"
      ],
      "text/latex": [
       "'numeric'"
      ],
      "text/markdown": [
       "'numeric'"
      ],
      "text/plain": [
       "[1] \"numeric\""
      ]
     },
     "metadata": {},
     "output_type": "display_data"
    },
    {
     "data": {
      "text/html": [
       "'complex'"
      ],
      "text/latex": [
       "'complex'"
      ],
      "text/markdown": [
       "'complex'"
      ],
      "text/plain": [
       "[1] \"complex\""
      ]
     },
     "metadata": {},
     "output_type": "display_data"
    }
   ],
   "source": [
    "class(2L)    #整型,L为整数\n",
    "class(2.2L)    #数值型\n",
    "class(2 + 3i)        #复数"
   ]
  },
  {
   "cell_type": "code",
   "execution_count": 32,
   "metadata": {},
   "outputs": [
    {
     "data": {
      "text/plain": [
       "[1] 48 65 6c 6c 6f"
      ]
     },
     "metadata": {},
     "output_type": "display_data"
    },
    {
     "data": {
      "text/html": [
       "'raw'"
      ],
      "text/latex": [
       "'raw'"
      ],
      "text/markdown": [
       "'raw'"
      ],
      "text/plain": [
       "[1] \"raw\""
      ]
     },
     "metadata": {},
     "output_type": "display_data"
    }
   ],
   "source": [
    "charToRaw(\"Hello\")\n",
    "class(charToRaw(\"Hello\"))    #原型"
   ]
  },
  {
   "cell_type": "markdown",
   "metadata": {
    "toc-hr-collapsed": true
   },
   "source": [
    "## 变量名"
   ]
  },
  {
   "cell_type": "markdown",
   "metadata": {},
   "source": [
    "有效的变量名称由字母，数字和点或下划线字符组成。 变量名以字母或不以数字后跟的点开头"
   ]
  },
  {
   "cell_type": "markdown",
   "metadata": {},
   "source": [
    "<img src = \"pics/var_rule.jpg\">"
   ]
  },
  {
   "cell_type": "code",
   "execution_count": 2,
   "metadata": {},
   "outputs": [
    {
     "data": {
      "text/html": [
       "<ol class=list-inline>\n",
       "\t<li>'0 learn 1'</li>\n",
       "\t<li>'1 R 1'</li>\n",
       "\t<li>'2 learn 1'</li>\n",
       "\t<li>'3 R 1'</li>\n",
       "</ol>\n"
      ],
      "text/latex": [
       "\\begin{enumerate*}\n",
       "\\item '0 learn 1'\n",
       "\\item '1 R 1'\n",
       "\\item '2 learn 1'\n",
       "\\item '3 R 1'\n",
       "\\end{enumerate*}\n"
      ],
      "text/markdown": [
       "1. '0 learn 1'\n",
       "2. '1 R 1'\n",
       "3. '2 learn 1'\n",
       "4. '3 R 1'\n",
       "\n",
       "\n"
      ],
      "text/plain": [
       "[1] \"0 learn 1\" \"1 R 1\"     \"2 learn 1\" \"3 R 1\"    "
      ]
     },
     "metadata": {},
     "output_type": "display_data"
    },
    {
     "name": "stdout",
     "output_type": "stream",
     "text": [
      "0 1 2 3 , learn R , 1 1"
     ]
    }
   ],
   "source": [
    "var.1 = c(0,1,2,3)  \n",
    "var.2 = c(\"learn\",\"R\")   \n",
    "c(TRUE,1) -> var.3  \n",
    "paste(var.1, var.2, var.3)\n",
    "cat(var.1, ',',  var.2, ',', var.3)"
   ]
  },
  {
   "cell_type": "code",
   "execution_count": 3,
   "metadata": {},
   "outputs": [
    {
     "name": "stdout",
     "output_type": "stream",
     "text": [
      "The class of var_x is  character \n",
      "  Now the class of var_x is  numeric \n",
      "   Next the class of var_x becomes  integer \n"
     ]
    }
   ],
   "source": [
    "var_x <- \"Hello\"\n",
    "cat(\"The class of var_x is \",class(var_x),\"\\n\")\n",
    "var_x <- 34.5\n",
    "cat(\"  Now the class of var_x is \",class(var_x),\"\\n\")\n",
    "var_x <- 27L\n",
    "cat(\"   Next the class of var_x becomes \",class(var_x),\"\\n\")"
   ]
  },
  {
   "cell_type": "markdown",
   "metadata": {},
   "source": [
    "### 查找变量"
   ]
  },
  {
   "cell_type": "code",
   "execution_count": 4,
   "metadata": {},
   "outputs": [
    {
     "name": "stdout",
     "output_type": "stream",
     "text": [
      "[1] \"var_x\" \"var.1\" \"var.2\" \"var.3\"\n"
     ]
    },
    {
     "data": {
      "text/html": [
       "<ol class=list-inline>\n",
       "\t<li>'var_x'</li>\n",
       "\t<li>'var.1'</li>\n",
       "\t<li>'var.2'</li>\n",
       "\t<li>'var.3'</li>\n",
       "</ol>\n"
      ],
      "text/latex": [
       "\\begin{enumerate*}\n",
       "\\item 'var\\_x'\n",
       "\\item 'var.1'\n",
       "\\item 'var.2'\n",
       "\\item 'var.3'\n",
       "\\end{enumerate*}\n"
      ],
      "text/markdown": [
       "1. 'var_x'\n",
       "2. 'var.1'\n",
       "3. 'var.2'\n",
       "4. 'var.3'\n",
       "\n",
       "\n"
      ],
      "text/plain": [
       "[1] \"var_x\" \"var.1\" \"var.2\" \"var.3\""
      ]
     },
     "metadata": {},
     "output_type": "display_data"
    }
   ],
   "source": [
    "print(ls())\n",
    "ls(pattern = \"var\")  #匹配给定变量名"
   ]
  },
  {
   "cell_type": "markdown",
   "metadata": {},
   "source": [
    "以点(.)开头的变量被隐藏，它们可以使用ls()函数的“all.names = TRUE”参数列出。"
   ]
  },
  {
   "cell_type": "code",
   "execution_count": 6,
   "metadata": {},
   "outputs": [
    {
     "name": "stdout",
     "output_type": "stream",
     "text": [
      "[1] \".pbd_env\" \"var_x\"    \"var.1\"    \"var.2\"    \"var.3\"   \n"
     ]
    }
   ],
   "source": [
    "print(ls(all.names = TRUE))"
   ]
  },
  {
   "cell_type": "markdown",
   "metadata": {},
   "source": [
    "### 删除变量"
   ]
  },
  {
   "cell_type": "code",
   "execution_count": 7,
   "metadata": {},
   "outputs": [
    {
     "ename": "ERROR",
     "evalue": "Error in print(var.3): object 'var.3' not found\n",
     "execution_count": 7,
     "output_type": "error",
     "traceback": [
      "Error in print(var.3): object 'var.3' not found\nTraceback:\n",
      "1. print(var.3)"
     ]
    }
   ],
   "source": [
    "rm(var.3)\n",
    "print(var.3)"
   ]
  },
  {
   "cell_type": "code",
   "execution_count": 8,
   "metadata": {},
   "outputs": [
    {
     "name": "stdout",
     "output_type": "stream",
     "text": [
      "character(0)\n"
     ]
    }
   ],
   "source": [
    "rm(list = ls())    #删除所有变量\n",
    "print(ls())"
   ]
  },
  {
   "cell_type": "markdown",
   "metadata": {
    "toc-hr-collapsed": true
   },
   "source": [
    "# 数据结构"
   ]
  },
  {
   "cell_type": "markdown",
   "metadata": {},
   "source": [
    "## 列表：List"
   ]
  },
  {
   "cell_type": "markdown",
   "metadata": {},
   "source": [
    "其中包含许多不同类型的元素，如向量，函数甚至其中的另一个列表"
   ]
  },
  {
   "cell_type": "code",
   "execution_count": 77,
   "metadata": {},
   "outputs": [
    {
     "name": "stdout",
     "output_type": "stream",
     "text": [
      "直接展示lst："
     ]
    },
    {
     "data": {
      "text/html": [
       "<ol>\n",
       "\t<li><ol class=list-inline>\n",
       "\t<li>2</li>\n",
       "\t<li>5</li>\n",
       "\t<li>3</li>\n",
       "</ol>\n",
       "</li>\n",
       "\t<li>21.3</li>\n",
       "\t<li><pre class=language-r><code>.Primitive(\"sin\")</code></pre></li>\n",
       "</ol>\n"
      ],
      "text/latex": [
       "\\begin{enumerate}\n",
       "\\item \\begin{enumerate*}\n",
       "\\item 2\n",
       "\\item 5\n",
       "\\item 3\n",
       "\\end{enumerate*}\n",
       "\n",
       "\\item 21.3\n",
       "\\item \\begin{minted}{r}\n",
       ".Primitive(\"sin\")\n",
       "\\end{minted}\n",
       "\\end{enumerate}\n"
      ],
      "text/markdown": [
       "1. 1. 2\n",
       "2. 5\n",
       "3. 3\n",
       "\n",
       "\n",
       "\n",
       "2. 21.3\n",
       "3. ```r\n",
       ".Primitive(\"sin\")\n",
       "```\n",
       "\n",
       "\n"
      ],
      "text/plain": [
       "[[1]]\n",
       "[1] 2 5 3\n",
       "\n",
       "[[2]]\n",
       "[1] 21.3\n",
       "\n",
       "[[3]]\n",
       "function (x)  .Primitive(\"sin\")\n"
      ]
     },
     "metadata": {},
     "output_type": "display_data"
    },
    {
     "name": "stdout",
     "output_type": "stream",
     "text": [
      "\n",
      "==================\n",
      "print输出lst：\n",
      "\n",
      "[[1]]\n",
      "[1] 2 5 3\n",
      "\n",
      "[[2]]\n",
      "[1] 21.3\n",
      "\n",
      "[[3]]\n",
      "function (x)  .Primitive(\"sin\")\n",
      "\n",
      "==================\n",
      "lst类型： list\n",
      "==================\n",
      "元素类型："
     ]
    },
    {
     "data": {
      "text/html": [
       "'c(2, 5, 3) ：\\t list'"
      ],
      "text/latex": [
       "'c(2, 5, 3) ：\\textbackslash{}t list'"
      ],
      "text/markdown": [
       "'c(2, 5, 3) ：\\t list'"
      ],
      "text/plain": [
       "[1] \"c(2, 5, 3) ：\\t list\""
      ]
     },
     "metadata": {},
     "output_type": "display_data"
    },
    {
     "data": {
      "text/html": [
       "'21.3 ：\\t list'"
      ],
      "text/latex": [
       "'21.3 ：\\textbackslash{}t list'"
      ],
      "text/markdown": [
       "'21.3 ：\\t list'"
      ],
      "text/plain": [
       "[1] \"21.3 ：\\t list\""
      ]
     },
     "metadata": {},
     "output_type": "display_data"
    },
    {
     "data": {
      "text/html": [
       "'.Primitive(\"sin\") ：\\t list'"
      ],
      "text/latex": [
       "'.Primitive(\"sin\") ：\\textbackslash{}t list'"
      ],
      "text/markdown": [
       "'.Primitive(\"sin\") ：\\t list'"
      ],
      "text/plain": [
       "[1] \".Primitive(\\\"sin\\\") ：\\t list\""
      ]
     },
     "metadata": {},
     "output_type": "display_data"
    }
   ],
   "source": [
    "lst = list(c(2,5,3),21.3,sin)\n",
    "cat(\"直接展示lst：\")\n",
    "lst\n",
    "cat('\\n==================\\n')\n",
    "cat(\"print输出lst：\\n\\n\")\n",
    "print(lst)\n",
    "cat('==================\\n')\n",
    "cat('lst类型：', class(lst))\n",
    "cat('\\n==================\\n元素类型：')\n",
    "paste(lst[1], \"：\\t\", class(lst[1]))\n",
    "paste(lst[2], \"：\\t\", class(lst[2]))\n",
    "paste(lst[3], \"：\\t\", class(lst[3]))    #都是list"
   ]
  },
  {
   "cell_type": "markdown",
   "metadata": {},
   "source": [
    "## 向量：vector"
   ]
  },
  {
   "cell_type": "code",
   "execution_count": 110,
   "metadata": {},
   "outputs": [
    {
     "data": {
      "text/html": [
       "<ol class=list-inline>\n",
       "\t<li>1</li>\n",
       "\t<li>2</li>\n",
       "\t<li>3</li>\n",
       "</ol>\n"
      ],
      "text/latex": [
       "\\begin{enumerate*}\n",
       "\\item 1\n",
       "\\item 2\n",
       "\\item 3\n",
       "\\end{enumerate*}\n"
      ],
      "text/markdown": [
       "1. 1\n",
       "2. 2\n",
       "3. 3\n",
       "\n",
       "\n"
      ],
      "text/plain": [
       "[1] 1 2 3"
      ]
     },
     "metadata": {},
     "output_type": "display_data"
    },
    {
     "name": "stdout",
     "output_type": "stream",
     "text": [
      "[1] 1 2 3\n"
     ]
    }
   ],
   "source": [
    "c(1, 2, 3)\n",
    "print(c(1, 2, 3))"
   ]
  },
  {
   "cell_type": "code",
   "execution_count": 36,
   "metadata": {},
   "outputs": [
    {
     "data": {
      "text/html": [
       "'character'"
      ],
      "text/latex": [
       "'character'"
      ],
      "text/markdown": [
       "'character'"
      ],
      "text/plain": [
       "[1] \"character\""
      ]
     },
     "metadata": {},
     "output_type": "display_data"
    },
    {
     "data": {
      "text/html": [
       "'numeric'"
      ],
      "text/latex": [
       "'numeric'"
      ],
      "text/markdown": [
       "'numeric'"
      ],
      "text/plain": [
       "[1] \"numeric\""
      ]
     },
     "metadata": {},
     "output_type": "display_data"
    }
   ],
   "source": [
    "class(c('1', 2, 3))\n",
    "class(c(1, 2, 3))"
   ]
  },
  {
   "cell_type": "markdown",
   "metadata": {},
   "source": [
    "## 矩阵:Matrix"
   ]
  },
  {
   "cell_type": "markdown",
   "metadata": {},
   "source": [
    "矩阵是二维矩形数据集。 它可以使用矩阵函数的向量输入创建"
   ]
  },
  {
   "cell_type": "code",
   "execution_count": 107,
   "metadata": {},
   "outputs": [
    {
     "name": "stdout",
     "output_type": "stream",
     "text": [
      "     [,1] [,2] [,3]\n",
      "[1,] \"a\"  \"a\"  \"b\" \n",
      "[2,] \"c\"  \"b\"  \"a\" \n"
     ]
    },
    {
     "data": {
      "text/html": [
       "<table>\n",
       "<tbody>\n",
       "\t<tr><td>a</td><td>a</td><td>b</td></tr>\n",
       "\t<tr><td>c</td><td>b</td><td>a</td></tr>\n",
       "</tbody>\n",
       "</table>\n"
      ],
      "text/latex": [
       "\\begin{tabular}{lll}\n",
       "\t a & a & b\\\\\n",
       "\t c & b & a\\\\\n",
       "\\end{tabular}\n"
      ],
      "text/markdown": [
       "\n",
       "| a | a | b | \n",
       "| c | b | a | \n",
       "\n",
       "\n"
      ],
      "text/plain": [
       "     [,1] [,2] [,3]\n",
       "[1,] a    a    b   \n",
       "[2,] c    b    a   "
      ]
     },
     "metadata": {},
     "output_type": "display_data"
    },
    {
     "data": {
      "text/html": [
       "'matrix'"
      ],
      "text/latex": [
       "'matrix'"
      ],
      "text/markdown": [
       "'matrix'"
      ],
      "text/plain": [
       "[1] \"matrix\""
      ]
     },
     "metadata": {},
     "output_type": "display_data"
    }
   ],
   "source": [
    "M = matrix( c('a','a','b','c','b','a'), nrow = 2, ncol = 3, byrow = TRUE)\n",
    "print(M)\n",
    "M\n",
    "class(M)"
   ]
  },
  {
   "cell_type": "markdown",
   "metadata": {},
   "source": [
    "## 数组：Array"
   ]
  },
  {
   "cell_type": "markdown",
   "metadata": {},
   "source": [
    "数组函数使用一个dim属性创建所需的维数。 在下面的例子中，我们创建了一个包含两个元素的数组，每个元素为3x3个矩阵"
   ]
  },
  {
   "cell_type": "code",
   "execution_count": 106,
   "metadata": {},
   "outputs": [
    {
     "name": "stdout",
     "output_type": "stream",
     "text": [
      ", , 1\n",
      "\n",
      "     [,1]     [,2]     [,3]    \n",
      "[1,] \"green\"  \"yellow\" \"green\" \n",
      "[2,] \"yellow\" \"green\"  \"yellow\"\n",
      "[3,] \"green\"  \"yellow\" \"green\" \n",
      "\n",
      ", , 2\n",
      "\n",
      "     [,1]     [,2]     [,3]    \n",
      "[1,] \"yellow\" \"green\"  \"yellow\"\n",
      "[2,] \"green\"  \"yellow\" \"green\" \n",
      "[3,] \"yellow\" \"green\"  \"yellow\"\n",
      "\n"
     ]
    },
    {
     "data": {
      "text/html": [
       "<ol class=list-inline>\n",
       "\t<li>'green'</li>\n",
       "\t<li>'yellow'</li>\n",
       "\t<li>'green'</li>\n",
       "\t<li>'yellow'</li>\n",
       "\t<li>'green'</li>\n",
       "\t<li>'yellow'</li>\n",
       "\t<li>'green'</li>\n",
       "\t<li>'yellow'</li>\n",
       "\t<li>'green'</li>\n",
       "\t<li>'yellow'</li>\n",
       "\t<li>'green'</li>\n",
       "\t<li>'yellow'</li>\n",
       "\t<li>'green'</li>\n",
       "\t<li>'yellow'</li>\n",
       "\t<li>'green'</li>\n",
       "\t<li>'yellow'</li>\n",
       "\t<li>'green'</li>\n",
       "\t<li>'yellow'</li>\n",
       "</ol>\n"
      ],
      "text/latex": [
       "\\begin{enumerate*}\n",
       "\\item 'green'\n",
       "\\item 'yellow'\n",
       "\\item 'green'\n",
       "\\item 'yellow'\n",
       "\\item 'green'\n",
       "\\item 'yellow'\n",
       "\\item 'green'\n",
       "\\item 'yellow'\n",
       "\\item 'green'\n",
       "\\item 'yellow'\n",
       "\\item 'green'\n",
       "\\item 'yellow'\n",
       "\\item 'green'\n",
       "\\item 'yellow'\n",
       "\\item 'green'\n",
       "\\item 'yellow'\n",
       "\\item 'green'\n",
       "\\item 'yellow'\n",
       "\\end{enumerate*}\n"
      ],
      "text/markdown": [
       "1. 'green'\n",
       "2. 'yellow'\n",
       "3. 'green'\n",
       "4. 'yellow'\n",
       "5. 'green'\n",
       "6. 'yellow'\n",
       "7. 'green'\n",
       "8. 'yellow'\n",
       "9. 'green'\n",
       "10. 'yellow'\n",
       "11. 'green'\n",
       "12. 'yellow'\n",
       "13. 'green'\n",
       "14. 'yellow'\n",
       "15. 'green'\n",
       "16. 'yellow'\n",
       "17. 'green'\n",
       "18. 'yellow'\n",
       "\n",
       "\n"
      ],
      "text/plain": [
       ", , 1\n",
       "\n",
       "     [,1]     [,2]     [,3]    \n",
       "[1,] \"green\"  \"yellow\" \"green\" \n",
       "[2,] \"yellow\" \"green\"  \"yellow\"\n",
       "[3,] \"green\"  \"yellow\" \"green\" \n",
       "\n",
       ", , 2\n",
       "\n",
       "     [,1]     [,2]     [,3]    \n",
       "[1,] \"yellow\" \"green\"  \"yellow\"\n",
       "[2,] \"green\"  \"yellow\" \"green\" \n",
       "[3,] \"yellow\" \"green\"  \"yellow\"\n"
      ]
     },
     "metadata": {},
     "output_type": "display_data"
    },
    {
     "data": {
      "text/html": [
       "'array'"
      ],
      "text/latex": [
       "'array'"
      ],
      "text/markdown": [
       "'array'"
      ],
      "text/plain": [
       "[1] \"array\""
      ]
     },
     "metadata": {},
     "output_type": "display_data"
    }
   ],
   "source": [
    "a = array(c('green', 'yellow'), dim = c(3, 3, 2))\n",
    "print(a)\n",
    "a\n",
    "class(a)"
   ]
  },
  {
   "cell_type": "markdown",
   "metadata": {},
   "source": [
    "## 因子：Factors"
   ]
  },
  {
   "cell_type": "markdown",
   "metadata": {},
   "source": [
    "因子是使用向量创建的r对象。 它将向量与向量中元素的不同值一起存储为标签。 标签总是字符，不管它在输入向量中是数字还是字符或布尔等。 它们在统计建模中非常有用。\n",
    "使用factor()函数创建因子。nlevels函数给出级别计数"
   ]
  },
  {
   "cell_type": "code",
   "execution_count": 105,
   "metadata": {},
   "outputs": [
    {
     "data": {
      "text/html": [
       "<ol class=list-inline>\n",
       "\t<li>green</li>\n",
       "\t<li>green</li>\n",
       "\t<li>yellow</li>\n",
       "\t<li>red</li>\n",
       "\t<li>red</li>\n",
       "\t<li>red</li>\n",
       "\t<li>green</li>\n",
       "</ol>\n",
       "\n",
       "<details>\n",
       "\t<summary style=display:list-item;cursor:pointer>\n",
       "\t\t<strong>Levels</strong>:\n",
       "\t</summary>\n",
       "\t<ol class=list-inline>\n",
       "\t\t<li>'green'</li>\n",
       "\t\t<li>'red'</li>\n",
       "\t\t<li>'yellow'</li>\n",
       "\t</ol>\n",
       "</details>"
      ],
      "text/latex": [
       "\\begin{enumerate*}\n",
       "\\item green\n",
       "\\item green\n",
       "\\item yellow\n",
       "\\item red\n",
       "\\item red\n",
       "\\item red\n",
       "\\item green\n",
       "\\end{enumerate*}\n",
       "\n",
       "\\emph{Levels}: \\begin{enumerate*}\n",
       "\\item 'green'\n",
       "\\item 'red'\n",
       "\\item 'yellow'\n",
       "\\end{enumerate*}\n"
      ],
      "text/markdown": [
       "1. green\n",
       "2. green\n",
       "3. yellow\n",
       "4. red\n",
       "5. red\n",
       "6. red\n",
       "7. green\n",
       "\n",
       "\n",
       "\n",
       "**Levels**: 1. 'green'\n",
       "2. 'red'\n",
       "3. 'yellow'\n",
       "\n",
       "\n"
      ],
      "text/plain": [
       "[1] green  green  yellow red    red    red    green \n",
       "Levels: green red yellow"
      ]
     },
     "metadata": {},
     "output_type": "display_data"
    },
    {
     "name": "stdout",
     "output_type": "stream",
     "text": [
      "===================\n",
      "[1] green  green  yellow red    red    red    green \n",
      "Levels: green red yellow\n",
      "===================\n"
     ]
    },
    {
     "data": {
      "text/html": [
       "3"
      ],
      "text/latex": [
       "3"
      ],
      "text/markdown": [
       "3"
      ],
      "text/plain": [
       "[1] 3"
      ]
     },
     "metadata": {},
     "output_type": "display_data"
    },
    {
     "name": "stdout",
     "output_type": "stream",
     "text": [
      "[1] 3\n"
     ]
    },
    {
     "data": {
      "text/html": [
       "'factor'"
      ],
      "text/latex": [
       "'factor'"
      ],
      "text/markdown": [
       "'factor'"
      ],
      "text/plain": [
       "[1] \"factor\""
      ]
     },
     "metadata": {},
     "output_type": "display_data"
    }
   ],
   "source": [
    "colors = c('green','green','yellow','red','red','red','green')\n",
    "factors <- factor(colors)\n",
    "factors\n",
    "cat(\"===================\\n\")\n",
    "print(factors)\n",
    "cat(\"===================\\n\")\n",
    "nlevels(factors)\n",
    "print(nlevels(factors))\n",
    "class(factors)"
   ]
  },
  {
   "cell_type": "markdown",
   "metadata": {
    "toc-hr-collapsed": true
   },
   "source": [
    "## 数据帧：Data Frames"
   ]
  },
  {
   "cell_type": "markdown",
   "metadata": {},
   "source": [
    "表格数据对象。 与数据帧中的矩阵不同，每列可以包含不同的数据模式。 第一列可以是数字，而第二列可以是字符，第三列可以是逻辑的。 它是等长度的向量的列表"
   ]
  },
  {
   "cell_type": "code",
   "execution_count": 104,
   "metadata": {},
   "outputs": [
    {
     "name": "stdout",
     "output_type": "stream",
     "text": [
      "  gender height weight Age\n",
      "1   Male  152.0     81  42\n",
      "2   Male  171.5     93  38\n",
      "3 Female  165.0     78  26\n"
     ]
    },
    {
     "data": {
      "text/html": [
       "<table>\n",
       "<thead><tr><th scope=col>gender</th><th scope=col>height</th><th scope=col>weight</th><th scope=col>Age</th></tr></thead>\n",
       "<tbody>\n",
       "\t<tr><td>Male  </td><td>152.0 </td><td>81    </td><td>42    </td></tr>\n",
       "\t<tr><td>Male  </td><td>171.5 </td><td>93    </td><td>38    </td></tr>\n",
       "\t<tr><td>Female</td><td>165.0 </td><td>78    </td><td>26    </td></tr>\n",
       "</tbody>\n",
       "</table>\n"
      ],
      "text/latex": [
       "\\begin{tabular}{r|llll}\n",
       " gender & height & weight & Age\\\\\n",
       "\\hline\n",
       "\t Male   & 152.0  & 81     & 42    \\\\\n",
       "\t Male   & 171.5  & 93     & 38    \\\\\n",
       "\t Female & 165.0  & 78     & 26    \\\\\n",
       "\\end{tabular}\n"
      ],
      "text/markdown": [
       "\n",
       "gender | height | weight | Age | \n",
       "|---|---|---|\n",
       "| Male   | 152.0  | 81     | 42     | \n",
       "| Male   | 171.5  | 93     | 38     | \n",
       "| Female | 165.0  | 78     | 26     | \n",
       "\n",
       "\n"
      ],
      "text/plain": [
       "  gender height weight Age\n",
       "1 Male   152.0  81     42 \n",
       "2 Male   171.5  93     38 \n",
       "3 Female 165.0  78     26 "
      ]
     },
     "metadata": {},
     "output_type": "display_data"
    },
    {
     "data": {
      "text/html": [
       "'data.frame'"
      ],
      "text/latex": [
       "'data.frame'"
      ],
      "text/markdown": [
       "'data.frame'"
      ],
      "text/plain": [
       "[1] \"data.frame\""
      ]
     },
     "metadata": {},
     "output_type": "display_data"
    }
   ],
   "source": [
    "BMI = data.frame(\n",
    "   gender = c(\"Male\", \"Male\",\"Female\"), \n",
    "   height = c(152, 171.5, 165), \n",
    "   weight = c(81,93, 78),\n",
    "   Age = c(42,38,26)\n",
    ")\n",
    "print(BMI)\n",
    "BMI\n",
    "class(BMI)"
   ]
  },
  {
   "cell_type": "markdown",
   "metadata": {},
   "source": [
    "# 运算符"
   ]
  },
  {
   "cell_type": "code",
   "execution_count": 16,
   "metadata": {},
   "outputs": [
    {
     "name": "stderr",
     "output_type": "stream",
     "text": [
      "Warning message in c(2, 5.5, 6) + c(2, 3):\n",
      "“longer object length is not a multiple of shorter object length”"
     ]
    },
    {
     "name": "stdout",
     "output_type": "stream",
     "text": [
      "[1] 4.0 8.5 8.0\n"
     ]
    },
    {
     "name": "stderr",
     "output_type": "stream",
     "text": [
      "Warning message in c(2, 5.5, 6) - c(2, 3):\n",
      "“longer object length is not a multiple of shorter object length”"
     ]
    },
    {
     "name": "stdout",
     "output_type": "stream",
     "text": [
      "[1] 0.0 2.5 4.0\n"
     ]
    }
   ],
   "source": [
    "print(c(2, 5.5, 6) + c(2, 3))    #默认自动往后扩充\n",
    "print(c(2, 5.5, 6) - c(2, 3))"
   ]
  },
  {
   "cell_type": "code",
   "execution_count": 17,
   "metadata": {},
   "outputs": [
    {
     "name": "stdout",
     "output_type": "stream",
     "text": [
      "[1]  4.0 16.5  6.0\n"
     ]
    }
   ],
   "source": [
    "print(c(2, 5.5, 6) * c(2, 3, 1))"
   ]
  },
  {
   "cell_type": "code",
   "execution_count": 18,
   "metadata": {},
   "outputs": [
    {
     "name": "stdout",
     "output_type": "stream",
     "text": [
      "[1] 1.000000 1.833333 1.500000\n"
     ]
    }
   ],
   "source": [
    "print(c(2, 5.5, 6) / c(2, 3, 4))"
   ]
  },
  {
   "cell_type": "code",
   "execution_count": 19,
   "metadata": {},
   "outputs": [
    {
     "name": "stdout",
     "output_type": "stream",
     "text": [
      "[1] 0.0 2.5 2.0\n"
     ]
    }
   ],
   "source": [
    "print(c(2, 5.5, 6) %% c(2, 3, 4))    #求余"
   ]
  },
  {
   "cell_type": "code",
   "execution_count": 20,
   "metadata": {},
   "outputs": [
    {
     "name": "stdout",
     "output_type": "stream",
     "text": [
      "[1] 1 1 1\n"
     ]
    }
   ],
   "source": [
    "print(c(2, 5.5, 6) %/% c(2, 3, 4))    #求商数"
   ]
  },
  {
   "cell_type": "code",
   "execution_count": 21,
   "metadata": {},
   "outputs": [
    {
     "name": "stdout",
     "output_type": "stream",
     "text": [
      "[1]   4.000 166.375   6.000\n"
     ]
    }
   ],
   "source": [
    "print(c(2, 5.5, 6) ^ c(2, 3, 1))"
   ]
  },
  {
   "cell_type": "code",
   "execution_count": 24,
   "metadata": {},
   "outputs": [
    {
     "name": "stdout",
     "output_type": "stream",
     "text": [
      "[1] FALSE  TRUE  TRUE\n"
     ]
    },
    {
     "name": "stderr",
     "output_type": "stream",
     "text": [
      "Warning message in c(2, 5.5) < c(2, 3, 6):\n",
      "“longer object length is not a multiple of shorter object length”"
     ]
    },
    {
     "name": "stdout",
     "output_type": "stream",
     "text": [
      "[1] FALSE FALSE  TRUE\n"
     ]
    }
   ],
   "source": [
    "print(c(2, 5.5, 6) > c(2, 3, 1))\n",
    "print(c(2, 5.5) < c(2, 3, 6))"
   ]
  },
  {
   "cell_type": "markdown",
   "metadata": {},
   "source": [
    "## 逻辑运算符"
   ]
  },
  {
   "cell_type": "code",
   "execution_count": 26,
   "metadata": {},
   "outputs": [
    {
     "name": "stdout",
     "output_type": "stream",
     "text": [
      "[1]  TRUE  TRUE FALSE  TRUE\n",
      "[1] TRUE TRUE TRUE TRUE\n",
      "[1] FALSE FALSE  TRUE FALSE\n"
     ]
    }
   ],
   "source": [
    "print(c(3,1,TRUE,2+3i) & c(4,1,FALSE,2+3i))\n",
    "print(c(3,1,TRUE,2+3i) | c(4,1,FALSE,2+3i))\n",
    "print(!c(3,1,FALSE,2+3i))"
   ]
  },
  {
   "cell_type": "markdown",
   "metadata": {},
   "source": [
    "### 标量运算"
   ]
  },
  {
   "cell_type": "code",
   "execution_count": 28,
   "metadata": {},
   "outputs": [
    {
     "data": {
      "text/html": [
       "TRUE"
      ],
      "text/latex": [
       "TRUE"
      ],
      "text/markdown": [
       "TRUE"
      ],
      "text/plain": [
       "[1] TRUE"
      ]
     },
     "metadata": {},
     "output_type": "display_data"
    },
    {
     "data": {
      "text/html": [
       "FALSE"
      ],
      "text/latex": [
       "FALSE"
      ],
      "text/markdown": [
       "FALSE"
      ],
      "text/plain": [
       "[1] FALSE"
      ]
     },
     "metadata": {},
     "output_type": "display_data"
    }
   ],
   "source": [
    "c(3,1,TRUE,2+3i) && c(4,1,FALSE,2+3i)    #只取第一个元素\n",
    "c(0,1,TRUE,2+3i) || c(0,1,FALSE,2+3i)"
   ]
  },
  {
   "cell_type": "markdown",
   "metadata": {},
   "source": [
    "### 生成序列"
   ]
  },
  {
   "cell_type": "code",
   "execution_count": 34,
   "metadata": {},
   "outputs": [
    {
     "name": "stdout",
     "output_type": "stream",
     "text": [
      "[1] 2 3 4 5 6 7 8\n"
     ]
    },
    {
     "data": {
      "text/html": [
       "'integer integer'"
      ],
      "text/latex": [
       "'integer integer'"
      ],
      "text/markdown": [
       "'integer integer'"
      ],
      "text/plain": [
       "[1] \"integer integer\""
      ]
     },
     "metadata": {},
     "output_type": "display_data"
    },
    {
     "name": "stdout",
     "output_type": "stream",
     "text": [
      "[1] TRUE TRUE TRUE TRUE TRUE TRUE TRUE\n"
     ]
    }
   ],
   "source": [
    "v = 2 : 8\n",
    "print(v)\n",
    "paste(class(v), class(c(2 : 8)))\n",
    "print(v == c(2:8))"
   ]
  },
  {
   "cell_type": "code",
   "execution_count": 36,
   "metadata": {},
   "outputs": [
    {
     "name": "stdout",
     "output_type": "stream",
     "text": [
      "[1] TRUE\n"
     ]
    }
   ],
   "source": [
    "print(2 %in% c(1 : 9))"
   ]
  },
  {
   "cell_type": "code",
   "execution_count": null,
   "metadata": {},
   "outputs": [],
   "source": []
  }
 ],
 "metadata": {
  "kernelspec": {
   "display_name": "R",
   "language": "R",
   "name": "ir"
  },
  "language_info": {
   "codemirror_mode": "r",
   "file_extension": ".r",
   "mimetype": "text/x-r-source",
   "name": "R",
   "pygments_lexer": "r",
   "version": "3.5.1"
  }
 },
 "nbformat": 4,
 "nbformat_minor": 2
}
