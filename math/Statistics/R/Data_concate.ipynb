{
 "cells": [
  {
   "cell_type": "markdown",
   "metadata": {
    "toc-hr-collapsed": false
   },
   "source": [
    "# 数据重塑"
   ]
  },
  {
   "cell_type": "markdown",
   "metadata": {},
   "source": [
    "## 于数据帧中加入列和行"
   ]
  },
  {
   "cell_type": "markdown",
   "metadata": {},
   "source": [
    "我们可以使用cbind()函数连接多个向量来创建数据帧"
   ]
  },
  {
   "cell_type": "code",
   "execution_count": 3,
   "metadata": {},
   "outputs": [
    {
     "data": {
      "text/html": [
       "'matrix'"
      ],
      "text/latex": [
       "'matrix'"
      ],
      "text/markdown": [
       "'matrix'"
      ],
      "text/plain": [
       "[1] \"matrix\""
      ]
     },
     "metadata": {},
     "output_type": "display_data"
    },
    {
     "data": {
      "text/html": [
       "<table>\n",
       "<thead><tr><th scope=col>city</th><th scope=col>state</th><th scope=col>zipcode</th></tr></thead>\n",
       "<tbody>\n",
       "\t<tr><td>Tampa   </td><td>FL      </td><td>33602   </td></tr>\n",
       "\t<tr><td>Seattle </td><td>WA      </td><td>98104   </td></tr>\n",
       "\t<tr><td>Hartford</td><td>CT      </td><td>6161    </td></tr>\n",
       "\t<tr><td>Denver  </td><td>CO      </td><td>80294   </td></tr>\n",
       "</tbody>\n",
       "</table>\n"
      ],
      "text/latex": [
       "\\begin{tabular}{lll}\n",
       " city & state & zipcode\\\\\n",
       "\\hline\n",
       "\t Tampa    & FL       & 33602   \\\\\n",
       "\t Seattle  & WA       & 98104   \\\\\n",
       "\t Hartford & CT       & 6161    \\\\\n",
       "\t Denver   & CO       & 80294   \\\\\n",
       "\\end{tabular}\n"
      ],
      "text/markdown": [
       "\n",
       "city | state | zipcode | \n",
       "|---|---|---|---|\n",
       "| Tampa    | FL       | 33602    | \n",
       "| Seattle  | WA       | 98104    | \n",
       "| Hartford | CT       | 6161     | \n",
       "| Denver   | CO       | 80294    | \n",
       "\n",
       "\n"
      ],
      "text/plain": [
       "     city     state zipcode\n",
       "[1,] Tampa    FL    33602  \n",
       "[2,] Seattle  WA    98104  \n",
       "[3,] Hartford CT    6161   \n",
       "[4,] Denver   CO    80294  "
      ]
     },
     "metadata": {},
     "output_type": "display_data"
    }
   ],
   "source": [
    "city = c(\"Tampa\",\"Seattle\",\"Hartford\",\"Denver\")\n",
    "state = c(\"FL\",\"WA\",\"CT\",\"CO\")\n",
    "zipcode = c(33602,98104,06161,80294)\n",
    "\n",
    "addresses = cbind(city, state, zipcode)   #等同于concate\n",
    "class(addresses)\n",
    "addresses"
   ]
  },
  {
   "cell_type": "code",
   "execution_count": 7,
   "metadata": {},
   "outputs": [
    {
     "data": {
      "text/html": [
       "<table>\n",
       "<thead><tr><th scope=col>city</th><th scope=col>state</th><th scope=col>zipcode</th></tr></thead>\n",
       "<tbody>\n",
       "\t<tr><td>Lowry    </td><td>CO       </td><td>80230    </td></tr>\n",
       "\t<tr><td>Charlotte</td><td>FL       </td><td>33949    </td></tr>\n",
       "</tbody>\n",
       "</table>\n"
      ],
      "text/latex": [
       "\\begin{tabular}{r|lll}\n",
       " city & state & zipcode\\\\\n",
       "\\hline\n",
       "\t Lowry     & CO        & 80230    \\\\\n",
       "\t Charlotte & FL        & 33949    \\\\\n",
       "\\end{tabular}\n"
      ],
      "text/markdown": [
       "\n",
       "city | state | zipcode | \n",
       "|---|---|\n",
       "| Lowry     | CO        | 80230     | \n",
       "| Charlotte | FL        | 33949     | \n",
       "\n",
       "\n"
      ],
      "text/plain": [
       "  city      state zipcode\n",
       "1 Lowry     CO    80230  \n",
       "2 Charlotte FL    33949  "
      ]
     },
     "metadata": {},
     "output_type": "display_data"
    }
   ],
   "source": [
    "new.address = data.frame(\n",
    "   city = c(\"Lowry\",\"Charlotte\"),\n",
    "   state = c(\"CO\",\"FL\"),\n",
    "   zipcode = c(\"80230\",\"33949\"),\n",
    "   stringsAsFactors = FALSE\n",
    ")\n",
    "new.address"
   ]
  },
  {
   "cell_type": "markdown",
   "metadata": {},
   "source": [
    "使用rbind()函数合并两个数据帧"
   ]
  },
  {
   "cell_type": "code",
   "execution_count": 8,
   "metadata": {},
   "outputs": [
    {
     "data": {
      "text/html": [
       "<table>\n",
       "<thead><tr><th scope=col>city</th><th scope=col>state</th><th scope=col>zipcode</th></tr></thead>\n",
       "<tbody>\n",
       "\t<tr><td>Tampa    </td><td>FL       </td><td>33602    </td></tr>\n",
       "\t<tr><td>Seattle  </td><td>WA       </td><td>98104    </td></tr>\n",
       "\t<tr><td>Hartford </td><td>CT       </td><td>6161     </td></tr>\n",
       "\t<tr><td>Denver   </td><td>CO       </td><td>80294    </td></tr>\n",
       "\t<tr><td>Lowry    </td><td>CO       </td><td>80230    </td></tr>\n",
       "\t<tr><td>Charlotte</td><td>FL       </td><td>33949    </td></tr>\n",
       "</tbody>\n",
       "</table>\n"
      ],
      "text/latex": [
       "\\begin{tabular}{r|lll}\n",
       " city & state & zipcode\\\\\n",
       "\\hline\n",
       "\t Tampa     & FL        & 33602    \\\\\n",
       "\t Seattle   & WA        & 98104    \\\\\n",
       "\t Hartford  & CT        & 6161     \\\\\n",
       "\t Denver    & CO        & 80294    \\\\\n",
       "\t Lowry     & CO        & 80230    \\\\\n",
       "\t Charlotte & FL        & 33949    \\\\\n",
       "\\end{tabular}\n"
      ],
      "text/markdown": [
       "\n",
       "city | state | zipcode | \n",
       "|---|---|---|---|---|---|\n",
       "| Tampa     | FL        | 33602     | \n",
       "| Seattle   | WA        | 98104     | \n",
       "| Hartford  | CT        | 6161      | \n",
       "| Denver    | CO        | 80294     | \n",
       "| Lowry     | CO        | 80230     | \n",
       "| Charlotte | FL        | 33949     | \n",
       "\n",
       "\n"
      ],
      "text/plain": [
       "  city      state zipcode\n",
       "1 Tampa     FL    33602  \n",
       "2 Seattle   WA    98104  \n",
       "3 Hartford  CT    6161   \n",
       "4 Denver    CO    80294  \n",
       "5 Lowry     CO    80230  \n",
       "6 Charlotte FL    33949  "
      ]
     },
     "metadata": {},
     "output_type": "display_data"
    }
   ],
   "source": [
    "all.addresses = rbind(addresses,new.address)\n",
    "all.addresses"
   ]
  },
  {
   "cell_type": "markdown",
   "metadata": {
    "toc-hr-collapsed": true
   },
   "source": [
    "## 合并数据帧"
   ]
  },
  {
   "cell_type": "markdown",
   "metadata": {},
   "source": [
    "有关Pima Indian Women的糖尿病的数据集"
   ]
  },
  {
   "cell_type": "code",
   "execution_count": 31,
   "metadata": {},
   "outputs": [
    {
     "data": {
      "text/html": [
       "'Diabetes in Pima Indian Women'"
      ],
      "text/latex": [
       "'Diabetes in Pima Indian Women'"
      ],
      "text/markdown": [
       "'Diabetes in Pima Indian Women'"
      ],
      "text/plain": [
       "[1] \"Diabetes in Pima Indian Women\""
      ]
     },
     "metadata": {},
     "output_type": "display_data"
    },
    {
     "data": {
      "text/html": [
       "'data.frame'"
      ],
      "text/latex": [
       "'data.frame'"
      ],
      "text/markdown": [
       "'data.frame'"
      ],
      "text/plain": [
       "[1] \"data.frame\""
      ]
     },
     "metadata": {},
     "output_type": "display_data"
    },
    {
     "data": {
      "text/html": [
       "<table>\n",
       "<thead><tr><th scope=col>npreg</th><th scope=col>glu</th><th scope=col>bp</th><th scope=col>skin</th><th scope=col>bmi</th><th scope=col>ped</th><th scope=col>age</th><th scope=col>type</th></tr></thead>\n",
       "<tbody>\n",
       "\t<tr><td>6    </td><td>148  </td><td>72   </td><td>35   </td><td>33.6 </td><td>0.627</td><td>50   </td><td>Yes  </td></tr>\n",
       "\t<tr><td>1    </td><td> 85  </td><td>66   </td><td>29   </td><td>26.6 </td><td>0.351</td><td>31   </td><td>No   </td></tr>\n",
       "\t<tr><td>1    </td><td> 89  </td><td>66   </td><td>23   </td><td>28.1 </td><td>0.167</td><td>21   </td><td>No   </td></tr>\n",
       "\t<tr><td>3    </td><td> 78  </td><td>50   </td><td>32   </td><td>31.0 </td><td>0.248</td><td>26   </td><td>Yes  </td></tr>\n",
       "\t<tr><td>2    </td><td>197  </td><td>70   </td><td>45   </td><td>30.5 </td><td>0.158</td><td>53   </td><td>Yes  </td></tr>\n",
       "</tbody>\n",
       "</table>\n"
      ],
      "text/latex": [
       "\\begin{tabular}{r|llllllll}\n",
       " npreg & glu & bp & skin & bmi & ped & age & type\\\\\n",
       "\\hline\n",
       "\t 6     & 148   & 72    & 35    & 33.6  & 0.627 & 50    & Yes  \\\\\n",
       "\t 1     &  85   & 66    & 29    & 26.6  & 0.351 & 31    & No   \\\\\n",
       "\t 1     &  89   & 66    & 23    & 28.1  & 0.167 & 21    & No   \\\\\n",
       "\t 3     &  78   & 50    & 32    & 31.0  & 0.248 & 26    & Yes  \\\\\n",
       "\t 2     & 197   & 70    & 45    & 30.5  & 0.158 & 53    & Yes  \\\\\n",
       "\\end{tabular}\n"
      ],
      "text/markdown": [
       "\n",
       "npreg | glu | bp | skin | bmi | ped | age | type | \n",
       "|---|---|---|---|---|\n",
       "| 6     | 148   | 72    | 35    | 33.6  | 0.627 | 50    | Yes   | \n",
       "| 1     |  85   | 66    | 29    | 26.6  | 0.351 | 31    | No    | \n",
       "| 1     |  89   | 66    | 23    | 28.1  | 0.167 | 21    | No    | \n",
       "| 3     |  78   | 50    | 32    | 31.0  | 0.248 | 26    | Yes   | \n",
       "| 2     | 197   | 70    | 45    | 30.5  | 0.158 | 53    | Yes   | \n",
       "\n",
       "\n"
      ],
      "text/plain": [
       "  npreg glu bp skin bmi  ped   age type\n",
       "1 6     148 72 35   33.6 0.627 50  Yes \n",
       "2 1      85 66 29   26.6 0.351 31  No  \n",
       "3 1      89 66 23   28.1 0.167 21  No  \n",
       "4 3      78 50 32   31.0 0.248 26  Yes \n",
       "5 2     197 70 45   30.5 0.158 53  Yes "
      ]
     },
     "metadata": {},
     "output_type": "display_data"
    },
    {
     "data": {
      "text/html": [
       "<table>\n",
       "<thead><tr><th scope=col>npreg</th><th scope=col>glu</th><th scope=col>bp</th><th scope=col>skin</th><th scope=col>bmi</th><th scope=col>ped</th><th scope=col>age</th><th scope=col>type</th></tr></thead>\n",
       "<tbody>\n",
       "\t<tr><td>5    </td><td> 86  </td><td>68   </td><td>28   </td><td>30.2 </td><td>0.364</td><td>24   </td><td>No   </td></tr>\n",
       "\t<tr><td>7    </td><td>195  </td><td>70   </td><td>33   </td><td>25.1 </td><td>0.163</td><td>55   </td><td>Yes  </td></tr>\n",
       "\t<tr><td>5    </td><td> 77  </td><td>82   </td><td>41   </td><td>35.8 </td><td>0.156</td><td>35   </td><td>No   </td></tr>\n",
       "\t<tr><td>0    </td><td>165  </td><td>76   </td><td>43   </td><td>47.9 </td><td>0.259</td><td>26   </td><td>No   </td></tr>\n",
       "\t<tr><td>0    </td><td>107  </td><td>60   </td><td>25   </td><td>26.4 </td><td>0.133</td><td>23   </td><td>No   </td></tr>\n",
       "</tbody>\n",
       "</table>\n"
      ],
      "text/latex": [
       "\\begin{tabular}{r|llllllll}\n",
       " npreg & glu & bp & skin & bmi & ped & age & type\\\\\n",
       "\\hline\n",
       "\t 5     &  86   & 68    & 28    & 30.2  & 0.364 & 24    & No   \\\\\n",
       "\t 7     & 195   & 70    & 33    & 25.1  & 0.163 & 55    & Yes  \\\\\n",
       "\t 5     &  77   & 82    & 41    & 35.8  & 0.156 & 35    & No   \\\\\n",
       "\t 0     & 165   & 76    & 43    & 47.9  & 0.259 & 26    & No   \\\\\n",
       "\t 0     & 107   & 60    & 25    & 26.4  & 0.133 & 23    & No   \\\\\n",
       "\\end{tabular}\n"
      ],
      "text/markdown": [
       "\n",
       "npreg | glu | bp | skin | bmi | ped | age | type | \n",
       "|---|---|---|---|---|\n",
       "| 5     |  86   | 68    | 28    | 30.2  | 0.364 | 24    | No    | \n",
       "| 7     | 195   | 70    | 33    | 25.1  | 0.163 | 55    | Yes   | \n",
       "| 5     |  77   | 82    | 41    | 35.8  | 0.156 | 35    | No    | \n",
       "| 0     | 165   | 76    | 43    | 47.9  | 0.259 | 26    | No    | \n",
       "| 0     | 107   | 60    | 25    | 26.4  | 0.133 | 23    | No    | \n",
       "\n",
       "\n"
      ],
      "text/plain": [
       "  npreg glu bp skin bmi  ped   age type\n",
       "1 5      86 68 28   30.2 0.364 24  No  \n",
       "2 7     195 70 33   25.1 0.163 55  Yes \n",
       "3 5      77 82 41   35.8 0.156 35  No  \n",
       "4 0     165 76 43   47.9 0.259 26  No  \n",
       "5 0     107 60 25   26.4 0.133 23  No  "
      ]
     },
     "metadata": {},
     "output_type": "display_data"
    }
   ],
   "source": [
    "'Diabetes in Pima Indian Women'\n",
    "library(MASS)\n",
    "class(Pima.te)\n",
    "Pima.te[1:5,]    #两种输出方法\n",
    "head(Pima.tr, 5)"
   ]
  },
  {
   "cell_type": "markdown",
   "metadata": {},
   "source": [
    "基于血压（“bp”）和体重指数（“bmi”）的值合并两个数据集。选择这两列用于合并时，其中这两个变量的值在两个数据集中匹配的记录被组合在一起以形成单个数据帧"
   ]
  },
  {
   "cell_type": "code",
   "execution_count": 9,
   "metadata": {},
   "outputs": [
    {
     "data": {
      "text/html": [
       "<table>\n",
       "<thead><tr><th scope=col>bp</th><th scope=col>bmi</th><th scope=col>npreg.x</th><th scope=col>glu.x</th><th scope=col>skin.x</th><th scope=col>ped.x</th><th scope=col>age.x</th><th scope=col>type.x</th><th scope=col>npreg.y</th><th scope=col>glu.y</th><th scope=col>skin.y</th><th scope=col>ped.y</th><th scope=col>age.y</th><th scope=col>type.y</th></tr></thead>\n",
       "<tbody>\n",
       "\t<tr><td>60   </td><td>33.8 </td><td> 1   </td><td>117  </td><td>23   </td><td>0.466</td><td>27   </td><td>No   </td><td>2    </td><td>125  </td><td>20   </td><td>0.088</td><td>31   </td><td>No   </td></tr>\n",
       "\t<tr><td>64   </td><td>29.7 </td><td> 2   </td><td> 75  </td><td>24   </td><td>0.370</td><td>33   </td><td>No   </td><td>2    </td><td>100  </td><td>23   </td><td>0.368</td><td>21   </td><td>No   </td></tr>\n",
       "\t<tr><td>64   </td><td>31.2 </td><td> 5   </td><td>189  </td><td>33   </td><td>0.583</td><td>29   </td><td>Yes  </td><td>3    </td><td>158  </td><td>13   </td><td>0.295</td><td>24   </td><td>No   </td></tr>\n",
       "\t<tr><td>64   </td><td>33.2 </td><td> 4   </td><td>117  </td><td>27   </td><td>0.230</td><td>24   </td><td>No   </td><td>1    </td><td> 96  </td><td>27   </td><td>0.289</td><td>21   </td><td>No   </td></tr>\n",
       "\t<tr><td>66   </td><td>38.1 </td><td> 3   </td><td>115  </td><td>39   </td><td>0.150</td><td>28   </td><td>No   </td><td>1    </td><td>114  </td><td>36   </td><td>0.289</td><td>21   </td><td>No   </td></tr>\n",
       "\t<tr><td>68   </td><td>38.5 </td><td> 2   </td><td>100  </td><td>25   </td><td>0.324</td><td>26   </td><td>No   </td><td>7    </td><td>129  </td><td>49   </td><td>0.439</td><td>43   </td><td>Yes  </td></tr>\n",
       "\t<tr><td>70   </td><td>27.4 </td><td> 1   </td><td>116  </td><td>28   </td><td>0.204</td><td>21   </td><td>No   </td><td>0    </td><td>124  </td><td>20   </td><td>0.254</td><td>36   </td><td>Yes  </td></tr>\n",
       "\t<tr><td>70   </td><td>33.1 </td><td> 4   </td><td> 91  </td><td>32   </td><td>0.446</td><td>22   </td><td>No   </td><td>9    </td><td>123  </td><td>44   </td><td>0.374</td><td>40   </td><td>No   </td></tr>\n",
       "\t<tr><td>70   </td><td>35.4 </td><td> 9   </td><td>124  </td><td>33   </td><td>0.282</td><td>34   </td><td>No   </td><td>6    </td><td>134  </td><td>23   </td><td>0.542</td><td>29   </td><td>Yes  </td></tr>\n",
       "\t<tr><td>72   </td><td>25.6 </td><td> 1   </td><td>157  </td><td>21   </td><td>0.123</td><td>24   </td><td>No   </td><td>4    </td><td> 99  </td><td>17   </td><td>0.294</td><td>28   </td><td>No   </td></tr>\n",
       "\t<tr><td>72   </td><td>37.7 </td><td> 5   </td><td> 95  </td><td>33   </td><td>0.370</td><td>27   </td><td>No   </td><td>6    </td><td>103  </td><td>32   </td><td>0.324</td><td>55   </td><td>No   </td></tr>\n",
       "\t<tr><td>74   </td><td>25.9 </td><td> 9   </td><td>134  </td><td>33   </td><td>0.460</td><td>81   </td><td>No   </td><td>8    </td><td>126  </td><td>38   </td><td>0.162</td><td>39   </td><td>No   </td></tr>\n",
       "\t<tr><td>74   </td><td>25.9 </td><td> 1   </td><td> 95  </td><td>21   </td><td>0.673</td><td>36   </td><td>No   </td><td>8    </td><td>126  </td><td>38   </td><td>0.162</td><td>39   </td><td>No   </td></tr>\n",
       "\t<tr><td>78   </td><td>27.6 </td><td> 5   </td><td> 88  </td><td>30   </td><td>0.258</td><td>37   </td><td>No   </td><td>6    </td><td>125  </td><td>31   </td><td>0.565</td><td>49   </td><td>Yes  </td></tr>\n",
       "\t<tr><td>78   </td><td>27.6 </td><td>10   </td><td>122  </td><td>31   </td><td>0.512</td><td>45   </td><td>No   </td><td>6    </td><td>125  </td><td>31   </td><td>0.565</td><td>49   </td><td>Yes  </td></tr>\n",
       "\t<tr><td>78   </td><td>39.4 </td><td> 2   </td><td>112  </td><td>50   </td><td>0.175</td><td>24   </td><td>No   </td><td>4    </td><td>112  </td><td>40   </td><td>0.236</td><td>38   </td><td>No   </td></tr>\n",
       "\t<tr><td>88   </td><td>34.5 </td><td> 1   </td><td>117  </td><td>24   </td><td>0.403</td><td>40   </td><td>Yes  </td><td>4    </td><td>127  </td><td>11   </td><td>0.598</td><td>28   </td><td>No   </td></tr>\n",
       "</tbody>\n",
       "</table>\n"
      ],
      "text/latex": [
       "\\begin{tabular}{r|llllllllllllll}\n",
       " bp & bmi & npreg.x & glu.x & skin.x & ped.x & age.x & type.x & npreg.y & glu.y & skin.y & ped.y & age.y & type.y\\\\\n",
       "\\hline\n",
       "\t 60    & 33.8  &  1    & 117   & 23    & 0.466 & 27    & No    & 2     & 125   & 20    & 0.088 & 31    & No   \\\\\n",
       "\t 64    & 29.7  &  2    &  75   & 24    & 0.370 & 33    & No    & 2     & 100   & 23    & 0.368 & 21    & No   \\\\\n",
       "\t 64    & 31.2  &  5    & 189   & 33    & 0.583 & 29    & Yes   & 3     & 158   & 13    & 0.295 & 24    & No   \\\\\n",
       "\t 64    & 33.2  &  4    & 117   & 27    & 0.230 & 24    & No    & 1     &  96   & 27    & 0.289 & 21    & No   \\\\\n",
       "\t 66    & 38.1  &  3    & 115   & 39    & 0.150 & 28    & No    & 1     & 114   & 36    & 0.289 & 21    & No   \\\\\n",
       "\t 68    & 38.5  &  2    & 100   & 25    & 0.324 & 26    & No    & 7     & 129   & 49    & 0.439 & 43    & Yes  \\\\\n",
       "\t 70    & 27.4  &  1    & 116   & 28    & 0.204 & 21    & No    & 0     & 124   & 20    & 0.254 & 36    & Yes  \\\\\n",
       "\t 70    & 33.1  &  4    &  91   & 32    & 0.446 & 22    & No    & 9     & 123   & 44    & 0.374 & 40    & No   \\\\\n",
       "\t 70    & 35.4  &  9    & 124   & 33    & 0.282 & 34    & No    & 6     & 134   & 23    & 0.542 & 29    & Yes  \\\\\n",
       "\t 72    & 25.6  &  1    & 157   & 21    & 0.123 & 24    & No    & 4     &  99   & 17    & 0.294 & 28    & No   \\\\\n",
       "\t 72    & 37.7  &  5    &  95   & 33    & 0.370 & 27    & No    & 6     & 103   & 32    & 0.324 & 55    & No   \\\\\n",
       "\t 74    & 25.9  &  9    & 134   & 33    & 0.460 & 81    & No    & 8     & 126   & 38    & 0.162 & 39    & No   \\\\\n",
       "\t 74    & 25.9  &  1    &  95   & 21    & 0.673 & 36    & No    & 8     & 126   & 38    & 0.162 & 39    & No   \\\\\n",
       "\t 78    & 27.6  &  5    &  88   & 30    & 0.258 & 37    & No    & 6     & 125   & 31    & 0.565 & 49    & Yes  \\\\\n",
       "\t 78    & 27.6  & 10    & 122   & 31    & 0.512 & 45    & No    & 6     & 125   & 31    & 0.565 & 49    & Yes  \\\\\n",
       "\t 78    & 39.4  &  2    & 112   & 50    & 0.175 & 24    & No    & 4     & 112   & 40    & 0.236 & 38    & No   \\\\\n",
       "\t 88    & 34.5  &  1    & 117   & 24    & 0.403 & 40    & Yes   & 4     & 127   & 11    & 0.598 & 28    & No   \\\\\n",
       "\\end{tabular}\n"
      ],
      "text/markdown": [
       "\n",
       "bp | bmi | npreg.x | glu.x | skin.x | ped.x | age.x | type.x | npreg.y | glu.y | skin.y | ped.y | age.y | type.y | \n",
       "|---|---|---|---|---|---|---|---|---|---|---|---|---|---|---|---|---|\n",
       "| 60    | 33.8  |  1    | 117   | 23    | 0.466 | 27    | No    | 2     | 125   | 20    | 0.088 | 31    | No    | \n",
       "| 64    | 29.7  |  2    |  75   | 24    | 0.370 | 33    | No    | 2     | 100   | 23    | 0.368 | 21    | No    | \n",
       "| 64    | 31.2  |  5    | 189   | 33    | 0.583 | 29    | Yes   | 3     | 158   | 13    | 0.295 | 24    | No    | \n",
       "| 64    | 33.2  |  4    | 117   | 27    | 0.230 | 24    | No    | 1     |  96   | 27    | 0.289 | 21    | No    | \n",
       "| 66    | 38.1  |  3    | 115   | 39    | 0.150 | 28    | No    | 1     | 114   | 36    | 0.289 | 21    | No    | \n",
       "| 68    | 38.5  |  2    | 100   | 25    | 0.324 | 26    | No    | 7     | 129   | 49    | 0.439 | 43    | Yes   | \n",
       "| 70    | 27.4  |  1    | 116   | 28    | 0.204 | 21    | No    | 0     | 124   | 20    | 0.254 | 36    | Yes   | \n",
       "| 70    | 33.1  |  4    |  91   | 32    | 0.446 | 22    | No    | 9     | 123   | 44    | 0.374 | 40    | No    | \n",
       "| 70    | 35.4  |  9    | 124   | 33    | 0.282 | 34    | No    | 6     | 134   | 23    | 0.542 | 29    | Yes   | \n",
       "| 72    | 25.6  |  1    | 157   | 21    | 0.123 | 24    | No    | 4     |  99   | 17    | 0.294 | 28    | No    | \n",
       "| 72    | 37.7  |  5    |  95   | 33    | 0.370 | 27    | No    | 6     | 103   | 32    | 0.324 | 55    | No    | \n",
       "| 74    | 25.9  |  9    | 134   | 33    | 0.460 | 81    | No    | 8     | 126   | 38    | 0.162 | 39    | No    | \n",
       "| 74    | 25.9  |  1    |  95   | 21    | 0.673 | 36    | No    | 8     | 126   | 38    | 0.162 | 39    | No    | \n",
       "| 78    | 27.6  |  5    |  88   | 30    | 0.258 | 37    | No    | 6     | 125   | 31    | 0.565 | 49    | Yes   | \n",
       "| 78    | 27.6  | 10    | 122   | 31    | 0.512 | 45    | No    | 6     | 125   | 31    | 0.565 | 49    | Yes   | \n",
       "| 78    | 39.4  |  2    | 112   | 50    | 0.175 | 24    | No    | 4     | 112   | 40    | 0.236 | 38    | No    | \n",
       "| 88    | 34.5  |  1    | 117   | 24    | 0.403 | 40    | Yes   | 4     | 127   | 11    | 0.598 | 28    | No    | \n",
       "\n",
       "\n"
      ],
      "text/plain": [
       "   bp bmi  npreg.x glu.x skin.x ped.x age.x type.x npreg.y glu.y skin.y ped.y\n",
       "1  60 33.8  1      117   23     0.466 27    No     2       125   20     0.088\n",
       "2  64 29.7  2       75   24     0.370 33    No     2       100   23     0.368\n",
       "3  64 31.2  5      189   33     0.583 29    Yes    3       158   13     0.295\n",
       "4  64 33.2  4      117   27     0.230 24    No     1        96   27     0.289\n",
       "5  66 38.1  3      115   39     0.150 28    No     1       114   36     0.289\n",
       "6  68 38.5  2      100   25     0.324 26    No     7       129   49     0.439\n",
       "7  70 27.4  1      116   28     0.204 21    No     0       124   20     0.254\n",
       "8  70 33.1  4       91   32     0.446 22    No     9       123   44     0.374\n",
       "9  70 35.4  9      124   33     0.282 34    No     6       134   23     0.542\n",
       "10 72 25.6  1      157   21     0.123 24    No     4        99   17     0.294\n",
       "11 72 37.7  5       95   33     0.370 27    No     6       103   32     0.324\n",
       "12 74 25.9  9      134   33     0.460 81    No     8       126   38     0.162\n",
       "13 74 25.9  1       95   21     0.673 36    No     8       126   38     0.162\n",
       "14 78 27.6  5       88   30     0.258 37    No     6       125   31     0.565\n",
       "15 78 27.6 10      122   31     0.512 45    No     6       125   31     0.565\n",
       "16 78 39.4  2      112   50     0.175 24    No     4       112   40     0.236\n",
       "17 88 34.5  1      117   24     0.403 40    Yes    4       127   11     0.598\n",
       "   age.y type.y\n",
       "1  31    No    \n",
       "2  21    No    \n",
       "3  24    No    \n",
       "4  21    No    \n",
       "5  21    No    \n",
       "6  43    Yes   \n",
       "7  36    Yes   \n",
       "8  40    No    \n",
       "9  29    Yes   \n",
       "10 28    No    \n",
       "11 55    No    \n",
       "12 39    No    \n",
       "13 39    No    \n",
       "14 49    Yes   \n",
       "15 49    Yes   \n",
       "16 38    No    \n",
       "17 28    No    "
      ]
     },
     "metadata": {},
     "output_type": "display_data"
    },
    {
     "name": "stdout",
     "output_type": "stream",
     "text": [
      "行： 17 \t列： 14"
     ]
    }
   ],
   "source": [
    "library(MASS)\n",
    "merged.Pima = merge(x = Pima.te, y = Pima.tr,\n",
    "   by.x = c(\"bp\", \"bmi\"),\n",
    "   by.y = c(\"bp\", \"bmi\")\n",
    ")\n",
    "merged.Pima\n",
    "cat(\"行：\", nrow(merged.Pima), \"\\t列：\", ncol(merged.Pima))"
   ]
  },
  {
   "cell_type": "markdown",
   "metadata": {},
   "source": [
    "## 拆分数据帧"
   ]
  },
  {
   "cell_type": "code",
   "execution_count": 7,
   "metadata": {},
   "outputs": [
    {
     "name": "stderr",
     "output_type": "stream",
     "text": [
      "Updating HTML index of packages in '.Library'\n",
      "Making 'packages.html' ... done\n"
     ]
    }
   ],
   "source": [
    "install.packages(\"reshape\")"
   ]
  },
  {
   "cell_type": "markdown",
   "metadata": {},
   "source": [
    "将除类型和年份以外的所有列转换为多行展示"
   ]
  },
  {
   "cell_type": "code",
   "execution_count": 5,
   "metadata": {},
   "outputs": [
    {
     "data": {
      "text/html": [
       "<table>\n",
       "<thead><tr><th scope=col>type</th><th scope=col>year</th><th scope=col>period</th><th scope=col>service</th><th scope=col>incidents</th></tr></thead>\n",
       "<tbody>\n",
       "\t<tr><td>A    </td><td>60   </td><td>60   </td><td>  127</td><td> 0   </td></tr>\n",
       "\t<tr><td>A    </td><td>60   </td><td>75   </td><td>   63</td><td> 0   </td></tr>\n",
       "\t<tr><td>A    </td><td>65   </td><td>60   </td><td> 1095</td><td> 3   </td></tr>\n",
       "\t<tr><td>A    </td><td>65   </td><td>75   </td><td> 1095</td><td> 4   </td></tr>\n",
       "\t<tr><td>A    </td><td>70   </td><td>60   </td><td> 1512</td><td> 6   </td></tr>\n",
       "\t<tr><td>A    </td><td>70   </td><td>75   </td><td> 3353</td><td>18   </td></tr>\n",
       "\t<tr><td>A    </td><td>75   </td><td>60   </td><td>    0</td><td> 0   </td></tr>\n",
       "\t<tr><td>A    </td><td>75   </td><td>75   </td><td> 2244</td><td>11   </td></tr>\n",
       "\t<tr><td>B    </td><td>60   </td><td>60   </td><td>44882</td><td>39   </td></tr>\n",
       "\t<tr><td>B    </td><td>60   </td><td>75   </td><td>17176</td><td>29   </td></tr>\n",
       "</tbody>\n",
       "</table>\n"
      ],
      "text/latex": [
       "\\begin{tabular}{r|lllll}\n",
       " type & year & period & service & incidents\\\\\n",
       "\\hline\n",
       "\t A     & 60    & 60    &   127 &  0   \\\\\n",
       "\t A     & 60    & 75    &    63 &  0   \\\\\n",
       "\t A     & 65    & 60    &  1095 &  3   \\\\\n",
       "\t A     & 65    & 75    &  1095 &  4   \\\\\n",
       "\t A     & 70    & 60    &  1512 &  6   \\\\\n",
       "\t A     & 70    & 75    &  3353 & 18   \\\\\n",
       "\t A     & 75    & 60    &     0 &  0   \\\\\n",
       "\t A     & 75    & 75    &  2244 & 11   \\\\\n",
       "\t B     & 60    & 60    & 44882 & 39   \\\\\n",
       "\t B     & 60    & 75    & 17176 & 29   \\\\\n",
       "\\end{tabular}\n"
      ],
      "text/markdown": [
       "\n",
       "type | year | period | service | incidents | \n",
       "|---|---|---|---|---|---|---|---|---|---|\n",
       "| A     | 60    | 60    |   127 |  0    | \n",
       "| A     | 60    | 75    |    63 |  0    | \n",
       "| A     | 65    | 60    |  1095 |  3    | \n",
       "| A     | 65    | 75    |  1095 |  4    | \n",
       "| A     | 70    | 60    |  1512 |  6    | \n",
       "| A     | 70    | 75    |  3353 | 18    | \n",
       "| A     | 75    | 60    |     0 |  0    | \n",
       "| A     | 75    | 75    |  2244 | 11    | \n",
       "| B     | 60    | 60    | 44882 | 39    | \n",
       "| B     | 60    | 75    | 17176 | 29    | \n",
       "\n",
       "\n"
      ],
      "text/plain": [
       "   type year period service incidents\n",
       "1  A    60   60       127    0       \n",
       "2  A    60   75        63    0       \n",
       "3  A    65   60      1095    3       \n",
       "4  A    65   75      1095    4       \n",
       "5  A    70   60      1512    6       \n",
       "6  A    70   75      3353   18       \n",
       "7  A    75   60         0    0       \n",
       "8  A    75   75      2244   11       \n",
       "9  B    60   60     44882   39       \n",
       "10 B    60   75     17176   29       "
      ]
     },
     "metadata": {},
     "output_type": "display_data"
    },
    {
     "data": {
      "text/html": [
       "<table>\n",
       "<thead><tr><th scope=col>type</th><th scope=col>year</th><th scope=col>variable</th><th scope=col>value</th></tr></thead>\n",
       "<tbody>\n",
       "\t<tr><td>A        </td><td>60       </td><td>period   </td><td>  60     </td></tr>\n",
       "\t<tr><td>A        </td><td>60       </td><td>period   </td><td>  75     </td></tr>\n",
       "\t<tr><td>A        </td><td>65       </td><td>period   </td><td>  60     </td></tr>\n",
       "\t<tr><td>A        </td><td>65       </td><td>period   </td><td>  75     </td></tr>\n",
       "\t<tr><td>A        </td><td>70       </td><td>period   </td><td>  60     </td></tr>\n",
       "\t<tr><td>A        </td><td>60       </td><td>service  </td><td> 127     </td></tr>\n",
       "\t<tr><td>A        </td><td>60       </td><td>service  </td><td>  63     </td></tr>\n",
       "\t<tr><td>A        </td><td>65       </td><td>service  </td><td>1095     </td></tr>\n",
       "\t<tr><td>A        </td><td>65       </td><td>service  </td><td>1095     </td></tr>\n",
       "\t<tr><td>A        </td><td>70       </td><td>service  </td><td>1512     </td></tr>\n",
       "\t<tr><td>A        </td><td>60       </td><td>incidents</td><td>   0     </td></tr>\n",
       "\t<tr><td>A        </td><td>60       </td><td>incidents</td><td>   0     </td></tr>\n",
       "\t<tr><td>A        </td><td>65       </td><td>incidents</td><td>   3     </td></tr>\n",
       "\t<tr><td>A        </td><td>65       </td><td>incidents</td><td>   4     </td></tr>\n",
       "\t<tr><td>A        </td><td>70       </td><td>incidents</td><td>   6     </td></tr>\n",
       "</tbody>\n",
       "</table>\n"
      ],
      "text/latex": [
       "\\begin{tabular}{r|llll}\n",
       " type & year & variable & value\\\\\n",
       "\\hline\n",
       "\t A         & 60        & period    &   60     \\\\\n",
       "\t A         & 60        & period    &   75     \\\\\n",
       "\t A         & 65        & period    &   60     \\\\\n",
       "\t A         & 65        & period    &   75     \\\\\n",
       "\t A         & 70        & period    &   60     \\\\\n",
       "\t A         & 60        & service   &  127     \\\\\n",
       "\t A         & 60        & service   &   63     \\\\\n",
       "\t A         & 65        & service   & 1095     \\\\\n",
       "\t A         & 65        & service   & 1095     \\\\\n",
       "\t A         & 70        & service   & 1512     \\\\\n",
       "\t A         & 60        & incidents &    0     \\\\\n",
       "\t A         & 60        & incidents &    0     \\\\\n",
       "\t A         & 65        & incidents &    3     \\\\\n",
       "\t A         & 65        & incidents &    4     \\\\\n",
       "\t A         & 70        & incidents &    6     \\\\\n",
       "\\end{tabular}\n"
      ],
      "text/markdown": [
       "\n",
       "type | year | variable | value | \n",
       "|---|---|---|---|---|---|---|---|---|---|---|---|---|---|---|\n",
       "| A         | 60        | period    |   60      | \n",
       "| A         | 60        | period    |   75      | \n",
       "| A         | 65        | period    |   60      | \n",
       "| A         | 65        | period    |   75      | \n",
       "| A         | 70        | period    |   60      | \n",
       "| A         | 60        | service   |  127      | \n",
       "| A         | 60        | service   |   63      | \n",
       "| A         | 65        | service   | 1095      | \n",
       "| A         | 65        | service   | 1095      | \n",
       "| A         | 70        | service   | 1512      | \n",
       "| A         | 60        | incidents |    0      | \n",
       "| A         | 60        | incidents |    0      | \n",
       "| A         | 65        | incidents |    3      | \n",
       "| A         | 65        | incidents |    4      | \n",
       "| A         | 70        | incidents |    6      | \n",
       "\n",
       "\n"
      ],
      "text/plain": [
       "   type year variable  value\n",
       "1  A    60   period      60 \n",
       "2  A    60   period      75 \n",
       "3  A    65   period      60 \n",
       "4  A    65   period      75 \n",
       "5  A    70   period      60 \n",
       "6  A    60   service    127 \n",
       "7  A    60   service     63 \n",
       "8  A    65   service   1095 \n",
       "9  A    65   service   1095 \n",
       "10 A    70   service   1512 \n",
       "11 A    60   incidents    0 \n",
       "12 A    60   incidents    0 \n",
       "13 A    65   incidents    3 \n",
       "14 A    65   incidents    4 \n",
       "15 A    70   incidents    6 "
      ]
     },
     "metadata": {},
     "output_type": "display_data"
    }
   ],
   "source": [
    "library(MASS)\n",
    "library(reshape)\n",
    "library(reshape2)\n",
    "ships[1 : 10,]\n",
    "molten.ships = melt(ships[1 : 5,], id = c(\"type\", \"year\"))  \n",
    "molten.ships"
   ]
  },
  {
   "cell_type": "markdown",
   "metadata": {},
   "source": [
    "将被拆分的数据转换为一种新形式，使用cast()函数创建每年每种类型的船的总和"
   ]
  },
  {
   "cell_type": "code",
   "execution_count": 8,
   "metadata": {},
   "outputs": [
    {
     "data": {
      "text/html": [
       "<table>\n",
       "<thead><tr><th scope=col>type</th><th scope=col>year</th><th scope=col>period</th><th scope=col>service</th><th scope=col>incidents</th></tr></thead>\n",
       "<tbody>\n",
       "\t<tr><td>A    </td><td>60   </td><td>135  </td><td>  190</td><td>  0  </td></tr>\n",
       "\t<tr><td>A    </td><td>65   </td><td>135  </td><td> 2190</td><td>  7  </td></tr>\n",
       "\t<tr><td>A    </td><td>70   </td><td>135  </td><td> 4865</td><td> 24  </td></tr>\n",
       "\t<tr><td>A    </td><td>75   </td><td>135  </td><td> 2244</td><td> 11  </td></tr>\n",
       "\t<tr><td>B    </td><td>60   </td><td>135  </td><td>62058</td><td> 68  </td></tr>\n",
       "\t<tr><td>B    </td><td>65   </td><td>135  </td><td>48979</td><td>111  </td></tr>\n",
       "\t<tr><td>B    </td><td>70   </td><td>135  </td><td>20163</td><td> 56  </td></tr>\n",
       "\t<tr><td>B    </td><td>75   </td><td>135  </td><td> 7117</td><td> 18  </td></tr>\n",
       "\t<tr><td>C    </td><td>60   </td><td>135  </td><td> 1731</td><td>  2  </td></tr>\n",
       "\t<tr><td>C    </td><td>65   </td><td>135  </td><td> 1457</td><td>  1  </td></tr>\n",
       "\t<tr><td>C    </td><td>70   </td><td>135  </td><td> 2731</td><td>  8  </td></tr>\n",
       "\t<tr><td>C    </td><td>75   </td><td>135  </td><td>  274</td><td>  1  </td></tr>\n",
       "\t<tr><td>D    </td><td>60   </td><td>135  </td><td>  356</td><td>  0  </td></tr>\n",
       "\t<tr><td>D    </td><td>65   </td><td>135  </td><td>  480</td><td>  0  </td></tr>\n",
       "\t<tr><td>D    </td><td>70   </td><td>135  </td><td> 1557</td><td> 13  </td></tr>\n",
       "\t<tr><td>D    </td><td>75   </td><td>135  </td><td> 2051</td><td>  4  </td></tr>\n",
       "\t<tr><td>E    </td><td>60   </td><td>135  </td><td>   45</td><td>  0  </td></tr>\n",
       "\t<tr><td>E    </td><td>65   </td><td>135  </td><td> 1226</td><td> 14  </td></tr>\n",
       "\t<tr><td>E    </td><td>70   </td><td>135  </td><td> 3318</td><td> 17  </td></tr>\n",
       "\t<tr><td>E    </td><td>75   </td><td>135  </td><td>  542</td><td>  1  </td></tr>\n",
       "</tbody>\n",
       "</table>\n"
      ],
      "text/latex": [
       "\\begin{tabular}{r|lllll}\n",
       " type & year & period & service & incidents\\\\\n",
       "\\hline\n",
       "\t A     & 60    & 135   &   190 &   0  \\\\\n",
       "\t A     & 65    & 135   &  2190 &   7  \\\\\n",
       "\t A     & 70    & 135   &  4865 &  24  \\\\\n",
       "\t A     & 75    & 135   &  2244 &  11  \\\\\n",
       "\t B     & 60    & 135   & 62058 &  68  \\\\\n",
       "\t B     & 65    & 135   & 48979 & 111  \\\\\n",
       "\t B     & 70    & 135   & 20163 &  56  \\\\\n",
       "\t B     & 75    & 135   &  7117 &  18  \\\\\n",
       "\t C     & 60    & 135   &  1731 &   2  \\\\\n",
       "\t C     & 65    & 135   &  1457 &   1  \\\\\n",
       "\t C     & 70    & 135   &  2731 &   8  \\\\\n",
       "\t C     & 75    & 135   &   274 &   1  \\\\\n",
       "\t D     & 60    & 135   &   356 &   0  \\\\\n",
       "\t D     & 65    & 135   &   480 &   0  \\\\\n",
       "\t D     & 70    & 135   &  1557 &  13  \\\\\n",
       "\t D     & 75    & 135   &  2051 &   4  \\\\\n",
       "\t E     & 60    & 135   &    45 &   0  \\\\\n",
       "\t E     & 65    & 135   &  1226 &  14  \\\\\n",
       "\t E     & 70    & 135   &  3318 &  17  \\\\\n",
       "\t E     & 75    & 135   &   542 &   1  \\\\\n",
       "\\end{tabular}\n"
      ],
      "text/markdown": [
       "\n",
       "type | year | period | service | incidents | \n",
       "|---|---|---|---|---|---|---|---|---|---|---|---|---|---|---|---|---|---|---|---|\n",
       "| A     | 60    | 135   |   190 |   0   | \n",
       "| A     | 65    | 135   |  2190 |   7   | \n",
       "| A     | 70    | 135   |  4865 |  24   | \n",
       "| A     | 75    | 135   |  2244 |  11   | \n",
       "| B     | 60    | 135   | 62058 |  68   | \n",
       "| B     | 65    | 135   | 48979 | 111   | \n",
       "| B     | 70    | 135   | 20163 |  56   | \n",
       "| B     | 75    | 135   |  7117 |  18   | \n",
       "| C     | 60    | 135   |  1731 |   2   | \n",
       "| C     | 65    | 135   |  1457 |   1   | \n",
       "| C     | 70    | 135   |  2731 |   8   | \n",
       "| C     | 75    | 135   |   274 |   1   | \n",
       "| D     | 60    | 135   |   356 |   0   | \n",
       "| D     | 65    | 135   |   480 |   0   | \n",
       "| D     | 70    | 135   |  1557 |  13   | \n",
       "| D     | 75    | 135   |  2051 |   4   | \n",
       "| E     | 60    | 135   |    45 |   0   | \n",
       "| E     | 65    | 135   |  1226 |  14   | \n",
       "| E     | 70    | 135   |  3318 |  17   | \n",
       "| E     | 75    | 135   |   542 |   1   | \n",
       "\n",
       "\n"
      ],
      "text/plain": [
       "   type year period service incidents\n",
       "1  A    60   135      190     0      \n",
       "2  A    65   135     2190     7      \n",
       "3  A    70   135     4865    24      \n",
       "4  A    75   135     2244    11      \n",
       "5  B    60   135    62058    68      \n",
       "6  B    65   135    48979   111      \n",
       "7  B    70   135    20163    56      \n",
       "8  B    75   135     7117    18      \n",
       "9  C    60   135     1731     2      \n",
       "10 C    65   135     1457     1      \n",
       "11 C    70   135     2731     8      \n",
       "12 C    75   135      274     1      \n",
       "13 D    60   135      356     0      \n",
       "14 D    65   135      480     0      \n",
       "15 D    70   135     1557    13      \n",
       "16 D    75   135     2051     4      \n",
       "17 E    60   135       45     0      \n",
       "18 E    65   135     1226    14      \n",
       "19 E    70   135     3318    17      \n",
       "20 E    75   135      542     1      "
      ]
     },
     "metadata": {},
     "output_type": "display_data"
    }
   ],
   "source": [
    "recasted.ship = cast(melt(ships, id = c(\"type\", \"year\")), type + year ~ variable, sum)\n",
    "recasted.ship"
   ]
  },
  {
   "cell_type": "markdown",
   "metadata": {},
   "source": [
    "# 查看数据集"
   ]
  },
  {
   "cell_type": "markdown",
   "metadata": {},
   "source": [
    "## 查看某一个package"
   ]
  },
  {
   "cell_type": "code",
   "execution_count": 3,
   "metadata": {},
   "outputs": [
    {
     "data": {
      "text/html": [
       "'packageIQR'"
      ],
      "text/latex": [
       "'packageIQR'"
      ],
      "text/markdown": [
       "'packageIQR'"
      ],
      "text/plain": [
       "[1] \"packageIQR\""
      ]
     },
     "metadata": {},
     "output_type": "display_data"
    }
   ],
   "source": [
    "library(MASS)\n",
    "data()"
   ]
  },
  {
   "cell_type": "code",
   "execution_count": 16,
   "metadata": {},
   "outputs": [
    {
     "name": "stdout",
     "output_type": "stream",
     "text": [
      "$year\n",
      " [1] 50 51 52 53 54 55 56 57 58 59 60 61 62 63 64 65 66 67 68 69 70 71 72 73\n",
      "\n",
      "$calls\n",
      " [1]   4.4   4.7   4.7   5.9   6.6   7.3   8.1   8.8  10.6  12.0  13.5  14.9\n",
      "[13]  16.1  21.2 119.0 124.0 142.0 159.0 182.0 212.0  43.0  24.0  27.0  29.0\n",
      "\n"
     ]
    }
   ],
   "source": [
    "library(MASS)\n",
    "data(phones)\n",
    "print(phones)"
   ]
  },
  {
   "cell_type": "markdown",
   "metadata": {},
   "source": [
    "## 查看所有"
   ]
  },
  {
   "cell_type": "code",
   "execution_count": null,
   "metadata": {},
   "outputs": [],
   "source": [
    "data(package = .packages(all.available = TRUE))"
   ]
  },
  {
   "cell_type": "code",
   "execution_count": null,
   "metadata": {},
   "outputs": [],
   "source": []
  }
 ],
 "metadata": {
  "kernelspec": {
   "display_name": "R",
   "language": "R",
   "name": "ir"
  },
  "language_info": {
   "codemirror_mode": "r",
   "file_extension": ".r",
   "mimetype": "text/x-r-source",
   "name": "R",
   "pygments_lexer": "r",
   "version": "3.5.1"
  }
 },
 "nbformat": 4,
 "nbformat_minor": 2
}
