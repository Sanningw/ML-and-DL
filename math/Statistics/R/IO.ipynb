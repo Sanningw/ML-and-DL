{
 "cells": [
  {
   "cell_type": "markdown",
   "metadata": {},
   "source": [
    "# 系统IO"
   ]
  },
  {
   "cell_type": "code",
   "execution_count": 6,
   "metadata": {},
   "outputs": [
    {
     "data": {
      "text/html": [
       "'/Users/lee_excited/GitHub/ML-and-DL/math/Statistics/R'"
      ],
      "text/latex": [
       "'/Users/lee\\_excited/GitHub/ML-and-DL/math/Statistics/R'"
      ],
      "text/markdown": [
       "'/Users/lee_excited/GitHub/ML-and-DL/math/Statistics/R'"
      ],
      "text/plain": [
       "[1] \"/Users/lee_excited/GitHub/ML-and-DL/math/Statistics/R\""
      ]
     },
     "metadata": {},
     "output_type": "display_data"
    }
   ],
   "source": [
    "getwd()"
   ]
  },
  {
   "cell_type": "code",
   "execution_count": 4,
   "metadata": {},
   "outputs": [
    {
     "data": {
      "text/html": [
       "'/Users'"
      ],
      "text/latex": [
       "'/Users'"
      ],
      "text/markdown": [
       "'/Users'"
      ],
      "text/plain": [
       "[1] \"/Users\""
      ]
     },
     "metadata": {},
     "output_type": "display_data"
    }
   ],
   "source": [
    "setwd(\"/Users\")\n",
    "getwd()"
   ]
  },
  {
   "cell_type": "markdown",
   "metadata": {},
   "source": [
    "# 导入脚本"
   ]
  },
  {
   "cell_type": "code",
   "execution_count": 5,
   "metadata": {},
   "outputs": [
    {
     "name": "stdout",
     "output_type": "stream",
     "text": [
      "[1] \"Hello, wordl!\"\n"
     ]
    }
   ],
   "source": [
    "source(\"test.R\")"
   ]
  },
  {
   "cell_type": "code",
   "execution_count": 1,
   "metadata": {},
   "outputs": [
    {
     "data": {
      "text/html": [
       "<h3>Demos</h3>\n",
       "<table>\n",
       "<thead><tr><th scope=col>Package</th><th scope=col>Item</th><th scope=col>Title</th></tr></thead>\n",
       "<tbody>\n",
       "\t<tr><td><span style=white-space:pre-wrap>stats    </span>                                                                                                                  </td><td><span style=white-space:pre-wrap>glm.vr        </span>                                                                                                             </td><td><span style=white-space:pre-wrap>Some glm() examples from V&amp;R with several predictors                                                                   </span></td></tr>\n",
       "\t<tr><td>stats                                                                                                                  </td><td>lm.glm                                                                                                                 </td><td>Some linear and generalized linear modelling examples from `An Introduction to Statistical Modelling' by Annette Dobson</td></tr>\n",
       "\t<tr><td>stats                                                                                                                  </td><td>nlm                                                                                                                    </td><td>Nonlinear least-squares using nlm()                                                                                    </td></tr>\n",
       "\t<tr><td>stats                                                                                                                  </td><td>smooth                                                                                                                 </td><td>`Visualize' steps in Tukey's smoothers                                                                                 </td></tr>\n",
       "\t<tr><td>graphics                                                                                                               </td><td>Hershey                                                                                                                </td><td>Tables of the characters in the Hershey vector fonts                                                                   </td></tr>\n",
       "\t<tr><td>graphics                                                                                                               </td><td>Japanese                                                                                                               </td><td>Tables of the Japanese characters in the Hershey vector fonts                                                          </td></tr>\n",
       "\t<tr><td>graphics                                                                                                               </td><td>graphics                                                                                                               </td><td>A show of some of R's graphics capabilities                                                                            </td></tr>\n",
       "\t<tr><td>graphics                                                                                                               </td><td>image                                                                                                                  </td><td>The image-like graphics builtins of R                                                                                  </td></tr>\n",
       "\t<tr><td>graphics                                                                                                               </td><td>persp                                                                                                                  </td><td>Extended persp() examples                                                                                              </td></tr>\n",
       "\t<tr><td>graphics                                                                                                               </td><td>plotmath                                                                                                               </td><td>Examples of the use of mathematics annotation                                                                          </td></tr>\n",
       "\t<tr><td>grDevices                                                                                                              </td><td>colors                                                                                                                 </td><td>A show of R's predefined colors()                                                                                      </td></tr>\n",
       "\t<tr><td>grDevices                                                                                                              </td><td>hclColors                                                                                                              </td><td>Exploration of hcl() space                                                                                             </td></tr>\n",
       "\t<tr><td>base                                                                                                                   </td><td>error.catching                                                                                                         </td><td>More examples on catching and handling errors                                                                          </td></tr>\n",
       "\t<tr><td>base                                                                                                                   </td><td>is.things                                                                                                              </td><td>Explore some properties of R objects and is.FOO() functions. Not for newbies!                                          </td></tr>\n",
       "\t<tr><td>base                                                                                                                   </td><td>recursion                                                                                                              </td><td>Using recursion for adaptive integration                                                                               </td></tr>\n",
       "\t<tr><td>base                                                                                                                   </td><td>scoping                                                                                                                </td><td>An illustration of lexical scoping.                                                                                    </td></tr>\n",
       "</tbody>\n",
       "</table>\n",
       "\n",
       "<p>Use ‘demo(package = .packages(all.available = TRUE))’\n",
       "to list the demos in all *available* packages.</p>"
      ],
      "text/plain": [
       "Demos in package ‘base’:\n",
       "\n",
       "error.catching          More examples on catching and handling errors\n",
       "is.things               Explore some properties of R objects and\n",
       "                        is.FOO() functions. Not for newbies!\n",
       "recursion               Using recursion for adaptive integration\n",
       "scoping                 An illustration of lexical scoping.\n",
       "Demos in package ‘graphics’:\n",
       "\n",
       "Hershey                 Tables of the characters in the Hershey vector\n",
       "                        fonts\n",
       "Japanese                Tables of the Japanese characters in the\n",
       "                        Hershey vector fonts\n",
       "graphics                A show of some of R's graphics capabilities\n",
       "image                   The image-like graphics builtins of R\n",
       "persp                   Extended persp() examples\n",
       "plotmath                Examples of the use of mathematics annotation\n",
       "Demos in package ‘grDevices’:\n",
       "\n",
       "colors                  A show of R's predefined colors()\n",
       "hclColors               Exploration of hcl() space\n",
       "Demos in package ‘stats’:\n",
       "\n",
       "glm.vr                  Some glm() examples from V&R with several\n",
       "                        predictors\n",
       "lm.glm                  Some linear and generalized linear modelling\n",
       "                        examples from `An Introduction to Statistical\n",
       "                        Modelling' by Annette Dobson\n",
       "nlm                     Nonlinear least-squares using nlm()\n",
       "smooth                  `Visualize' steps in Tukey's smoothers\n",
       "\n",
       "Use ‘demo(package = .packages(all.available = TRUE))’\n",
       "to list the demos in all *available* packages."
      ]
     },
     "metadata": {},
     "output_type": "display_data"
    }
   ],
   "source": [
    "demo()"
   ]
  },
  {
   "cell_type": "markdown",
   "metadata": {},
   "source": [
    "# 文件读写"
   ]
  },
  {
   "cell_type": "markdown",
   "metadata": {},
   "source": [
    "## csv"
   ]
  },
  {
   "cell_type": "code",
   "execution_count": 1,
   "metadata": {},
   "outputs": [
    {
     "data": {
      "text/html": [
       "<table>\n",
       "<thead><tr><th scope=col>开始时间</th><th scope=col>持续时间</th><th scope=col>事件大类</th><th scope=col>事件类别</th><th scope=col>内容类型</th><th scope=col>事件内容</th><th scope=col>备注</th><th scope=col>Tag</th><th scope=col>状态</th></tr></thead>\n",
       "<tbody>\n",
       "\t<tr><td>2017-02-09 00:00</td><td>450             </td><td>未分类          </td><td>睡觉            </td><td>未分类          </td><td>                </td><td>                </td><td>NA              </td><td>已完成          </td></tr>\n",
       "\t<tr><td>2017-02-09 07:30</td><td> 30             </td><td>未分类          </td><td>杂事            </td><td>未分类          </td><td>吃饭            </td><td>                </td><td>NA              </td><td>已完成          </td></tr>\n",
       "\t<tr><td>2017-02-09 08:00</td><td>240             </td><td>未分类          </td><td>工作            </td><td>未分类          </td><td>家教            </td><td>                </td><td>NA              </td><td>已完成          </td></tr>\n",
       "\t<tr><td>2017-02-09 12:00</td><td> 30             </td><td>未分类          </td><td>杂事            </td><td>未分类          </td><td>吃饭            </td><td>                </td><td>NA              </td><td>已完成          </td></tr>\n",
       "\t<tr><td>2017-02-09 12:30</td><td> 30             </td><td>未分类          </td><td>睡觉            </td><td>未分类          </td><td>午睡            </td><td>                </td><td>NA              </td><td>已完成          </td></tr>\n",
       "\t<tr><td>2017-02-09 13:00</td><td>240             </td><td>未分类          </td><td>工作            </td><td>未分类          </td><td>家教            </td><td>                </td><td>NA              </td><td>已完成          </td></tr>\n",
       "\t<tr><td>2017-02-09 17:00</td><td> 60             </td><td>未分类          </td><td>浪费了          </td><td>未分类          </td><td>                </td><td>                </td><td>NA              </td><td>已完成          </td></tr>\n",
       "\t<tr><td>2017-02-09 18:00</td><td> 30             </td><td>未分类          </td><td>杂事            </td><td>未分类          </td><td>收拾            </td><td>                </td><td>NA              </td><td>已完成          </td></tr>\n",
       "\t<tr><td>2017-02-09 18:30</td><td>120             </td><td>未分类          </td><td>工作            </td><td>未分类          </td><td>家教            </td><td>                </td><td>NA              </td><td>已完成          </td></tr>\n",
       "\t<tr><td>2017-02-09 20:30</td><td> 30             </td><td>未分类          </td><td>杂事            </td><td>未分类          </td><td>                </td><td>                </td><td>NA              </td><td>已完成          </td></tr>\n",
       "</tbody>\n",
       "</table>\n"
      ],
      "text/latex": [
       "\\begin{tabular}{r|lllllllll}\n",
       " 开始时间 & 持续时间 & 事件大类 & 事件类别 & 内容类型 & 事件内容 & 备注 & Tag & 状态\\\\\n",
       "\\hline\n",
       "\t 2017-02-09 00:00 & 450              & 未分类           & 睡觉             & 未分类           &                  &                  & NA               & 已完成          \\\\\n",
       "\t 2017-02-09 07:30 &  30              & 未分类           & 杂事             & 未分类           & 吃饭             &                  & NA               & 已完成          \\\\\n",
       "\t 2017-02-09 08:00 & 240              & 未分类           & 工作             & 未分类           & 家教             &                  & NA               & 已完成          \\\\\n",
       "\t 2017-02-09 12:00 &  30              & 未分类           & 杂事             & 未分类           & 吃饭             &                  & NA               & 已完成          \\\\\n",
       "\t 2017-02-09 12:30 &  30              & 未分类           & 睡觉             & 未分类           & 午睡             &                  & NA               & 已完成          \\\\\n",
       "\t 2017-02-09 13:00 & 240              & 未分类           & 工作             & 未分类           & 家教             &                  & NA               & 已完成          \\\\\n",
       "\t 2017-02-09 17:00 &  60              & 未分类           & 浪费了           & 未分类           &                  &                  & NA               & 已完成          \\\\\n",
       "\t 2017-02-09 18:00 &  30              & 未分类           & 杂事             & 未分类           & 收拾             &                  & NA               & 已完成          \\\\\n",
       "\t 2017-02-09 18:30 & 120              & 未分类           & 工作             & 未分类           & 家教             &                  & NA               & 已完成          \\\\\n",
       "\t 2017-02-09 20:30 &  30              & 未分类           & 杂事             & 未分类           &                  &                  & NA               & 已完成          \\\\\n",
       "\\end{tabular}\n"
      ],
      "text/markdown": [
       "\n",
       "开始时间 | 持续时间 | 事件大类 | 事件类别 | 内容类型 | 事件内容 | 备注 | Tag | 状态 | \n",
       "|---|---|---|---|---|---|---|---|---|---|\n",
       "| 2017-02-09 00:00 | 450              | 未分类           | 睡觉             | 未分类           |                  |                  | NA               | 已完成           | \n",
       "| 2017-02-09 07:30 |  30              | 未分类           | 杂事             | 未分类           | 吃饭             |                  | NA               | 已完成           | \n",
       "| 2017-02-09 08:00 | 240              | 未分类           | 工作             | 未分类           | 家教             |                  | NA               | 已完成           | \n",
       "| 2017-02-09 12:00 |  30              | 未分类           | 杂事             | 未分类           | 吃饭             |                  | NA               | 已完成           | \n",
       "| 2017-02-09 12:30 |  30              | 未分类           | 睡觉             | 未分类           | 午睡             |                  | NA               | 已完成           | \n",
       "| 2017-02-09 13:00 | 240              | 未分类           | 工作             | 未分类           | 家教             |                  | NA               | 已完成           | \n",
       "| 2017-02-09 17:00 |  60              | 未分类           | 浪费了           | 未分类           |                  |                  | NA               | 已完成           | \n",
       "| 2017-02-09 18:00 |  30              | 未分类           | 杂事             | 未分类           | 收拾             |                  | NA               | 已完成           | \n",
       "| 2017-02-09 18:30 | 120              | 未分类           | 工作             | 未分类           | 家教             |                  | NA               | 已完成           | \n",
       "| 2017-02-09 20:30 |  30              | 未分类           | 杂事             | 未分类           |                  |                  | NA               | 已完成           | \n",
       "\n",
       "\n"
      ],
      "text/plain": [
       "   开始时间         持续时间 事件大类 事件类别 内容类型 事件内容 备注 Tag\n",
       "1  2017-02-09 00:00 450      未分类   睡觉     未分类                 NA \n",
       "2  2017-02-09 07:30  30      未分类   杂事     未分类   吃饭          NA \n",
       "3  2017-02-09 08:00 240      未分类   工作     未分类   家教          NA \n",
       "4  2017-02-09 12:00  30      未分类   杂事     未分类   吃饭          NA \n",
       "5  2017-02-09 12:30  30      未分类   睡觉     未分类   午睡          NA \n",
       "6  2017-02-09 13:00 240      未分类   工作     未分类   家教          NA \n",
       "7  2017-02-09 17:00  60      未分类   浪费了   未分类                 NA \n",
       "8  2017-02-09 18:00  30      未分类   杂事     未分类   收拾          NA \n",
       "9  2017-02-09 18:30 120      未分类   工作     未分类   家教          NA \n",
       "10 2017-02-09 20:30  30      未分类   杂事     未分类                 NA \n",
       "   状态  \n",
       "1  已完成\n",
       "2  已完成\n",
       "3  已完成\n",
       "4  已完成\n",
       "5  已完成\n",
       "6  已完成\n",
       "7  已完成\n",
       "8  已完成\n",
       "9  已完成\n",
       "10 已完成"
      ]
     },
     "metadata": {},
     "output_type": "display_data"
    }
   ],
   "source": [
    "mydata = read.csv(file=\"export.csv\", header=TRUE, sep=\",\")\n",
    "mydata[1 : 10, ]"
   ]
  },
  {
   "cell_type": "code",
   "execution_count": 7,
   "metadata": {},
   "outputs": [],
   "source": [
    "write.csv(mydata,\"output.csv\")"
   ]
  },
  {
   "cell_type": "code",
   "execution_count": null,
   "metadata": {},
   "outputs": [],
   "source": []
  }
 ],
 "metadata": {
  "kernelspec": {
   "display_name": "R",
   "language": "R",
   "name": "ir"
  },
  "language_info": {
   "codemirror_mode": "r",
   "file_extension": ".r",
   "mimetype": "text/x-r-source",
   "name": "R",
   "pygments_lexer": "r",
   "version": "3.5.1"
  }
 },
 "nbformat": 4,
 "nbformat_minor": 2
}
