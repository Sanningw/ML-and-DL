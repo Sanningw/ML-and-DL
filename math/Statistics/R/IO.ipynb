{
 "cells": [
  {
   "cell_type": "markdown",
   "metadata": {},
   "source": [
    "## 导入脚本"
   ]
  },
  {
   "cell_type": "code",
   "execution_count": 5,
   "metadata": {},
   "outputs": [
    {
     "name": "stdout",
     "output_type": "stream",
     "text": [
      "[1] \"Hello, wordl!\"\n"
     ]
    }
   ],
   "source": [
    "source(\"test.R\")"
   ]
  },
  {
   "cell_type": "code",
   "execution_count": 1,
   "metadata": {},
   "outputs": [
    {
     "data": {
      "text/html": [
       "<h3>Demos</h3>\n",
       "<table>\n",
       "<thead><tr><th scope=col>Package</th><th scope=col>Item</th><th scope=col>Title</th></tr></thead>\n",
       "<tbody>\n",
       "\t<tr><td><span style=white-space:pre-wrap>stats    </span>                                                                                                                  </td><td><span style=white-space:pre-wrap>glm.vr        </span>                                                                                                             </td><td><span style=white-space:pre-wrap>Some glm() examples from V&amp;R with several predictors                                                                   </span></td></tr>\n",
       "\t<tr><td>stats                                                                                                                  </td><td>lm.glm                                                                                                                 </td><td>Some linear and generalized linear modelling examples from `An Introduction to Statistical Modelling' by Annette Dobson</td></tr>\n",
       "\t<tr><td>stats                                                                                                                  </td><td>nlm                                                                                                                    </td><td>Nonlinear least-squares using nlm()                                                                                    </td></tr>\n",
       "\t<tr><td>stats                                                                                                                  </td><td>smooth                                                                                                                 </td><td>`Visualize' steps in Tukey's smoothers                                                                                 </td></tr>\n",
       "\t<tr><td>graphics                                                                                                               </td><td>Hershey                                                                                                                </td><td>Tables of the characters in the Hershey vector fonts                                                                   </td></tr>\n",
       "\t<tr><td>graphics                                                                                                               </td><td>Japanese                                                                                                               </td><td>Tables of the Japanese characters in the Hershey vector fonts                                                          </td></tr>\n",
       "\t<tr><td>graphics                                                                                                               </td><td>graphics                                                                                                               </td><td>A show of some of R's graphics capabilities                                                                            </td></tr>\n",
       "\t<tr><td>graphics                                                                                                               </td><td>image                                                                                                                  </td><td>The image-like graphics builtins of R                                                                                  </td></tr>\n",
       "\t<tr><td>graphics                                                                                                               </td><td>persp                                                                                                                  </td><td>Extended persp() examples                                                                                              </td></tr>\n",
       "\t<tr><td>graphics                                                                                                               </td><td>plotmath                                                                                                               </td><td>Examples of the use of mathematics annotation                                                                          </td></tr>\n",
       "\t<tr><td>grDevices                                                                                                              </td><td>colors                                                                                                                 </td><td>A show of R's predefined colors()                                                                                      </td></tr>\n",
       "\t<tr><td>grDevices                                                                                                              </td><td>hclColors                                                                                                              </td><td>Exploration of hcl() space                                                                                             </td></tr>\n",
       "\t<tr><td>base                                                                                                                   </td><td>error.catching                                                                                                         </td><td>More examples on catching and handling errors                                                                          </td></tr>\n",
       "\t<tr><td>base                                                                                                                   </td><td>is.things                                                                                                              </td><td>Explore some properties of R objects and is.FOO() functions. Not for newbies!                                          </td></tr>\n",
       "\t<tr><td>base                                                                                                                   </td><td>recursion                                                                                                              </td><td>Using recursion for adaptive integration                                                                               </td></tr>\n",
       "\t<tr><td>base                                                                                                                   </td><td>scoping                                                                                                                </td><td>An illustration of lexical scoping.                                                                                    </td></tr>\n",
       "</tbody>\n",
       "</table>\n",
       "\n",
       "<p>Use ‘demo(package = .packages(all.available = TRUE))’\n",
       "to list the demos in all *available* packages.</p>"
      ],
      "text/plain": [
       "Demos in package ‘base’:\n",
       "\n",
       "error.catching          More examples on catching and handling errors\n",
       "is.things               Explore some properties of R objects and\n",
       "                        is.FOO() functions. Not for newbies!\n",
       "recursion               Using recursion for adaptive integration\n",
       "scoping                 An illustration of lexical scoping.\n",
       "Demos in package ‘graphics’:\n",
       "\n",
       "Hershey                 Tables of the characters in the Hershey vector\n",
       "                        fonts\n",
       "Japanese                Tables of the Japanese characters in the\n",
       "                        Hershey vector fonts\n",
       "graphics                A show of some of R's graphics capabilities\n",
       "image                   The image-like graphics builtins of R\n",
       "persp                   Extended persp() examples\n",
       "plotmath                Examples of the use of mathematics annotation\n",
       "Demos in package ‘grDevices’:\n",
       "\n",
       "colors                  A show of R's predefined colors()\n",
       "hclColors               Exploration of hcl() space\n",
       "Demos in package ‘stats’:\n",
       "\n",
       "glm.vr                  Some glm() examples from V&R with several\n",
       "                        predictors\n",
       "lm.glm                  Some linear and generalized linear modelling\n",
       "                        examples from `An Introduction to Statistical\n",
       "                        Modelling' by Annette Dobson\n",
       "nlm                     Nonlinear least-squares using nlm()\n",
       "smooth                  `Visualize' steps in Tukey's smoothers\n",
       "\n",
       "Use ‘demo(package = .packages(all.available = TRUE))’\n",
       "to list the demos in all *available* packages."
      ]
     },
     "metadata": {},
     "output_type": "display_data"
    }
   ],
   "source": [
    "demo()"
   ]
  },
  {
   "cell_type": "code",
   "execution_count": null,
   "metadata": {},
   "outputs": [],
   "source": []
  }
 ],
 "metadata": {
  "kernelspec": {
   "display_name": "R",
   "language": "R",
   "name": "ir"
  },
  "language_info": {
   "codemirror_mode": "r",
   "file_extension": ".r",
   "mimetype": "text/x-r-source",
   "name": "R",
   "pygments_lexer": "r",
   "version": "3.5.1"
  }
 },
 "nbformat": 4,
 "nbformat_minor": 2
}
