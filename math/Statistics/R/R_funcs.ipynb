{
 "cells": [
  {
   "cell_type": "markdown",
   "metadata": {},
   "source": [
    "# 生成随机数"
   ]
  },
  {
   "cell_type": "markdown",
   "metadata": {},
   "source": [
    "|参数|功能|\n",
    "|:---:|:---:|\n",
    "|d|返回概率密度函数值，$f(x)$在x=z处的函数值|\n",
    "|p|返回累积密度函数(cdf)，等价于$P[X\\geq z]$|\n",
    "|q|返回逆累积密度函数(对应的分位数)|\n",
    "|r|返回随机生成的数字|"
   ]
  },
  {
   "cell_type": "markdown",
   "metadata": {},
   "source": [
    "## 正态分布"
   ]
  },
  {
   "cell_type": "markdown",
   "metadata": {},
   "source": [
    "### rnorm（n，mean = 0，sd = 1）"
   ]
  },
  {
   "cell_type": "code",
   "execution_count": 15,
   "metadata": {},
   "outputs": [
    {
     "data": {
      "text/html": [
       "<ol class=list-inline>\n",
       "\t<li>-0.212478403312058</li>\n",
       "\t<li>0.568270307375698</li>\n",
       "\t<li>1.60368974479077</li>\n",
       "\t<li>-0.943502423160869</li>\n",
       "\t<li>-0.158142624519532</li>\n",
       "\t<li>0.0570939564310772</li>\n",
       "\t<li>-0.259809558287039</li>\n",
       "\t<li>-0.642938834008997</li>\n",
       "\t<li>2.02613162503495</li>\n",
       "\t<li>-2.16696299148681</li>\n",
       "</ol>\n"
      ],
      "text/latex": [
       "\\begin{enumerate*}\n",
       "\\item -0.212478403312058\n",
       "\\item 0.568270307375698\n",
       "\\item 1.60368974479077\n",
       "\\item -0.943502423160869\n",
       "\\item -0.158142624519532\n",
       "\\item 0.0570939564310772\n",
       "\\item -0.259809558287039\n",
       "\\item -0.642938834008997\n",
       "\\item 2.02613162503495\n",
       "\\item -2.16696299148681\n",
       "\\end{enumerate*}\n"
      ],
      "text/markdown": [
       "1. -0.212478403312058\n",
       "2. 0.568270307375698\n",
       "3. 1.60368974479077\n",
       "4. -0.943502423160869\n",
       "5. -0.158142624519532\n",
       "6. 0.0570939564310772\n",
       "7. -0.259809558287039\n",
       "8. -0.642938834008997\n",
       "9. 2.02613162503495\n",
       "10. -2.16696299148681\n",
       "\n",
       "\n"
      ],
      "text/plain": [
       " [1] -0.21247840  0.56827031  1.60368974 -0.94350242 -0.15814262  0.05709396\n",
       " [7] -0.25980956 -0.64293883  2.02613163 -2.16696299"
      ]
     },
     "metadata": {},
     "output_type": "display_data"
    }
   ],
   "source": [
    "rnorm(10,0,1)  #等效于rnorm(10, mean = 0, sd = 1)"
   ]
  },
  {
   "cell_type": "markdown",
   "metadata": {},
   "source": [
    "#### dnorm（x，mean = 0，sd = 1，log = FALSE），返回正态分布的概率密度函数的值；dnorm（z）表示标准正态分布密度函数f（x）在x=z处的函数值；log为TRUE时，函数返回值不再是正态分布而是对数分布"
   ]
  },
  {
   "cell_type": "code",
   "execution_count": 21,
   "metadata": {},
   "outputs": [
    {
     "data": {
      "text/html": [
       "0.398942280401433"
      ],
      "text/latex": [
       "0.398942280401433"
      ],
      "text/markdown": [
       "0.398942280401433"
      ],
      "text/plain": [
       "[1] 0.3989423"
      ]
     },
     "metadata": {},
     "output_type": "display_data"
    },
    {
     "data": {
      "text/html": [
       "0.398942280401433"
      ],
      "text/latex": [
       "0.398942280401433"
      ],
      "text/markdown": [
       "0.398942280401433"
      ],
      "text/plain": [
       "[1] 0.3989423"
      ]
     },
     "metadata": {},
     "output_type": "display_data"
    }
   ],
   "source": [
    "dnorm(1, mean = 1, sd = 1, log = FALSE)\n",
    "dnorm(0)"
   ]
  },
  {
   "cell_type": "markdown",
   "metadata": {},
   "source": [
    "#### pnorm（q，mean = 0，sd = 1，lower.tail = TRUE，log.p = FALSE）,返回值是正态分布的分布函数值，比如pnorm（z）等价于P[X≤z]"
   ]
  },
  {
   "cell_type": "code",
   "execution_count": 22,
   "metadata": {},
   "outputs": [
    {
     "data": {
      "text/html": [
       "0.5"
      ],
      "text/latex": [
       "0.5"
      ],
      "text/markdown": [
       "0.5"
      ],
      "text/plain": [
       "[1] 0.5"
      ]
     },
     "metadata": {},
     "output_type": "display_data"
    },
    {
     "data": {
      "text/html": [
       "0.5"
      ],
      "text/latex": [
       "0.5"
      ],
      "text/markdown": [
       "0.5"
      ],
      "text/plain": [
       "[1] 0.5"
      ]
     },
     "metadata": {},
     "output_type": "display_data"
    }
   ],
   "source": [
    "pnorm(1, mean = 1, sd = 1, log = FALSE)\n",
    "pnorm(0)"
   ]
  },
  {
   "cell_type": "markdown",
   "metadata": {},
   "source": [
    "#### qnorm（p，mean = 0，sd = 1，lower.tail = TRUE，log.p = FALSE），返回值是给定概率p后的对应分位点"
   ]
  },
  {
   "cell_type": "code",
   "execution_count": 30,
   "metadata": {},
   "outputs": [
    {
     "data": {
      "text/html": [
       "2.03643338949379"
      ],
      "text/latex": [
       "2.03643338949379"
      ],
      "text/markdown": [
       "2.03643338949379"
      ],
      "text/plain": [
       "[1] 2.036433"
      ]
     },
     "metadata": {},
     "output_type": "display_data"
    },
    {
     "data": {
      "text/html": [
       "0"
      ],
      "text/latex": [
       "0"
      ],
      "text/markdown": [
       "0"
      ],
      "text/plain": [
       "[1] 0"
      ]
     },
     "metadata": {},
     "output_type": "display_data"
    }
   ],
   "source": [
    "qnorm(.85, mean = 1, sd = 1, log = FALSE)\n",
    "qnorm(.5)"
   ]
  },
  {
   "cell_type": "code",
   "execution_count": 35,
   "metadata": {},
   "outputs": [
    {
     "data": {
      "text/html": [
       "<ol class=list-inline>\n",
       "\t<li>835.514637304853</li>\n",
       "\t<li>1164.48536269515</li>\n",
       "</ol>\n"
      ],
      "text/latex": [
       "\\begin{enumerate*}\n",
       "\\item 835.514637304853\n",
       "\\item 1164.48536269515\n",
       "\\end{enumerate*}\n"
      ],
      "text/markdown": [
       "1. 835.514637304853\n",
       "2. 1164.48536269515\n",
       "\n",
       "\n"
      ],
      "text/plain": [
       "[1]  835.5146 1164.4854"
      ]
     },
     "metadata": {},
     "output_type": "display_data"
    }
   ],
   "source": [
    "qnorm(c(0.05, 0.95),mean=1000,sd=100)    #1000的90%置信区间对应分位点"
   ]
  },
  {
   "cell_type": "markdown",
   "metadata": {},
   "source": [
    "## t分布"
   ]
  },
  {
   "cell_type": "markdown",
   "metadata": {},
   "source": [
    "### rnorm（n，mean = 0，sd = 1）"
   ]
  },
  {
   "cell_type": "code",
   "execution_count": 14,
   "metadata": {},
   "outputs": [
    {
     "data": {
      "text/html": [
       "<ol class=list-inline>\n",
       "\t<li>32</li>\n",
       "\t<li>33</li>\n",
       "\t<li>34</li>\n",
       "\t<li>35</li>\n",
       "\t<li>36</li>\n",
       "\t<li>37</li>\n",
       "\t<li>38</li>\n",
       "\t<li>39</li>\n",
       "\t<li>40</li>\n",
       "\t<li>41</li>\n",
       "\t<li>42</li>\n",
       "\t<li>43</li>\n",
       "\t<li>44</li>\n",
       "</ol>\n"
      ],
      "text/latex": [
       "\\begin{enumerate*}\n",
       "\\item 32\n",
       "\\item 33\n",
       "\\item 34\n",
       "\\item 35\n",
       "\\item 36\n",
       "\\item 37\n",
       "\\item 38\n",
       "\\item 39\n",
       "\\item 40\n",
       "\\item 41\n",
       "\\item 42\n",
       "\\item 43\n",
       "\\item 44\n",
       "\\end{enumerate*}\n"
      ],
      "text/markdown": [
       "1. 32\n",
       "2. 33\n",
       "3. 34\n",
       "4. 35\n",
       "5. 36\n",
       "6. 37\n",
       "7. 38\n",
       "8. 39\n",
       "9. 40\n",
       "10. 41\n",
       "11. 42\n",
       "12. 43\n",
       "13. 44\n",
       "\n",
       "\n"
      ],
      "text/plain": [
       " [1] 32 33 34 35 36 37 38 39 40 41 42 43 44"
      ]
     },
     "metadata": {},
     "output_type": "display_data"
    },
    {
     "data": {
      "text/html": [
       "'integer'"
      ],
      "text/latex": [
       "'integer'"
      ],
      "text/markdown": [
       "'integer'"
      ],
      "text/plain": [
       "[1] \"integer\""
      ]
     },
     "metadata": {},
     "output_type": "display_data"
    }
   ],
   "source": [
    "seq(32,44)\n",
    "class(seq(32,44))"
   ]
  },
  {
   "cell_type": "code",
   "execution_count": null,
   "metadata": {},
   "outputs": [],
   "source": []
  }
 ],
 "metadata": {
  "kernelspec": {
   "display_name": "R",
   "language": "R",
   "name": "ir"
  },
  "language_info": {
   "codemirror_mode": "r",
   "file_extension": ".r",
   "mimetype": "text/x-r-source",
   "name": "R",
   "pygments_lexer": "r",
   "version": "3.5.1"
  }
 },
 "nbformat": 4,
 "nbformat_minor": 2
}
