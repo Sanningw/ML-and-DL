{
 "cells": [
  {
   "cell_type": "markdown",
   "metadata": {
    "toc-hr-collapsed": false
   },
   "source": [
    "# 生成分布随机数"
   ]
  },
  {
   "cell_type": "markdown",
   "metadata": {},
   "source": [
    "|参数|功能|\n",
    "|:---:|:---:|\n",
    "|r|返回随机生成的数字|\n",
    "|d|返回概率密度函数值，$f(x = z)$|\n",
    "|p|返回累积密度函数(cdf)，等价于$P[X\\leq z]$|\n",
    "|q|返回逆累积密度函数(对应的分位数)|"
   ]
  },
  {
   "cell_type": "markdown",
   "metadata": {
    "toc-hr-collapsed": true
   },
   "source": [
    "## 正态分布，$X \\sim N(\\mu,\\sigma^{2})$"
   ]
  },
  {
   "cell_type": "markdown",
   "metadata": {},
   "source": [
    "[正态分布](https://zh.wikipedia.org/wiki/正态分布)：$E = \\mu, Var = \\sigma^2$，概率密度函数：$\\frac1{\\sigma\\sqrt{2\\pi}}\\; \\exp\\left(-\\frac{\\left(x-\\mu\\right)^2}{2\\sigma^2} \\right) \\!$"
   ]
  },
  {
   "cell_type": "markdown",
   "metadata": {},
   "source": [
    "K-S散度"
   ]
  },
  {
   "cell_type": "code",
   "execution_count": 49,
   "metadata": {},
   "outputs": [
    {
     "data": {
      "text/plain": [
       "\n",
       "\tOne-sample Kolmogorov-Smirnov test\n",
       "\n",
       "data:  rnorm(100)\n",
       "D = 0.061678, p-value = 0.8413\n",
       "alternative hypothesis: two-sided\n"
      ]
     },
     "metadata": {},
     "output_type": "display_data"
    }
   ],
   "source": [
    "ks.test(rnorm(100),'pnorm',alternative = 'two.sided')"
   ]
  },
  {
   "cell_type": "markdown",
   "metadata": {
    "toc-hr-collapsed": false
   },
   "source": [
    "#### rnorm（n，mean = 0，sd = 1）"
   ]
  },
  {
   "cell_type": "code",
   "execution_count": 205,
   "metadata": {},
   "outputs": [
    {
     "name": "stdout",
     "output_type": "stream",
     "text": [
      " [1]  0.9041245 -0.4704379  1.2161526  1.5277645 -0.8121163 -0.7178396\n",
      " [7] -1.2273338 -0.6300887  0.5166825 -0.7965553\n"
     ]
    }
   ],
   "source": [
    "print(rnorm(10,0,1))  #等效于rnorm(10, mean = 0, sd = 1)"
   ]
  },
  {
   "cell_type": "markdown",
   "metadata": {},
   "source": [
    "#### dnorm（x，mean = 0，sd = 1，log = FALSE），返回正态分布的概率密度函数的值；dnorm（z）表示标准正态分布密度函数f（x）在x=z处的函数值；log为TRUE时，函数返回值不再是正态分布而是对数分布"
   ]
  },
  {
   "cell_type": "code",
   "execution_count": 21,
   "metadata": {},
   "outputs": [
    {
     "data": {
      "text/html": [
       "0.398942280401433"
      ],
      "text/latex": [
       "0.398942280401433"
      ],
      "text/markdown": [
       "0.398942280401433"
      ],
      "text/plain": [
       "[1] 0.3989423"
      ]
     },
     "metadata": {},
     "output_type": "display_data"
    },
    {
     "data": {
      "text/html": [
       "0.398942280401433"
      ],
      "text/latex": [
       "0.398942280401433"
      ],
      "text/markdown": [
       "0.398942280401433"
      ],
      "text/plain": [
       "[1] 0.3989423"
      ]
     },
     "metadata": {},
     "output_type": "display_data"
    }
   ],
   "source": [
    "dnorm(1, mean = 1, sd = 1, log = FALSE)\n",
    "dnorm(0)"
   ]
  },
  {
   "cell_type": "markdown",
   "metadata": {},
   "source": [
    "#### pnorm（q，mean = 0，sd = 1，lower.tail = TRUE，log.p = FALSE）,返回值是正态分布的分布函数值，比如pnorm（z）等价于P[X≤z]"
   ]
  },
  {
   "cell_type": "code",
   "execution_count": 22,
   "metadata": {},
   "outputs": [
    {
     "data": {
      "text/html": [
       "0.5"
      ],
      "text/latex": [
       "0.5"
      ],
      "text/markdown": [
       "0.5"
      ],
      "text/plain": [
       "[1] 0.5"
      ]
     },
     "metadata": {},
     "output_type": "display_data"
    },
    {
     "data": {
      "text/html": [
       "0.5"
      ],
      "text/latex": [
       "0.5"
      ],
      "text/markdown": [
       "0.5"
      ],
      "text/plain": [
       "[1] 0.5"
      ]
     },
     "metadata": {},
     "output_type": "display_data"
    }
   ],
   "source": [
    "pnorm(1, mean = 1, sd = 1, log = FALSE)\n",
    "pnorm(0)"
   ]
  },
  {
   "cell_type": "markdown",
   "metadata": {},
   "source": [
    "#### qnorm（p，mean = 0，sd = 1，lower.tail = TRUE，log.p = FALSE），返回值是给定概率p后的对应分位点"
   ]
  },
  {
   "cell_type": "code",
   "execution_count": 30,
   "metadata": {},
   "outputs": [
    {
     "data": {
      "text/html": [
       "2.03643338949379"
      ],
      "text/latex": [
       "2.03643338949379"
      ],
      "text/markdown": [
       "2.03643338949379"
      ],
      "text/plain": [
       "[1] 2.036433"
      ]
     },
     "metadata": {},
     "output_type": "display_data"
    },
    {
     "data": {
      "text/html": [
       "0"
      ],
      "text/latex": [
       "0"
      ],
      "text/markdown": [
       "0"
      ],
      "text/plain": [
       "[1] 0"
      ]
     },
     "metadata": {},
     "output_type": "display_data"
    }
   ],
   "source": [
    "qnorm(.85, mean = 1, sd = 1, log = FALSE)\n",
    "qnorm(.5)"
   ]
  },
  {
   "cell_type": "code",
   "execution_count": 35,
   "metadata": {},
   "outputs": [
    {
     "data": {
      "text/html": [
       "<ol class=list-inline>\n",
       "\t<li>835.514637304853</li>\n",
       "\t<li>1164.48536269515</li>\n",
       "</ol>\n"
      ],
      "text/latex": [
       "\\begin{enumerate*}\n",
       "\\item 835.514637304853\n",
       "\\item 1164.48536269515\n",
       "\\end{enumerate*}\n"
      ],
      "text/markdown": [
       "1. 835.514637304853\n",
       "2. 1164.48536269515\n",
       "\n",
       "\n"
      ],
      "text/plain": [
       "[1]  835.5146 1164.4854"
      ]
     },
     "metadata": {},
     "output_type": "display_data"
    }
   ],
   "source": [
    "qnorm(c(0.05, 0.95),mean=1000,sd=100)    #1000的90%置信区间对应分位点"
   ]
  },
  {
   "cell_type": "markdown",
   "metadata": {
    "toc-hr-collapsed": true
   },
   "source": [
    "## 均匀分布，$X \\sim B(n, p)$"
   ]
  },
  {
   "cell_type": "markdown",
   "metadata": {
    "toc-hr-collapsed": true
   },
   "source": [
    "## 二项分布(n重伯努利)，$X \\sim B(n, p)$"
   ]
  },
  {
   "cell_type": "markdown",
   "metadata": {},
   "source": [
    "n次伯努利试验中得到x次成功/失败的离散概率分布称为[二项分布](https://zh.wikipedia.org/wiki/%E4%BA%8C%E9%A0%85%E5%88%86%E4%BD%88)，$E = np, Var = np(1-p)$，概率质量函数：${\\displaystyle f(k;n,p)=\\Pr(X=k)={n \\choose k}p^{k}(1-p)^{n-k}}$"
   ]
  },
  {
   "cell_type": "markdown",
   "metadata": {
    "toc-hr-collapsed": true
   },
   "source": [
    "#### rbinom(n, size, prob)，从给定样本产生给定概率的所需数量的随机值，size：试次，大于0"
   ]
  },
  {
   "cell_type": "code",
   "execution_count": 97,
   "metadata": {},
   "outputs": [
    {
     "name": "stdout",
     "output_type": "stream",
     "text": [
      "[1] 183 217 192 209 210 197 193 192\n"
     ]
    }
   ],
   "source": [
    "print(rbinom(8,500,.4))"
   ]
  },
  {
   "cell_type": "markdown",
   "metadata": {
    "toc-hr-collapsed": true
   },
   "source": [
    "#### dbinom(x, size, prob, log = FALSE)，给出每个点的概率密度分布，返回&ensp;$f(x)$"
   ]
  },
  {
   "cell_type": "code",
   "execution_count": 99,
   "metadata": {},
   "outputs": [
    {
     "name": "stdout",
     "output_type": "stream",
     "text": [
      "[1] 0.03639907\n"
     ]
    }
   ],
   "source": [
    "print(dbinom(200,500,.4))"
   ]
  },
  {
   "cell_type": "code",
   "execution_count": 101,
   "metadata": {},
   "outputs": [
    {
     "data": {
      "text/html": [
       "0.0363990653471355"
      ],
      "text/latex": [
       "0.0363990653471355"
      ],
      "text/markdown": [
       "0.0363990653471355"
      ],
      "text/plain": [
       "[1] 0.03639907"
      ]
     },
     "metadata": {},
     "output_type": "display_data"
    }
   ],
   "source": [
    "choose(500,200)*0.4^200*0.6^300    #使用排列函数choose计算"
   ]
  },
  {
   "cell_type": "markdown",
   "metadata": {
    "toc-hr-collapsed": true
   },
   "source": [
    "#### pbinom(q, size, prob, lower.tail = TRUE, log.p = FALSE)，给出事件的累积概率，返回&ensp;$P[X\\leq q]$"
   ]
  },
  {
   "cell_type": "code",
   "execution_count": 108,
   "metadata": {},
   "outputs": [
    {
     "name": "stdout",
     "output_type": "stream",
     "text": [
      "[1] 0.5194108\n"
     ]
    }
   ],
   "source": [
    "print(pbinom(200,500,.4))"
   ]
  },
  {
   "cell_type": "markdown",
   "metadata": {
    "toc-hr-collapsed": true
   },
   "source": [
    "#### qbinom(p, size, prob, lower.tail = TRUE, log.p = FALSE)，返回逆累积密度函数(对应的分位数)"
   ]
  },
  {
   "cell_type": "code",
   "execution_count": 107,
   "metadata": {},
   "outputs": [
    {
     "name": "stdout",
     "output_type": "stream",
     "text": [
      "[1] 200\n"
     ]
    }
   ],
   "source": [
    "print(qbinom(.5, 500, .4))"
   ]
  },
  {
   "cell_type": "markdown",
   "metadata": {
    "toc-hr-collapsed": true
   },
   "source": [
    "## 几何分布，$X\\sim Pr(p)$"
   ]
  },
  {
   "cell_type": "markdown",
   "metadata": {},
   "source": [
    "$E = \\frac{1}{p}, Var = \\frac{1-p}{p^2}$，概率质量函数：$\\Pr(X=k)=(1-p)^{{k-1}}p$，n重伯努利试验进行到某种结果出现第一次为止，此时的试验总次数服从[几何分布](https://zh.wikipedia.org/wiki/%E5%B9%BE%E4%BD%95%E5%88%86%E4%BD%88)"
   ]
  },
  {
   "cell_type": "markdown",
   "metadata": {},
   "source": [
    "#### rgeom(n, prob)"
   ]
  },
  {
   "cell_type": "code",
   "execution_count": 137,
   "metadata": {},
   "outputs": [
    {
     "name": "stdout",
     "output_type": "stream",
     "text": [
      "[1]  1  0 10  0  1\n"
     ]
    }
   ],
   "source": [
    "print(rgeom(5, .5))"
   ]
  },
  {
   "cell_type": "markdown",
   "metadata": {},
   "source": [
    "#### dgeom(x, prob, log = FALSE)"
   ]
  },
  {
   "cell_type": "code",
   "execution_count": 153,
   "metadata": {},
   "outputs": [
    {
     "data": {
      "text/html": [
       "0.25"
      ],
      "text/latex": [
       "0.25"
      ],
      "text/markdown": [
       "0.25"
      ],
      "text/plain": [
       "[1] 0.25"
      ]
     },
     "metadata": {},
     "output_type": "display_data"
    }
   ],
   "source": [
    "dgeom(1, .5)    #此处应是0.5，不知有何问题"
   ]
  },
  {
   "cell_type": "markdown",
   "metadata": {},
   "source": [
    "#### pgeom(q, prob, lower.tail = TRUE, log.p = FALSE)"
   ]
  },
  {
   "cell_type": "code",
   "execution_count": 151,
   "metadata": {},
   "outputs": [
    {
     "data": {
      "text/html": [
       "0.9921875"
      ],
      "text/latex": [
       "0.9921875"
      ],
      "text/markdown": [
       "0.9921875"
      ],
      "text/plain": [
       "[1] 0.9921875"
      ]
     },
     "metadata": {},
     "output_type": "display_data"
    }
   ],
   "source": [
    "pgeom(6, .5)"
   ]
  },
  {
   "cell_type": "markdown",
   "metadata": {},
   "source": [
    "#### qgeom(p, prob, lower.tail = TRUE, log.p = FALSE)"
   ]
  },
  {
   "cell_type": "code",
   "execution_count": 156,
   "metadata": {},
   "outputs": [
    {
     "data": {
      "text/html": [
       "0"
      ],
      "text/latex": [
       "0"
      ],
      "text/markdown": [
       "0"
      ],
      "text/plain": [
       "[1] 0"
      ]
     },
     "metadata": {},
     "output_type": "display_data"
    }
   ],
   "source": [
    "qgeom(.5, prob = .5)"
   ]
  },
  {
   "cell_type": "markdown",
   "metadata": {
    "toc-hr-collapsed": true
   },
   "source": [
    "## 超几何分布，$X \\sim H(n, K, N)$"
   ]
  },
  {
   "cell_type": "markdown",
   "metadata": {},
   "source": [
    "$E = n\\frac{k}{N}, Var = \\displaystyle n{k \\over N}{(N-k) \\over N}{N-n \\over N-1}$，概率质量函数：$f(k;n,K,N)={{{K \\choose k}{{N-K} \\choose {n-k}}} \\over {N \\choose n}}$，N个样本n次伯努利试验中抽到K个指定样本k次的概率(不放回)，n=1则[超几何分布](https://zh.wikipedia.org/wiki/%E8%B6%85%E5%87%A0%E4%BD%95%E5%88%86%E5%B8%83)还原为伯努利分布"
   ]
  },
  {
   "cell_type": "markdown",
   "metadata": {},
   "source": [
    "m：白球数，n：黑球数，k：取球数"
   ]
  },
  {
   "cell_type": "markdown",
   "metadata": {},
   "source": [
    "#### rhyper(nn, m, n, k)"
   ]
  },
  {
   "cell_type": "code",
   "execution_count": 171,
   "metadata": {},
   "outputs": [
    {
     "name": "stdout",
     "output_type": "stream",
     "text": [
      "[1] 2 3 3 3\n"
     ]
    }
   ],
   "source": [
    "print(rhyper(4, 10, 5, 5))"
   ]
  },
  {
   "cell_type": "markdown",
   "metadata": {},
   "source": [
    "#### dhyper(x, m, n, k, log = FALSE)"
   ]
  },
  {
   "cell_type": "code",
   "execution_count": 172,
   "metadata": {},
   "outputs": [
    {
     "data": {
      "text/html": [
       "0.424242424242424"
      ],
      "text/latex": [
       "0.424242424242424"
      ],
      "text/markdown": [
       "0.424242424242424"
      ],
      "text/plain": [
       "[1] 0.4242424"
      ]
     },
     "metadata": {},
     "output_type": "display_data"
    }
   ],
   "source": [
    "dhyper(2, 5, 7, 4)  #白球5个，黑球7个，抽样4次取得2个白球"
   ]
  },
  {
   "cell_type": "markdown",
   "metadata": {},
   "source": [
    "#### phyper(q, m, n, k, lower.tail = TRUE, log.p = FALSE)"
   ]
  },
  {
   "cell_type": "code",
   "execution_count": 175,
   "metadata": {},
   "outputs": [
    {
     "data": {
      "text/html": [
       "0.848484848484849"
      ],
      "text/latex": [
       "0.848484848484849"
      ],
      "text/markdown": [
       "0.848484848484849"
      ],
      "text/plain": [
       "[1] 0.8484848"
      ]
     },
     "metadata": {},
     "output_type": "display_data"
    },
    {
     "data": {
      "text/html": [
       "0.848484848484849"
      ],
      "text/latex": [
       "0.848484848484849"
      ],
      "text/markdown": [
       "0.848484848484849"
      ],
      "text/plain": [
       "[1] 0.8484848"
      ]
     },
     "metadata": {},
     "output_type": "display_data"
    }
   ],
   "source": [
    "dhyper(0, 5, 7, 4) + dhyper(1, 5, 7, 4) + dhyper(2, 5, 7, 4)\n",
    "phyper(2, 5, 7, 4)"
   ]
  },
  {
   "cell_type": "markdown",
   "metadata": {},
   "source": [
    "#### qhyper(p, m, n, k, lower.tail = TRUE, log.p = FALSE)"
   ]
  },
  {
   "cell_type": "code",
   "execution_count": 179,
   "metadata": {},
   "outputs": [
    {
     "data": {
      "text/html": [
       "1"
      ],
      "text/latex": [
       "1"
      ],
      "text/markdown": [
       "1"
      ],
      "text/plain": [
       "[1] 1"
      ]
     },
     "metadata": {},
     "output_type": "display_data"
    },
    {
     "data": {
      "text/html": [
       "2"
      ],
      "text/latex": [
       "2"
      ],
      "text/markdown": [
       "2"
      ],
      "text/plain": [
       "[1] 2"
      ]
     },
     "metadata": {},
     "output_type": "display_data"
    }
   ],
   "source": [
    "qhyper(.42, 5, 7, 4)\n",
    "qhyper(.43, 5, 7, 4)    #向下取整"
   ]
  },
  {
   "cell_type": "markdown",
   "metadata": {
    "toc-hr-collapsed": true
   },
   "source": [
    "## 泊松分布，$X\\sim\\pi(\\lambda), X\\sim P(\\lambda)$"
   ]
  },
  {
   "cell_type": "markdown",
   "metadata": {},
   "source": [
    "$E = \\lambda, Var = \\lambda$，概率质量函数：$\\frac{\\lambda^k}{k!}e^{-\\lambda}$，事件在单位时间或面积内以强度λ随机且独立出现"
   ]
  },
  {
   "cell_type": "markdown",
   "metadata": {},
   "source": [
    "#### rpois(n, lambda)"
   ]
  },
  {
   "cell_type": "code",
   "execution_count": 181,
   "metadata": {},
   "outputs": [
    {
     "name": "stdout",
     "output_type": "stream",
     "text": [
      " [1] 5 7 1 4 1 1 2 2 3 4\n"
     ]
    }
   ],
   "source": [
    "print(rpois(10, 3))"
   ]
  },
  {
   "cell_type": "markdown",
   "metadata": {},
   "source": [
    "#### dpois(x, lambda, log = FALSE)"
   ]
  },
  {
   "cell_type": "code",
   "execution_count": 189,
   "metadata": {},
   "outputs": [
    {
     "data": {
      "text/html": [
       "0.100818813444924"
      ],
      "text/latex": [
       "0.100818813444924"
      ],
      "text/markdown": [
       "0.100818813444924"
      ],
      "text/plain": [
       "[1] 0.1008188"
      ]
     },
     "metadata": {},
     "output_type": "display_data"
    }
   ],
   "source": [
    "dpois(5, 3)"
   ]
  },
  {
   "cell_type": "markdown",
   "metadata": {},
   "source": [
    "#### ppois(q, lambda, lower.tail = TRUE, log.p = FALSE)"
   ]
  },
  {
   "cell_type": "code",
   "execution_count": 190,
   "metadata": {},
   "outputs": [
    {
     "data": {
      "text/html": [
       "0.423190081126844"
      ],
      "text/latex": [
       "0.423190081126844"
      ],
      "text/markdown": [
       "0.423190081126844"
      ],
      "text/plain": [
       "[1] 0.4231901"
      ]
     },
     "metadata": {},
     "output_type": "display_data"
    },
    {
     "data": {
      "text/html": [
       "0.423190081126844"
      ],
      "text/latex": [
       "0.423190081126844"
      ],
      "text/markdown": [
       "0.423190081126844"
      ],
      "text/plain": [
       "[1] 0.4231901"
      ]
     },
     "metadata": {},
     "output_type": "display_data"
    }
   ],
   "source": [
    "dpois(0, 3) + dpois(1, 3) + dpois(2, 3)\n",
    "ppois(2, 3)"
   ]
  },
  {
   "cell_type": "markdown",
   "metadata": {},
   "source": [
    "#### qpois(p, lambda, lower.tail = TRUE, log.p = FALSE)"
   ]
  },
  {
   "cell_type": "code",
   "execution_count": 191,
   "metadata": {},
   "outputs": [
    {
     "data": {
      "text/html": [
       "3"
      ],
      "text/latex": [
       "3"
      ],
      "text/markdown": [
       "3"
      ],
      "text/plain": [
       "[1] 3"
      ]
     },
     "metadata": {},
     "output_type": "display_data"
    }
   ],
   "source": [
    "qpois(.5, 3)"
   ]
  },
  {
   "cell_type": "markdown",
   "metadata": {
    "toc-hr-collapsed": true
   },
   "source": [
    "## 指数分布，$X\\sim Exp(\\lambda)$"
   ]
  },
  {
   "cell_type": "markdown",
   "metadata": {},
   "source": [
    "$E = \\lambda^{-1}, Var = \\lambda^{-2}$，概率质量函数：$\n",
    "f(x;\\lambda) = \\lambda e^{-\\lambda x}$，独立随机事件发生的时间间隔，此处参数为rate，对应$\\frac{1}{\\lambda}$"
   ]
  },
  {
   "cell_type": "markdown",
   "metadata": {},
   "source": [
    "#### rexp(n, rate = 1)"
   ]
  },
  {
   "cell_type": "code",
   "execution_count": 200,
   "metadata": {},
   "outputs": [
    {
     "name": "stdout",
     "output_type": "stream",
     "text": [
      "[1] 10.515722  2.056978  8.941149  6.528677  6.985397\n"
     ]
    }
   ],
   "source": [
    "print(rexp(5, .1))"
   ]
  },
  {
   "cell_type": "markdown",
   "metadata": {},
   "source": [
    "#### dexp(x, rate = 1, log = FALSE)"
   ]
  },
  {
   "cell_type": "code",
   "execution_count": 201,
   "metadata": {},
   "outputs": [
    {
     "data": {
      "text/html": [
       "0.367879441171442"
      ],
      "text/latex": [
       "0.367879441171442"
      ],
      "text/markdown": [
       "0.367879441171442"
      ],
      "text/plain": [
       "[1] 0.3678794"
      ]
     },
     "metadata": {},
     "output_type": "display_data"
    }
   ],
   "source": [
    "dexp(1, 1)"
   ]
  },
  {
   "cell_type": "code",
   "execution_count": null,
   "metadata": {},
   "outputs": [],
   "source": [
    "pexp(q, rate = 1, lower.tail = TRUE, log.p = FALSE)\n",
    "qexp(p, rate = 1, lower.tail = TRUE, log.p = FALSE)"
   ]
  },
  {
   "cell_type": "markdown",
   "metadata": {},
   "source": [
    "#### pexp(q, rate = 1, lower.tail = TRUE, log.p = FALSE)"
   ]
  },
  {
   "cell_type": "code",
   "execution_count": 203,
   "metadata": {},
   "outputs": [
    {
     "data": {
      "text/html": [
       "0.0951625819640404"
      ],
      "text/latex": [
       "0.0951625819640404"
      ],
      "text/markdown": [
       "0.0951625819640404"
      ],
      "text/plain": [
       "[1] 0.09516258"
      ]
     },
     "metadata": {},
     "output_type": "display_data"
    }
   ],
   "source": [
    "pexp(1, .1)"
   ]
  },
  {
   "cell_type": "markdown",
   "metadata": {},
   "source": [
    "#### qexp(p, rate = 1, lower.tail = TRUE, log.p = FALSE)"
   ]
  },
  {
   "cell_type": "code",
   "execution_count": 204,
   "metadata": {},
   "outputs": [
    {
     "data": {
      "text/html": [
       "0.693147180559945"
      ],
      "text/latex": [
       "0.693147180559945"
      ],
      "text/markdown": [
       "0.693147180559945"
      ],
      "text/plain": [
       "[1] 0.6931472"
      ]
     },
     "metadata": {},
     "output_type": "display_data"
    }
   ],
   "source": [
    "qexp(.5, 1)"
   ]
  },
  {
   "cell_type": "markdown",
   "metadata": {
    "toc-hr-collapsed": true
   },
   "source": [
    "## t分布，$Z\\sim t(df)$"
   ]
  },
  {
   "cell_type": "markdown",
   "metadata": {},
   "source": [
    "假设X服从标准正态分布$N(0,1)$，Y服从$\\chi ^{2}$分布，那么$Z=\\frac{X}{\\sqrt{\\frac{Y}{n}}}$的分布称为自由度为df的[t分布](https://zh.wikipedia.org/wiki/%E5%AD%A6%E7%94%9Ft-%E5%88%86%E5%B8%83),记为$Z\\sim t(df)$"
   ]
  },
  {
   "cell_type": "markdown",
   "metadata": {},
   "source": [
    "自由度df越小，t分布曲线愈平坦，曲线中间愈低，曲线双侧尾部翘得愈高；自由度df愈大，t分布曲线愈接近正态分布曲线，当自由度df=∞时，t分布曲线为标准正态分布曲线"
   ]
  },
  {
   "cell_type": "markdown",
   "metadata": {},
   "source": [
    "统计量：$t={\\frac{{\\overline {X}}_{n}-\\mu}{\\sqrt{\\frac{S^2}{n}}}}$，概率密度函数：${\\frac  {\\Gamma ((df +1)/2)}{{\\sqrt  {df \\pi }}\\,\\Gamma (df /2)\\,(1+x^{2}/df )^{{(df +1)/2}}}}\\!$"
   ]
  },
  {
   "cell_type": "markdown",
   "metadata": {},
   "source": [
    "#### rt(n, df, ncp), ncp为非中心化参数&ensp;$\\delta$，仅仅 可用abs(ncp)<=37.62的范围。如果忽略该参数，则使用中心分布"
   ]
  },
  {
   "cell_type": "code",
   "execution_count": 62,
   "metadata": {},
   "outputs": [
    {
     "name": "stdout",
     "output_type": "stream",
     "text": [
      "[1]  6.269172  9.161156 10.045868\n",
      "[1] 19.82308 21.98510 18.05173 22.59347\n",
      "[1] 26.78821 26.33829 37.51754 29.56637 29.07232\n"
     ]
    }
   ],
   "source": [
    "print(rt(3,df=10, ncp = 10))\n",
    "print(rt(4,df=20, ncp = 20))\n",
    "print(rt(5,df=30, ncp = 30))"
   ]
  },
  {
   "cell_type": "markdown",
   "metadata": {},
   "source": [
    "#### dt(x, df, ncp, log = FALSE)， 返回&ensp;$f(x)$"
   ]
  },
  {
   "cell_type": "code",
   "execution_count": 66,
   "metadata": {},
   "outputs": [
    {
     "data": {
      "text/html": [
       "0.058087215247357"
      ],
      "text/latex": [
       "0.058087215247357"
      ],
      "text/markdown": [
       "0.058087215247357"
      ],
      "text/plain": [
       "[1] 0.05808722"
      ]
     },
     "metadata": {},
     "output_type": "display_data"
    },
    {
     "data": {
      "text/html": [
       "0.0611457663212182"
      ],
      "text/latex": [
       "0.0611457663212182"
      ],
      "text/markdown": [
       "0.0611457663212182"
      ],
      "text/plain": [
       "[1] 0.06114577"
      ]
     },
     "metadata": {},
     "output_type": "display_data"
    },
    {
     "data": {
      "text/html": [
       "0.291241442144629"
      ],
      "text/latex": [
       "0.291241442144629"
      ],
      "text/markdown": [
       "0.291241442144629"
      ],
      "text/plain": [
       "[1] 0.2912414"
      ]
     },
     "metadata": {},
     "output_type": "display_data"
    }
   ],
   "source": [
    "dt(2, df = 20)\n",
    "dt(2, df = 10)\n",
    "dt(4, df = 10, ncp = 4)"
   ]
  },
  {
   "cell_type": "markdown",
   "metadata": {},
   "source": [
    "#### pt(q, df, ncp, lower.tail = TRUE, log.p = FALSE)，返回累积密度函数(cdf)，等价于$P[X\\leq q]$，lower.tail：TRUE (default), probabilities are P[X ≤ x], otherwise, P[X > x]"
   ]
  },
  {
   "cell_type": "code",
   "execution_count": 90,
   "metadata": {},
   "outputs": [
    {
     "data": {
      "text/html": [
       "0.481595887314792"
      ],
      "text/latex": [
       "0.481595887314792"
      ],
      "text/markdown": [
       "0.481595887314792"
      ],
      "text/plain": [
       "[1] 0.4815959"
      ]
     },
     "metadata": {},
     "output_type": "display_data"
    },
    {
     "data": {
      "text/html": [
       "0.518404112685208"
      ],
      "text/latex": [
       "0.518404112685208"
      ],
      "text/markdown": [
       "0.518404112685208"
      ],
      "text/plain": [
       "[1] 0.5184041"
      ]
     },
     "metadata": {},
     "output_type": "display_data"
    },
    {
     "data": {
      "text/html": [
       "1"
      ],
      "text/latex": [
       "1"
      ],
      "text/markdown": [
       "1"
      ],
      "text/plain": [
       "[1] 1"
      ]
     },
     "metadata": {},
     "output_type": "display_data"
    }
   ],
   "source": [
    "pt(4, df = 20, ncp = 4)\n",
    "pt(4, df = 20, ncp = 4, lower.tail = FALSE)\n",
    "pt(4, df = 20, ncp = 4) + pt(4, df = 20, ncp = 4, lower.tail = FALSE)"
   ]
  },
  {
   "cell_type": "markdown",
   "metadata": {},
   "source": [
    "#### qt(p, df, ncp, lower.tail = TRUE, log.p = FALSE)，返回逆累积密度函数(对应的分位数)"
   ]
  },
  {
   "cell_type": "code",
   "execution_count": 78,
   "metadata": {},
   "outputs": [
    {
     "data": {
      "text/html": [
       "4.05537018559056"
      ],
      "text/latex": [
       "4.05537018559056"
      ],
      "text/markdown": [
       "4.05537018559056"
      ],
      "text/plain": [
       "[1] 4.05537"
      ]
     },
     "metadata": {},
     "output_type": "display_data"
    }
   ],
   "source": [
    "qt(0.5, df = 20, ncp = 4)"
   ]
  },
  {
   "cell_type": "markdown",
   "metadata": {
    "toc-hr-collapsed": true
   },
   "source": [
    "## F分布，$X\\sim F(df_1,df_2)$"
   ]
  },
  {
   "cell_type": "markdown",
   "metadata": {},
   "source": [
    "设$X\\sim\\chi ^{2}(df_1),Y\\sim\\chi ^{2}(df_2)$，且X、Y独立，则随机变量$F=\\frac{X/df_1}{Y/df_2}$服从自由度为$(df_1,df_2)$的[F分布](https://zh.wikipedia.org/wiki/F-%E5%88%86%E5%B8%83)，ANOVA中可写作：$X={\\frac  {s_{1}^{2}}{\\sigma _{1}^{2}}}\\;/\\;{\\frac  {s_{2}^{2}}{\\sigma _{2}^{2}}}$"
   ]
  },
  {
   "cell_type": "markdown",
   "metadata": {},
   "source": [
    "$E = \\frac{df_{2}}{df_{2}-2},df_2>2$，$Var=\\frac  {2df_{2}^{2}\\,(df_{1}+df_{2}-2)}{df_{1}(df_{2}-2)^{2}(df_{2}-4)},df_2>4$"
   ]
  },
  {
   "cell_type": "markdown",
   "metadata": {},
   "source": [
    "#### rf(n, df1, df2, ncp)"
   ]
  },
  {
   "cell_type": "code",
   "execution_count": 121,
   "metadata": {},
   "outputs": [
    {
     "name": "stdout",
     "output_type": "stream",
     "text": [
      "[1] 4.849814 2.658284 1.192684\n"
     ]
    }
   ],
   "source": [
    "print(rf(3,df1 = 10, df2 = 10, ncp = 10))"
   ]
  },
  {
   "cell_type": "markdown",
   "metadata": {},
   "source": [
    "#### df(x, df1, df2, ncp, log = FALSE)"
   ]
  },
  {
   "cell_type": "code",
   "execution_count": 122,
   "metadata": {},
   "outputs": [
    {
     "data": {
      "text/html": [
       "0.198277678276454"
      ],
      "text/latex": [
       "0.198277678276454"
      ],
      "text/markdown": [
       "0.198277678276454"
      ],
      "text/plain": [
       "[1] 0.1982777"
      ]
     },
     "metadata": {},
     "output_type": "display_data"
    }
   ],
   "source": [
    "df(2, 10, 10, 1)"
   ]
  },
  {
   "cell_type": "markdown",
   "metadata": {},
   "source": [
    "#### pf(q, df1, df2, ncp, lower.tail = TRUE, log.p = FALSE)"
   ]
  },
  {
   "cell_type": "code",
   "execution_count": 123,
   "metadata": {},
   "outputs": [
    {
     "data": {
      "text/html": [
       "0.820146468100821"
      ],
      "text/latex": [
       "0.820146468100821"
      ],
      "text/markdown": [
       "0.820146468100821"
      ],
      "text/plain": [
       "[1] 0.8201465"
      ]
     },
     "metadata": {},
     "output_type": "display_data"
    }
   ],
   "source": [
    "pf(2, 10, 10, 1)"
   ]
  },
  {
   "cell_type": "markdown",
   "metadata": {},
   "source": [
    "#### qf(p, df1, df2, ncp, lower.tail = TRUE, log.p = FALSE)"
   ]
  },
  {
   "cell_type": "code",
   "execution_count": 128,
   "metadata": {},
   "outputs": [
    {
     "data": {
      "text/html": [
       "1"
      ],
      "text/latex": [
       "1"
      ],
      "text/markdown": [
       "1"
      ],
      "text/plain": [
       "[1] 1"
      ]
     },
     "metadata": {},
     "output_type": "display_data"
    }
   ],
   "source": [
    "qf(.5, 10, 10)"
   ]
  },
  {
   "cell_type": "markdown",
   "metadata": {
    "toc-hr-collapsed": true
   },
   "source": [
    "## 卡方分布，$X\\sim\\chi ^{2}(df)$"
   ]
  },
  {
   "cell_type": "markdown",
   "metadata": {},
   "source": [
    "设随机变量$X_1,X_2,...,X_n$相互独立且都服从$N(0,1)$，则$\\chi^{2}=\\sum_{i=1}^{df}X_i^2$服从自由度为df的[卡方分布](https://zh.wikipedia.org/wiki/%E5%8D%A1%E6%96%B9%E5%88%86%E4%BD%88)"
   ]
  },
  {
   "cell_type": "markdown",
   "metadata": {},
   "source": [
    "$E = df, Var = 2df$，概率密度函数：${\\displaystyle f_{df}(x)={\\frac {{\\frac {1}{2}}^{\\frac {df}{2}}}{\\Gamma ({\\frac {df}{2}})}}x^{{\\frac {df}{2}}-1}e^{\\frac {-x}{2}}}$"
   ]
  },
  {
   "cell_type": "markdown",
   "metadata": {},
   "source": [
    "#### rchisq(n, df, ncp = 0)"
   ]
  },
  {
   "cell_type": "code",
   "execution_count": 109,
   "metadata": {},
   "outputs": [
    {
     "name": "stdout",
     "output_type": "stream",
     "text": [
      "[1] 20.16848 13.16151 15.64013\n"
     ]
    }
   ],
   "source": [
    "print(rchisq(3, df = 20))"
   ]
  },
  {
   "cell_type": "markdown",
   "metadata": {},
   "source": [
    "#### dchisq(x, df, ncp = 0, log = FALSE)，返回&ensp;$f(x)$"
   ]
  },
  {
   "cell_type": "code",
   "execution_count": 114,
   "metadata": {},
   "outputs": [
    {
     "data": {
      "text/html": [
       "0.00766415502440505"
      ],
      "text/latex": [
       "0.00766415502440505"
      ],
      "text/markdown": [
       "0.00766415502440505"
      ],
      "text/plain": [
       "[1] 0.007664155"
      ]
     },
     "metadata": {},
     "output_type": "display_data"
    },
    {
     "data": {
      "text/html": [
       "0.000503465128668885"
      ],
      "text/latex": [
       "0.000503465128668885"
      ],
      "text/markdown": [
       "0.000503465128668885"
      ],
      "text/plain": [
       "[1] 0.0005034651"
      ]
     },
     "metadata": {},
     "output_type": "display_data"
    }
   ],
   "source": [
    "dchisq(2, df = 10)\n",
    "dchisq(1, df = 10, ncp = 1)"
   ]
  },
  {
   "cell_type": "markdown",
   "metadata": {},
   "source": [
    "#### pchisq(q, df, ncp = 0, lower.tail = TRUE, log.p = FALSE)"
   ]
  },
  {
   "cell_type": "code",
   "execution_count": 118,
   "metadata": {},
   "outputs": [
    {
     "data": {
      "text/html": [
       "0.919244913328611"
      ],
      "text/latex": [
       "0.919244913328611"
      ],
      "text/markdown": [
       "0.919244913328611"
      ],
      "text/plain": [
       "[1] 0.9192449"
      ]
     },
     "metadata": {},
     "output_type": "display_data"
    },
    {
     "data": {
      "text/html": [
       "0.513079690626896"
      ],
      "text/latex": [
       "0.513079690626896"
      ],
      "text/markdown": [
       "0.513079690626896"
      ],
      "text/plain": [
       "[1] 0.5130797"
      ]
     },
     "metadata": {},
     "output_type": "display_data"
    },
    {
     "data": {
      "text/html": [
       "1"
      ],
      "text/latex": [
       "1"
      ],
      "text/markdown": [
       "1"
      ],
      "text/plain": [
       "[1] 1"
      ]
     },
     "metadata": {},
     "output_type": "display_data"
    }
   ],
   "source": [
    "pchisq(23, df = 10, ncp = 4)\n",
    "pchisq(23, df = 20, ncp = 4, lower.tail = FALSE)\n",
    "pchisq(23, df = 30, ncp = 4) + pchisq(23, df = 30, ncp = 4, lower.tail = FALSE)"
   ]
  },
  {
   "cell_type": "markdown",
   "metadata": {},
   "source": [
    "#### qchisq(p, df, ncp = 0, lower.tail = TRUE, log.p = FALSE)"
   ]
  },
  {
   "cell_type": "code",
   "execution_count": 116,
   "metadata": {},
   "outputs": [
    {
     "data": {
      "text/html": [
       "23.2403395497389"
      ],
      "text/latex": [
       "23.2403395497389"
      ],
      "text/markdown": [
       "23.2403395497389"
      ],
      "text/plain": [
       "[1] 23.24034"
      ]
     },
     "metadata": {},
     "output_type": "display_data"
    }
   ],
   "source": [
    "qchisq(0.5, df = 20, ncp = 4)"
   ]
  },
  {
   "cell_type": "markdown",
   "metadata": {
    "toc-hr-collapsed": true
   },
   "source": [
    "## Beta分布，$X\\sim Be(\\alpha,\\beta)$"
   ]
  },
  {
   "cell_type": "markdown",
   "metadata": {},
   "source": [
    "也称[B分布](https://zh.wikipedia.org/wiki/%CE%92%E5%88%86%E5%B8%83)，是指一组定义在(0,1)区间的连续概率分布，有两个参数α,β>0"
   ]
  },
  {
   "cell_type": "markdown",
   "metadata": {},
   "source": [
    "$E[x] = \\frac{\\alpha}{\\alpha + \\beta},E[\\ln{x}]=\\psi(\\alpha)-\\psi(\\alpha+\\beta),Var = \\frac{\\alpha\\beta}{(\\alpha+\\beta)^2(\\alpha+\\beta+1)}$，概率密度函数：$f(x;\\alpha,\\beta)=\\frac  {x^{{\\alpha -1}}(1-x)^{{\\beta -1}}}{{\\mathrm  {B}}(\\alpha ,\\beta )}$"
   ]
  },
  {
   "cell_type": "markdown",
   "metadata": {},
   "source": [
    "#### rbeta(n, shape1, shape2, ncp = 0)"
   ]
  },
  {
   "cell_type": "code",
   "execution_count": 206,
   "metadata": {},
   "outputs": [
    {
     "name": "stdout",
     "output_type": "stream",
     "text": [
      "[1] 0.4697952 0.6384061 0.8721710 0.2423926 0.2575728\n"
     ]
    }
   ],
   "source": [
    "print(rbeta(5, 2, 2))"
   ]
  },
  {
   "cell_type": "markdown",
   "metadata": {},
   "source": [
    "#### dbeta(x, shape1, shape2, ncp = 0, log = FALSE)，返回&ensp;$f(x)$"
   ]
  },
  {
   "cell_type": "code",
   "execution_count": 222,
   "metadata": {},
   "outputs": [
    {
     "data": {
      "text/html": [
       "0.636619772367581"
      ],
      "text/latex": [
       "0.636619772367581"
      ],
      "text/markdown": [
       "0.636619772367581"
      ],
      "text/plain": [
       "[1] 0.6366198"
      ]
     },
     "metadata": {},
     "output_type": "display_data"
    }
   ],
   "source": [
    "dbeta(.5, .5, .5)"
   ]
  },
  {
   "cell_type": "markdown",
   "metadata": {},
   "source": [
    "#### pbeta(q, shape1, shape2, ncp = 0, lower.tail = TRUE, log.p = FALSE)"
   ]
  },
  {
   "cell_type": "code",
   "execution_count": 221,
   "metadata": {},
   "outputs": [
    {
     "data": {
      "text/html": [
       "0.5"
      ],
      "text/latex": [
       "0.5"
      ],
      "text/markdown": [
       "0.5"
      ],
      "text/plain": [
       "[1] 0.5"
      ]
     },
     "metadata": {},
     "output_type": "display_data"
    }
   ],
   "source": [
    "pbeta(.5, .5, .5)"
   ]
  },
  {
   "cell_type": "markdown",
   "metadata": {},
   "source": [
    "#### qbeta(p, shape1, shape2, ncp = 0, lower.tail = TRUE, log.p = FALSE)"
   ]
  },
  {
   "cell_type": "code",
   "execution_count": 220,
   "metadata": {},
   "outputs": [
    {
     "data": {
      "text/html": [
       "0.5"
      ],
      "text/latex": [
       "0.5"
      ],
      "text/markdown": [
       "0.5"
      ],
      "text/plain": [
       "[1] 0.5"
      ]
     },
     "metadata": {},
     "output_type": "display_data"
    }
   ],
   "source": [
    "qbeta(.5, .5, .5)"
   ]
  },
  {
   "cell_type": "markdown",
   "metadata": {},
   "source": [
    "# 排列组合"
   ]
  },
  {
   "cell_type": "markdown",
   "metadata": {},
   "source": [
    "计算$C_6^3$"
   ]
  },
  {
   "cell_type": "code",
   "execution_count": 129,
   "metadata": {},
   "outputs": [
    {
     "data": {
      "text/html": [
       "20"
      ],
      "text/latex": [
       "20"
      ],
      "text/markdown": [
       "20"
      ],
      "text/plain": [
       "[1] 20"
      ]
     },
     "metadata": {},
     "output_type": "display_data"
    }
   ],
   "source": [
    "choose(6,3)"
   ]
  },
  {
   "cell_type": "markdown",
   "metadata": {},
   "source": [
    "计算$A_6^3$"
   ]
  },
  {
   "cell_type": "code",
   "execution_count": 130,
   "metadata": {},
   "outputs": [
    {
     "data": {
      "text/html": [
       "120"
      ],
      "text/latex": [
       "120"
      ],
      "text/markdown": [
       "120"
      ],
      "text/plain": [
       "[1] 120"
      ]
     },
     "metadata": {},
     "output_type": "display_data"
    }
   ],
   "source": [
    "choose(6,3) * factorial(3)"
   ]
  }
 ],
 "metadata": {
  "kernelspec": {
   "display_name": "R",
   "language": "R",
   "name": "ir"
  },
  "language_info": {
   "codemirror_mode": "r",
   "file_extension": ".r",
   "mimetype": "text/x-r-source",
   "name": "R",
   "pygments_lexer": "r",
   "version": "3.5.1"
  }
 },
 "nbformat": 4,
 "nbformat_minor": 2
}
