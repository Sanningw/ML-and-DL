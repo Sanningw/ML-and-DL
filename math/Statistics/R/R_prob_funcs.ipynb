{
 "cells": [
  {
   "cell_type": "markdown",
   "metadata": {},
   "source": [
    "# 生成随机数"
   ]
  },
  {
   "cell_type": "markdown",
   "metadata": {},
   "source": [
    "|参数|功能|\n",
    "|:---:|:---:|\n",
    "|r|返回随机生成的数字|\n",
    "|d|返回概率密度函数值，$f(x = z)$|\n",
    "|p|返回累积密度函数(cdf)，等价于$P[X\\leq z]$|\n",
    "|q|返回逆累积密度函数(对应的分位数)|"
   ]
  },
  {
   "cell_type": "markdown",
   "metadata": {
    "toc-hr-collapsed": true
   },
   "source": [
    "## 正态分布，$X \\sim N(\\mu,\\sigma^{2})$"
   ]
  },
  {
   "cell_type": "markdown",
   "metadata": {},
   "source": [
    "$E = \\mu, Var = \\sigma^2$，概率密度函数：$\\frac1{\\sigma\\sqrt{2\\pi}}\\; \\exp\\left(-\\frac{\\left(x-\\mu\\right)^2}{2\\sigma^2} \\right) \\!$"
   ]
  },
  {
   "cell_type": "markdown",
   "metadata": {},
   "source": [
    "K-S散度"
   ]
  },
  {
   "cell_type": "code",
   "execution_count": 49,
   "metadata": {},
   "outputs": [
    {
     "data": {
      "text/plain": [
       "\n",
       "\tOne-sample Kolmogorov-Smirnov test\n",
       "\n",
       "data:  rnorm(100)\n",
       "D = 0.061678, p-value = 0.8413\n",
       "alternative hypothesis: two-sided\n"
      ]
     },
     "metadata": {},
     "output_type": "display_data"
    }
   ],
   "source": [
    "ks.test(rnorm(100),'pnorm',alternative = 'two.sided')"
   ]
  },
  {
   "cell_type": "markdown",
   "metadata": {
    "toc-hr-collapsed": false
   },
   "source": [
    "#### rnorm（n，mean = 0，sd = 1）"
   ]
  },
  {
   "cell_type": "code",
   "execution_count": 15,
   "metadata": {},
   "outputs": [
    {
     "data": {
      "text/html": [
       "<ol class=list-inline>\n",
       "\t<li>-0.212478403312058</li>\n",
       "\t<li>0.568270307375698</li>\n",
       "\t<li>1.60368974479077</li>\n",
       "\t<li>-0.943502423160869</li>\n",
       "\t<li>-0.158142624519532</li>\n",
       "\t<li>0.0570939564310772</li>\n",
       "\t<li>-0.259809558287039</li>\n",
       "\t<li>-0.642938834008997</li>\n",
       "\t<li>2.02613162503495</li>\n",
       "\t<li>-2.16696299148681</li>\n",
       "</ol>\n"
      ],
      "text/latex": [
       "\\begin{enumerate*}\n",
       "\\item -0.212478403312058\n",
       "\\item 0.568270307375698\n",
       "\\item 1.60368974479077\n",
       "\\item -0.943502423160869\n",
       "\\item -0.158142624519532\n",
       "\\item 0.0570939564310772\n",
       "\\item -0.259809558287039\n",
       "\\item -0.642938834008997\n",
       "\\item 2.02613162503495\n",
       "\\item -2.16696299148681\n",
       "\\end{enumerate*}\n"
      ],
      "text/markdown": [
       "1. -0.212478403312058\n",
       "2. 0.568270307375698\n",
       "3. 1.60368974479077\n",
       "4. -0.943502423160869\n",
       "5. -0.158142624519532\n",
       "6. 0.0570939564310772\n",
       "7. -0.259809558287039\n",
       "8. -0.642938834008997\n",
       "9. 2.02613162503495\n",
       "10. -2.16696299148681\n",
       "\n",
       "\n"
      ],
      "text/plain": [
       " [1] -0.21247840  0.56827031  1.60368974 -0.94350242 -0.15814262  0.05709396\n",
       " [7] -0.25980956 -0.64293883  2.02613163 -2.16696299"
      ]
     },
     "metadata": {},
     "output_type": "display_data"
    }
   ],
   "source": [
    "rnorm(10,0,1)  #等效于rnorm(10, mean = 0, sd = 1)"
   ]
  },
  {
   "cell_type": "markdown",
   "metadata": {},
   "source": [
    "#### dnorm（x，mean = 0，sd = 1，log = FALSE），返回正态分布的概率密度函数的值；dnorm（z）表示标准正态分布密度函数f（x）在x=z处的函数值；log为TRUE时，函数返回值不再是正态分布而是对数分布"
   ]
  },
  {
   "cell_type": "code",
   "execution_count": 21,
   "metadata": {},
   "outputs": [
    {
     "data": {
      "text/html": [
       "0.398942280401433"
      ],
      "text/latex": [
       "0.398942280401433"
      ],
      "text/markdown": [
       "0.398942280401433"
      ],
      "text/plain": [
       "[1] 0.3989423"
      ]
     },
     "metadata": {},
     "output_type": "display_data"
    },
    {
     "data": {
      "text/html": [
       "0.398942280401433"
      ],
      "text/latex": [
       "0.398942280401433"
      ],
      "text/markdown": [
       "0.398942280401433"
      ],
      "text/plain": [
       "[1] 0.3989423"
      ]
     },
     "metadata": {},
     "output_type": "display_data"
    }
   ],
   "source": [
    "dnorm(1, mean = 1, sd = 1, log = FALSE)\n",
    "dnorm(0)"
   ]
  },
  {
   "cell_type": "markdown",
   "metadata": {},
   "source": [
    "#### pnorm（q，mean = 0，sd = 1，lower.tail = TRUE，log.p = FALSE）,返回值是正态分布的分布函数值，比如pnorm（z）等价于P[X≤z]"
   ]
  },
  {
   "cell_type": "code",
   "execution_count": 22,
   "metadata": {},
   "outputs": [
    {
     "data": {
      "text/html": [
       "0.5"
      ],
      "text/latex": [
       "0.5"
      ],
      "text/markdown": [
       "0.5"
      ],
      "text/plain": [
       "[1] 0.5"
      ]
     },
     "metadata": {},
     "output_type": "display_data"
    },
    {
     "data": {
      "text/html": [
       "0.5"
      ],
      "text/latex": [
       "0.5"
      ],
      "text/markdown": [
       "0.5"
      ],
      "text/plain": [
       "[1] 0.5"
      ]
     },
     "metadata": {},
     "output_type": "display_data"
    }
   ],
   "source": [
    "pnorm(1, mean = 1, sd = 1, log = FALSE)\n",
    "pnorm(0)"
   ]
  },
  {
   "cell_type": "markdown",
   "metadata": {},
   "source": [
    "#### qnorm（p，mean = 0，sd = 1，lower.tail = TRUE，log.p = FALSE），返回值是给定概率p后的对应分位点"
   ]
  },
  {
   "cell_type": "code",
   "execution_count": 30,
   "metadata": {},
   "outputs": [
    {
     "data": {
      "text/html": [
       "2.03643338949379"
      ],
      "text/latex": [
       "2.03643338949379"
      ],
      "text/markdown": [
       "2.03643338949379"
      ],
      "text/plain": [
       "[1] 2.036433"
      ]
     },
     "metadata": {},
     "output_type": "display_data"
    },
    {
     "data": {
      "text/html": [
       "0"
      ],
      "text/latex": [
       "0"
      ],
      "text/markdown": [
       "0"
      ],
      "text/plain": [
       "[1] 0"
      ]
     },
     "metadata": {},
     "output_type": "display_data"
    }
   ],
   "source": [
    "qnorm(.85, mean = 1, sd = 1, log = FALSE)\n",
    "qnorm(.5)"
   ]
  },
  {
   "cell_type": "code",
   "execution_count": 35,
   "metadata": {},
   "outputs": [
    {
     "data": {
      "text/html": [
       "<ol class=list-inline>\n",
       "\t<li>835.514637304853</li>\n",
       "\t<li>1164.48536269515</li>\n",
       "</ol>\n"
      ],
      "text/latex": [
       "\\begin{enumerate*}\n",
       "\\item 835.514637304853\n",
       "\\item 1164.48536269515\n",
       "\\end{enumerate*}\n"
      ],
      "text/markdown": [
       "1. 835.514637304853\n",
       "2. 1164.48536269515\n",
       "\n",
       "\n"
      ],
      "text/plain": [
       "[1]  835.5146 1164.4854"
      ]
     },
     "metadata": {},
     "output_type": "display_data"
    }
   ],
   "source": [
    "qnorm(c(0.05, 0.95),mean=1000,sd=100)    #1000的90%置信区间对应分位点"
   ]
  },
  {
   "cell_type": "markdown",
   "metadata": {
    "toc-hr-collapsed": true
   },
   "source": [
    "## t分布"
   ]
  },
  {
   "cell_type": "markdown",
   "metadata": {},
   "source": [
    "统计量：$t={\\frac{{\\overline {X}}_{n}-\\mu}{\\sqrt{\\frac{S^2}{n}}}}$，概率密度函数：${\\frac  {\\Gamma ((df +1)/2)}{{\\sqrt  {df \\pi }}\\,\\Gamma (df /2)\\,(1+x^{2}/df )^{{(df +1)/2}}}}\\!$"
   ]
  },
  {
   "cell_type": "markdown",
   "metadata": {},
   "source": [
    "自由度v越小，t分布曲线愈平坦，曲线中间愈低，曲线双侧尾部翘得愈高；自由度v愈大，t分布曲线愈接近正态分布曲线，当自由度v=∞时，t分布曲线为标准正态分布曲线"
   ]
  },
  {
   "cell_type": "markdown",
   "metadata": {},
   "source": [
    "#### rt(n, df, ncp), ncp为非中心化参数&ensp;$\\delta$，仅仅 可用abs(ncp)<=37.62的范围。如果忽略该参数，则使用中心分布"
   ]
  },
  {
   "cell_type": "code",
   "execution_count": 62,
   "metadata": {},
   "outputs": [
    {
     "name": "stdout",
     "output_type": "stream",
     "text": [
      "[1]  6.269172  9.161156 10.045868\n",
      "[1] 19.82308 21.98510 18.05173 22.59347\n",
      "[1] 26.78821 26.33829 37.51754 29.56637 29.07232\n"
     ]
    }
   ],
   "source": [
    "print(rt(3,df=10, ncp = 10))\n",
    "print(rt(4,df=20, ncp = 20))\n",
    "print(rt(5,df=30, ncp = 30))"
   ]
  },
  {
   "cell_type": "markdown",
   "metadata": {},
   "source": [
    "#### dt(x, df, ncp, log = FALSE)， 返回&ensp;$f(x)$"
   ]
  },
  {
   "cell_type": "code",
   "execution_count": 66,
   "metadata": {},
   "outputs": [
    {
     "data": {
      "text/html": [
       "0.058087215247357"
      ],
      "text/latex": [
       "0.058087215247357"
      ],
      "text/markdown": [
       "0.058087215247357"
      ],
      "text/plain": [
       "[1] 0.05808722"
      ]
     },
     "metadata": {},
     "output_type": "display_data"
    },
    {
     "data": {
      "text/html": [
       "0.0611457663212182"
      ],
      "text/latex": [
       "0.0611457663212182"
      ],
      "text/markdown": [
       "0.0611457663212182"
      ],
      "text/plain": [
       "[1] 0.06114577"
      ]
     },
     "metadata": {},
     "output_type": "display_data"
    },
    {
     "data": {
      "text/html": [
       "0.291241442144629"
      ],
      "text/latex": [
       "0.291241442144629"
      ],
      "text/markdown": [
       "0.291241442144629"
      ],
      "text/plain": [
       "[1] 0.2912414"
      ]
     },
     "metadata": {},
     "output_type": "display_data"
    }
   ],
   "source": [
    "dt(2, df = 20)\n",
    "dt(2, df = 10)\n",
    "dt(4, df = 10, ncp = 4)"
   ]
  },
  {
   "cell_type": "markdown",
   "metadata": {},
   "source": [
    "#### pt(q, df, ncp, lower.tail = TRUE, log.p = FALSE)，返回累积密度函数(cdf)，等价于$P[X\\leq q]$，lower.tail：TRUE (default), probabilities are P[X ≤ x], otherwise, P[X > x]"
   ]
  },
  {
   "cell_type": "code",
   "execution_count": 90,
   "metadata": {},
   "outputs": [
    {
     "data": {
      "text/html": [
       "0.481595887314792"
      ],
      "text/latex": [
       "0.481595887314792"
      ],
      "text/markdown": [
       "0.481595887314792"
      ],
      "text/plain": [
       "[1] 0.4815959"
      ]
     },
     "metadata": {},
     "output_type": "display_data"
    },
    {
     "data": {
      "text/html": [
       "0.518404112685208"
      ],
      "text/latex": [
       "0.518404112685208"
      ],
      "text/markdown": [
       "0.518404112685208"
      ],
      "text/plain": [
       "[1] 0.5184041"
      ]
     },
     "metadata": {},
     "output_type": "display_data"
    },
    {
     "data": {
      "text/html": [
       "1"
      ],
      "text/latex": [
       "1"
      ],
      "text/markdown": [
       "1"
      ],
      "text/plain": [
       "[1] 1"
      ]
     },
     "metadata": {},
     "output_type": "display_data"
    }
   ],
   "source": [
    "pt(4, df = 20, ncp = 4)\n",
    "pt(4, df = 20, ncp = 4, lower.tail = FALSE)\n",
    "pt(4, df = 20, ncp = 4) + pt(4, df = 20, ncp = 4, lower.tail = FALSE)"
   ]
  },
  {
   "cell_type": "markdown",
   "metadata": {},
   "source": [
    "#### qt(p, df, ncp, lower.tail = TRUE, log.p = FALSE)，返回逆累积密度函数(对应的分位数)"
   ]
  },
  {
   "cell_type": "code",
   "execution_count": 78,
   "metadata": {},
   "outputs": [
    {
     "data": {
      "text/html": [
       "4.05537018559056"
      ],
      "text/latex": [
       "4.05537018559056"
      ],
      "text/markdown": [
       "4.05537018559056"
      ],
      "text/plain": [
       "[1] 4.05537"
      ]
     },
     "metadata": {},
     "output_type": "display_data"
    }
   ],
   "source": [
    "qt(0.5, df = 20, ncp = 4)"
   ]
  },
  {
   "cell_type": "markdown",
   "metadata": {
    "toc-hr-collapsed": false
   },
   "source": [
    "## 二项分布(n重伯努利)，$X \\sim B(n, p)$，n次伯努利试验中得到x次成功的分布"
   ]
  },
  {
   "cell_type": "markdown",
   "metadata": {},
   "source": [
    "$E = np, Var = np(1-p)$，概率质量函数：${\\displaystyle f(k;n,p)=\\Pr(X=k)={n \\choose k}p^{k}(1-p)^{n-k}}$"
   ]
  },
  {
   "cell_type": "markdown",
   "metadata": {
    "toc-hr-collapsed": true
   },
   "source": [
    "#### rbinom(n, size, prob)，从给定样本产生给定概率的所需数量的随机值，size：试次，大于0"
   ]
  },
  {
   "cell_type": "code",
   "execution_count": 97,
   "metadata": {},
   "outputs": [
    {
     "name": "stdout",
     "output_type": "stream",
     "text": [
      "[1] 183 217 192 209 210 197 193 192\n"
     ]
    }
   ],
   "source": [
    "print(rbinom(8,500,.4))"
   ]
  },
  {
   "cell_type": "markdown",
   "metadata": {
    "toc-hr-collapsed": true
   },
   "source": [
    "#### dbinom(x, size, prob, log = FALSE)，给出每个点的概率密度分布，返回&ensp;$f(x)$"
   ]
  },
  {
   "cell_type": "code",
   "execution_count": 99,
   "metadata": {},
   "outputs": [
    {
     "name": "stdout",
     "output_type": "stream",
     "text": [
      "[1] 0.03639907\n"
     ]
    }
   ],
   "source": [
    "print(dbinom(200,500,.4))"
   ]
  },
  {
   "cell_type": "code",
   "execution_count": 101,
   "metadata": {},
   "outputs": [
    {
     "data": {
      "text/html": [
       "0.0363990653471355"
      ],
      "text/latex": [
       "0.0363990653471355"
      ],
      "text/markdown": [
       "0.0363990653471355"
      ],
      "text/plain": [
       "[1] 0.03639907"
      ]
     },
     "metadata": {},
     "output_type": "display_data"
    }
   ],
   "source": [
    "choose(500,200)*0.4^200*0.6^300    #使用排列函数choose计算"
   ]
  },
  {
   "cell_type": "markdown",
   "metadata": {
    "toc-hr-collapsed": true
   },
   "source": [
    "#### pbinom(q, size, prob, lower.tail = TRUE, log.p = FALSE)，给出事件的累积概率，返回&ensp;$P[X\\leq q]$"
   ]
  },
  {
   "cell_type": "code",
   "execution_count": 108,
   "metadata": {},
   "outputs": [
    {
     "name": "stdout",
     "output_type": "stream",
     "text": [
      "[1] 0.5194108\n"
     ]
    }
   ],
   "source": [
    "print(pbinom(200,500,.4))"
   ]
  },
  {
   "cell_type": "markdown",
   "metadata": {
    "toc-hr-collapsed": true
   },
   "source": [
    "#### qbinom(p, size, prob, lower.tail = TRUE, log.p = FALSE)，返回逆累积密度函数(对应的分位数)"
   ]
  },
  {
   "cell_type": "code",
   "execution_count": 107,
   "metadata": {},
   "outputs": [
    {
     "name": "stdout",
     "output_type": "stream",
     "text": [
      "[1] 200\n"
     ]
    }
   ],
   "source": [
    "print(qbinom(.5, 500, .4))"
   ]
  },
  {
   "cell_type": "markdown",
   "metadata": {
    "toc-hr-collapsed": false
   },
   "source": [
    "## 几何分布，$X \\sim Pr(p)$，x次伯努利试验中最后一次得到成功的分布"
   ]
  },
  {
   "cell_type": "markdown",
   "metadata": {},
   "source": [
    "$E = \\frac{1}{p}, Var = \\frac{1-p}{p^2}$，概率质量函数：$\\Pr(X=k)=(1-p)^{{k-1}}p$"
   ]
  },
  {
   "cell_type": "code",
   "execution_count": null,
   "metadata": {},
   "outputs": [],
   "source": []
  },
  {
   "cell_type": "markdown",
   "metadata": {
    "toc-hr-collapsed": false
   },
   "source": [
    "## 卡方分布，$X\\sim\\chi ^{2}(df)$"
   ]
  },
  {
   "cell_type": "markdown",
   "metadata": {},
   "source": [
    "$E = df, Var = 2df$，概率密度函数：${\\displaystyle f_{df}(x)={\\frac {{\\frac {1}{2}}^{\\frac {df}{2}}}{\\Gamma ({\\frac {df}{2}})}}x^{{\\frac {df}{2}}-1}e^{\\frac {-x}{2}}}$"
   ]
  },
  {
   "cell_type": "code",
   "execution_count": null,
   "metadata": {},
   "outputs": [],
   "source": []
  }
 ],
 "metadata": {
  "kernelspec": {
   "display_name": "R",
   "language": "R",
   "name": "ir"
  },
  "language_info": {
   "codemirror_mode": "r",
   "file_extension": ".r",
   "mimetype": "text/x-r-source",
   "name": "R",
   "pygments_lexer": "r",
   "version": "3.5.1"
  }
 },
 "nbformat": 4,
 "nbformat_minor": 2
}
