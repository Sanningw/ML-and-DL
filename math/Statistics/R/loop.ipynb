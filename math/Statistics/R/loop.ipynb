{
 "cells": [
  {
   "cell_type": "markdown",
   "metadata": {},
   "source": [
    "# 控制结构：if语句"
   ]
  },
  {
   "cell_type": "code",
   "execution_count": 2,
   "metadata": {},
   "outputs": [
    {
     "name": "stdout",
     "output_type": "stream",
     "text": [
      "[1] \"整数\"\n"
     ]
    }
   ],
   "source": [
    "x = 30L\n",
    "if (is.integer(x)){\n",
    "    print(\"整数\")\n",
    "}"
   ]
  },
  {
   "cell_type": "markdown",
   "metadata": {},
   "source": [
    "## if-else"
   ]
  },
  {
   "cell_type": "code",
   "execution_count": 3,
   "metadata": {},
   "outputs": [
    {
     "name": "stdout",
     "output_type": "stream",
     "text": [
      "[1] \"who\"\n"
     ]
    }
   ],
   "source": [
    "x = c(\"who\", \"are\", \"you\")\n",
    "if (\"who\" %in% x){\n",
    "    print(\"who\")\n",
    "} else {\n",
    "    print(\"you\")\n",
    "}"
   ]
  },
  {
   "cell_type": "code",
   "execution_count": 4,
   "metadata": {},
   "outputs": [
    {
     "name": "stdout",
     "output_type": "stream",
     "text": [
      "[1] \"False\"\n"
     ]
    }
   ],
   "source": [
    "x = c(\"what\", \"is\", \"truth\")\n",
    "if (\"who\" %in% x) {\n",
    "    print(\"who\")\n",
    "} else if (\"true\" %in% x) {\n",
    "    print(\"truth\")\n",
    "} else {\n",
    "    print(\"False\")\n",
    "}"
   ]
  },
  {
   "cell_type": "markdown",
   "metadata": {},
   "source": [
    "## switch"
   ]
  },
  {
   "cell_type": "code",
   "execution_count": 6,
   "metadata": {},
   "outputs": [
    {
     "name": "stdout",
     "output_type": "stream",
     "text": [
      "[1] \"second\"\n"
     ]
    }
   ],
   "source": [
    "x <- switch(\n",
    "   2,\n",
    "   \"first\",\n",
    "   \"second\",\n",
    "   \"third\",\n",
    "   \"fourth\"\n",
    ")\n",
    "print(x)"
   ]
  },
  {
   "cell_type": "markdown",
   "metadata": {},
   "source": [
    "# 循环结构：for"
   ]
  },
  {
   "cell_type": "code",
   "execution_count": 10,
   "metadata": {},
   "outputs": [
    {
     "name": "stdout",
     "output_type": "stream",
     "text": [
      "[1] \"A\" \"B\" \"C\" \"D\"\n",
      "[1] \"A\"\n",
      "[1] \"B\"\n",
      "[1] \"C\"\n",
      "[1] \"D\"\n"
     ]
    }
   ],
   "source": [
    "letter = LETTERS[1 : 4]\n",
    "print(letter)\n",
    "for (i in letter) {\n",
    "    print(i)\n",
    "}"
   ]
  },
  {
   "cell_type": "markdown",
   "metadata": {},
   "source": [
    "## while"
   ]
  },
  {
   "cell_type": "code",
   "execution_count": 4,
   "metadata": {},
   "outputs": [
    {
     "name": "stdout",
     "output_type": "stream",
     "text": [
      "[1] \"hello\" \"while\" \"loop\" \n",
      "[1] \"hello\" \"while\" \"loop\" \n",
      "[1] \"hello\" \"while\" \"loop\" \n",
      "[1] \"hello\" \"while\" \"loop\" \n"
     ]
    }
   ],
   "source": [
    "v = c(\"hello\", \"while\", \"loop\")\n",
    "cnt = 2\n",
    "while (cnt < 6) {\n",
    "    print(v)\n",
    "    cnt = cnt + 1\n",
    "}"
   ]
  },
  {
   "cell_type": "markdown",
   "metadata": {},
   "source": [
    "## repeat循环重复执行相同的代码，直到满足停止条件"
   ]
  },
  {
   "cell_type": "code",
   "execution_count": 11,
   "metadata": {},
   "outputs": [
    {
     "name": "stdout",
     "output_type": "stream",
     "text": [
      "hello while loop \tcnt= 2 \n",
      "hello while loop \tcnt= 3 \n",
      "hello while loop \tcnt= 4 \n",
      "hello while loop \tcnt= 5 \n"
     ]
    }
   ],
   "source": [
    "v = c(\"hello\", \"while\", \"loop\")\n",
    "cnt = 2\n",
    "repeat {\n",
    "    cat(v, \"\\tcnt=\", cnt, '\\n')\n",
    "    cnt = cnt + 1\n",
    "    \n",
    "    if (cnt > 5) {\n",
    "        break\n",
    "    }\n",
    "}"
   ]
  },
  {
   "cell_type": "markdown",
   "metadata": {},
   "source": [
    "## next"
   ]
  },
  {
   "cell_type": "code",
   "execution_count": 12,
   "metadata": {},
   "outputs": [
    {
     "name": "stdout",
     "output_type": "stream",
     "text": [
      "[1] \"A\"\n",
      "[1] \"B\"\n",
      "[1] \"C\"\n",
      "[1] \"E\"\n",
      "[1] \"F\"\n"
     ]
    }
   ],
   "source": [
    "v = LETTERS[1 : 6]\n",
    "for (i in v) {\n",
    "    if (i == \"D\") {\n",
    "        next    #等价于continue\n",
    "    }\n",
    "    print(i)\n",
    "}"
   ]
  },
  {
   "cell_type": "code",
   "execution_count": null,
   "metadata": {},
   "outputs": [],
   "source": []
  }
 ],
 "metadata": {
  "kernelspec": {
   "display_name": "R",
   "language": "R",
   "name": "ir"
  },
  "language_info": {
   "codemirror_mode": "r",
   "file_extension": ".r",
   "mimetype": "text/x-r-source",
   "name": "R",
   "pygments_lexer": "r",
   "version": "3.5.1"
  }
 },
 "nbformat": 4,
 "nbformat_minor": 2
}
