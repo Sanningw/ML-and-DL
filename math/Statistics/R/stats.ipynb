{
 "cells": [
  {
   "cell_type": "markdown",
   "metadata": {},
   "source": [
    "# 描述统计"
   ]
  },
  {
   "cell_type": "code",
   "execution_count": 1,
   "metadata": {},
   "outputs": [
    {
     "data": {
      "text/html": [
       "2.5"
      ],
      "text/latex": [
       "2.5"
      ],
      "text/markdown": [
       "2.5"
      ],
      "text/plain": [
       "[1] 2.5"
      ]
     },
     "metadata": {},
     "output_type": "display_data"
    }
   ],
   "source": [
    "mean(c(1, 2, 3, 4))"
   ]
  },
  {
   "cell_type": "code",
   "execution_count": 2,
   "metadata": {},
   "outputs": [
    {
     "data": {
      "text/html": [
       "4"
      ],
      "text/latex": [
       "4"
      ],
      "text/markdown": [
       "4"
      ],
      "text/plain": [
       "[1] 4"
      ]
     },
     "metadata": {},
     "output_type": "display_data"
    }
   ],
   "source": [
    "median(c(1, 2, 3, 4, 5, 6, 7))    #中位数"
   ]
  },
  {
   "cell_type": "markdown",
   "metadata": {},
   "source": [
    "绝对中位差：数据点到中位数残差的中位数，$MAD=median(|X_i-median(X)|)$"
   ]
  },
  {
   "cell_type": "code",
   "execution_count": 6,
   "metadata": {},
   "outputs": [
    {
     "data": {
      "text/html": [
       "2.9652"
      ],
      "text/latex": [
       "2.9652"
      ],
      "text/markdown": [
       "2.9652"
      ],
      "text/plain": [
       "[1] 2.9652"
      ]
     },
     "metadata": {},
     "output_type": "display_data"
    }
   ],
   "source": [
    "mad(c(1, 2, 3, 4, 5, 6, 7))"
   ]
  },
  {
   "cell_type": "code",
   "execution_count": 5,
   "metadata": {},
   "outputs": [
    {
     "data": {
      "text/html": [
       "1.80277563773199"
      ],
      "text/latex": [
       "1.80277563773199"
      ],
      "text/markdown": [
       "1.80277563773199"
      ],
      "text/plain": [
       "[1] 1.802776"
      ]
     },
     "metadata": {},
     "output_type": "display_data"
    },
    {
     "data": {
      "text/html": [
       "3.25"
      ],
      "text/latex": [
       "3.25"
      ],
      "text/markdown": [
       "3.25"
      ],
      "text/plain": [
       "[1] 3.25"
      ]
     },
     "metadata": {},
     "output_type": "display_data"
    }
   ],
   "source": [
    "sd(c(1, 2,3, 2,4, 3, 7, 5,3))    #标准差\n",
    "var(c(1, 2,3, 2,4, 3, 7, 5,3))   #方差"
   ]
  },
  {
   "cell_type": "markdown",
   "metadata": {},
   "source": [
    "求分位数"
   ]
  },
  {
   "cell_type": "code",
   "execution_count": 34,
   "metadata": {},
   "outputs": [
    {
     "name": "stdout",
     "output_type": "stream",
     "text": [
      "   0%   25%   50%   75%  100% \n",
      " 1.00  2.75  5.00  7.00 10.00 \n"
     ]
    }
   ],
   "source": [
    "print(quantile(c(1, 2, 2, 3, 4, 5, 6, 7, 8, 5, 7, 10)))"
   ]
  },
  {
   "cell_type": "code",
   "execution_count": 35,
   "metadata": {},
   "outputs": [
    {
     "name": "stdout",
     "output_type": "stream",
     "text": [
      " 25%  75% \n",
      "2.75 7.00 \n"
     ]
    }
   ],
   "source": [
    "print(quantile(c(1, 2, 2, 3, 4, 5, 6, 7, 8, 5, 7, 10), c(.25, .75)))"
   ]
  },
  {
   "cell_type": "code",
   "execution_count": 10,
   "metadata": {},
   "outputs": [
    {
     "name": "stdout",
     "output_type": "stream",
     "text": [
      "[1] 1 7\n"
     ]
    }
   ],
   "source": [
    "print(range(c(1, 2, 3, 4, 5, 6,3, 5, 7)))   #求极差点"
   ]
  },
  {
   "cell_type": "code",
   "execution_count": 11,
   "metadata": {},
   "outputs": [
    {
     "data": {
      "text/html": [
       "19"
      ],
      "text/latex": [
       "19"
      ],
      "text/markdown": [
       "19"
      ],
      "text/plain": [
       "[1] 19"
      ]
     },
     "metadata": {},
     "output_type": "display_data"
    }
   ],
   "source": [
    "sum(c(1, 2, 3, 5, 8))"
   ]
  },
  {
   "cell_type": "markdown",
   "metadata": {},
   "source": [
    "滞后差分，默认为1"
   ]
  },
  {
   "cell_type": "code",
   "execution_count": 13,
   "metadata": {},
   "outputs": [
    {
     "name": "stdout",
     "output_type": "stream",
     "text": [
      "[1]  1  1 20  6\n",
      "[1]  2 21 26\n"
     ]
    }
   ],
   "source": [
    "print(diff(c(1, 2, 3, 23, 29))) \n",
    "print(diff(c(1, 2, 3, 23, 29), lag = 2)) "
   ]
  },
  {
   "cell_type": "code",
   "execution_count": 14,
   "metadata": {},
   "outputs": [
    {
     "data": {
      "text/html": [
       "1"
      ],
      "text/latex": [
       "1"
      ],
      "text/markdown": [
       "1"
      ],
      "text/plain": [
       "[1] 1"
      ]
     },
     "metadata": {},
     "output_type": "display_data"
    },
    {
     "data": {
      "text/html": [
       "4"
      ],
      "text/latex": [
       "4"
      ],
      "text/markdown": [
       "4"
      ],
      "text/plain": [
       "[1] 4"
      ]
     },
     "metadata": {},
     "output_type": "display_data"
    }
   ],
   "source": [
    "min(c(1, 2, 3, 4))\n",
    "max(c(1, 2, 3, 4))"
   ]
  },
  {
   "cell_type": "markdown",
   "metadata": {},
   "source": [
    "归一化scale"
   ]
  },
  {
   "cell_type": "code",
   "execution_count": 2,
   "metadata": {},
   "outputs": [
    {
     "data": {
      "text/html": [
       "'4.86666666666667 2.16684980910955'"
      ],
      "text/latex": [
       "'4.86666666666667 2.16684980910955'"
      ],
      "text/markdown": [
       "'4.86666666666667 2.16684980910955'"
      ],
      "text/plain": [
       "[1] \"4.86666666666667 2.16684980910955\""
      ]
     },
     "metadata": {},
     "output_type": "display_data"
    },
    {
     "name": "stdout",
     "output_type": "stream",
     "text": [
      "             [,1]\n",
      " [1,] -1.35339365\n",
      " [2,]  0.03110471\n",
      " [3,]  1.41560307\n",
      " [4,]  2.80010142\n",
      " [5,]  9.72259321\n",
      " [6,]  4.18459978\n",
      " [7,]  5.56909814\n",
      " [8,]  6.95359649\n",
      " [9,]  8.33809485\n",
      "[10,]  2.80010142\n",
      "[11,]  4.18459978\n",
      "[12,]  5.56909814\n",
      "[13,]  1.41560307\n",
      "[14,]  4.18459978\n",
      "[15,]  4.18459978\n",
      "attr(,\"scaled:center\")\n",
      "[1] 4.866667\n",
      "attr(,\"scaled:scale\")\n",
      "[1] 2.16685\n"
     ]
    },
    {
     "data": {
      "text/html": [
       "'4 3'"
      ],
      "text/latex": [
       "'4 3'"
      ],
      "text/markdown": [
       "'4 3'"
      ],
      "text/plain": [
       "[1] \"4 3\""
      ]
     },
     "metadata": {},
     "output_type": "display_data"
    }
   ],
   "source": [
    "x = c(1, 2, 3, 4, 9,5, 6, 7, 8, 4, 5, 6, 3, 5,5)\n",
    "paste(mean(x), sd(x))\n",
    "\n",
    "scale_x = scale(x) * 3 + 4  #乘以std加上M\n",
    "print(scale_x)\n",
    "paste(mean(scale_x), sd(scale_x))"
   ]
  },
  {
   "cell_type": "markdown",
   "metadata": {},
   "source": [
    "计算z分数"
   ]
  },
  {
   "cell_type": "code",
   "execution_count": 1,
   "metadata": {},
   "outputs": [
    {
     "data": {
      "text/html": [
       "'4.86666666666667 2.16684980910955'"
      ],
      "text/latex": [
       "'4.86666666666667 2.16684980910955'"
      ],
      "text/markdown": [
       "'4.86666666666667 2.16684980910955'"
      ],
      "text/plain": [
       "[1] \"4.86666666666667 2.16684980910955\""
      ]
     },
     "metadata": {},
     "output_type": "display_data"
    },
    {
     "data": {
      "text/html": [
       "-0.861465644189598"
      ],
      "text/latex": [
       "-0.861465644189598"
      ],
      "text/markdown": [
       "-0.861465644189598"
      ],
      "text/plain": [
       "[1] -0.8614656"
      ]
     },
     "metadata": {},
     "output_type": "display_data"
    }
   ],
   "source": [
    "x = c(1, 2, 3, 4, 9, 5, 6, 7, 8, 4, 5, 6, 3, 5, 5)\n",
    "paste(mean(x), sd(x))\n",
    "\n",
    "(3 - mean(x)) / sd(x)"
   ]
  },
  {
   "cell_type": "markdown",
   "metadata": {
    "toc-hr-collapsed": false
   },
   "source": [
    "# 推论统计"
   ]
  },
  {
   "cell_type": "markdown",
   "metadata": {
    "toc-hr-collapsed": true
   },
   "source": [
    "## t检验"
   ]
  },
  {
   "cell_type": "code",
   "execution_count": 1,
   "metadata": {},
   "outputs": [
    {
     "data": {
      "image/png": "[encoded data removed]",
      "text/plain": [
       "plot without title"
      ]
     },
     "metadata": {},
     "output_type": "display_data",
     "source": "R display func"
    }
   ],
   "source": [
    "plot(extra ~ group, data = sleep)"
   ]
  },
  {
   "cell_type": "markdown",
   "metadata": {},
   "source": [
    "### 单样本t检验：推论样本总体的均值$\\mu$与理论值$\\mu_0$有无差别"
   ]
  },
  {
   "cell_type": "markdown",
   "metadata": {},
   "source": [
    "$H_0: \\mu = \\mu_0$为真的条件下服从df=n−1的[t分布](https://zh.wikipedia.org/wiki/%E5%AD%B8%E7%94%9Ft%E6%AA%A2%E9%A9%97)，$t=\\frac{M_{来自数据}-\\mu_(H_0)}{s_M(由样本计算)}=\\frac{\\bar{X}-\\mu_0}{s/\\sqrt{n}}$，df=n-1，$s = \\sqrt { \\frac { \\sum _ { i = 1 } ^ { n } \\left( x _ { i } - \\overline { x } \\right) ^ { 2 } } { n - 1 } }$"
   ]
  },
  {
   "cell_type": "markdown",
   "metadata": {},
   "source": [
    "t.test(x, y = NULL,\n",
    "       alternative = c(\"two.sided\", \"less\", \"greater\"),\n",
    "       mu = 0, paired = FALSE, var.equal = FALSE,\n",
    "       conf.level = 0.95, ...)\n"
   ]
  },
  {
   "cell_type": "code",
   "execution_count": 29,
   "metadata": {},
   "outputs": [
    {
     "data": {
      "text/html": [
       "<table>\n",
       "<thead><tr><th></th><th scope=col>extra</th><th scope=col>group</th><th scope=col>ID</th></tr></thead>\n",
       "<tbody>\n",
       "\t<tr><th scope=row>1</th><td> 0.7</td><td>1   </td><td>1   </td></tr>\n",
       "\t<tr><th scope=row>2</th><td>-1.6</td><td>1   </td><td>2   </td></tr>\n",
       "\t<tr><th scope=row>3</th><td>-0.2</td><td>1   </td><td>3   </td></tr>\n",
       "\t<tr><th scope=row>4</th><td>-1.2</td><td>1   </td><td>4   </td></tr>\n",
       "\t<tr><th scope=row>5</th><td>-0.1</td><td>1   </td><td>5   </td></tr>\n",
       "\t<tr><th scope=row>11</th><td> 1.9</td><td>2   </td><td>1   </td></tr>\n",
       "\t<tr><th scope=row>12</th><td> 0.8</td><td>2   </td><td>2   </td></tr>\n",
       "\t<tr><th scope=row>13</th><td> 1.1</td><td>2   </td><td>3   </td></tr>\n",
       "\t<tr><th scope=row>14</th><td> 0.1</td><td>2   </td><td>4   </td></tr>\n",
       "\t<tr><th scope=row>15</th><td>-0.1</td><td>2   </td><td>5   </td></tr>\n",
       "</tbody>\n",
       "</table>\n"
      ],
      "text/latex": [
       "\\begin{tabular}{r|lll}\n",
       "  & extra & group & ID\\\\\n",
       "\\hline\n",
       "\t1 &  0.7 & 1    & 1   \\\\\n",
       "\t2 & -1.6 & 1    & 2   \\\\\n",
       "\t3 & -0.2 & 1    & 3   \\\\\n",
       "\t4 & -1.2 & 1    & 4   \\\\\n",
       "\t5 & -0.1 & 1    & 5   \\\\\n",
       "\t11 &  1.9 & 2    & 1   \\\\\n",
       "\t12 &  0.8 & 2    & 2   \\\\\n",
       "\t13 &  1.1 & 2    & 3   \\\\\n",
       "\t14 &  0.1 & 2    & 4   \\\\\n",
       "\t15 & -0.1 & 2    & 5   \\\\\n",
       "\\end{tabular}\n"
      ],
      "text/markdown": [
       "\n",
       "| <!--/--> | extra | group | ID | \n",
       "|---|---|---|---|---|---|---|---|---|---|\n",
       "| 1 |  0.7 | 1    | 1    | \n",
       "| 2 | -1.6 | 1    | 2    | \n",
       "| 3 | -0.2 | 1    | 3    | \n",
       "| 4 | -1.2 | 1    | 4    | \n",
       "| 5 | -0.1 | 1    | 5    | \n",
       "| 11 |  1.9 | 2    | 1    | \n",
       "| 12 |  0.8 | 2    | 2    | \n",
       "| 13 |  1.1 | 2    | 3    | \n",
       "| 14 |  0.1 | 2    | 4    | \n",
       "| 15 | -0.1 | 2    | 5    | \n",
       "\n",
       "\n"
      ],
      "text/plain": [
       "   extra group ID\n",
       "1   0.7  1     1 \n",
       "2  -1.6  1     2 \n",
       "3  -0.2  1     3 \n",
       "4  -1.2  1     4 \n",
       "5  -0.1  1     5 \n",
       "11  1.9  2     1 \n",
       "12  0.8  2     2 \n",
       "13  1.1  2     3 \n",
       "14  0.1  2     4 \n",
       "15 -0.1  2     5 "
      ]
     },
     "metadata": {},
     "output_type": "display_data"
    }
   ],
   "source": [
    "sleep[c(1:5, 11:15),]"
   ]
  },
  {
   "cell_type": "code",
   "execution_count": 48,
   "metadata": {},
   "outputs": [
    {
     "data": {
      "text/html": [
       "<ol class=list-inline>\n",
       "\t<li>0.7</li>\n",
       "\t<li>-1.6</li>\n",
       "\t<li>-0.2</li>\n",
       "\t<li>-1.2</li>\n",
       "\t<li>-0.1</li>\n",
       "</ol>\n"
      ],
      "text/latex": [
       "\\begin{enumerate*}\n",
       "\\item 0.7\n",
       "\\item -1.6\n",
       "\\item -0.2\n",
       "\\item -1.2\n",
       "\\item -0.1\n",
       "\\end{enumerate*}\n"
      ],
      "text/markdown": [
       "1. 0.7\n",
       "2. -1.6\n",
       "3. -0.2\n",
       "4. -1.2\n",
       "5. -0.1\n",
       "\n",
       "\n"
      ],
      "text/plain": [
       "[1]  0.7 -1.6 -0.2 -1.2 -0.1"
      ]
     },
     "metadata": {},
     "output_type": "display_data"
    }
   ],
   "source": [
    "sleep[\"extra\"][1:5,]"
   ]
  },
  {
   "cell_type": "code",
   "execution_count": 56,
   "metadata": {},
   "outputs": [
    {
     "data": {
      "text/plain": [
       "\n",
       "\tOne Sample t-test\n",
       "\n",
       "data:  sleep[\"extra\"][1:10, ]\n",
       "t = -0.4419, df = 9, p-value = 0.669\n",
       "alternative hypothesis: true mean is not equal to 1\n",
       "99 percent confidence interval:\n",
       " -1.088544  2.588544\n",
       "sample estimates:\n",
       "mean of x \n",
       "     0.75 \n"
      ]
     },
     "metadata": {},
     "output_type": "display_data"
    },
    {
     "data": {
      "text/plain": [
       "\n",
       "\tOne Sample t-test\n",
       "\n",
       "data:  sleep[\"extra\"][1:10, ]\n",
       "t = -3.9771, df = 9, p-value = 0.00322\n",
       "alternative hypothesis: true mean is not equal to 3\n",
       "99 percent confidence interval:\n",
       " -1.088544  2.588544\n",
       "sample estimates:\n",
       "mean of x \n",
       "     0.75 \n"
      ]
     },
     "metadata": {},
     "output_type": "display_data"
    },
    {
     "data": {
      "text/plain": [
       "\n",
       "\tOne Sample t-test\n",
       "\n",
       "data:  sleep[\"extra\"][1:10, ]\n",
       "t = -3.9771, df = 9, p-value = 0.9984\n",
       "alternative hypothesis: true mean is greater than 3\n",
       "99 percent confidence interval:\n",
       " -0.8461849        Inf\n",
       "sample estimates:\n",
       "mean of x \n",
       "     0.75 \n"
      ]
     },
     "metadata": {},
     "output_type": "display_data"
    },
    {
     "data": {
      "text/plain": [
       "\n",
       "\tOne Sample t-test\n",
       "\n",
       "data:  sleep[\"extra\"][1:10, ]\n",
       "t = -3.9771, df = 9, p-value = 0.00161\n",
       "alternative hypothesis: true mean is less than 3\n",
       "99 percent confidence interval:\n",
       "     -Inf 2.346185\n",
       "sample estimates:\n",
       "mean of x \n",
       "     0.75 \n"
      ]
     },
     "metadata": {},
     "output_type": "display_data"
    }
   ],
   "source": [
    "t.test(sleep[\"extra\"][1:10,], mu=1, conf.level = .99)\n",
    "t.test(sleep[\"extra\"][1:10,], mu=3, conf.level = .99, alternative = \"two.sided\")    #默认双侧\n",
    "t.test(sleep[\"extra\"][1:10,], mu=3, conf.level = .99, alternative = \"greater\")\n",
    "t.test(sleep[\"extra\"][1:10,], mu=3, conf.level = .99, alternative = \"less\")"
   ]
  },
  {
   "cell_type": "markdown",
   "metadata": {
    "toc-hr-collapsed": false
   },
   "source": [
    "### 独立样本t检验："
   ]
  },
  {
   "cell_type": "markdown",
   "metadata": {},
   "source": [
    "#### 样本与方差相等"
   ]
  },
  {
   "cell_type": "markdown",
   "metadata": {},
   "source": [
    "$H_0:\\mu_1 - \\mu_2 = \\mu_0$为真的条件下服从自由度为2df − 2的t分布，$t = \\frac{ \\overline { x } _ { 1 } - \\overline { x } _ { 2 } - \\mu _ { 0 } } { \\sqrt { 2 s _ { p } ^ { 2 } / n } },s _ { p } ^ { 2 } = \\left( \\sum _ { i = 1 } ^ { n } \\left( x _ { 1 i } - \\overline { x } _ { 1 } \\right) ^ { 2 } + \\sum _ { i = 1 } ^ { n } \\left( x _ { 2 i } - \\overline { x } _ { 2 } \\right) ^ { 2 } \\right) / ( 2 df - 2 )$"
   ]
  },
  {
   "cell_type": "code",
   "execution_count": 4,
   "metadata": {},
   "outputs": [
    {
     "data": {
      "text/plain": [
       "\n",
       "\tWelch Two Sample t-test\n",
       "\n",
       "data:  extra by group\n",
       "t = -1.8608, df = 17.776, p-value = 0.07939\n",
       "alternative hypothesis: true difference in means is not equal to 0\n",
       "95 percent confidence interval:\n",
       " -3.3654832  0.2054832\n",
       "sample estimates:\n",
       "mean in group 1 mean in group 2 \n",
       "           0.75            2.33 \n"
      ]
     },
     "metadata": {},
     "output_type": "display_data"
    },
    {
     "data": {
      "text/plain": [
       "\n",
       "\tTwo Sample t-test\n",
       "\n",
       "data:  sleep[\"extra\"][1:10, ] and sleep[\"extra\"][11:20, ]\n",
       "t = -1.8608, df = 18, p-value = 0.07919\n",
       "alternative hypothesis: true difference in means is not equal to 0\n",
       "95 percent confidence interval:\n",
       " -3.363874  0.203874\n",
       "sample estimates:\n",
       "mean of x mean of y \n",
       "     0.75      2.33 \n"
      ]
     },
     "metadata": {},
     "output_type": "display_data"
    },
    {
     "data": {
      "text/plain": [
       "\n",
       "\tWelch Two Sample t-test\n",
       "\n",
       "data:  extra by group\n",
       "t = -1.8608, df = 17.776, p-value = 0.9603\n",
       "alternative hypothesis: true difference in means is greater than 0\n",
       "95 percent confidence interval:\n",
       " -3.053381       Inf\n",
       "sample estimates:\n",
       "mean in group 1 mean in group 2 \n",
       "           0.75            2.33 \n"
      ]
     },
     "metadata": {},
     "output_type": "display_data"
    },
    {
     "data": {
      "text/plain": [
       "\n",
       "\tWelch Two Sample t-test\n",
       "\n",
       "data:  extra by group\n",
       "t = -1.8608, df = 17.776, p-value = 0.0397\n",
       "alternative hypothesis: true difference in means is less than 0\n",
       "95 percent confidence interval:\n",
       "       -Inf -0.1066185\n",
       "sample estimates:\n",
       "mean in group 1 mean in group 2 \n",
       "           0.75            2.33 \n"
      ]
     },
     "metadata": {},
     "output_type": "display_data"
    }
   ],
   "source": [
    "t.test(extra ~ group,data = sleep)    #波浪号作用：因变量~自变量\n",
    "t.test(sleep[\"extra\"][1:10,],sleep[\"extra\"][11:20,], var.equal = TRUE)\n",
    "t.test(extra ~ group,data = sleep, alternative = \"greater\")    #均值差大于0，即cond1 > cond2\n",
    "t.test(extra ~ group,data = sleep, alternative = \"less\")      #均值超小于0，即cond1 < cond2"
   ]
  },
  {
   "cell_type": "markdown",
   "metadata": {},
   "source": [
    "计算效应量"
   ]
  },
  {
   "cell_type": "code",
   "execution_count": 19,
   "metadata": {},
   "outputs": [
    {
     "data": {
      "text/html": [
       "<strong>t:</strong> -1.86081346748685"
      ],
      "text/latex": [
       "\\textbf{t:} -1.86081346748685"
      ],
      "text/markdown": [
       "**t:** -1.86081346748685"
      ],
      "text/plain": [
       "        t \n",
       "-1.860813 "
      ]
     },
     "metadata": {},
     "output_type": "display_data"
    },
    {
     "data": {
      "text/html": [
       "<strong>df:</strong> 17.7764735161785"
      ],
      "text/latex": [
       "\\textbf{df:} 17.7764735161785"
      ],
      "text/markdown": [
       "**df:** 17.7764735161785"
      ],
      "text/plain": [
       "      df \n",
       "17.77647 "
      ]
     },
     "metadata": {},
     "output_type": "display_data"
    }
   ],
   "source": [
    "sleep.pairt = t.test(extra ~ group,data = sleep) \n",
    "sleep.pairt$statistic\n",
    "sleep.pairt$parameter"
   ]
  },
  {
   "cell_type": "code",
   "execution_count": 20,
   "metadata": {},
   "outputs": [
    {
     "data": {
      "text/html": [
       "<strong>t:</strong> 0.163030764751219"
      ],
      "text/latex": [
       "\\textbf{t:} 0.163030764751219"
      ],
      "text/markdown": [
       "**t:** 0.163030764751219"
      ],
      "text/plain": [
       "        t \n",
       "0.1630308 "
      ]
     },
     "metadata": {},
     "output_type": "display_data"
    }
   ],
   "source": [
    "r_sq = sleep.pairt$statistic ^ 2 / (sleep.pairt$statistic ^ 2 + sleep.pairt$parameter)\n",
    "r_sq    #效应量"
   ]
  },
  {
   "cell_type": "markdown",
   "metadata": {},
   "source": [
    "#### 样本不等方差相等"
   ]
  },
  {
   "cell_type": "markdown",
   "metadata": {},
   "source": [
    "$H_0: \\mu_1 - \\mu_2 = \\mu_0$为真的条件下服从自由度为df1 + df2 − 2的t分布，$t = \\frac { \\overline { x } _ { 1 } - \\overline { x } _ { 2 } - \\mu _ { 0 } } { \\sqrt { s _ { p } ^ { 2 } / df _ { 1 } + s _ { p } ^ { 2 } / df _ { 2 } } },s _ { p } ^ { 2 } = \\left( \\sum _ { i = 1 } ^ { n } \\left( x _ { 1 i } - \\overline { x } _ { 1 } \\right) ^ { 2 } + \\sum _ { j = 1 } ^ { n } \\left( x _ { 2 j } - \\overline { x } _ { 2 } \\right) ^ { 2 } \\right) / \\left( df _ { 1 } + df _ { 2 } - 2 \\right),i=1,...,df_1,j=1,...,df_2$"
   ]
  },
  {
   "cell_type": "code",
   "execution_count": 5,
   "metadata": {},
   "outputs": [
    {
     "data": {
      "text/plain": [
       "\n",
       "\tTwo Sample t-test\n",
       "\n",
       "data:  sleep[\"extra\"][1:10, ] and sleep[\"extra\"][11:19, ]\n",
       "t = -1.6439, df = 17, p-value = 0.1186\n",
       "alternative hypothesis: true difference in means is not equal to 0\n",
       "95 percent confidence interval:\n",
       " -3.336328  0.414106\n",
       "sample estimates:\n",
       "mean of x mean of y \n",
       " 0.750000  2.211111 \n"
      ]
     },
     "metadata": {},
     "output_type": "display_data"
    }
   ],
   "source": [
    "t.test(sleep[\"extra\"][1:10,],sleep[\"extra\"][11:19,], var.equal = TRUE) "
   ]
  },
  {
   "cell_type": "markdown",
   "metadata": {},
   "source": [
    "#### 样本方差皆不相等，常称为Welch检验"
   ]
  },
  {
   "cell_type": "markdown",
   "metadata": {},
   "source": [
    "$H_0: \\mu_1 - \\mu_2 = \\mu_0$为真的条件下服从自由度为$df = \\frac { \\left( s _ { 1 } ^ { 2 } / df _ { 1 } + s _ { 2 } ^ { 2 } / df _ { 2 } \\right) ^ { 2 } } { \\left( s _ { 1 } ^ { 2 } / df _ { 1 } \\right) ^ { 2 } / \\left( df _ { 1 } - 1 \\right) + \\left( s _ { 2 } ^ { 2 } / n _ { 2 } \\right) ^ { 2 } / \\left( n _ { 2 } - 1 \\right) }$的t分布，$t = \\frac { \\overline { x } _ { 1 } - \\overline { x } _ { 2 } - \\mu _ { 0 } } { \\sqrt { s _ { 1 } ^ { 2 } / df _ { 1 } + s _ { 2 } ^ { 2 } / df _ { 2 } } },s _ { 1 } ^ { 2 } = \\left( \\sum _ { i = 1 } ^ { n } \\left( x _ { 1 i } - \\overline { x } _ { 1 } \\right) ^ { 2 } \\right) / \\left( df _ { 1 } - 1 \\right), s _ { 2 } ^ { 2 } = \\left( \\sum _ { j = 1 } ^ { df } \\left( x _ { 2 j } - \\overline { x } _ { 2 } \\right) ^ { 2 } \\right) / \\left( df _ { 2 } - 1 \\right), i=1,...,df_1,j=1,...,df_2$"
   ]
  },
  {
   "cell_type": "code",
   "execution_count": 16,
   "metadata": {},
   "outputs": [
    {
     "data": {
      "text/plain": [
       "\n",
       "\tWelch Two Sample t-test\n",
       "\n",
       "data:  sleep[\"extra\"][1:10, ] and sleep[\"extra\"][11:19, ]\n",
       "t = -1.63, df = 15.903, p-value = 0.1227\n",
       "alternative hypothesis: true difference in means is not equal to 0\n",
       "95 percent confidence interval:\n",
       " -3.3623119  0.4400897\n",
       "sample estimates:\n",
       "mean of x mean of y \n",
       " 0.750000  2.211111 \n"
      ]
     },
     "metadata": {},
     "output_type": "display_data"
    }
   ],
   "source": [
    "t.test(sleep[\"extra\"][1:10,],sleep[\"extra\"][11:19,], var.equal = FALSE)    #默认0.95显著性，样本与方差均不等，"
   ]
  },
  {
   "cell_type": "markdown",
   "metadata": {
    "toc-hr-collapsed": false
   },
   "source": [
    "### 配对样本t检验："
   ]
  },
  {
   "cell_type": "markdown",
   "metadata": {},
   "source": [
    "$H_0 = \\mu=\\mu_0$为真的条件下服从自由度为df-1的t分布，$t = \\frac { \\overline { d } - \\mu _ { 0 } } { s _ { d } / \\sqrt { n } },s _ { d } = \\sqrt { \\frac { \\sum _ { i = 1 } ^ { n } \\left( d _ { i } - \\overline { d } \\right) ^ { 2 } } { n - 1 } }$，d为配对样本差值平均数"
   ]
  },
  {
   "cell_type": "code",
   "execution_count": 2,
   "metadata": {},
   "outputs": [
    {
     "data": {
      "text/plain": [
       "\n",
       "\tPaired t-test\n",
       "\n",
       "data:  extra by group\n",
       "t = -4.0621, df = 9, p-value = 0.002833\n",
       "alternative hypothesis: true difference in means is not equal to 0\n",
       "95 percent confidence interval:\n",
       " -2.4598858 -0.7001142\n",
       "sample estimates:\n",
       "mean of the differences \n",
       "                  -1.58 \n"
      ]
     },
     "metadata": {},
     "output_type": "display_data"
    }
   ],
   "source": [
    "t.test(extra ~ group,data = sleep, paired = TRUE)"
   ]
  },
  {
   "cell_type": "markdown",
   "metadata": {},
   "source": [
    "计算效应量"
   ]
  },
  {
   "cell_type": "code",
   "execution_count": 4,
   "metadata": {},
   "outputs": [],
   "source": [
    "sleep.pairt = t.test(extra ~ group,data = sleep, paired = TRUE)\n",
    "sleep.pairt$statistic\n",
    "sleep.pairt$parameter"
   ]
  },
  {
   "cell_type": "code",
   "execution_count": 18,
   "metadata": {},
   "outputs": [
    {
     "data": {
      "text/html": [
       "<strong>t:</strong> 0.647071021254536"
      ],
      "text/latex": [
       "\\textbf{t:} 0.647071021254536"
      ],
      "text/markdown": [
       "**t:** 0.647071021254536"
      ],
      "text/plain": [
       "       t \n",
       "0.647071 "
      ]
     },
     "metadata": {},
     "output_type": "display_data"
    }
   ],
   "source": [
    "r_sq = sleep.pairt$statistic ^ 2 / (sleep.pairt$statistic ^ 2 + sleep.pairt$parameter)\n",
    "r_sq    #效应量"
   ]
  },
  {
   "cell_type": "markdown",
   "metadata": {
    "toc-hr-collapsed": true
   },
   "source": [
    "## ANOVA"
   ]
  },
  {
   "cell_type": "markdown",
   "metadata": {},
   "source": [
    "aov(formula, data = dataframe)，aov(formula, data = NULL, projections = FALSE, qr = TRUE, contrasts = NULL, ...)  \n",
    "$\\bullet$&ensp;&ensp;“~” 为分隔符号，格式为：因变量 ~ 自变量；用A、B预测y：y ~ A + B  \n",
    "$\\bullet$&ensp;&ensp;“+” 为分隔自变量  \n",
    "$\\bullet$&ensp;&ensp;“:” 表示变量交互项；A、B和A×B预测y：y ~ A + B + A : B  \n",
    "$\\bullet$&ensp;&ensp;“\\*” 表示所有可能交互项；y ~ A * B * C $\\Leftrightarrow$y ~ A + B + C + A : B + A : C + B : C + A : B : C  \n",
    "$\\bullet$&ensp;&ensp;“^” 表示交互项达到某个次数；y ~ (A + B + C) ^ 2 $\\Leftrightarrow$y ~ A + B + C + A : B + A : C + B : C  \n",
    "$\\bullet$&ensp;&ensp;“.” 表示包含除因变量外的所有变量；y ~ .$\\Leftrightarrow$y ~ A + B + C"
   ]
  },
  {
   "cell_type": "code",
   "execution_count": 1,
   "metadata": {},
   "outputs": [
    {
     "data": {
      "text/html": [
       "<table>\n",
       "<thead><tr><th scope=col>Ozone</th><th scope=col>Solar.R</th><th scope=col>Wind</th><th scope=col>Temp</th><th scope=col>Month</th><th scope=col>Day</th></tr></thead>\n",
       "<tbody>\n",
       "\t<tr><td>41  </td><td>190 </td><td> 7.4</td><td>67  </td><td>5   </td><td>1   </td></tr>\n",
       "\t<tr><td>36  </td><td>118 </td><td> 8.0</td><td>72  </td><td>5   </td><td>2   </td></tr>\n",
       "\t<tr><td>12  </td><td>149 </td><td>12.6</td><td>74  </td><td>5   </td><td>3   </td></tr>\n",
       "\t<tr><td>18  </td><td>313 </td><td>11.5</td><td>62  </td><td>5   </td><td>4   </td></tr>\n",
       "\t<tr><td>NA  </td><td> NA </td><td>14.3</td><td>56  </td><td>5   </td><td>5   </td></tr>\n",
       "\t<tr><td>28  </td><td> NA </td><td>14.9</td><td>66  </td><td>5   </td><td>6   </td></tr>\n",
       "</tbody>\n",
       "</table>\n"
      ],
      "text/latex": [
       "\\begin{tabular}{r|llllll}\n",
       " Ozone & Solar.R & Wind & Temp & Month & Day\\\\\n",
       "\\hline\n",
       "\t 41   & 190  &  7.4 & 67   & 5    & 1   \\\\\n",
       "\t 36   & 118  &  8.0 & 72   & 5    & 2   \\\\\n",
       "\t 12   & 149  & 12.6 & 74   & 5    & 3   \\\\\n",
       "\t 18   & 313  & 11.5 & 62   & 5    & 4   \\\\\n",
       "\t NA   &  NA  & 14.3 & 56   & 5    & 5   \\\\\n",
       "\t 28   &  NA  & 14.9 & 66   & 5    & 6   \\\\\n",
       "\\end{tabular}\n"
      ],
      "text/markdown": [
       "\n",
       "Ozone | Solar.R | Wind | Temp | Month | Day | \n",
       "|---|---|---|---|---|---|\n",
       "| 41   | 190  |  7.4 | 67   | 5    | 1    | \n",
       "| 36   | 118  |  8.0 | 72   | 5    | 2    | \n",
       "| 12   | 149  | 12.6 | 74   | 5    | 3    | \n",
       "| 18   | 313  | 11.5 | 62   | 5    | 4    | \n",
       "| NA   |  NA  | 14.3 | 56   | 5    | 5    | \n",
       "| 28   |  NA  | 14.9 | 66   | 5    | 6    | \n",
       "\n",
       "\n"
      ],
      "text/plain": [
       "  Ozone Solar.R Wind Temp Month Day\n",
       "1 41    190      7.4 67   5     1  \n",
       "2 36    118      8.0 72   5     2  \n",
       "3 12    149     12.6 74   5     3  \n",
       "4 18    313     11.5 62   5     4  \n",
       "5 NA     NA     14.3 56   5     5  \n",
       "6 28     NA     14.9 66   5     6  "
      ]
     },
     "metadata": {},
     "output_type": "display_data"
    }
   ],
   "source": [
    "head(airquality)"
   ]
  },
  {
   "cell_type": "code",
   "execution_count": 2,
   "metadata": {},
   "outputs": [
    {
     "data": {
      "text/html": [
       "<table>\n",
       "<thead><tr><th scope=col>X_data</th><th scope=col>Month</th></tr></thead>\n",
       "<tbody>\n",
       "\t<tr><td>67</td><td>5 </td></tr>\n",
       "\t<tr><td>72</td><td>5 </td></tr>\n",
       "\t<tr><td>74</td><td>5 </td></tr>\n",
       "\t<tr><td>62</td><td>5 </td></tr>\n",
       "\t<tr><td>56</td><td>5 </td></tr>\n",
       "\t<tr><td>66</td><td>5 </td></tr>\n",
       "</tbody>\n",
       "</table>\n"
      ],
      "text/latex": [
       "\\begin{tabular}{r|ll}\n",
       " X\\_data & Month\\\\\n",
       "\\hline\n",
       "\t 67 & 5 \\\\\n",
       "\t 72 & 5 \\\\\n",
       "\t 74 & 5 \\\\\n",
       "\t 62 & 5 \\\\\n",
       "\t 56 & 5 \\\\\n",
       "\t 66 & 5 \\\\\n",
       "\\end{tabular}\n"
      ],
      "text/markdown": [
       "\n",
       "X_data | Month | \n",
       "|---|---|---|---|---|---|\n",
       "| 67 | 5  | \n",
       "| 72 | 5  | \n",
       "| 74 | 5  | \n",
       "| 62 | 5  | \n",
       "| 56 | 5  | \n",
       "| 66 | 5  | \n",
       "\n",
       "\n"
      ],
      "text/plain": [
       "  X_data Month\n",
       "1 67     5    \n",
       "2 72     5    \n",
       "3 74     5    \n",
       "4 62     5    \n",
       "5 56     5    \n",
       "6 66     5    "
      ]
     },
     "metadata": {},
     "output_type": "display_data"
    }
   ],
   "source": [
    "attach(airquality)    #获取温度与月份数据\n",
    "temp = transform(Temp, Month = Month) # marginally interesting ...\n",
    "detach(airquality)\n",
    "head(temp)"
   ]
  },
  {
   "cell_type": "code",
   "execution_count": 3,
   "metadata": {},
   "outputs": [
    {
     "data": {
      "text/html": [
       "<table>\n",
       "<thead><tr><th scope=col>Temp</th><th scope=col>Month</th></tr></thead>\n",
       "<tbody>\n",
       "\t<tr><td>67</td><td>5 </td></tr>\n",
       "\t<tr><td>72</td><td>5 </td></tr>\n",
       "\t<tr><td>74</td><td>5 </td></tr>\n",
       "\t<tr><td>62</td><td>5 </td></tr>\n",
       "\t<tr><td>56</td><td>5 </td></tr>\n",
       "\t<tr><td>66</td><td>5 </td></tr>\n",
       "</tbody>\n",
       "</table>\n"
      ],
      "text/latex": [
       "\\begin{tabular}{r|ll}\n",
       " Temp & Month\\\\\n",
       "\\hline\n",
       "\t 67 & 5 \\\\\n",
       "\t 72 & 5 \\\\\n",
       "\t 74 & 5 \\\\\n",
       "\t 62 & 5 \\\\\n",
       "\t 56 & 5 \\\\\n",
       "\t 66 & 5 \\\\\n",
       "\\end{tabular}\n"
      ],
      "text/markdown": [
       "\n",
       "Temp | Month | \n",
       "|---|---|---|---|---|---|\n",
       "| 67 | 5  | \n",
       "| 72 | 5  | \n",
       "| 74 | 5  | \n",
       "| 62 | 5  | \n",
       "| 56 | 5  | \n",
       "| 66 | 5  | \n",
       "\n",
       "\n"
      ],
      "text/plain": [
       "  Temp Month\n",
       "1 67   5    \n",
       "2 72   5    \n",
       "3 74   5    \n",
       "4 62   5    \n",
       "5 56   5    \n",
       "6 66   5    "
      ]
     },
     "metadata": {},
     "output_type": "display_data"
    }
   ],
   "source": [
    "names(temp) = c(\"Temp\", \"Month\")\n",
    "\n",
    "temp$Month = as.factor(temp$Month)    #此处操作是将Month中的数字变为因子，以免ANOVA中df变为1\n",
    "head(temp)"
   ]
  },
  {
   "cell_type": "code",
   "execution_count": 8,
   "metadata": {},
   "outputs": [
    {
     "data": {
      "image/png": "[encoded data removed]",
      "text/plain": [
       "plot without title"
      ]
     },
     "metadata": {},
     "output_type": "display_data",
     "source": "R display func"
    }
   ],
   "source": [
    "attach(temp)  \n",
    "plot(Temp ~ Month)\n",
    "detach(temp)"
   ]
  },
  {
   "cell_type": "markdown",
   "metadata": {
    "toc-hr-collapsed": false
   },
   "source": [
    "### 单因素ANOVA：$y\\sim A$"
   ]
  },
  {
   "cell_type": "markdown",
   "metadata": {},
   "source": [
    "#### 方差齐性检验"
   ]
  },
  {
   "cell_type": "code",
   "execution_count": 13,
   "metadata": {},
   "outputs": [
    {
     "data": {
      "text/plain": [
       "\n",
       "\tBartlett test of homogeneity of variances\n",
       "\n",
       "data:  Temp by Month\n",
       "Bartlett's K-squared = 12.023, df = 4, p-value = 0.01718\n"
      ]
     },
     "metadata": {},
     "output_type": "display_data"
    }
   ],
   "source": [
    "bartlett.test(Temp ~ Month ,data = temp)     #假定分布正态"
   ]
  },
  {
   "cell_type": "code",
   "execution_count": 14,
   "metadata": {},
   "outputs": [
    {
     "data": {
      "text/plain": [
       "\n",
       "\tFligner-Killeen test of homogeneity of variances\n",
       "\n",
       "data:  Temp by Month\n",
       "Fligner-Killeen:med chi-squared = 10.28, df = 4, p-value = 0.03596\n"
      ]
     },
     "metadata": {},
     "output_type": "display_data"
    }
   ],
   "source": [
    "fligner.test(Temp ~ Month ,data = temp)    #不依赖分布假设"
   ]
  },
  {
   "cell_type": "markdown",
   "metadata": {},
   "source": [
    "#### 分组与检验"
   ]
  },
  {
   "cell_type": "code",
   "execution_count": 10,
   "metadata": {},
   "outputs": [
    {
     "data": {
      "text/plain": [
       "\n",
       "\tOne-way analysis of means (not assuming equal variances)\n",
       "\n",
       "data:  temp$Temp and factor(temp$Month)\n",
       "F = 43.3, num df = 4.00, denom df = 72.62, p-value < 2.2e-16\n"
      ]
     },
     "metadata": {},
     "output_type": "display_data"
    }
   ],
   "source": [
    "oneway.test(temp$Temp~factor(temp$Month))"
   ]
  },
  {
   "cell_type": "code",
   "execution_count": 4,
   "metadata": {},
   "outputs": [
    {
     "data": {
      "text/plain": [
       "Month\n",
       " 5  6  7  8  9 \n",
       "31 30 31 31 30 "
      ]
     },
     "metadata": {},
     "output_type": "display_data"
    },
    {
     "data": {
      "text/html": [
       "<table>\n",
       "<thead><tr><th scope=col>Group.1</th><th scope=col>x</th></tr></thead>\n",
       "<tbody>\n",
       "\t<tr><td>5       </td><td>65.54839</td></tr>\n",
       "\t<tr><td>6       </td><td>79.10000</td></tr>\n",
       "\t<tr><td>7       </td><td>83.90323</td></tr>\n",
       "\t<tr><td>8       </td><td>83.96774</td></tr>\n",
       "\t<tr><td>9       </td><td>76.90000</td></tr>\n",
       "</tbody>\n",
       "</table>\n"
      ],
      "text/latex": [
       "\\begin{tabular}{r|ll}\n",
       " Group.1 & x\\\\\n",
       "\\hline\n",
       "\t 5        & 65.54839\\\\\n",
       "\t 6        & 79.10000\\\\\n",
       "\t 7        & 83.90323\\\\\n",
       "\t 8        & 83.96774\\\\\n",
       "\t 9        & 76.90000\\\\\n",
       "\\end{tabular}\n"
      ],
      "text/markdown": [
       "\n",
       "Group.1 | x | \n",
       "|---|---|---|---|---|\n",
       "| 5        | 65.54839 | \n",
       "| 6        | 79.10000 | \n",
       "| 7        | 83.90323 | \n",
       "| 8        | 83.96774 | \n",
       "| 9        | 76.90000 | \n",
       "\n",
       "\n"
      ],
      "text/plain": [
       "  Group.1 x       \n",
       "1 5       65.54839\n",
       "2 6       79.10000\n",
       "3 7       83.90323\n",
       "4 8       83.96774\n",
       "5 9       76.90000"
      ]
     },
     "metadata": {},
     "output_type": "display_data"
    },
    {
     "data": {
      "text/html": [
       "<table>\n",
       "<thead><tr><th scope=col>Group.1</th><th scope=col>x</th></tr></thead>\n",
       "<tbody>\n",
       "\t<tr><td>5       </td><td>6.854870</td></tr>\n",
       "\t<tr><td>6       </td><td>6.598589</td></tr>\n",
       "\t<tr><td>7       </td><td>4.315513</td></tr>\n",
       "\t<tr><td>8       </td><td>6.585256</td></tr>\n",
       "\t<tr><td>9       </td><td>8.355671</td></tr>\n",
       "</tbody>\n",
       "</table>\n"
      ],
      "text/latex": [
       "\\begin{tabular}{r|ll}\n",
       " Group.1 & x\\\\\n",
       "\\hline\n",
       "\t 5        & 6.854870\\\\\n",
       "\t 6        & 6.598589\\\\\n",
       "\t 7        & 4.315513\\\\\n",
       "\t 8        & 6.585256\\\\\n",
       "\t 9        & 8.355671\\\\\n",
       "\\end{tabular}\n"
      ],
      "text/markdown": [
       "\n",
       "Group.1 | x | \n",
       "|---|---|---|---|---|\n",
       "| 5        | 6.854870 | \n",
       "| 6        | 6.598589 | \n",
       "| 7        | 4.315513 | \n",
       "| 8        | 6.585256 | \n",
       "| 9        | 8.355671 | \n",
       "\n",
       "\n"
      ],
      "text/plain": [
       "  Group.1 x       \n",
       "1 5       6.854870\n",
       "2 6       6.598589\n",
       "3 7       4.315513\n",
       "4 8       6.585256\n",
       "5 9       8.355671"
      ]
     },
     "metadata": {},
     "output_type": "display_data"
    },
    {
     "data": {
      "text/plain": [
       "             Df Sum Sq Mean Sq F value Pr(>F)    \n",
       "Month         4   7061  1765.3   39.85 <2e-16 ***\n",
       "Residuals   148   6557    44.3                   \n",
       "---\n",
       "Signif. codes:  0 ‘***’ 0.001 ‘**’ 0.01 ‘*’ 0.05 ‘.’ 0.1 ‘ ’ 1"
      ]
     },
     "metadata": {},
     "output_type": "display_data"
    }
   ],
   "source": [
    "attach(temp)    #加载数据集\n",
    "table(Month)    #获取各组样本大小\n",
    "aggregate(Temp, by=list(Month), FUN=mean)    #各组均值\n",
    "aggregate(Temp, by=list(Month), FUN=sd)    #各组sd\n",
    "\n",
    "temp.aov = aov(Temp ~ Month)\n",
    "summary(temp.aov)\n",
    "detach(temp)"
   ]
  },
  {
   "cell_type": "markdown",
   "metadata": {},
   "source": [
    "#### 事后检验"
   ]
  },
  {
   "cell_type": "code",
   "execution_count": null,
   "metadata": {},
   "outputs": [],
   "source": [
    "DescTools::ScheffeTest(temp.aov, which=\"site\", contrasts=t(cntrMat))"
   ]
  },
  {
   "cell_type": "code",
   "execution_count": 12,
   "metadata": {},
   "outputs": [
    {
     "data": {
      "text/plain": [
       "  Tukey multiple comparisons of means\n",
       "    95% family-wise confidence level\n",
       "\n",
       "Fit: aov(formula = Temp ~ Month)\n",
       "\n",
       "$Month\n",
       "           diff          lwr       upr     p adj\n",
       "6-5 13.55161290   8.84386422 18.259362 0.0000000\n",
       "7-5 18.35483871  13.68583759 23.023840 0.0000000\n",
       "8-5 18.41935484  13.75035372 23.088356 0.0000000\n",
       "9-5 11.35161290   6.64386422 16.059362 0.0000000\n",
       "7-6  4.80322581   0.09547713  9.510974 0.0430674\n",
       "8-6  4.86774194   0.15999325  9.575491 0.0388654\n",
       "9-6 -2.20000000  -6.94617992  2.546180 0.7038121\n",
       "8-7  0.06451613  -4.60448499  4.733517 0.9999995\n",
       "9-7 -7.00322581 -11.71097449 -2.295477 0.0006215\n",
       "9-8 -7.06774194 -11.77549062 -2.359993 0.0005376\n"
      ]
     },
     "metadata": {},
     "output_type": "display_data"
    },
    {
     "data": {
      "image/png": "[encoded data removed]",
      "text/plain": [
       "Plot with title “95% family-wise confidence level\n",
       "”"
      ]
     },
     "metadata": {},
     "output_type": "display_data",
     "source": "R display func"
    }
   ],
   "source": [
    "TukeyHSD(temp.aov)\n",
    "plot(TukeyHSD(temp.aov))"
   ]
  },
  {
   "cell_type": "markdown",
   "metadata": {},
   "source": [
    "### 含单个协变量的单因素ANOVA：$y\\sim x+A$"
   ]
  },
  {
   "cell_type": "code",
   "execution_count": null,
   "metadata": {},
   "outputs": [],
   "source": []
  },
  {
   "cell_type": "markdown",
   "metadata": {},
   "source": [
    "### 双因素ANOVA：$y\\sim A\\ast B$"
   ]
  },
  {
   "cell_type": "code",
   "execution_count": null,
   "metadata": {},
   "outputs": [],
   "source": []
  },
  {
   "cell_type": "markdown",
   "metadata": {},
   "source": [
    "### 含两个协变量的双因素ANOVA：$y\\sim x_1+x_2+A\\sim B$"
   ]
  },
  {
   "cell_type": "code",
   "execution_count": null,
   "metadata": {},
   "outputs": [],
   "source": []
  },
  {
   "cell_type": "markdown",
   "metadata": {},
   "source": [
    "### 随机化区组：$y\\sim B+A$，B为区组因素"
   ]
  },
  {
   "cell_type": "code",
   "execution_count": null,
   "metadata": {},
   "outputs": [],
   "source": []
  },
  {
   "cell_type": "markdown",
   "metadata": {},
   "source": [
    "### 单因素组内ANOVA：$y\\sim A+Error(subject/A)$"
   ]
  },
  {
   "cell_type": "code",
   "execution_count": null,
   "metadata": {},
   "outputs": [],
   "source": []
  },
  {
   "cell_type": "code",
   "execution_count": 7,
   "metadata": {},
   "outputs": [
    {
     "data": {
      "text/plain": [
       "\n",
       "Call:\n",
       "lm(formula = y ~ x)\n",
       "\n",
       "Coefficients:\n",
       "(Intercept)            x  \n",
       "      1.143       -1.894  \n"
      ]
     },
     "metadata": {},
     "output_type": "display_data"
    }
   ],
   "source": [
    "x <- runif(100)\n",
    "y <- 1 - 2*x + .3*exp(rnorm(100)-1)    #加入噪声\n",
    "r <- lm(y~x)\n",
    "r"
   ]
  },
  {
   "cell_type": "code",
   "execution_count": 10,
   "metadata": {},
   "outputs": [
    {
     "data": {
      "text/plain": [
       "$coefficients\n",
       "Intercept         X \n",
       " 1.142702 -1.894097 \n",
       "\n",
       "$residuals\n",
       "  [1] -0.059864997 -0.008741259  0.203785577  0.440006924 -0.136781228\n",
       "  [6]  0.312091309 -0.111621788 -0.126226756 -0.003589663  0.077213116\n",
       " [11] -0.090224915 -0.213639342  0.075532772 -0.027729191 -0.107502798\n",
       " [16] -0.140285557 -0.213321396 -0.042230427 -0.106670817  0.010336458\n",
       " [21] -0.151481592 -0.029242016  0.100794593 -0.163813972  0.480134647\n",
       " [26] -0.152998761 -0.166617139  0.010468118 -0.117640601 -0.121944267\n",
       " [31]  0.509583621  0.033671813 -0.144199747  0.140334116 -0.144283602\n",
       " [36] -0.125527903 -0.096122643  0.329203972  0.223539941 -0.200443594\n",
       " [41] -0.113800574  0.053995334  0.225629918 -0.161171164 -0.116857189\n",
       " [46]  0.062256478  0.460196039  0.321435286 -0.040127274 -0.119516128\n",
       " [51] -0.008985008 -0.104060349  0.022796121 -0.098097119  0.038524854\n",
       " [56] -0.202706835 -0.112054662 -0.021920818 -0.036573016 -0.135701143\n",
       " [61] -0.162578180  0.006802701 -0.131649324 -0.174311229 -0.110831546\n",
       " [66] -0.150323919  0.434089238  0.273809338 -0.095091895 -0.104434496\n",
       " [71] -0.071970742  0.500935326 -0.130626724 -0.063095943 -0.193714911\n",
       " [76] -0.165602004  0.068637402 -0.047642085 -0.162829907 -0.090740265\n",
       " [81] -0.184964325 -0.091917675  0.060238155  0.096511204  0.694149165\n",
       " [86]  0.046639265 -0.122403596 -0.065968105  0.059891101  0.311275303\n",
       " [91] -0.091336707 -0.077877633 -0.158828715  0.010977176  0.107229922\n",
       " [96] -0.033033498 -0.131533688  0.263992287  0.150264243 -0.129348468\n",
       "\n",
       "$intercept\n",
       "[1] TRUE\n",
       "\n",
       "$qr\n",
       "$qt\n",
       "  [1] -1.844100956  5.505524130  0.208957460  0.445514834 -0.131211862\n",
       "  [6]  0.317456211 -0.105703359 -0.121050723  0.001403329  0.082907893\n",
       " [11] -0.084986269 -0.207882720  0.081476057 -0.021955712 -0.102366533\n",
       " [16] -0.134671001 -0.207435665 -0.036352967 -0.101323946  0.015781521\n",
       " [21] -0.145813030 -0.024113161  0.106657746 -0.158445583  0.485279320\n",
       " [26] -0.147150640 -0.160979621  0.015532599 -0.112343905 -0.116847882\n",
       " [31]  0.515007778  0.039444319 -0.138306276  0.145531909 -0.139051279\n",
       " [36] -0.120442056 -0.090199710  0.334916464  0.228490845 -0.194505198\n",
       " [41] -0.108183520  0.059781651  0.231285152 -0.155331310 -0.111719252\n",
       " [46]  0.067792958  0.465809562  0.327328253 -0.035111524 -0.114372971\n",
       " [51] -0.003878968 -0.098649836  0.028278290 -0.092684904  0.044051193\n",
       " [56] -0.196971056 -0.107091807 -0.016084390 -0.031075472 -0.130426826\n",
       " [61] -0.156827113  0.012707508 -0.126602379 -0.168356239 -0.105679331\n",
       " [66] -0.144725232  0.439800476  0.279701025 -0.090153060 -0.098952201\n",
       " [71] -0.066248392  0.506866522 -0.125241149 -0.058094934 -0.188031140\n",
       " [76] -0.160276245  0.073652984 -0.042029148 -0.157371067 -0.085490216\n",
       " [81] -0.179291562 -0.086661392  0.065359653  0.101535378  0.699231459\n",
       " [86]  0.052447764 -0.117054180 -0.060676916  0.065559496  0.316712051\n",
       " [91] -0.085456602 -0.072900624 -0.153463966  0.016451600  0.112995109\n",
       " [96] -0.027492065 -0.126413420  0.269344818  0.155453569 -0.124193285\n",
       "\n",
       "$qr\n",
       "       Intercept             X\n",
       "  [1,]     -10.0 -5.0593572596\n",
       "  [2,]       0.1 -2.9066744687\n",
       "  [3,]       0.1 -0.0887866749\n",
       "  [4,]       0.1  0.0215534019\n",
       "  [5,]       0.1  0.0417331067\n",
       "  [6,]       0.1 -0.0254059852\n",
       "  [7,]       0.1  0.1563542562\n",
       "  [8,]       0.1 -0.0874243364\n",
       "  [9,]       0.1 -0.1475289951\n",
       " [10,]       0.1  0.0829140750\n",
       " [11,]       0.1 -0.0668640761\n",
       " [12,]       0.1  0.1032220539\n",
       " [13,]       0.1  0.1645160661\n",
       " [14,]       0.1  0.1087574494\n",
       " [15,]       0.1 -0.1004827088\n",
       " [16,]       0.1  0.0565719415\n",
       " [17,]       0.1  0.1456171852\n",
       " [18,]       0.1  0.1429013590\n",
       " [19,]       0.1 -0.0313267139\n",
       " [20,]       0.1  0.0009161454\n",
       " [21,]       0.1  0.0743060270\n",
       " [22,]       0.1 -0.1029159080\n",
       " [23,]       0.1  0.1382033178\n",
       " [24,]       0.1 -0.0242609530\n",
       " [25,]       0.1 -0.0977215284\n",
       " [26,]       0.1  0.1332674678\n",
       " [27,]       0.1  0.0641121299\n",
       " [28,]       0.1 -0.1240542243\n",
       " [29,]       0.1 -0.0478023324\n",
       " [30,]       0.1 -0.1135778168\n",
       " [31,]       0.1 -0.0059482146\n",
       " [32,]       0.1  0.1084380076\n",
       " [33,]       0.1  0.1481584905\n",
       " [34,]       0.1 -0.0802791182\n",
       " [35,]       0.1 -0.0689406847\n",
       " [36,]       0.1 -0.1170383257\n",
       " [37,]       0.1  0.1578329032\n",
       " [38,]       0.1  0.0887311664\n",
       " [39,]       0.1 -0.1613490258\n",
       " [40,]       0.1  0.1629103521\n",
       " [41,]       0.1  0.0573923153\n",
       " [42,]       0.1  0.1129728159\n",
       " [43,]       0.1  0.0699295718\n",
       " [44,]       0.1  0.1305524809\n",
       " [45,]       0.1 -0.0999338477\n",
       " [46,]       0.1  0.0309344422\n",
       " [47,]       0.1  0.0562332426\n",
       " [48,]       0.1  0.1479930829\n",
       " [49,]       0.1 -0.1400561590\n",
       " [50,]       0.1 -0.0982194677\n",
       " [51,]       0.1 -0.1104076671\n",
       " [52,]       0.1 -0.0104284548\n",
       " [53,]       0.1  0.0131007301\n",
       " [54,]       0.1 -0.0098697426\n",
       " [55,]       0.1  0.0276047910\n",
       " [56,]       0.1  0.0963779185\n",
       " [57,]       0.1 -0.1574246899\n",
       " [58,]       0.1  0.1294275382\n",
       " [59,]       0.1  0.0181493646\n",
       " [60,]       0.1 -0.0551510689\n",
       " [61,]       0.1  0.1013978721\n",
       " [62,]       0.1  0.1518812021\n",
       " [63,]       0.1 -0.1298123589\n",
       " [64,]       0.1  0.1683595497\n",
       " [65,]       0.1 -0.0952454642\n",
       " [66,]       0.1  0.0513613466\n",
       " [67,]       0.1  0.0883193811\n",
       " [68,]       0.1  0.1475729048\n",
       " [69,]       0.1 -0.1653120286\n",
       " [70,]       0.1  0.0131420631\n",
       " [71,]       0.1  0.0919680067\n",
       " [72,]       0.1  0.1605463218\n",
       " [73,]       0.1 -0.0186173629\n",
       " [74,]       0.1 -0.1448962096\n",
       " [75,]       0.1  0.0793002621\n",
       " [76,]       0.1 -0.0382590979\n",
       " [77,]       0.1 -0.1401111739\n",
       " [78,]       0.1  0.0560403583\n",
       " [79,]       0.1  0.0054400983\n",
       " [80,]       0.1 -0.0631195093\n",
       " [81,]       0.1  0.0756856486\n",
       " [82,]       0.1 -0.0610727997\n",
       " [83,]       0.1 -0.1053315874\n",
       " [84,]       0.1 -0.1372895761\n",
       " [85,]       0.1 -0.1182050115\n",
       " [86,]       0.1  0.1202566544\n",
       " [87,]       0.1 -0.0304910000\n",
       " [88,]       0.1 -0.0496108816\n",
       " [89,]       0.1  0.0742513751\n",
       " [90,]       0.1 -0.0018139764\n",
       " [91,]       0.1  0.1437700075\n",
       " [92,]       0.1 -0.1527771051\n",
       " [93,]       0.1 -0.0254559322\n",
       " [94,]       0.1  0.0105574812\n",
       " [95,]       0.1  0.1060347721\n",
       " [96,]       0.1  0.0325610537\n",
       " [97,]       0.1 -0.1057354232\n",
       " [98,]       0.1 -0.0294682729\n",
       " [99,]       0.1 -0.0830591964\n",
       "[100,]       0.1 -0.0942706131\n",
       "\n",
       "$qraux\n",
       "[1] 1.100000 1.083278\n",
       "\n",
       "$rank\n",
       "[1] 2\n",
       "\n",
       "$pivot\n",
       "[1] 1 2\n",
       "\n",
       "$tol\n",
       "[1] 1e-07\n",
       "\n",
       "attr(,\"class\")\n",
       "[1] \"qr\"\n"
      ]
     },
     "metadata": {},
     "output_type": "display_data"
    }
   ],
   "source": [
    "lsfit(x, y)    #简单线性拟合\n",
    "#residuals 为样本点残差"
   ]
  },
  {
   "cell_type": "markdown",
   "metadata": {},
   "source": [
    "### 1.1.3高级操作"
   ]
  },
  {
   "cell_type": "code",
   "execution_count": 4,
   "metadata": {},
   "outputs": [
    {
     "data": {
      "text/plain": [
       "\n",
       "Call:\n",
       "lm(formula = y ~ x)\n",
       "\n",
       "Residuals:\n",
       "       1        2        3        4        5        6 \n",
       "-0.18310 -0.02817  0.12676  0.28169 -0.25352  0.05634 \n",
       "\n",
       "Coefficients:\n",
       "            Estimate Std. Error t value Pr(>|t|)    \n",
       "(Intercept)  3.33803    0.16665   20.03 3.67e-05 ***\n",
       "x            1.84507    0.03227   57.17 5.60e-07 ***\n",
       "---\n",
       "Signif. codes:  0 ‘***’ 0.001 ‘**’ 0.01 ‘*’ 0.05 ‘.’ 0.1 ‘ ’ 1\n",
       "\n",
       "Residual standard error: 0.222 on 4 degrees of freedom\n",
       "Multiple R-squared:  0.9988,\tAdjusted R-squared:  0.9985 \n",
       "F-statistic:  3269 on 1 and 4 DF,  p-value: 5.604e-07\n"
      ]
     },
     "metadata": {},
     "output_type": "display_data"
    }
   ],
   "source": [
    "lm(y~x) -> xy\n",
    "summary(xy)"
   ]
  },
  {
   "cell_type": "code",
   "execution_count": 23,
   "metadata": {},
   "outputs": [
    {
     "data": {
      "image/png": "[encoded data removed]",
      "text/plain": [
       "plot without title"
      ]
     },
     "metadata": {},
     "output_type": "display_data",
     "source": "R display func"
    }
   ],
   "source": [
    "plot(x, y)\n",
    "abline(lsfit(x, y))"
   ]
  },
  {
   "cell_type": "code",
   "execution_count": 29,
   "metadata": {},
   "outputs": [
    {
     "name": "stdout",
     "output_type": "stream",
     "text": [
      "协方差： -0.1616441 \t相关系数： -0.9453117"
     ]
    }
   ],
   "source": [
    "cat(\"协方差：\", cov(x, y), \"\\t相关系数：\", cor(x, y))"
   ]
  },
  {
   "cell_type": "code",
   "execution_count": null,
   "metadata": {},
   "outputs": [],
   "source": []
  }
 ],
 "metadata": {
  "kernelspec": {
   "display_name": "R",
   "language": "R",
   "name": "ir"
  },
  "language_info": {
   "codemirror_mode": "r",
   "file_extension": ".r",
   "mimetype": "text/x-r-source",
   "name": "R",
   "pygments_lexer": "r",
   "version": "3.5.1"
  },
  "toc-autonumbering": false,
  "toc-showmarkdowntxt": false,
  "toc-showtags": false
 },
 "nbformat": 4,
 "nbformat_minor": 2
}
