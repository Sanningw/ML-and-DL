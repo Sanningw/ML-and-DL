{
 "cells": [
  {
   "cell_type": "markdown",
   "metadata": {
    "toc-hr-collapsed": false
   },
   "source": [
    "# 数据重塑"
   ]
  },
  {
   "cell_type": "markdown",
   "metadata": {},
   "source": [
    "## 于数据帧中加入列和行"
   ]
  },
  {
   "cell_type": "markdown",
   "metadata": {},
   "source": [
    "我们可以使用cbind()函数连接多个向量来创建数据帧"
   ]
  },
  {
   "cell_type": "code",
   "execution_count": 3,
   "metadata": {},
   "outputs": [
    {
     "data": {
      "text/html": [
       "'matrix'"
      ],
      "text/latex": [
       "'matrix'"
      ],
      "text/markdown": [
       "'matrix'"
      ],
      "text/plain": [
       "[1] \"matrix\""
      ]
     },
     "metadata": {},
     "output_type": "display_data"
    },
    {
     "data": {
      "text/html": [
       "<table>\n",
       "<thead><tr><th scope=col>city</th><th scope=col>state</th><th scope=col>zipcode</th></tr></thead>\n",
       "<tbody>\n",
       "\t<tr><td>Tampa   </td><td>FL      </td><td>33602   </td></tr>\n",
       "\t<tr><td>Seattle </td><td>WA      </td><td>98104   </td></tr>\n",
       "\t<tr><td>Hartford</td><td>CT      </td><td>6161    </td></tr>\n",
       "\t<tr><td>Denver  </td><td>CO      </td><td>80294   </td></tr>\n",
       "</tbody>\n",
       "</table>\n"
      ],
      "text/latex": [
       "\\begin{tabular}{lll}\n",
       " city & state & zipcode\\\\\n",
       "\\hline\n",
       "\t Tampa    & FL       & 33602   \\\\\n",
       "\t Seattle  & WA       & 98104   \\\\\n",
       "\t Hartford & CT       & 6161    \\\\\n",
       "\t Denver   & CO       & 80294   \\\\\n",
       "\\end{tabular}\n"
      ],
      "text/markdown": [
       "\n",
       "city | state | zipcode | \n",
       "|---|---|---|---|\n",
       "| Tampa    | FL       | 33602    | \n",
       "| Seattle  | WA       | 98104    | \n",
       "| Hartford | CT       | 6161     | \n",
       "| Denver   | CO       | 80294    | \n",
       "\n",
       "\n"
      ],
      "text/plain": [
       "     city     state zipcode\n",
       "[1,] Tampa    FL    33602  \n",
       "[2,] Seattle  WA    98104  \n",
       "[3,] Hartford CT    6161   \n",
       "[4,] Denver   CO    80294  "
      ]
     },
     "metadata": {},
     "output_type": "display_data"
    }
   ],
   "source": [
    "city = c(\"Tampa\",\"Seattle\",\"Hartford\",\"Denver\")\n",
    "state = c(\"FL\",\"WA\",\"CT\",\"CO\")\n",
    "zipcode = c(33602,98104,06161,80294)\n",
    "\n",
    "addresses = cbind(city, state, zipcode)   #等同于concate\n",
    "class(addresses)\n",
    "addresses"
   ]
  },
  {
   "cell_type": "code",
   "execution_count": 7,
   "metadata": {},
   "outputs": [
    {
     "data": {
      "text/html": [
       "<table>\n",
       "<thead><tr><th scope=col>city</th><th scope=col>state</th><th scope=col>zipcode</th></tr></thead>\n",
       "<tbody>\n",
       "\t<tr><td>Lowry    </td><td>CO       </td><td>80230    </td></tr>\n",
       "\t<tr><td>Charlotte</td><td>FL       </td><td>33949    </td></tr>\n",
       "</tbody>\n",
       "</table>\n"
      ],
      "text/latex": [
       "\\begin{tabular}{r|lll}\n",
       " city & state & zipcode\\\\\n",
       "\\hline\n",
       "\t Lowry     & CO        & 80230    \\\\\n",
       "\t Charlotte & FL        & 33949    \\\\\n",
       "\\end{tabular}\n"
      ],
      "text/markdown": [
       "\n",
       "city | state | zipcode | \n",
       "|---|---|\n",
       "| Lowry     | CO        | 80230     | \n",
       "| Charlotte | FL        | 33949     | \n",
       "\n",
       "\n"
      ],
      "text/plain": [
       "  city      state zipcode\n",
       "1 Lowry     CO    80230  \n",
       "2 Charlotte FL    33949  "
      ]
     },
     "metadata": {},
     "output_type": "display_data"
    }
   ],
   "source": [
    "new.address = data.frame(\n",
    "   city = c(\"Lowry\",\"Charlotte\"),\n",
    "   state = c(\"CO\",\"FL\"),\n",
    "   zipcode = c(\"80230\",\"33949\"),\n",
    "   stringsAsFactors = FALSE\n",
    ")\n",
    "new.address"
   ]
  },
  {
   "cell_type": "markdown",
   "metadata": {},
   "source": [
    "使用rbind()函数合并两个数据帧"
   ]
  },
  {
   "cell_type": "code",
   "execution_count": 8,
   "metadata": {},
   "outputs": [
    {
     "data": {
      "text/html": [
       "<table>\n",
       "<thead><tr><th scope=col>city</th><th scope=col>state</th><th scope=col>zipcode</th></tr></thead>\n",
       "<tbody>\n",
       "\t<tr><td>Tampa    </td><td>FL       </td><td>33602    </td></tr>\n",
       "\t<tr><td>Seattle  </td><td>WA       </td><td>98104    </td></tr>\n",
       "\t<tr><td>Hartford </td><td>CT       </td><td>6161     </td></tr>\n",
       "\t<tr><td>Denver   </td><td>CO       </td><td>80294    </td></tr>\n",
       "\t<tr><td>Lowry    </td><td>CO       </td><td>80230    </td></tr>\n",
       "\t<tr><td>Charlotte</td><td>FL       </td><td>33949    </td></tr>\n",
       "</tbody>\n",
       "</table>\n"
      ],
      "text/latex": [
       "\\begin{tabular}{r|lll}\n",
       " city & state & zipcode\\\\\n",
       "\\hline\n",
       "\t Tampa     & FL        & 33602    \\\\\n",
       "\t Seattle   & WA        & 98104    \\\\\n",
       "\t Hartford  & CT        & 6161     \\\\\n",
       "\t Denver    & CO        & 80294    \\\\\n",
       "\t Lowry     & CO        & 80230    \\\\\n",
       "\t Charlotte & FL        & 33949    \\\\\n",
       "\\end{tabular}\n"
      ],
      "text/markdown": [
       "\n",
       "city | state | zipcode | \n",
       "|---|---|---|---|---|---|\n",
       "| Tampa     | FL        | 33602     | \n",
       "| Seattle   | WA        | 98104     | \n",
       "| Hartford  | CT        | 6161      | \n",
       "| Denver    | CO        | 80294     | \n",
       "| Lowry     | CO        | 80230     | \n",
       "| Charlotte | FL        | 33949     | \n",
       "\n",
       "\n"
      ],
      "text/plain": [
       "  city      state zipcode\n",
       "1 Tampa     FL    33602  \n",
       "2 Seattle   WA    98104  \n",
       "3 Hartford  CT    6161   \n",
       "4 Denver    CO    80294  \n",
       "5 Lowry     CO    80230  \n",
       "6 Charlotte FL    33949  "
      ]
     },
     "metadata": {},
     "output_type": "display_data"
    }
   ],
   "source": [
    "all.addresses = rbind(addresses,new.address)\n",
    "all.addresses"
   ]
  },
  {
   "cell_type": "markdown",
   "metadata": {
    "toc-hr-collapsed": true
   },
   "source": [
    "## 合并数据帧"
   ]
  },
  {
   "cell_type": "markdown",
   "metadata": {},
   "source": [
    "有关Pima Indian Women的糖尿病的数据集"
   ]
  },
  {
   "cell_type": "code",
   "execution_count": 31,
   "metadata": {},
   "outputs": [
    {
     "data": {
      "text/html": [
       "'Diabetes in Pima Indian Women'"
      ],
      "text/latex": [
       "'Diabetes in Pima Indian Women'"
      ],
      "text/markdown": [
       "'Diabetes in Pima Indian Women'"
      ],
      "text/plain": [
       "[1] \"Diabetes in Pima Indian Women\""
      ]
     },
     "metadata": {},
     "output_type": "display_data"
    },
    {
     "data": {
      "text/html": [
       "'data.frame'"
      ],
      "text/latex": [
       "'data.frame'"
      ],
      "text/markdown": [
       "'data.frame'"
      ],
      "text/plain": [
       "[1] \"data.frame\""
      ]
     },
     "metadata": {},
     "output_type": "display_data"
    },
    {
     "data": {
      "text/html": [
       "<table>\n",
       "<thead><tr><th scope=col>npreg</th><th scope=col>glu</th><th scope=col>bp</th><th scope=col>skin</th><th scope=col>bmi</th><th scope=col>ped</th><th scope=col>age</th><th scope=col>type</th></tr></thead>\n",
       "<tbody>\n",
       "\t<tr><td>6    </td><td>148  </td><td>72   </td><td>35   </td><td>33.6 </td><td>0.627</td><td>50   </td><td>Yes  </td></tr>\n",
       "\t<tr><td>1    </td><td> 85  </td><td>66   </td><td>29   </td><td>26.6 </td><td>0.351</td><td>31   </td><td>No   </td></tr>\n",
       "\t<tr><td>1    </td><td> 89  </td><td>66   </td><td>23   </td><td>28.1 </td><td>0.167</td><td>21   </td><td>No   </td></tr>\n",
       "\t<tr><td>3    </td><td> 78  </td><td>50   </td><td>32   </td><td>31.0 </td><td>0.248</td><td>26   </td><td>Yes  </td></tr>\n",
       "\t<tr><td>2    </td><td>197  </td><td>70   </td><td>45   </td><td>30.5 </td><td>0.158</td><td>53   </td><td>Yes  </td></tr>\n",
       "</tbody>\n",
       "</table>\n"
      ],
      "text/latex": [
       "\\begin{tabular}{r|llllllll}\n",
       " npreg & glu & bp & skin & bmi & ped & age & type\\\\\n",
       "\\hline\n",
       "\t 6     & 148   & 72    & 35    & 33.6  & 0.627 & 50    & Yes  \\\\\n",
       "\t 1     &  85   & 66    & 29    & 26.6  & 0.351 & 31    & No   \\\\\n",
       "\t 1     &  89   & 66    & 23    & 28.1  & 0.167 & 21    & No   \\\\\n",
       "\t 3     &  78   & 50    & 32    & 31.0  & 0.248 & 26    & Yes  \\\\\n",
       "\t 2     & 197   & 70    & 45    & 30.5  & 0.158 & 53    & Yes  \\\\\n",
       "\\end{tabular}\n"
      ],
      "text/markdown": [
       "\n",
       "npreg | glu | bp | skin | bmi | ped | age | type | \n",
       "|---|---|---|---|---|\n",
       "| 6     | 148   | 72    | 35    | 33.6  | 0.627 | 50    | Yes   | \n",
       "| 1     |  85   | 66    | 29    | 26.6  | 0.351 | 31    | No    | \n",
       "| 1     |  89   | 66    | 23    | 28.1  | 0.167 | 21    | No    | \n",
       "| 3     |  78   | 50    | 32    | 31.0  | 0.248 | 26    | Yes   | \n",
       "| 2     | 197   | 70    | 45    | 30.5  | 0.158 | 53    | Yes   | \n",
       "\n",
       "\n"
      ],
      "text/plain": [
       "  npreg glu bp skin bmi  ped   age type\n",
       "1 6     148 72 35   33.6 0.627 50  Yes \n",
       "2 1      85 66 29   26.6 0.351 31  No  \n",
       "3 1      89 66 23   28.1 0.167 21  No  \n",
       "4 3      78 50 32   31.0 0.248 26  Yes \n",
       "5 2     197 70 45   30.5 0.158 53  Yes "
      ]
     },
     "metadata": {},
     "output_type": "display_data"
    },
    {
     "data": {
      "text/html": [
       "<table>\n",
       "<thead><tr><th scope=col>npreg</th><th scope=col>glu</th><th scope=col>bp</th><th scope=col>skin</th><th scope=col>bmi</th><th scope=col>ped</th><th scope=col>age</th><th scope=col>type</th></tr></thead>\n",
       "<tbody>\n",
       "\t<tr><td>5    </td><td> 86  </td><td>68   </td><td>28   </td><td>30.2 </td><td>0.364</td><td>24   </td><td>No   </td></tr>\n",
       "\t<tr><td>7    </td><td>195  </td><td>70   </td><td>33   </td><td>25.1 </td><td>0.163</td><td>55   </td><td>Yes  </td></tr>\n",
       "\t<tr><td>5    </td><td> 77  </td><td>82   </td><td>41   </td><td>35.8 </td><td>0.156</td><td>35   </td><td>No   </td></tr>\n",
       "\t<tr><td>0    </td><td>165  </td><td>76   </td><td>43   </td><td>47.9 </td><td>0.259</td><td>26   </td><td>No   </td></tr>\n",
       "\t<tr><td>0    </td><td>107  </td><td>60   </td><td>25   </td><td>26.4 </td><td>0.133</td><td>23   </td><td>No   </td></tr>\n",
       "</tbody>\n",
       "</table>\n"
      ],
      "text/latex": [
       "\\begin{tabular}{r|llllllll}\n",
       " npreg & glu & bp & skin & bmi & ped & age & type\\\\\n",
       "\\hline\n",
       "\t 5     &  86   & 68    & 28    & 30.2  & 0.364 & 24    & No   \\\\\n",
       "\t 7     & 195   & 70    & 33    & 25.1  & 0.163 & 55    & Yes  \\\\\n",
       "\t 5     &  77   & 82    & 41    & 35.8  & 0.156 & 35    & No   \\\\\n",
       "\t 0     & 165   & 76    & 43    & 47.9  & 0.259 & 26    & No   \\\\\n",
       "\t 0     & 107   & 60    & 25    & 26.4  & 0.133 & 23    & No   \\\\\n",
       "\\end{tabular}\n"
      ],
      "text/markdown": [
       "\n",
       "npreg | glu | bp | skin | bmi | ped | age | type | \n",
       "|---|---|---|---|---|\n",
       "| 5     |  86   | 68    | 28    | 30.2  | 0.364 | 24    | No    | \n",
       "| 7     | 195   | 70    | 33    | 25.1  | 0.163 | 55    | Yes   | \n",
       "| 5     |  77   | 82    | 41    | 35.8  | 0.156 | 35    | No    | \n",
       "| 0     | 165   | 76    | 43    | 47.9  | 0.259 | 26    | No    | \n",
       "| 0     | 107   | 60    | 25    | 26.4  | 0.133 | 23    | No    | \n",
       "\n",
       "\n"
      ],
      "text/plain": [
       "  npreg glu bp skin bmi  ped   age type\n",
       "1 5      86 68 28   30.2 0.364 24  No  \n",
       "2 7     195 70 33   25.1 0.163 55  Yes \n",
       "3 5      77 82 41   35.8 0.156 35  No  \n",
       "4 0     165 76 43   47.9 0.259 26  No  \n",
       "5 0     107 60 25   26.4 0.133 23  No  "
      ]
     },
     "metadata": {},
     "output_type": "display_data"
    }
   ],
   "source": [
    "'Diabetes in Pima Indian Women'\n",
    "library(MASS)\n",
    "class(Pima.te)\n",
    "Pima.te[1:5,]    #两种输出方法\n",
    "head(Pima.tr, 5)"
   ]
  },
  {
   "cell_type": "markdown",
   "metadata": {},
   "source": [
    "基于血压（“bp”）和体重指数（“bmi”）的值合并两个数据集。选择这两列用于合并时，其中这两个变量的值在两个数据集中匹配的记录被组合在一起以形成单个数据帧"
   ]
  },
  {
   "cell_type": "code",
   "execution_count": 9,
   "metadata": {},
   "outputs": [
    {
     "data": {
      "text/html": [
       "<table>\n",
       "<thead><tr><th scope=col>bp</th><th scope=col>bmi</th><th scope=col>npreg.x</th><th scope=col>glu.x</th><th scope=col>skin.x</th><th scope=col>ped.x</th><th scope=col>age.x</th><th scope=col>type.x</th><th scope=col>npreg.y</th><th scope=col>glu.y</th><th scope=col>skin.y</th><th scope=col>ped.y</th><th scope=col>age.y</th><th scope=col>type.y</th></tr></thead>\n",
       "<tbody>\n",
       "\t<tr><td>60   </td><td>33.8 </td><td> 1   </td><td>117  </td><td>23   </td><td>0.466</td><td>27   </td><td>No   </td><td>2    </td><td>125  </td><td>20   </td><td>0.088</td><td>31   </td><td>No   </td></tr>\n",
       "\t<tr><td>64   </td><td>29.7 </td><td> 2   </td><td> 75  </td><td>24   </td><td>0.370</td><td>33   </td><td>No   </td><td>2    </td><td>100  </td><td>23   </td><td>0.368</td><td>21   </td><td>No   </td></tr>\n",
       "\t<tr><td>64   </td><td>31.2 </td><td> 5   </td><td>189  </td><td>33   </td><td>0.583</td><td>29   </td><td>Yes  </td><td>3    </td><td>158  </td><td>13   </td><td>0.295</td><td>24   </td><td>No   </td></tr>\n",
       "\t<tr><td>64   </td><td>33.2 </td><td> 4   </td><td>117  </td><td>27   </td><td>0.230</td><td>24   </td><td>No   </td><td>1    </td><td> 96  </td><td>27   </td><td>0.289</td><td>21   </td><td>No   </td></tr>\n",
       "\t<tr><td>66   </td><td>38.1 </td><td> 3   </td><td>115  </td><td>39   </td><td>0.150</td><td>28   </td><td>No   </td><td>1    </td><td>114  </td><td>36   </td><td>0.289</td><td>21   </td><td>No   </td></tr>\n",
       "\t<tr><td>68   </td><td>38.5 </td><td> 2   </td><td>100  </td><td>25   </td><td>0.324</td><td>26   </td><td>No   </td><td>7    </td><td>129  </td><td>49   </td><td>0.439</td><td>43   </td><td>Yes  </td></tr>\n",
       "\t<tr><td>70   </td><td>27.4 </td><td> 1   </td><td>116  </td><td>28   </td><td>0.204</td><td>21   </td><td>No   </td><td>0    </td><td>124  </td><td>20   </td><td>0.254</td><td>36   </td><td>Yes  </td></tr>\n",
       "\t<tr><td>70   </td><td>33.1 </td><td> 4   </td><td> 91  </td><td>32   </td><td>0.446</td><td>22   </td><td>No   </td><td>9    </td><td>123  </td><td>44   </td><td>0.374</td><td>40   </td><td>No   </td></tr>\n",
       "\t<tr><td>70   </td><td>35.4 </td><td> 9   </td><td>124  </td><td>33   </td><td>0.282</td><td>34   </td><td>No   </td><td>6    </td><td>134  </td><td>23   </td><td>0.542</td><td>29   </td><td>Yes  </td></tr>\n",
       "\t<tr><td>72   </td><td>25.6 </td><td> 1   </td><td>157  </td><td>21   </td><td>0.123</td><td>24   </td><td>No   </td><td>4    </td><td> 99  </td><td>17   </td><td>0.294</td><td>28   </td><td>No   </td></tr>\n",
       "\t<tr><td>72   </td><td>37.7 </td><td> 5   </td><td> 95  </td><td>33   </td><td>0.370</td><td>27   </td><td>No   </td><td>6    </td><td>103  </td><td>32   </td><td>0.324</td><td>55   </td><td>No   </td></tr>\n",
       "\t<tr><td>74   </td><td>25.9 </td><td> 9   </td><td>134  </td><td>33   </td><td>0.460</td><td>81   </td><td>No   </td><td>8    </td><td>126  </td><td>38   </td><td>0.162</td><td>39   </td><td>No   </td></tr>\n",
       "\t<tr><td>74   </td><td>25.9 </td><td> 1   </td><td> 95  </td><td>21   </td><td>0.673</td><td>36   </td><td>No   </td><td>8    </td><td>126  </td><td>38   </td><td>0.162</td><td>39   </td><td>No   </td></tr>\n",
       "\t<tr><td>78   </td><td>27.6 </td><td> 5   </td><td> 88  </td><td>30   </td><td>0.258</td><td>37   </td><td>No   </td><td>6    </td><td>125  </td><td>31   </td><td>0.565</td><td>49   </td><td>Yes  </td></tr>\n",
       "\t<tr><td>78   </td><td>27.6 </td><td>10   </td><td>122  </td><td>31   </td><td>0.512</td><td>45   </td><td>No   </td><td>6    </td><td>125  </td><td>31   </td><td>0.565</td><td>49   </td><td>Yes  </td></tr>\n",
       "\t<tr><td>78   </td><td>39.4 </td><td> 2   </td><td>112  </td><td>50   </td><td>0.175</td><td>24   </td><td>No   </td><td>4    </td><td>112  </td><td>40   </td><td>0.236</td><td>38   </td><td>No   </td></tr>\n",
       "\t<tr><td>88   </td><td>34.5 </td><td> 1   </td><td>117  </td><td>24   </td><td>0.403</td><td>40   </td><td>Yes  </td><td>4    </td><td>127  </td><td>11   </td><td>0.598</td><td>28   </td><td>No   </td></tr>\n",
       "</tbody>\n",
       "</table>\n"
      ],
      "text/latex": [
       "\\begin{tabular}{r|llllllllllllll}\n",
       " bp & bmi & npreg.x & glu.x & skin.x & ped.x & age.x & type.x & npreg.y & glu.y & skin.y & ped.y & age.y & type.y\\\\\n",
       "\\hline\n",
       "\t 60    & 33.8  &  1    & 117   & 23    & 0.466 & 27    & No    & 2     & 125   & 20    & 0.088 & 31    & No   \\\\\n",
       "\t 64    & 29.7  &  2    &  75   & 24    & 0.370 & 33    & No    & 2     & 100   & 23    & 0.368 & 21    & No   \\\\\n",
       "\t 64    & 31.2  &  5    & 189   & 33    & 0.583 & 29    & Yes   & 3     & 158   & 13    & 0.295 & 24    & No   \\\\\n",
       "\t 64    & 33.2  &  4    & 117   & 27    & 0.230 & 24    & No    & 1     &  96   & 27    & 0.289 & 21    & No   \\\\\n",
       "\t 66    & 38.1  &  3    & 115   & 39    & 0.150 & 28    & No    & 1     & 114   & 36    & 0.289 & 21    & No   \\\\\n",
       "\t 68    & 38.5  &  2    & 100   & 25    & 0.324 & 26    & No    & 7     & 129   & 49    & 0.439 & 43    & Yes  \\\\\n",
       "\t 70    & 27.4  &  1    & 116   & 28    & 0.204 & 21    & No    & 0     & 124   & 20    & 0.254 & 36    & Yes  \\\\\n",
       "\t 70    & 33.1  &  4    &  91   & 32    & 0.446 & 22    & No    & 9     & 123   & 44    & 0.374 & 40    & No   \\\\\n",
       "\t 70    & 35.4  &  9    & 124   & 33    & 0.282 & 34    & No    & 6     & 134   & 23    & 0.542 & 29    & Yes  \\\\\n",
       "\t 72    & 25.6  &  1    & 157   & 21    & 0.123 & 24    & No    & 4     &  99   & 17    & 0.294 & 28    & No   \\\\\n",
       "\t 72    & 37.7  &  5    &  95   & 33    & 0.370 & 27    & No    & 6     & 103   & 32    & 0.324 & 55    & No   \\\\\n",
       "\t 74    & 25.9  &  9    & 134   & 33    & 0.460 & 81    & No    & 8     & 126   & 38    & 0.162 & 39    & No   \\\\\n",
       "\t 74    & 25.9  &  1    &  95   & 21    & 0.673 & 36    & No    & 8     & 126   & 38    & 0.162 & 39    & No   \\\\\n",
       "\t 78    & 27.6  &  5    &  88   & 30    & 0.258 & 37    & No    & 6     & 125   & 31    & 0.565 & 49    & Yes  \\\\\n",
       "\t 78    & 27.6  & 10    & 122   & 31    & 0.512 & 45    & No    & 6     & 125   & 31    & 0.565 & 49    & Yes  \\\\\n",
       "\t 78    & 39.4  &  2    & 112   & 50    & 0.175 & 24    & No    & 4     & 112   & 40    & 0.236 & 38    & No   \\\\\n",
       "\t 88    & 34.5  &  1    & 117   & 24    & 0.403 & 40    & Yes   & 4     & 127   & 11    & 0.598 & 28    & No   \\\\\n",
       "\\end{tabular}\n"
      ],
      "text/markdown": [
       "\n",
       "bp | bmi | npreg.x | glu.x | skin.x | ped.x | age.x | type.x | npreg.y | glu.y | skin.y | ped.y | age.y | type.y | \n",
       "|---|---|---|---|---|---|---|---|---|---|---|---|---|---|---|---|---|\n",
       "| 60    | 33.8  |  1    | 117   | 23    | 0.466 | 27    | No    | 2     | 125   | 20    | 0.088 | 31    | No    | \n",
       "| 64    | 29.7  |  2    |  75   | 24    | 0.370 | 33    | No    | 2     | 100   | 23    | 0.368 | 21    | No    | \n",
       "| 64    | 31.2  |  5    | 189   | 33    | 0.583 | 29    | Yes   | 3     | 158   | 13    | 0.295 | 24    | No    | \n",
       "| 64    | 33.2  |  4    | 117   | 27    | 0.230 | 24    | No    | 1     |  96   | 27    | 0.289 | 21    | No    | \n",
       "| 66    | 38.1  |  3    | 115   | 39    | 0.150 | 28    | No    | 1     | 114   | 36    | 0.289 | 21    | No    | \n",
       "| 68    | 38.5  |  2    | 100   | 25    | 0.324 | 26    | No    | 7     | 129   | 49    | 0.439 | 43    | Yes   | \n",
       "| 70    | 27.4  |  1    | 116   | 28    | 0.204 | 21    | No    | 0     | 124   | 20    | 0.254 | 36    | Yes   | \n",
       "| 70    | 33.1  |  4    |  91   | 32    | 0.446 | 22    | No    | 9     | 123   | 44    | 0.374 | 40    | No    | \n",
       "| 70    | 35.4  |  9    | 124   | 33    | 0.282 | 34    | No    | 6     | 134   | 23    | 0.542 | 29    | Yes   | \n",
       "| 72    | 25.6  |  1    | 157   | 21    | 0.123 | 24    | No    | 4     |  99   | 17    | 0.294 | 28    | No    | \n",
       "| 72    | 37.7  |  5    |  95   | 33    | 0.370 | 27    | No    | 6     | 103   | 32    | 0.324 | 55    | No    | \n",
       "| 74    | 25.9  |  9    | 134   | 33    | 0.460 | 81    | No    | 8     | 126   | 38    | 0.162 | 39    | No    | \n",
       "| 74    | 25.9  |  1    |  95   | 21    | 0.673 | 36    | No    | 8     | 126   | 38    | 0.162 | 39    | No    | \n",
       "| 78    | 27.6  |  5    |  88   | 30    | 0.258 | 37    | No    | 6     | 125   | 31    | 0.565 | 49    | Yes   | \n",
       "| 78    | 27.6  | 10    | 122   | 31    | 0.512 | 45    | No    | 6     | 125   | 31    | 0.565 | 49    | Yes   | \n",
       "| 78    | 39.4  |  2    | 112   | 50    | 0.175 | 24    | No    | 4     | 112   | 40    | 0.236 | 38    | No    | \n",
       "| 88    | 34.5  |  1    | 117   | 24    | 0.403 | 40    | Yes   | 4     | 127   | 11    | 0.598 | 28    | No    | \n",
       "\n",
       "\n"
      ],
      "text/plain": [
       "   bp bmi  npreg.x glu.x skin.x ped.x age.x type.x npreg.y glu.y skin.y ped.y\n",
       "1  60 33.8  1      117   23     0.466 27    No     2       125   20     0.088\n",
       "2  64 29.7  2       75   24     0.370 33    No     2       100   23     0.368\n",
       "3  64 31.2  5      189   33     0.583 29    Yes    3       158   13     0.295\n",
       "4  64 33.2  4      117   27     0.230 24    No     1        96   27     0.289\n",
       "5  66 38.1  3      115   39     0.150 28    No     1       114   36     0.289\n",
       "6  68 38.5  2      100   25     0.324 26    No     7       129   49     0.439\n",
       "7  70 27.4  1      116   28     0.204 21    No     0       124   20     0.254\n",
       "8  70 33.1  4       91   32     0.446 22    No     9       123   44     0.374\n",
       "9  70 35.4  9      124   33     0.282 34    No     6       134   23     0.542\n",
       "10 72 25.6  1      157   21     0.123 24    No     4        99   17     0.294\n",
       "11 72 37.7  5       95   33     0.370 27    No     6       103   32     0.324\n",
       "12 74 25.9  9      134   33     0.460 81    No     8       126   38     0.162\n",
       "13 74 25.9  1       95   21     0.673 36    No     8       126   38     0.162\n",
       "14 78 27.6  5       88   30     0.258 37    No     6       125   31     0.565\n",
       "15 78 27.6 10      122   31     0.512 45    No     6       125   31     0.565\n",
       "16 78 39.4  2      112   50     0.175 24    No     4       112   40     0.236\n",
       "17 88 34.5  1      117   24     0.403 40    Yes    4       127   11     0.598\n",
       "   age.y type.y\n",
       "1  31    No    \n",
       "2  21    No    \n",
       "3  24    No    \n",
       "4  21    No    \n",
       "5  21    No    \n",
       "6  43    Yes   \n",
       "7  36    Yes   \n",
       "8  40    No    \n",
       "9  29    Yes   \n",
       "10 28    No    \n",
       "11 55    No    \n",
       "12 39    No    \n",
       "13 39    No    \n",
       "14 49    Yes   \n",
       "15 49    Yes   \n",
       "16 38    No    \n",
       "17 28    No    "
      ]
     },
     "metadata": {},
     "output_type": "display_data"
    },
    {
     "name": "stdout",
     "output_type": "stream",
     "text": [
      "行： 17 \t列： 14"
     ]
    }
   ],
   "source": [
    "library(MASS)\n",
    "merged.Pima = merge(x = Pima.te, y = Pima.tr,\n",
    "   by.x = c(\"bp\", \"bmi\"),\n",
    "   by.y = c(\"bp\", \"bmi\")\n",
    ")\n",
    "merged.Pima\n",
    "cat(\"行：\", nrow(merged.Pima), \"\\t列：\", ncol(merged.Pima))"
   ]
  },
  {
   "cell_type": "markdown",
   "metadata": {},
   "source": [
    "## 拆分数据帧"
   ]
  },
  {
   "cell_type": "code",
   "execution_count": 35,
   "metadata": {},
   "outputs": [
    {
     "name": "stderr",
     "output_type": "stream",
     "text": [
      "Warning message in install.packages(\"reshape2\"):\n",
      "“installation of package ‘reshape2’ had non-zero exit status”Updating HTML index of packages in '.Library'\n",
      "Making 'packages.html' ... done\n"
     ]
    }
   ],
   "source": [
    "install.packages(\"reshape2\")"
   ]
  },
  {
   "cell_type": "code",
   "execution_count": null,
   "metadata": {},
   "outputs": [],
   "source": [
    "library(MASS)\n",
    "library(reshape2)\n",
    "ships[1 : 10,]\n",
    "molten.ships = melt(ships, id = c(\"type\",\"year\"))\n",
    "molten.ships"
   ]
  },
  {
   "cell_type": "code",
   "execution_count": 38,
   "metadata": {},
   "outputs": [
    {
     "ename": "ERROR",
     "evalue": "Error in cast(molten.ships, type + year ~ variable, sum): 没有\"cast\"这个函数\n",
     "execution_count": 38,
     "output_type": "error",
     "traceback": [
      "Error in cast(molten.ships, type + year ~ variable, sum): 没有\"cast\"这个函数\nTraceback:\n"
     ]
    }
   ],
   "source": [
    "recasted.ship <- cast(molten.ships, type+year~variable,sum)\n",
    "print(recasted.ship)"
   ]
  },
  {
   "cell_type": "markdown",
   "metadata": {},
   "source": [
    "# 查看数据集"
   ]
  },
  {
   "cell_type": "markdown",
   "metadata": {},
   "source": [
    "## 查看某一个package"
   ]
  },
  {
   "cell_type": "code",
   "execution_count": 20,
   "metadata": {},
   "outputs": [
    {
     "data": {
      "text/html": [
       "<h3>Data sets</h3>\n",
       "<table>\n",
       "<thead><tr><th scope=col>Package</th><th scope=col>Item</th><th scope=col>Title</th></tr></thead>\n",
       "<tbody>\n",
       "\t<tr><td>MASS                                                           </td><td>Aids2                                                          </td><td>Australian AIDS Survival Data                                  </td></tr>\n",
       "\t<tr><td>MASS                                                           </td><td>Animals                                                        </td><td>Brain and Body Weights for 28 Species                          </td></tr>\n",
       "\t<tr><td>MASS                                                           </td><td>Boston                                                         </td><td>Housing Values in Suburbs of Boston                            </td></tr>\n",
       "\t<tr><td>MASS                                                           </td><td>Cars93                                                         </td><td>Data from 93 Cars on Sale in the USA in 1993                   </td></tr>\n",
       "\t<tr><td>MASS                                                           </td><td>Cushings                                                       </td><td>Diagnostic Tests on Patients with Cushing's Syndrome           </td></tr>\n",
       "\t<tr><td>MASS                                                           </td><td>DDT                                                            </td><td>DDT in Kale                                                    </td></tr>\n",
       "\t<tr><td>MASS                                                           </td><td>GAGurine                                                       </td><td>Level of GAG in Urine of Children                              </td></tr>\n",
       "\t<tr><td>MASS                                                           </td><td>Insurance                                                      </td><td>Numbers of Car Insurance claims                                </td></tr>\n",
       "\t<tr><td>MASS                                                           </td><td>Melanoma                                                       </td><td>Survival from Malignant Melanoma                               </td></tr>\n",
       "\t<tr><td>MASS                                                           </td><td>OME                                                            </td><td>Tests of Auditory Perception in Children with OME              </td></tr>\n",
       "\t<tr><td>MASS                                                           </td><td>Pima.te                                                        </td><td>Diabetes in Pima Indian Women                                  </td></tr>\n",
       "\t<tr><td>MASS                                                           </td><td>Pima.tr                                                        </td><td>Diabetes in Pima Indian Women                                  </td></tr>\n",
       "\t<tr><td>MASS                                                           </td><td>Pima.tr2                                                       </td><td>Diabetes in Pima Indian Women                                  </td></tr>\n",
       "\t<tr><td>MASS                                                           </td><td>Rabbit                                                         </td><td>Blood Pressure in Rabbits                                      </td></tr>\n",
       "\t<tr><td>MASS                                                           </td><td>Rubber                                                         </td><td>Accelerated Testing of Tyre Rubber                             </td></tr>\n",
       "\t<tr><td>MASS                                                           </td><td>SP500                                                          </td><td>Returns of the Standard and Poors 500                          </td></tr>\n",
       "\t<tr><td>MASS                                                           </td><td>Sitka                                                          </td><td>Growth Curves for Sitka Spruce Trees in 1988                   </td></tr>\n",
       "\t<tr><td>MASS                                                           </td><td>Sitka89                                                        </td><td>Growth Curves for Sitka Spruce Trees in 1989                   </td></tr>\n",
       "\t<tr><td>MASS                                                           </td><td>Skye                                                           </td><td>AFM Compositions of Aphyric Skye Lavas                         </td></tr>\n",
       "\t<tr><td>MASS                                                           </td><td>Traffic                                                        </td><td>Effect of Swedish Speed Limits on Accidents                    </td></tr>\n",
       "\t<tr><td>MASS                                                           </td><td>UScereal                                                       </td><td>Nutritional and Marketing Information on US Cereals            </td></tr>\n",
       "\t<tr><td>MASS                                                           </td><td>UScrime                                                        </td><td>The Effect of Punishment Regimes on Crime Rates                </td></tr>\n",
       "\t<tr><td>MASS                                                           </td><td>VA                                                             </td><td>Veteran's Administration Lung Cancer Trial                     </td></tr>\n",
       "\t<tr><td>MASS                                                           </td><td>abbey                                                          </td><td>Determinations of Nickel Content                               </td></tr>\n",
       "\t<tr><td>MASS                                                           </td><td>accdeaths                                                      </td><td>Accidental Deaths in the US 1973-1978                          </td></tr>\n",
       "\t<tr><td>MASS                                                           </td><td>anorexia                                                       </td><td>Anorexia Data on Weight Change                                 </td></tr>\n",
       "\t<tr><td>MASS                                                           </td><td>bacteria                                                       </td><td>Presence of Bacteria after Drug Treatments                     </td></tr>\n",
       "\t<tr><td>MASS                                                           </td><td>beav1                                                          </td><td>Body Temperature Series of Beaver 1                            </td></tr>\n",
       "\t<tr><td>MASS                                                           </td><td>beav2                                                          </td><td>Body Temperature Series of Beaver 2                            </td></tr>\n",
       "\t<tr><td>MASS                                                           </td><td>biopsy                                                         </td><td>Biopsy Data on Breast Cancer Patients                          </td></tr>\n",
       "\t<tr><td>MASS                                                           </td><td>birthwt                                                        </td><td>Risk Factors Associated with Low Infant Birth Weight           </td></tr>\n",
       "\t<tr><td>MASS                                                           </td><td>cabbages                                                       </td><td>Data from a cabbage field trial                                </td></tr>\n",
       "\t<tr><td>MASS                                                           </td><td>caith                                                          </td><td>Colours of Eyes and Hair of People in Caithness                </td></tr>\n",
       "\t<tr><td>MASS                                                           </td><td>cats                                                           </td><td>Anatomical Data from Domestic Cats                             </td></tr>\n",
       "\t<tr><td>MASS                                                           </td><td>cement                                                         </td><td>Heat Evolved by Setting Cements                                </td></tr>\n",
       "\t<tr><td>MASS                                                           </td><td>chem                                                           </td><td>Copper in Wholemeal Flour                                      </td></tr>\n",
       "\t<tr><td>MASS                                                           </td><td>coop                                                           </td><td>Co-operative Trial in Analytical Chemistry                     </td></tr>\n",
       "\t<tr><td>MASS                                                           </td><td>cpus                                                           </td><td>Performance of Computer CPUs                                   </td></tr>\n",
       "\t<tr><td>MASS                                                           </td><td>crabs                                                          </td><td>Morphological Measurements on Leptograpsus Crabs               </td></tr>\n",
       "\t<tr><td>MASS                                                           </td><td>deaths                                                         </td><td>Monthly Deaths from Lung Diseases in the UK                    </td></tr>\n",
       "\t<tr><td>MASS                                                           </td><td>drivers                                                        </td><td>Deaths of Car Drivers in Great Britain 1969-84                 </td></tr>\n",
       "\t<tr><td>MASS                                                           </td><td>eagles                                                         </td><td>Foraging Ecology of Bald Eagles                                </td></tr>\n",
       "\t<tr><td>MASS                                                           </td><td>epil                                                           </td><td>Seizure Counts for Epileptics                                  </td></tr>\n",
       "\t<tr><td>MASS                                                           </td><td>farms                                                          </td><td>Ecological Factors in Farm Management                          </td></tr>\n",
       "\t<tr><td>MASS                                                           </td><td>fgl                                                            </td><td>Measurements of Forensic Glass Fragments                       </td></tr>\n",
       "\t<tr><td>MASS                                                           </td><td>forbes                                                         </td><td>Forbes' Data on Boiling Points in the Alps                     </td></tr>\n",
       "\t<tr><td>MASS                                                           </td><td>galaxies                                                       </td><td>Velocities for 82 Galaxies                                     </td></tr>\n",
       "\t<tr><td>MASS                                                           </td><td>gehan                                                          </td><td>Remission Times of Leukaemia Patients                          </td></tr>\n",
       "\t<tr><td>MASS                                                           </td><td>genotype                                                       </td><td>Rat Genotype Data                                              </td></tr>\n",
       "\t<tr><td>MASS                                                           </td><td>geyser                                                         </td><td>Old Faithful Geyser Data                                       </td></tr>\n",
       "\t<tr><td>MASS                                                           </td><td>gilgais                                                        </td><td>Line Transect of Soil in Gilgai Territory                      </td></tr>\n",
       "\t<tr><td>MASS                                                           </td><td>hills                                                          </td><td>Record Times in Scottish Hill Races                            </td></tr>\n",
       "\t<tr><td>MASS                                                           </td><td>housing                                                        </td><td>Frequency Table from a Copenhagen Housing Conditions Survey    </td></tr>\n",
       "\t<tr><td>MASS                                                           </td><td>immer                                                          </td><td>Yields from a Barley Field Trial                               </td></tr>\n",
       "\t<tr><td>MASS                                                           </td><td>leuk                                                           </td><td>Survival Times and White Blood Counts for Leukaemia Patients   </td></tr>\n",
       "\t<tr><td>MASS                                                           </td><td>mammals                                                        </td><td>Brain and Body Weights for 62 Species of Land Mammals          </td></tr>\n",
       "\t<tr><td>MASS                                                           </td><td>mcycle                                                         </td><td>Data from a Simulated Motorcycle Accident                      </td></tr>\n",
       "\t<tr><td>MASS                                                           </td><td>menarche                                                       </td><td>Age of Menarche in Warsaw                                      </td></tr>\n",
       "\t<tr><td>MASS                                                           </td><td>michelson                                                      </td><td>Michelson's Speed of Light Data                                </td></tr>\n",
       "\t<tr><td>MASS                                                           </td><td>minn38                                                         </td><td>Minnesota High School Graduates of 1938                        </td></tr>\n",
       "\t<tr><td>MASS                                                           </td><td>motors                                                         </td><td>Accelerated Life Testing of Motorettes                         </td></tr>\n",
       "\t<tr><td>MASS                                                           </td><td>muscle                                                         </td><td>Effect of Calcium Chloride on Muscle Contraction in Rat Hearts </td></tr>\n",
       "\t<tr><td>MASS                                                           </td><td>newcomb                                                        </td><td>Newcomb's Measurements of the Passage Time of Light            </td></tr>\n",
       "\t<tr><td>MASS                                                           </td><td>nlschools                                                      </td><td>Eighth-Grade Pupils in the Netherlands                         </td></tr>\n",
       "\t<tr><td>MASS                                                           </td><td>npk                                                            </td><td>Classical N, P, K Factorial Experiment                         </td></tr>\n",
       "\t<tr><td>MASS                                                           </td><td>npr1                                                           </td><td>US Naval Petroleum Reserve No. 1 data                          </td></tr>\n",
       "\t<tr><td>MASS                                                           </td><td>oats                                                           </td><td>Data from an Oats Field Trial                                  </td></tr>\n",
       "\t<tr><td>MASS                                                           </td><td>painters                                                       </td><td>The Painter's Data of de Piles                                 </td></tr>\n",
       "\t<tr><td>MASS                                                           </td><td>petrol                                                         </td><td>N. L. Prater's Petrol Refinery Data                            </td></tr>\n",
       "\t<tr><td>MASS                                                           </td><td>phones                                                         </td><td>Belgium Phone Calls 1950-1973                                  </td></tr>\n",
       "\t<tr><td>MASS                                                           </td><td>quine                                                          </td><td>Absenteeism from School in Rural New South Wales               </td></tr>\n",
       "\t<tr><td>MASS                                                           </td><td>road                                                           </td><td>Road Accident Deaths in US States                              </td></tr>\n",
       "\t<tr><td>MASS                                                           </td><td>rotifer                                                        </td><td>Numbers of Rotifers by Fluid Density                           </td></tr>\n",
       "\t<tr><td>MASS                                                           </td><td>ships                                                          </td><td>Ships Damage Data                                              </td></tr>\n",
       "\t<tr><td>MASS                                                           </td><td>shoes                                                          </td><td>Shoe wear data of Box, Hunter and Hunter                       </td></tr>\n",
       "\t<tr><td>MASS                                                           </td><td>shrimp                                                         </td><td>Percentage of Shrimp in Shrimp Cocktail                        </td></tr>\n",
       "\t<tr><td>MASS                                                           </td><td>shuttle                                                        </td><td>Space Shuttle Autolander Problem                               </td></tr>\n",
       "\t<tr><td>MASS                                                           </td><td>snails                                                         </td><td>Snail Mortality Data                                           </td></tr>\n",
       "\t<tr><td>MASS                                                           </td><td>steam                                                          </td><td>The Saturated Steam Pressure Data                              </td></tr>\n",
       "\t<tr><td>MASS                                                           </td><td>stormer                                                        </td><td>The Stormer Viscometer Data                                    </td></tr>\n",
       "\t<tr><td>MASS                                                           </td><td>survey                                                         </td><td>Student Survey Data                                            </td></tr>\n",
       "\t<tr><td>MASS                                                           </td><td>synth.te                                                       </td><td>Synthetic Classification Problem                               </td></tr>\n",
       "\t<tr><td>MASS                                                           </td><td>synth.tr                                                       </td><td>Synthetic Classification Problem                               </td></tr>\n",
       "\t<tr><td>MASS                                                           </td><td>topo                                                           </td><td>Spatial Topographic Data                                       </td></tr>\n",
       "\t<tr><td>MASS                                                           </td><td>waders                                                         </td><td>Counts of Waders at 15 Sites in South Africa                   </td></tr>\n",
       "\t<tr><td>MASS                                                           </td><td>whiteside                                                      </td><td>House Insulation: Whiteside's Data                             </td></tr>\n",
       "\t<tr><td>MASS                                                           </td><td>wtloss                                                         </td><td>Weight Loss Data from an Obese Patient                         </td></tr>\n",
       "\t<tr><td>datasets                                                       </td><td>AirPassengers                                                  </td><td>Monthly Airline Passenger Numbers 1949-1960                    </td></tr>\n",
       "\t<tr><td>datasets                                                       </td><td>BJsales                                                        </td><td>Sales Data with Leading Indicator                              </td></tr>\n",
       "\t<tr><td>datasets                                                       </td><td>BJsales.lead (BJsales)                                         </td><td>Sales Data with Leading Indicator                              </td></tr>\n",
       "\t<tr><td>datasets                                                       </td><td>BOD                                                            </td><td>Biochemical Oxygen Demand                                      </td></tr>\n",
       "\t<tr><td>datasets                                                       </td><td>CO2                                                            </td><td>Carbon Dioxide Uptake in Grass Plants                          </td></tr>\n",
       "\t<tr><td>datasets                                                       </td><td>ChickWeight                                                    </td><td>Weight versus age of chicks on different diets                 </td></tr>\n",
       "\t<tr><td>datasets                                                       </td><td>DNase                                                          </td><td>Elisa assay of DNase                                           </td></tr>\n",
       "\t<tr><td>datasets                                                       </td><td>EuStockMarkets                                                 </td><td>Daily Closing Prices of Major European Stock Indices, 1991-1998</td></tr>\n",
       "\t<tr><td>datasets                                                       </td><td>Formaldehyde                                                   </td><td>Determination of Formaldehyde                                  </td></tr>\n",
       "\t<tr><td>datasets                                                       </td><td>HairEyeColor                                                   </td><td>Hair and Eye Color of Statistics Students                      </td></tr>\n",
       "\t<tr><td>datasets                                                       </td><td>Harman23.cor                                                   </td><td>Harman Example 2.3                                             </td></tr>\n",
       "\t<tr><td>datasets                                                       </td><td>Harman74.cor                                                   </td><td>Harman Example 7.4                                             </td></tr>\n",
       "\t<tr><td>datasets                                                       </td><td>Indometh                                                       </td><td>Pharmacokinetics of Indomethacin                               </td></tr>\n",
       "\t<tr><td>datasets                                                       </td><td>InsectSprays                                                   </td><td>Effectiveness of Insect Sprays                                 </td></tr>\n",
       "\t<tr><td>datasets                                                                                                   </td><td><span style=white-space:pre-wrap>JohnsonJohnson        </span>                                             </td><td><span style=white-space:pre-wrap>Quarterly Earnings per Johnson &amp; Johnson Share                 </span></td></tr>\n",
       "\t<tr><td>datasets                                                       </td><td>LakeHuron                                                      </td><td>Level of Lake Huron 1875-1972                                  </td></tr>\n",
       "\t<tr><td>datasets                                                       </td><td>LifeCycleSavings                                               </td><td>Intercountry Life-Cycle Savings Data                           </td></tr>\n",
       "\t<tr><td>datasets                                                       </td><td>Loblolly                                                       </td><td>Growth of Loblolly pine trees                                  </td></tr>\n",
       "\t<tr><td>datasets                                                       </td><td>Nile                                                           </td><td>Flow of the River Nile                                         </td></tr>\n",
       "\t<tr><td>datasets                                                       </td><td>Orange                                                         </td><td>Growth of Orange Trees                                         </td></tr>\n",
       "\t<tr><td>datasets                                                       </td><td>OrchardSprays                                                  </td><td>Potency of Orchard Sprays                                      </td></tr>\n",
       "\t<tr><td>datasets                                                       </td><td>PlantGrowth                                                    </td><td>Results from an Experiment on Plant Growth                     </td></tr>\n",
       "\t<tr><td>datasets                                                       </td><td>Puromycin                                                      </td><td>Reaction Velocity of an Enzymatic Reaction                     </td></tr>\n",
       "\t<tr><td>datasets                                                       </td><td>Seatbelts                                                      </td><td>Road Casualties in Great Britain 1969-84                       </td></tr>\n",
       "\t<tr><td>datasets                                                       </td><td>Theoph                                                         </td><td>Pharmacokinetics of Theophylline                               </td></tr>\n",
       "\t<tr><td>datasets                                                       </td><td>Titanic                                                        </td><td>Survival of passengers on the Titanic                          </td></tr>\n",
       "\t<tr><td>datasets                                                       </td><td>ToothGrowth                                                    </td><td>The Effect of Vitamin C on Tooth Growth in Guinea Pigs         </td></tr>\n",
       "\t<tr><td>datasets                                                       </td><td>UCBAdmissions                                                  </td><td>Student Admissions at UC Berkeley                              </td></tr>\n",
       "\t<tr><td>datasets                                                       </td><td>UKDriverDeaths                                                 </td><td>Road Casualties in Great Britain 1969-84                       </td></tr>\n",
       "\t<tr><td>datasets                                                       </td><td>UKgas                                                          </td><td>UK Quarterly Gas Consumption                                   </td></tr>\n",
       "\t<tr><td>datasets                                                       </td><td>USAccDeaths                                                    </td><td>Accidental Deaths in the US 1973-1978                          </td></tr>\n",
       "\t<tr><td>datasets                                                       </td><td>USArrests                                                      </td><td>Violent Crime Rates by US State                                </td></tr>\n",
       "\t<tr><td>datasets                                                       </td><td>USJudgeRatings                                                 </td><td>Lawyers' Ratings of State Judges in the US Superior Court      </td></tr>\n",
       "\t<tr><td>datasets                                                       </td><td>USPersonalExpenditure                                          </td><td>Personal Expenditure Data                                      </td></tr>\n",
       "\t<tr><td>datasets                                                       </td><td>UScitiesD                                                      </td><td>Distances Between European Cities and Between US Cities        </td></tr>\n",
       "\t<tr><td>datasets                                                       </td><td>VADeaths                                                       </td><td>Death Rates in Virginia (1940)                                 </td></tr>\n",
       "\t<tr><td>datasets                                                       </td><td>WWWusage                                                       </td><td>Internet Usage per Minute                                      </td></tr>\n",
       "\t<tr><td>datasets                                                       </td><td>WorldPhones                                                    </td><td>The World's Telephones                                         </td></tr>\n",
       "\t<tr><td>datasets                                                       </td><td>ability.cov                                                    </td><td>Ability and Intelligence Tests                                 </td></tr>\n",
       "\t<tr><td>datasets                                                       </td><td>airmiles                                                       </td><td>Passenger Miles on Commercial US Airlines, 1937-1960           </td></tr>\n",
       "\t<tr><td>datasets                                                       </td><td>airquality                                                     </td><td>New York Air Quality Measurements                              </td></tr>\n",
       "\t<tr><td>datasets                                                       </td><td>anscombe                                                       </td><td>Anscombe's Quartet of 'Identical' Simple Linear Regressions    </td></tr>\n",
       "\t<tr><td>datasets                                                       </td><td>attenu                                                         </td><td>The Joyner-Boore Attenuation Data                              </td></tr>\n",
       "\t<tr><td>datasets                                                       </td><td>attitude                                                       </td><td>The Chatterjee-Price Attitude Data                             </td></tr>\n",
       "\t<tr><td>datasets                                                       </td><td>austres                                                        </td><td>Quarterly Time Series of the Number of Australian Residents    </td></tr>\n",
       "\t<tr><td>datasets                                                       </td><td>beaver1 (beavers)                                              </td><td>Body Temperature Series of Two Beavers                         </td></tr>\n",
       "\t<tr><td>datasets                                                       </td><td>beaver2 (beavers)                                              </td><td>Body Temperature Series of Two Beavers                         </td></tr>\n",
       "\t<tr><td>datasets                                                       </td><td>cars                                                           </td><td>Speed and Stopping Distances of Cars                           </td></tr>\n",
       "\t<tr><td>datasets                                                       </td><td>chickwts                                                       </td><td>Chicken Weights by Feed Type                                   </td></tr>\n",
       "\t<tr><td>datasets                                                       </td><td>co2                                                            </td><td>Mauna Loa Atmospheric CO2 Concentration                        </td></tr>\n",
       "\t<tr><td>datasets                                                       </td><td>crimtab                                                        </td><td>Student's 3000 Criminals Data                                  </td></tr>\n",
       "\t<tr><td>datasets                                                       </td><td>discoveries                                                    </td><td>Yearly Numbers of Important Discoveries                        </td></tr>\n",
       "\t<tr><td>datasets                                                       </td><td>esoph                                                          </td><td>Smoking, Alcohol and (O)esophageal Cancer                      </td></tr>\n",
       "\t<tr><td>datasets                                                       </td><td>euro                                                           </td><td>Conversion Rates of Euro Currencies                            </td></tr>\n",
       "\t<tr><td>datasets                                                       </td><td>euro.cross (euro)                                              </td><td>Conversion Rates of Euro Currencies                            </td></tr>\n",
       "\t<tr><td>datasets                                                       </td><td>eurodist                                                       </td><td>Distances Between European Cities and Between US Cities        </td></tr>\n",
       "\t<tr><td>datasets                                                       </td><td>faithful                                                       </td><td>Old Faithful Geyser Data                                       </td></tr>\n",
       "\t<tr><td>datasets                                                       </td><td>fdeaths (UKLungDeaths)                                         </td><td>Monthly Deaths from Lung Diseases in the UK                    </td></tr>\n",
       "\t<tr><td>datasets                                                       </td><td>freeny                                                         </td><td>Freeny's Revenue Data                                          </td></tr>\n",
       "\t<tr><td>datasets                                                       </td><td>freeny.x (freeny)                                              </td><td>Freeny's Revenue Data                                          </td></tr>\n",
       "\t<tr><td>datasets                                                       </td><td>freeny.y (freeny)                                              </td><td>Freeny's Revenue Data                                          </td></tr>\n",
       "\t<tr><td>datasets                                                       </td><td>infert                                                         </td><td>Infertility after Spontaneous and Induced Abortion             </td></tr>\n",
       "\t<tr><td>datasets                                                       </td><td>iris                                                           </td><td>Edgar Anderson's Iris Data                                     </td></tr>\n",
       "\t<tr><td>datasets                                                       </td><td>iris3                                                          </td><td>Edgar Anderson's Iris Data                                     </td></tr>\n",
       "\t<tr><td>datasets                                                       </td><td>islands                                                        </td><td>Areas of the World's Major Landmasses                          </td></tr>\n",
       "\t<tr><td>datasets                                                       </td><td>ldeaths (UKLungDeaths)                                         </td><td>Monthly Deaths from Lung Diseases in the UK                    </td></tr>\n",
       "\t<tr><td>datasets                                                       </td><td>lh                                                             </td><td>Luteinizing Hormone in Blood Samples                           </td></tr>\n",
       "\t<tr><td>datasets                                                       </td><td>longley                                                        </td><td>Longley's Economic Regression Data                             </td></tr>\n",
       "\t<tr><td>datasets                                                       </td><td>lynx                                                           </td><td>Annual Canadian Lynx trappings 1821-1934                       </td></tr>\n",
       "\t<tr><td>datasets                                                       </td><td>mdeaths (UKLungDeaths)                                         </td><td>Monthly Deaths from Lung Diseases in the UK                    </td></tr>\n",
       "\t<tr><td>datasets                                                       </td><td>morley                                                         </td><td>Michelson Speed of Light Data                                  </td></tr>\n",
       "\t<tr><td>datasets                                                       </td><td>mtcars                                                         </td><td>Motor Trend Car Road Tests                                     </td></tr>\n",
       "\t<tr><td>datasets                                                       </td><td>nhtemp                                                         </td><td>Average Yearly Temperatures in New Haven                       </td></tr>\n",
       "\t<tr><td>datasets                                                       </td><td>nottem                                                         </td><td>Average Monthly Temperatures at Nottingham, 1920-1939          </td></tr>\n",
       "\t<tr><td>datasets                                                       </td><td>npk                                                            </td><td>Classical N, P, K Factorial Experiment                         </td></tr>\n",
       "\t<tr><td>datasets                                                       </td><td>occupationalStatus                                             </td><td>Occupational Status of Fathers and their Sons                  </td></tr>\n",
       "\t<tr><td>datasets                                                       </td><td>precip                                                         </td><td>Annual Precipitation in US Cities                              </td></tr>\n",
       "\t<tr><td>datasets                                                       </td><td>presidents                                                     </td><td>Quarterly Approval Ratings of US Presidents                    </td></tr>\n",
       "\t<tr><td>datasets                                                       </td><td>pressure                                                       </td><td>Vapor Pressure of Mercury as a Function of Temperature         </td></tr>\n",
       "\t<tr><td>datasets                                                       </td><td>quakes                                                         </td><td>Locations of Earthquakes off Fiji                              </td></tr>\n",
       "\t<tr><td>datasets                                                       </td><td>randu                                                          </td><td>Random Numbers from Congruential Generator RANDU               </td></tr>\n",
       "\t<tr><td>datasets                                                       </td><td>rivers                                                         </td><td>Lengths of Major North American Rivers                         </td></tr>\n",
       "\t<tr><td>datasets                                                       </td><td>rock                                                           </td><td>Measurements on Petroleum Rock Samples                         </td></tr>\n",
       "\t<tr><td>datasets                                                       </td><td>sleep                                                          </td><td>Student's Sleep Data                                           </td></tr>\n",
       "\t<tr><td>datasets                                                       </td><td>stack.loss (stackloss)                                         </td><td>Brownlee's Stack Loss Plant Data                               </td></tr>\n",
       "\t<tr><td>datasets                                                       </td><td>stack.x (stackloss)                                            </td><td>Brownlee's Stack Loss Plant Data                               </td></tr>\n",
       "\t<tr><td>datasets                                                       </td><td>stackloss                                                      </td><td>Brownlee's Stack Loss Plant Data                               </td></tr>\n",
       "\t<tr><td>datasets                                                       </td><td>state.abb (state)                                              </td><td>US State Facts and Figures                                     </td></tr>\n",
       "\t<tr><td>datasets                                                       </td><td>state.area (state)                                             </td><td>US State Facts and Figures                                     </td></tr>\n",
       "\t<tr><td>datasets                                                       </td><td>state.center (state)                                           </td><td>US State Facts and Figures                                     </td></tr>\n",
       "\t<tr><td>datasets                                                       </td><td>state.division (state)                                         </td><td>US State Facts and Figures                                     </td></tr>\n",
       "\t<tr><td>datasets                                                       </td><td>state.name (state)                                             </td><td>US State Facts and Figures                                     </td></tr>\n",
       "\t<tr><td>datasets                                                       </td><td>state.region (state)                                           </td><td>US State Facts and Figures                                     </td></tr>\n",
       "\t<tr><td>datasets                                                       </td><td>state.x77 (state)                                              </td><td>US State Facts and Figures                                     </td></tr>\n",
       "\t<tr><td>datasets                                                       </td><td>sunspot.month                                                  </td><td>Monthly Sunspot Data, from 1749 to \"Present\"                   </td></tr>\n",
       "\t<tr><td>datasets                                                       </td><td>sunspot.year                                                   </td><td>Yearly Sunspot Data, 1700-1988                                 </td></tr>\n",
       "\t<tr><td>datasets                                                       </td><td>sunspots                                                       </td><td>Monthly Sunspot Numbers, 1749-1983                             </td></tr>\n",
       "\t<tr><td>datasets                                                       </td><td>swiss                                                          </td><td>Swiss Fertility and Socioeconomic Indicators (1888) Data       </td></tr>\n",
       "\t<tr><td>datasets                                                       </td><td>treering                                                       </td><td>Yearly Treering Data, -6000-1979                               </td></tr>\n",
       "\t<tr><td>datasets                                                       </td><td>trees                                                          </td><td>Girth, Height and Volume for Black Cherry Trees                </td></tr>\n",
       "\t<tr><td>datasets                                                       </td><td>uspop                                                          </td><td>Populations Recorded by the US Census                          </td></tr>\n",
       "\t<tr><td>datasets                                                       </td><td>volcano                                                        </td><td>Topographic Information on Auckland's Maunga Whau Volcano      </td></tr>\n",
       "\t<tr><td>datasets                                                       </td><td>warpbreaks                                                     </td><td>The Number of Breaks in Yarn during Weaving                    </td></tr>\n",
       "\t<tr><td>datasets                                                       </td><td>women                                                          </td><td>Average Heights and Weights for American Women                 </td></tr>\n",
       "</tbody>\n",
       "</table>\n",
       "\n",
       "<p>Use ‘data(package = .packages(all.available = TRUE))’\n",
       "to list the data sets in all *available* packages.</p>"
      ],
      "text/plain": [
       "Data sets in package ‘datasets’:\n",
       "\n",
       "AirPassengers           Monthly Airline Passenger Numbers 1949-1960\n",
       "BJsales                 Sales Data with Leading Indicator\n",
       "BJsales.lead (BJsales)\n",
       "                        Sales Data with Leading Indicator\n",
       "BOD                     Biochemical Oxygen Demand\n",
       "CO2                     Carbon Dioxide Uptake in Grass Plants\n",
       "ChickWeight             Weight versus age of chicks on different diets\n",
       "DNase                   Elisa assay of DNase\n",
       "EuStockMarkets          Daily Closing Prices of Major European Stock\n",
       "                        Indices, 1991-1998\n",
       "Formaldehyde            Determination of Formaldehyde\n",
       "HairEyeColor            Hair and Eye Color of Statistics Students\n",
       "Harman23.cor            Harman Example 2.3\n",
       "Harman74.cor            Harman Example 7.4\n",
       "Indometh                Pharmacokinetics of Indomethacin\n",
       "InsectSprays            Effectiveness of Insect Sprays\n",
       "JohnsonJohnson          Quarterly Earnings per Johnson & Johnson Share\n",
       "LakeHuron               Level of Lake Huron 1875-1972\n",
       "LifeCycleSavings        Intercountry Life-Cycle Savings Data\n",
       "Loblolly                Growth of Loblolly pine trees\n",
       "Nile                    Flow of the River Nile\n",
       "Orange                  Growth of Orange Trees\n",
       "OrchardSprays           Potency of Orchard Sprays\n",
       "PlantGrowth             Results from an Experiment on Plant Growth\n",
       "Puromycin               Reaction Velocity of an Enzymatic Reaction\n",
       "Seatbelts               Road Casualties in Great Britain 1969-84\n",
       "Theoph                  Pharmacokinetics of Theophylline\n",
       "Titanic                 Survival of passengers on the Titanic\n",
       "ToothGrowth             The Effect of Vitamin C on Tooth Growth in\n",
       "                        Guinea Pigs\n",
       "UCBAdmissions           Student Admissions at UC Berkeley\n",
       "UKDriverDeaths          Road Casualties in Great Britain 1969-84\n",
       "UKgas                   UK Quarterly Gas Consumption\n",
       "USAccDeaths             Accidental Deaths in the US 1973-1978\n",
       "USArrests               Violent Crime Rates by US State\n",
       "USJudgeRatings          Lawyers' Ratings of State Judges in the US\n",
       "                        Superior Court\n",
       "USPersonalExpenditure   Personal Expenditure Data\n",
       "UScitiesD               Distances Between European Cities and Between\n",
       "                        US Cities\n",
       "VADeaths                Death Rates in Virginia (1940)\n",
       "WWWusage                Internet Usage per Minute\n",
       "WorldPhones             The World's Telephones\n",
       "ability.cov             Ability and Intelligence Tests\n",
       "airmiles                Passenger Miles on Commercial US Airlines,\n",
       "                        1937-1960\n",
       "airquality              New York Air Quality Measurements\n",
       "anscombe                Anscombe's Quartet of 'Identical' Simple Linear\n",
       "                        Regressions\n",
       "attenu                  The Joyner-Boore Attenuation Data\n",
       "attitude                The Chatterjee-Price Attitude Data\n",
       "austres                 Quarterly Time Series of the Number of\n",
       "                        Australian Residents\n",
       "beaver1 (beavers)       Body Temperature Series of Two Beavers\n",
       "beaver2 (beavers)       Body Temperature Series of Two Beavers\n",
       "cars                    Speed and Stopping Distances of Cars\n",
       "chickwts                Chicken Weights by Feed Type\n",
       "co2                     Mauna Loa Atmospheric CO2 Concentration\n",
       "crimtab                 Student's 3000 Criminals Data\n",
       "discoveries             Yearly Numbers of Important Discoveries\n",
       "esoph                   Smoking, Alcohol and (O)esophageal Cancer\n",
       "euro                    Conversion Rates of Euro Currencies\n",
       "euro.cross (euro)       Conversion Rates of Euro Currencies\n",
       "eurodist                Distances Between European Cities and Between\n",
       "                        US Cities\n",
       "faithful                Old Faithful Geyser Data\n",
       "fdeaths (UKLungDeaths)\n",
       "                        Monthly Deaths from Lung Diseases in the UK\n",
       "freeny                  Freeny's Revenue Data\n",
       "freeny.x (freeny)       Freeny's Revenue Data\n",
       "freeny.y (freeny)       Freeny's Revenue Data\n",
       "infert                  Infertility after Spontaneous and Induced\n",
       "                        Abortion\n",
       "iris                    Edgar Anderson's Iris Data\n",
       "iris3                   Edgar Anderson's Iris Data\n",
       "islands                 Areas of the World's Major Landmasses\n",
       "ldeaths (UKLungDeaths)\n",
       "                        Monthly Deaths from Lung Diseases in the UK\n",
       "lh                      Luteinizing Hormone in Blood Samples\n",
       "longley                 Longley's Economic Regression Data\n",
       "lynx                    Annual Canadian Lynx trappings 1821-1934\n",
       "mdeaths (UKLungDeaths)\n",
       "                        Monthly Deaths from Lung Diseases in the UK\n",
       "morley                  Michelson Speed of Light Data\n",
       "mtcars                  Motor Trend Car Road Tests\n",
       "nhtemp                  Average Yearly Temperatures in New Haven\n",
       "nottem                  Average Monthly Temperatures at Nottingham,\n",
       "                        1920-1939\n",
       "npk                     Classical N, P, K Factorial Experiment\n",
       "occupationalStatus      Occupational Status of Fathers and their Sons\n",
       "precip                  Annual Precipitation in US Cities\n",
       "presidents              Quarterly Approval Ratings of US Presidents\n",
       "pressure                Vapor Pressure of Mercury as a Function of\n",
       "                        Temperature\n",
       "quakes                  Locations of Earthquakes off Fiji\n",
       "randu                   Random Numbers from Congruential Generator\n",
       "                        RANDU\n",
       "rivers                  Lengths of Major North American Rivers\n",
       "rock                    Measurements on Petroleum Rock Samples\n",
       "sleep                   Student's Sleep Data\n",
       "stack.loss (stackloss)\n",
       "                        Brownlee's Stack Loss Plant Data\n",
       "stack.x (stackloss)     Brownlee's Stack Loss Plant Data\n",
       "stackloss               Brownlee's Stack Loss Plant Data\n",
       "state.abb (state)       US State Facts and Figures\n",
       "state.area (state)      US State Facts and Figures\n",
       "state.center (state)    US State Facts and Figures\n",
       "state.division (state)\n",
       "                        US State Facts and Figures\n",
       "state.name (state)      US State Facts and Figures\n",
       "state.region (state)    US State Facts and Figures\n",
       "state.x77 (state)       US State Facts and Figures\n",
       "sunspot.month           Monthly Sunspot Data, from 1749 to \"Present\"\n",
       "sunspot.year            Yearly Sunspot Data, 1700-1988\n",
       "sunspots                Monthly Sunspot Numbers, 1749-1983\n",
       "swiss                   Swiss Fertility and Socioeconomic Indicators\n",
       "                        (1888) Data\n",
       "treering                Yearly Treering Data, -6000-1979\n",
       "trees                   Girth, Height and Volume for Black Cherry Trees\n",
       "uspop                   Populations Recorded by the US Census\n",
       "volcano                 Topographic Information on Auckland's Maunga\n",
       "                        Whau Volcano\n",
       "warpbreaks              The Number of Breaks in Yarn during Weaving\n",
       "women                   Average Heights and Weights for American Women\n",
       "Data sets in package ‘MASS’:\n",
       "\n",
       "Aids2                   Australian AIDS Survival Data\n",
       "Animals                 Brain and Body Weights for 28 Species\n",
       "Boston                  Housing Values in Suburbs of Boston\n",
       "Cars93                  Data from 93 Cars on Sale in the USA in 1993\n",
       "Cushings                Diagnostic Tests on Patients with Cushing's\n",
       "                        Syndrome\n",
       "DDT                     DDT in Kale\n",
       "GAGurine                Level of GAG in Urine of Children\n",
       "Insurance               Numbers of Car Insurance claims\n",
       "Melanoma                Survival from Malignant Melanoma\n",
       "OME                     Tests of Auditory Perception in Children with\n",
       "                        OME\n",
       "Pima.te                 Diabetes in Pima Indian Women\n",
       "Pima.tr                 Diabetes in Pima Indian Women\n",
       "Pima.tr2                Diabetes in Pima Indian Women\n",
       "Rabbit                  Blood Pressure in Rabbits\n",
       "Rubber                  Accelerated Testing of Tyre Rubber\n",
       "SP500                   Returns of the Standard and Poors 500\n",
       "Sitka                   Growth Curves for Sitka Spruce Trees in 1988\n",
       "Sitka89                 Growth Curves for Sitka Spruce Trees in 1989\n",
       "Skye                    AFM Compositions of Aphyric Skye Lavas\n",
       "Traffic                 Effect of Swedish Speed Limits on Accidents\n",
       "UScereal                Nutritional and Marketing Information on US\n",
       "                        Cereals\n",
       "UScrime                 The Effect of Punishment Regimes on Crime Rates\n",
       "VA                      Veteran's Administration Lung Cancer Trial\n",
       "abbey                   Determinations of Nickel Content\n",
       "accdeaths               Accidental Deaths in the US 1973-1978\n",
       "anorexia                Anorexia Data on Weight Change\n",
       "bacteria                Presence of Bacteria after Drug Treatments\n",
       "beav1                   Body Temperature Series of Beaver 1\n",
       "beav2                   Body Temperature Series of Beaver 2\n",
       "biopsy                  Biopsy Data on Breast Cancer Patients\n",
       "birthwt                 Risk Factors Associated with Low Infant Birth\n",
       "                        Weight\n",
       "cabbages                Data from a cabbage field trial\n",
       "caith                   Colours of Eyes and Hair of People in Caithness\n",
       "cats                    Anatomical Data from Domestic Cats\n",
       "cement                  Heat Evolved by Setting Cements\n",
       "chem                    Copper in Wholemeal Flour\n",
       "coop                    Co-operative Trial in Analytical Chemistry\n",
       "cpus                    Performance of Computer CPUs\n",
       "crabs                   Morphological Measurements on Leptograpsus\n",
       "                        Crabs\n",
       "deaths                  Monthly Deaths from Lung Diseases in the UK\n",
       "drivers                 Deaths of Car Drivers in Great Britain 1969-84\n",
       "eagles                  Foraging Ecology of Bald Eagles\n",
       "epil                    Seizure Counts for Epileptics\n",
       "farms                   Ecological Factors in Farm Management\n",
       "fgl                     Measurements of Forensic Glass Fragments\n",
       "forbes                  Forbes' Data on Boiling Points in the Alps\n",
       "galaxies                Velocities for 82 Galaxies\n",
       "gehan                   Remission Times of Leukaemia Patients\n",
       "genotype                Rat Genotype Data\n",
       "geyser                  Old Faithful Geyser Data\n",
       "gilgais                 Line Transect of Soil in Gilgai Territory\n",
       "hills                   Record Times in Scottish Hill Races\n",
       "housing                 Frequency Table from a Copenhagen Housing\n",
       "                        Conditions Survey\n",
       "immer                   Yields from a Barley Field Trial\n",
       "leuk                    Survival Times and White Blood Counts for\n",
       "                        Leukaemia Patients\n",
       "mammals                 Brain and Body Weights for 62 Species of Land\n",
       "                        Mammals\n",
       "mcycle                  Data from a Simulated Motorcycle Accident\n",
       "menarche                Age of Menarche in Warsaw\n",
       "michelson               Michelson's Speed of Light Data\n",
       "minn38                  Minnesota High School Graduates of 1938\n",
       "motors                  Accelerated Life Testing of Motorettes\n",
       "muscle                  Effect of Calcium Chloride on Muscle\n",
       "                        Contraction in Rat Hearts\n",
       "newcomb                 Newcomb's Measurements of the Passage Time of\n",
       "                        Light\n",
       "nlschools               Eighth-Grade Pupils in the Netherlands\n",
       "npk                     Classical N, P, K Factorial Experiment\n",
       "npr1                    US Naval Petroleum Reserve No. 1 data\n",
       "oats                    Data from an Oats Field Trial\n",
       "painters                The Painter's Data of de Piles\n",
       "petrol                  N. L. Prater's Petrol Refinery Data\n",
       "phones                  Belgium Phone Calls 1950-1973\n",
       "quine                   Absenteeism from School in Rural New South\n",
       "                        Wales\n",
       "road                    Road Accident Deaths in US States\n",
       "rotifer                 Numbers of Rotifers by Fluid Density\n",
       "ships                   Ships Damage Data\n",
       "shoes                   Shoe wear data of Box, Hunter and Hunter\n",
       "shrimp                  Percentage of Shrimp in Shrimp Cocktail\n",
       "shuttle                 Space Shuttle Autolander Problem\n",
       "snails                  Snail Mortality Data\n",
       "steam                   The Saturated Steam Pressure Data\n",
       "stormer                 The Stormer Viscometer Data\n",
       "survey                  Student Survey Data\n",
       "synth.te                Synthetic Classification Problem\n",
       "synth.tr                Synthetic Classification Problem\n",
       "topo                    Spatial Topographic Data\n",
       "waders                  Counts of Waders at 15 Sites in South Africa\n",
       "whiteside               House Insulation: Whiteside's Data\n",
       "wtloss                  Weight Loss Data from an Obese Patient\n",
       "\n",
       "Use ‘data(package = .packages(all.available = TRUE))’\n",
       "to list the data sets in all *available* packages."
      ]
     },
     "metadata": {},
     "output_type": "display_data"
    }
   ],
   "source": [
    "library(MASS)\n",
    "data()"
   ]
  },
  {
   "cell_type": "code",
   "execution_count": 16,
   "metadata": {},
   "outputs": [
    {
     "name": "stdout",
     "output_type": "stream",
     "text": [
      "$year\n",
      " [1] 50 51 52 53 54 55 56 57 58 59 60 61 62 63 64 65 66 67 68 69 70 71 72 73\n",
      "\n",
      "$calls\n",
      " [1]   4.4   4.7   4.7   5.9   6.6   7.3   8.1   8.8  10.6  12.0  13.5  14.9\n",
      "[13]  16.1  21.2 119.0 124.0 142.0 159.0 182.0 212.0  43.0  24.0  27.0  29.0\n",
      "\n"
     ]
    }
   ],
   "source": [
    "library(MASS)\n",
    "data(phones)\n",
    "print(phones)"
   ]
  },
  {
   "cell_type": "markdown",
   "metadata": {},
   "source": [
    "## 查看所有"
   ]
  },
  {
   "cell_type": "code",
   "execution_count": null,
   "metadata": {},
   "outputs": [],
   "source": [
    "data(package = .packages(all.available = TRUE))"
   ]
  },
  {
   "cell_type": "code",
   "execution_count": null,
   "metadata": {},
   "outputs": [],
   "source": []
  }
 ],
 "metadata": {
  "kernelspec": {
   "display_name": "R",
   "language": "R",
   "name": "ir"
  },
  "language_info": {
   "codemirror_mode": "r",
   "file_extension": ".r",
   "mimetype": "text/x-r-source",
   "name": "R",
   "pygments_lexer": "r",
   "version": "3.5.1"
  }
 },
 "nbformat": 4,
 "nbformat_minor": 2
}
