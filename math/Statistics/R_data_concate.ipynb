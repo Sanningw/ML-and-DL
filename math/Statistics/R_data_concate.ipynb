{
 "cells": [
  {
   "cell_type": "markdown",
   "metadata": {
    "toc-hr-collapsed": false
   },
   "source": [
    "# 数据重塑"
   ]
  },
  {
   "cell_type": "markdown",
   "metadata": {},
   "source": [
    "## 于数据帧中加入列和行"
   ]
  },
  {
   "cell_type": "markdown",
   "metadata": {},
   "source": [
    "我们可以使用cbind()函数连接多个向量来创建数据帧"
   ]
  },
  {
   "cell_type": "code",
   "execution_count": 3,
   "metadata": {},
   "outputs": [
    {
     "data": {
      "text/html": [
       "'matrix'"
      ],
      "text/latex": [
       "'matrix'"
      ],
      "text/markdown": [
       "'matrix'"
      ],
      "text/plain": [
       "[1] \"matrix\""
      ]
     },
     "metadata": {},
     "output_type": "display_data"
    },
    {
     "data": {
      "text/html": [
       "<table>\n",
       "<thead><tr><th scope=col>city</th><th scope=col>state</th><th scope=col>zipcode</th></tr></thead>\n",
       "<tbody>\n",
       "\t<tr><td>Tampa   </td><td>FL      </td><td>33602   </td></tr>\n",
       "\t<tr><td>Seattle </td><td>WA      </td><td>98104   </td></tr>\n",
       "\t<tr><td>Hartford</td><td>CT      </td><td>6161    </td></tr>\n",
       "\t<tr><td>Denver  </td><td>CO      </td><td>80294   </td></tr>\n",
       "</tbody>\n",
       "</table>\n"
      ],
      "text/latex": [
       "\\begin{tabular}{lll}\n",
       " city & state & zipcode\\\\\n",
       "\\hline\n",
       "\t Tampa    & FL       & 33602   \\\\\n",
       "\t Seattle  & WA       & 98104   \\\\\n",
       "\t Hartford & CT       & 6161    \\\\\n",
       "\t Denver   & CO       & 80294   \\\\\n",
       "\\end{tabular}\n"
      ],
      "text/markdown": [
       "\n",
       "city | state | zipcode | \n",
       "|---|---|---|---|\n",
       "| Tampa    | FL       | 33602    | \n",
       "| Seattle  | WA       | 98104    | \n",
       "| Hartford | CT       | 6161     | \n",
       "| Denver   | CO       | 80294    | \n",
       "\n",
       "\n"
      ],
      "text/plain": [
       "     city     state zipcode\n",
       "[1,] Tampa    FL    33602  \n",
       "[2,] Seattle  WA    98104  \n",
       "[3,] Hartford CT    6161   \n",
       "[4,] Denver   CO    80294  "
      ]
     },
     "metadata": {},
     "output_type": "display_data"
    }
   ],
   "source": [
    "city = c(\"Tampa\",\"Seattle\",\"Hartford\",\"Denver\")\n",
    "state = c(\"FL\",\"WA\",\"CT\",\"CO\")\n",
    "zipcode = c(33602,98104,06161,80294)\n",
    "\n",
    "addresses = cbind(city, state, zipcode)   #等同于concate\n",
    "class(addresses)\n",
    "addresses"
   ]
  },
  {
   "cell_type": "code",
   "execution_count": 7,
   "metadata": {},
   "outputs": [
    {
     "data": {
      "text/html": [
       "<table>\n",
       "<thead><tr><th scope=col>city</th><th scope=col>state</th><th scope=col>zipcode</th></tr></thead>\n",
       "<tbody>\n",
       "\t<tr><td>Lowry    </td><td>CO       </td><td>80230    </td></tr>\n",
       "\t<tr><td>Charlotte</td><td>FL       </td><td>33949    </td></tr>\n",
       "</tbody>\n",
       "</table>\n"
      ],
      "text/latex": [
       "\\begin{tabular}{r|lll}\n",
       " city & state & zipcode\\\\\n",
       "\\hline\n",
       "\t Lowry     & CO        & 80230    \\\\\n",
       "\t Charlotte & FL        & 33949    \\\\\n",
       "\\end{tabular}\n"
      ],
      "text/markdown": [
       "\n",
       "city | state | zipcode | \n",
       "|---|---|\n",
       "| Lowry     | CO        | 80230     | \n",
       "| Charlotte | FL        | 33949     | \n",
       "\n",
       "\n"
      ],
      "text/plain": [
       "  city      state zipcode\n",
       "1 Lowry     CO    80230  \n",
       "2 Charlotte FL    33949  "
      ]
     },
     "metadata": {},
     "output_type": "display_data"
    }
   ],
   "source": [
    "new.address = data.frame(\n",
    "   city = c(\"Lowry\",\"Charlotte\"),\n",
    "   state = c(\"CO\",\"FL\"),\n",
    "   zipcode = c(\"80230\",\"33949\"),\n",
    "   stringsAsFactors = FALSE\n",
    ")\n",
    "new.address"
   ]
  },
  {
   "cell_type": "markdown",
   "metadata": {},
   "source": [
    "使用rbind()函数合并两个数据帧"
   ]
  },
  {
   "cell_type": "code",
   "execution_count": 8,
   "metadata": {},
   "outputs": [
    {
     "data": {
      "text/html": [
       "<table>\n",
       "<thead><tr><th scope=col>city</th><th scope=col>state</th><th scope=col>zipcode</th></tr></thead>\n",
       "<tbody>\n",
       "\t<tr><td>Tampa    </td><td>FL       </td><td>33602    </td></tr>\n",
       "\t<tr><td>Seattle  </td><td>WA       </td><td>98104    </td></tr>\n",
       "\t<tr><td>Hartford </td><td>CT       </td><td>6161     </td></tr>\n",
       "\t<tr><td>Denver   </td><td>CO       </td><td>80294    </td></tr>\n",
       "\t<tr><td>Lowry    </td><td>CO       </td><td>80230    </td></tr>\n",
       "\t<tr><td>Charlotte</td><td>FL       </td><td>33949    </td></tr>\n",
       "</tbody>\n",
       "</table>\n"
      ],
      "text/latex": [
       "\\begin{tabular}{r|lll}\n",
       " city & state & zipcode\\\\\n",
       "\\hline\n",
       "\t Tampa     & FL        & 33602    \\\\\n",
       "\t Seattle   & WA        & 98104    \\\\\n",
       "\t Hartford  & CT        & 6161     \\\\\n",
       "\t Denver    & CO        & 80294    \\\\\n",
       "\t Lowry     & CO        & 80230    \\\\\n",
       "\t Charlotte & FL        & 33949    \\\\\n",
       "\\end{tabular}\n"
      ],
      "text/markdown": [
       "\n",
       "city | state | zipcode | \n",
       "|---|---|---|---|---|---|\n",
       "| Tampa     | FL        | 33602     | \n",
       "| Seattle   | WA        | 98104     | \n",
       "| Hartford  | CT        | 6161      | \n",
       "| Denver    | CO        | 80294     | \n",
       "| Lowry     | CO        | 80230     | \n",
       "| Charlotte | FL        | 33949     | \n",
       "\n",
       "\n"
      ],
      "text/plain": [
       "  city      state zipcode\n",
       "1 Tampa     FL    33602  \n",
       "2 Seattle   WA    98104  \n",
       "3 Hartford  CT    6161   \n",
       "4 Denver    CO    80294  \n",
       "5 Lowry     CO    80230  \n",
       "6 Charlotte FL    33949  "
      ]
     },
     "metadata": {},
     "output_type": "display_data"
    }
   ],
   "source": [
    "all.addresses = rbind(addresses,new.address)\n",
    "all.addresses"
   ]
  },
  {
   "cell_type": "markdown",
   "metadata": {
    "toc-hr-collapsed": true
   },
   "source": [
    "## 合并数据帧"
   ]
  },
  {
   "cell_type": "markdown",
   "metadata": {},
   "source": [
    "有关Pima Indian Women的糖尿病的数据集。 我们基于血压（“bp”）和体重指数（“bmi”）的值合并两个数据集。"
   ]
  },
  {
   "cell_type": "markdown",
   "metadata": {},
   "source": [
    "选择这两列用于合并时，其中这两个变量的值在两个数据集中匹配的记录被组合在一起以形成单个数据帧"
   ]
  },
  {
   "cell_type": "code",
   "execution_count": 9,
   "metadata": {},
   "outputs": [
    {
     "name": "stdout",
     "output_type": "stream",
     "text": [
      "   bp  bmi npreg.x glu.x skin.x ped.x age.x type.x npreg.y glu.y skin.y ped.y\n",
      "1  60 33.8       1   117     23 0.466    27     No       2   125     20 0.088\n",
      "2  64 29.7       2    75     24 0.370    33     No       2   100     23 0.368\n",
      "3  64 31.2       5   189     33 0.583    29    Yes       3   158     13 0.295\n",
      "4  64 33.2       4   117     27 0.230    24     No       1    96     27 0.289\n",
      "5  66 38.1       3   115     39 0.150    28     No       1   114     36 0.289\n",
      "6  68 38.5       2   100     25 0.324    26     No       7   129     49 0.439\n",
      "7  70 27.4       1   116     28 0.204    21     No       0   124     20 0.254\n",
      "8  70 33.1       4    91     32 0.446    22     No       9   123     44 0.374\n",
      "9  70 35.4       9   124     33 0.282    34     No       6   134     23 0.542\n",
      "10 72 25.6       1   157     21 0.123    24     No       4    99     17 0.294\n",
      "11 72 37.7       5    95     33 0.370    27     No       6   103     32 0.324\n",
      "12 74 25.9       9   134     33 0.460    81     No       8   126     38 0.162\n",
      "13 74 25.9       1    95     21 0.673    36     No       8   126     38 0.162\n",
      "14 78 27.6       5    88     30 0.258    37     No       6   125     31 0.565\n",
      "15 78 27.6      10   122     31 0.512    45     No       6   125     31 0.565\n",
      "16 78 39.4       2   112     50 0.175    24     No       4   112     40 0.236\n",
      "17 88 34.5       1   117     24 0.403    40    Yes       4   127     11 0.598\n",
      "   age.y type.y\n",
      "1     31     No\n",
      "2     21     No\n",
      "3     24     No\n",
      "4     21     No\n",
      "5     21     No\n",
      "6     43    Yes\n",
      "7     36    Yes\n",
      "8     40     No\n",
      "9     29    Yes\n",
      "10    28     No\n",
      "11    55     No\n",
      "12    39     No\n",
      "13    39     No\n",
      "14    49    Yes\n",
      "15    49    Yes\n",
      "16    38     No\n",
      "17    28     No\n"
     ]
    },
    {
     "data": {
      "text/html": [
       "17"
      ],
      "text/latex": [
       "17"
      ],
      "text/markdown": [
       "17"
      ],
      "text/plain": [
       "[1] 17"
      ]
     },
     "metadata": {},
     "output_type": "display_data"
    }
   ],
   "source": [
    "library(MASS)\n",
    "merged.Pima = merge(x = Pima.te, y = Pima.tr,\n",
    "   by.x = c(\"bp\", \"bmi\"),\n",
    "   by.y = c(\"bp\", \"bmi\")\n",
    ")\n",
    "print(merged.Pima)\n",
    "nrow(merged.Pima)"
   ]
  },
  {
   "cell_type": "markdown",
   "metadata": {},
   "source": [
    "# 查看数据集"
   ]
  },
  {
   "cell_type": "markdown",
   "metadata": {},
   "source": [
    "## 查看某一个package"
   ]
  },
  {
   "cell_type": "code",
   "execution_count": null,
   "metadata": {},
   "outputs": [],
   "source": [
    "library(MASS)\n",
    "data()"
   ]
  },
  {
   "cell_type": "code",
   "execution_count": 22,
   "metadata": {},
   "outputs": [
    {
     "name": "stdout",
     "output_type": "stream",
     "text": [
      "$year\n",
      " [1] 50 51 52 53 54 55 56 57 58 59 60 61 62 63 64 65 66 67 68 69 70 71 72 73\n",
      "\n",
      "$calls\n",
      " [1]   4.4   4.7   4.7   5.9   6.6   7.3   8.1   8.8  10.6  12.0  13.5  14.9\n",
      "[13]  16.1  21.2 119.0 124.0 142.0 159.0 182.0 212.0  43.0  24.0  27.0  29.0\n",
      "\n"
     ]
    }
   ],
   "source": [
    "library(MASS)\n",
    "data(phones)\n",
    "print(phones)"
   ]
  },
  {
   "cell_type": "markdown",
   "metadata": {},
   "source": [
    "## 查看所有"
   ]
  },
  {
   "cell_type": "code",
   "execution_count": null,
   "metadata": {},
   "outputs": [],
   "source": [
    "data(package = .packages(all.available = TRUE))"
   ]
  },
  {
   "cell_type": "code",
   "execution_count": null,
   "metadata": {},
   "outputs": [],
   "source": []
  }
 ],
 "metadata": {
  "kernelspec": {
   "display_name": "R",
   "language": "R",
   "name": "ir"
  },
  "language_info": {
   "codemirror_mode": "r",
   "file_extension": ".r",
   "mimetype": "text/x-r-source",
   "name": "R",
   "pygments_lexer": "r",
   "version": "3.5.1"
  }
 },
 "nbformat": 4,
 "nbformat_minor": 2
}
