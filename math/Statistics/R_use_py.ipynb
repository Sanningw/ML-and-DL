{
 "cells": [
  {
   "cell_type": "code",
   "execution_count": null,
   "metadata": {},
   "outputs": [],
   "source": [
    "install.packages(\"reticulate\")"
   ]
  },
  {
   "cell_type": "code",
   "execution_count": 1,
   "metadata": {},
   "outputs": [
    {
     "data": {
      "text/html": [
       "<ol class=list-inline>\n",
       "\t<li>'R_use_py.ipynb'</li>\n",
       "\t<li>'Scipy_stats.ipynb'</li>\n",
       "\t<li>'R'</li>\n",
       "\t<li>'.ipynb_checkpoints'</li>\n",
       "\t<li>'rpy2.ipynb'</li>\n",
       "</ol>\n"
      ],
      "text/latex": [
       "\\begin{enumerate*}\n",
       "\\item 'R\\_use\\_py.ipynb'\n",
       "\\item 'Scipy\\_stats.ipynb'\n",
       "\\item 'R'\n",
       "\\item '.ipynb\\_checkpoints'\n",
       "\\item 'rpy2.ipynb'\n",
       "\\end{enumerate*}\n"
      ],
      "text/markdown": [
       "1. 'R_use_py.ipynb'\n",
       "2. 'Scipy_stats.ipynb'\n",
       "3. 'R'\n",
       "4. '.ipynb_checkpoints'\n",
       "5. 'rpy2.ipynb'\n",
       "\n",
       "\n"
      ],
      "text/plain": [
       "[1] \"R_use_py.ipynb\"     \"Scipy_stats.ipynb\"  \"R\"                 \n",
       "[4] \".ipynb_checkpoints\" \"rpy2.ipynb\"        "
      ]
     },
     "metadata": {},
     "output_type": "display_data"
    }
   ],
   "source": [
    "library(reticulate)\n",
    "os = import(\"os\")\n",
    "os$listdir(\".\")"
   ]
  },
  {
   "cell_type": "code",
   "execution_count": 3,
   "metadata": {},
   "outputs": [
    {
     "data": {
      "text/html": [
       "<ol class=list-inline>\n",
       "\t<li>1</li>\n",
       "\t<li>2</li>\n",
       "\t<li>3</li>\n",
       "\t<li>4</li>\n",
       "</ol>\n"
      ],
      "text/latex": [
       "\\begin{enumerate*}\n",
       "\\item 1\n",
       "\\item 2\n",
       "\\item 3\n",
       "\\item 4\n",
       "\\end{enumerate*}\n"
      ],
      "text/markdown": [
       "1. 1\n",
       "2. 2\n",
       "3. 3\n",
       "4. 4\n",
       "\n",
       "\n"
      ],
      "text/plain": [
       "[1] 1 2 3 4"
      ]
     },
     "metadata": {},
     "output_type": "display_data"
    }
   ],
   "source": [
    "np = import(\"numpy\")\n",
    "np$array(c(1:4))"
   ]
  },
  {
   "cell_type": "code",
   "execution_count": null,
   "metadata": {},
   "outputs": [],
   "source": []
  }
 ],
 "metadata": {
  "kernelspec": {
   "display_name": "R",
   "language": "R",
   "name": "ir"
  },
  "language_info": {
   "codemirror_mode": "r",
   "file_extension": ".r",
   "mimetype": "text/x-r-source",
   "name": "R",
   "pygments_lexer": "r",
   "version": "3.5.1"
  }
 },
 "nbformat": 4,
 "nbformat_minor": 2
}
