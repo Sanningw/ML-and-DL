{
 "cells": [
  {
   "cell_type": "code",
   "execution_count": 28,
   "metadata": {},
   "outputs": [],
   "source": [
    "from sympy import *\n",
    "import sympy\n",
    "import math\n",
    "import numpy as np\n",
    "from mpl_toolkits.mplot3d import Axes3D\n",
    "import matplotlib.pyplot as plt\n",
    "from IPython.display import display"
   ]
  },
  {
   "cell_type": "markdown",
   "metadata": {},
   "source": [
    "## 设定展示格式"
   ]
  },
  {
   "cell_type": "code",
   "execution_count": 29,
   "metadata": {},
   "outputs": [],
   "source": [
    "x, y, z = symbols('x y z')\n",
    "init_printing(use_unicode=True)"
   ]
  },
  {
   "cell_type": "code",
   "execution_count": 3,
   "metadata": {},
   "outputs": [
    {
     "data": {
      "image/png": "[encoded data removed]",
      "text/latex": [
       "$$\\left ( a_{0}, \\quad a_{1}, \\quad a_{2}, \\quad a_{3}, \\quad a_{4}\\right )$$"
      ],
      "text/plain": [
       "(a₀, a₁, a₂, a₃, a₄)"
      ]
     },
     "execution_count": 3,
     "metadata": {},
     "output_type": "execute_result"
    }
   ],
   "source": [
    "syms = symbols('a0:5')\n",
    "syms"
   ]
  },
  {
   "cell_type": "markdown",
   "metadata": {
    "toc-hr-collapsed": false
   },
   "source": [
    "## 1.运算与化简"
   ]
  },
  {
   "cell_type": "markdown",
   "metadata": {},
   "source": [
    "### 展开式expand"
   ]
  },
  {
   "cell_type": "code",
   "execution_count": 8,
   "metadata": {},
   "outputs": [
    {
     "data": {
      "image/png": "[encoded data removed]",
      "text/latex": [
       "$$\\left ( x \\left(x + 2 y\\right), \\quad x^{2} + 2 x y, \\quad x \\left(x + 2 y\\right)\\right )$$"
      ],
      "text/plain": [
       "⎛              2                     ⎞\n",
       "⎝x⋅(x + 2⋅y), x  + 2⋅x⋅y, x⋅(x + 2⋅y)⎠"
      ]
     },
     "execution_count": 8,
     "metadata": {},
     "output_type": "execute_result"
    }
   ],
   "source": [
    "expr = x + 2 * y\n",
    "x * expr, expand(x * expr), factor(expand(x * expr))    #因式分解"
   ]
  },
  {
   "cell_type": "code",
   "execution_count": 5,
   "metadata": {},
   "outputs": [
    {
     "data": {
      "image/png": "[encoded data removed]",
      "text/latex": [
       "$$-2$$"
      ],
      "text/plain": [
       "-2"
      ]
     },
     "execution_count": 5,
     "metadata": {},
     "output_type": "execute_result"
    }
   ],
   "source": [
    "expand((x + 1)*(x - 2) - (x - 1)*x)"
   ]
  },
  {
   "cell_type": "markdown",
   "metadata": {},
   "source": [
    "指数展开"
   ]
  },
  {
   "cell_type": "code",
   "execution_count": 70,
   "metadata": {},
   "outputs": [
    {
     "data": {
      "image/png": "[encoded data removed]",
      "text/latex": [
       "$$\\left ( \\log{\\left (x y \\right )}, \\quad \\log{\\left (\\frac{x}{y} \\right )}\\right )$$"
      ],
      "text/plain": [
       "⎛             ⎛x⎞⎞\n",
       "⎜log(x⋅y), log⎜─⎟⎟\n",
       "⎝             ⎝y⎠⎠"
      ]
     },
     "execution_count": 70,
     "metadata": {},
     "output_type": "execute_result"
    }
   ],
   "source": [
    "expand_log(log(x*y)), expand_log(log(x/y))"
   ]
  },
  {
   "cell_type": "markdown",
   "metadata": {},
   "source": [
    "### 因式分解factor"
   ]
  },
  {
   "cell_type": "code",
   "execution_count": 15,
   "metadata": {},
   "outputs": [
    {
     "data": {
      "image/png": "[encoded data removed]",
      "text/latex": [
       "$$\\left(x - 1\\right) \\left(x^{2} + 1\\right)$$"
      ],
      "text/plain": [
       "        ⎛ 2    ⎞\n",
       "(x - 1)⋅⎝x  + 1⎠"
      ]
     },
     "execution_count": 15,
     "metadata": {},
     "output_type": "execute_result"
    }
   ],
   "source": [
    "factor(x**3 - x**2 + x - 1)"
   ]
  },
  {
   "cell_type": "code",
   "execution_count": 16,
   "metadata": {},
   "outputs": [
    {
     "data": {
      "image/png": "[encoded data removed]",
      "text/latex": [
       "$$\\left ( z \\left(x + 2 y\\right)^{2}, \\quad \\left ( 1, \\quad \\left [ \\left ( z, \\quad 1\\right ), \\quad \\left ( x + 2 y, \\quad 2\\right )\\right ]\\right )\\right )$$"
      ],
      "text/plain": [
       "⎛           2                             ⎞\n",
       "⎝z⋅(x + 2⋅y) , (1, [(z, 1), (x + 2⋅y, 2)])⎠"
      ]
     },
     "execution_count": 16,
     "metadata": {},
     "output_type": "execute_result"
    }
   ],
   "source": [
    "factor(x**2*z + 4*x*y*z + 4*y**2*z), factor_list(x**2*z + 4*x*y*z + 4*y**2*z)    #获取因式及次数"
   ]
  },
  {
   "cell_type": "markdown",
   "metadata": {},
   "source": [
    "### 提取变量collect"
   ]
  },
  {
   "cell_type": "code",
   "execution_count": 13,
   "metadata": {},
   "outputs": [
    {
     "data": {
      "image/png": "[encoded data removed]",
      "text/latex": [
       "$$\\left ( x^{3} - x^{2} z + 2 x^{2} + x y + x - 3, \\quad x^{3} + x^{2} \\left(- z + 2\\right) + x \\left(y + 1\\right) - 3\\right )$$"
      ],
      "text/plain": [
       "⎛ 3    2        2                 3    2                         ⎞\n",
       "⎝x  - x ⋅z + 2⋅x  + x⋅y + x - 3, x  + x ⋅(-z + 2) + x⋅(y + 1) - 3⎠"
      ]
     },
     "execution_count": 13,
     "metadata": {},
     "output_type": "execute_result"
    }
   ],
   "source": [
    "expr = x*y + x - 3 + 2*x**2 - z*x**2 + x**3\n",
    "expr, collect(expr, x)"
   ]
  },
  {
   "cell_type": "code",
   "execution_count": 64,
   "metadata": {},
   "outputs": [
    {
     "data": {
      "image/png": "[encoded data removed]",
      "text/latex": [
       "$$- z + 2$$"
      ],
      "text/plain": [
       "-z + 2"
      ]
     },
     "execution_count": 64,
     "metadata": {},
     "output_type": "execute_result"
    }
   ],
   "source": [
    "collect(expr, x).coeff(x, 2)    #选取x^2的系数"
   ]
  },
  {
   "cell_type": "markdown",
   "metadata": {},
   "source": [
    "### 化简为分数形式cancel"
   ]
  },
  {
   "cell_type": "code",
   "execution_count": 18,
   "metadata": {},
   "outputs": [
    {
     "data": {
      "image/png": "[encoded data removed]",
      "text/latex": [
       "$$\\left ( \\frac{x y^{2} - 2 x y z + x z^{2} + y^{2} - 2 y z + z^{2}}{x^{2} - 1}, \\quad \\frac{y^{2} - 2 y z + z^{2}}{x - 1}, \\quad \\frac{\\left(y - z\\right)^{2}}{x - 1}\\right )$$"
      ],
      "text/plain": [
       "⎛   2                2    2            2   2            2         2⎞\n",
       "⎜x⋅y  - 2⋅x⋅y⋅z + x⋅z  + y  - 2⋅y⋅z + z   y  - 2⋅y⋅z + z   (y - z) ⎟\n",
       "⎜───────────────────────────────────────, ───────────────, ────────⎟\n",
       "⎜                  2                           x - 1        x - 1  ⎟\n",
       "⎝                 x  - 1                                           ⎠"
      ]
     },
     "execution_count": 18,
     "metadata": {},
     "output_type": "execute_result"
    }
   ],
   "source": [
    "expr = (x*y**2 - 2*x*y*z + x*z**2 + y**2 - 2*y*z + z**2)/(x**2 - 1)\n",
    "expr, cancel(expr), factor(expr)"
   ]
  },
  {
   "cell_type": "code",
   "execution_count": 19,
   "metadata": {},
   "outputs": [
    {
     "data": {
      "image/png": "[encoded data removed]",
      "text/latex": [
       "$$\\left ( \\frac{\\frac{3 x}{2} - 2}{x - 4} + \\frac{1}{x}, \\quad \\frac{3 x^{2} - 2 x - 8}{2 x^{2} - 8 x}\\right )$$"
      ],
      "text/plain": [
       "⎛3⋅x                        ⎞\n",
       "⎜─── - 2         2          ⎟\n",
       "⎜ 2        1  3⋅x  - 2⋅x - 8⎟\n",
       "⎜─────── + ─, ──────────────⎟\n",
       "⎜ x - 4    x       2        ⎟\n",
       "⎝               2⋅x  - 8⋅x  ⎠"
      ]
     },
     "execution_count": 19,
     "metadata": {},
     "output_type": "execute_result"
    }
   ],
   "source": [
    "expr = 1/x + (3*x/2 - 2)/(x - 4)\n",
    "expr, cancel(expr)"
   ]
  },
  {
   "cell_type": "markdown",
   "metadata": {},
   "source": [
    "### apart展开为最简分式和"
   ]
  },
  {
   "cell_type": "code",
   "execution_count": 20,
   "metadata": {},
   "outputs": [
    {
     "data": {
      "image/png": "[encoded data removed]",
      "text/latex": [
       "$$\\left ( \\frac{4 x^{3} + 21 x^{2} + 10 x + 12}{x^{4} + 5 x^{3} + 5 x^{2} + 4 x}, \\quad \\frac{2 x - 1}{x^{2} + x + 1} - \\frac{1}{x + 4} + \\frac{3}{x}\\right )$$"
      ],
      "text/plain": [
       "⎛   3       2                                    ⎞\n",
       "⎜4⋅x  + 21⋅x  + 10⋅x + 12   2⋅x - 1       1     3⎟\n",
       "⎜────────────────────────, ────────── - ───── + ─⎟\n",
       "⎜  4      3      2          2           x + 4   x⎟\n",
       "⎝ x  + 5⋅x  + 5⋅x  + 4⋅x   x  + x + 1            ⎠"
      ]
     },
     "execution_count": 20,
     "metadata": {},
     "output_type": "execute_result"
    }
   ],
   "source": [
    "expr = (4*x**3 + 21*x**2 + 10*x + 12)/(x**4 + 5*x**3 + 5*x**2 + 4*x)\n",
    "expr, apart(expr)"
   ]
  },
  {
   "cell_type": "markdown",
   "metadata": {},
   "source": [
    "### 生成素数"
   ]
  },
  {
   "cell_type": "code",
   "execution_count": 12,
   "metadata": {},
   "outputs": [
    {
     "data": {
      "text/plain": [
       "array('l', [2, 3, 5, 7, 11, 13])"
      ]
     },
     "metadata": {},
     "output_type": "display_data"
    },
    {
     "data": {
      "text/plain": [
       "array('l', [2, 3, 5, 7, 11, 13, 17, 19, 23, 29, 31])"
      ]
     },
     "execution_count": 12,
     "metadata": {},
     "output_type": "execute_result"
    }
   ],
   "source": [
    "sieve._reset()\n",
    "display(sieve._list)\n",
    "sieve.extend_to_no(10)\n",
    "sieve._list"
   ]
  },
  {
   "cell_type": "markdown",
   "metadata": {},
   "source": [
    "### 解方程组"
   ]
  },
  {
   "cell_type": "code",
   "execution_count": 46,
   "metadata": {},
   "outputs": [
    {
     "data": {
      "image/png": "[encoded data removed]",
      "text/latex": [
       "$$\\left\\{\\left ( - y - 1, \\quad y, \\quad 2\\right )\\right\\}$$"
      ],
      "text/plain": [
       "{(-y - 1, y, 2)}"
      ]
     },
     "execution_count": 46,
     "metadata": {},
     "output_type": "execute_result"
    }
   ],
   "source": [
    "linsolve([x + y + z - 1, x + y + 2*z - 3 ], (x, y, z))"
   ]
  },
  {
   "cell_type": "markdown",
   "metadata": {},
   "source": [
    "## 2.输出效果"
   ]
  },
  {
   "cell_type": "markdown",
   "metadata": {},
   "source": [
    "### 使用evalf()进行数值输出"
   ]
  },
  {
   "cell_type": "code",
   "execution_count": 4,
   "metadata": {},
   "outputs": [
    {
     "data": {
      "image/png": "[encoded data removed]",
      "text/latex": [
       "$$\\left ( 2 \\sqrt{2}, \\quad 2.82842712474619\\right )$$"
      ],
      "text/plain": [
       "(2⋅√2, 2.82842712474619)"
      ]
     },
     "execution_count": 4,
     "metadata": {},
     "output_type": "execute_result"
    }
   ],
   "source": [
    "expr = sqrt(8)\n",
    "expr, expr.evalf()"
   ]
  },
  {
   "cell_type": "code",
   "execution_count": 24,
   "metadata": {},
   "outputs": [
    {
     "data": {
      "image/png": "[encoded data removed]",
      "text/latex": [
       "$$3.141592654$$"
      ],
      "text/plain": [
       "3.141592654"
      ]
     },
     "execution_count": 24,
     "metadata": {},
     "output_type": "execute_result"
    }
   ],
   "source": [
    "pi.evalf(10)    #输出π小数点后10位"
   ]
  },
  {
   "cell_type": "code",
   "execution_count": 25,
   "metadata": {},
   "outputs": [
    {
     "data": {
      "image/png": "[encoded data removed]",
      "text/latex": [
       "$$0.0874989834394464$$"
      ],
      "text/plain": [
       "0.0874989834394464"
      ]
     },
     "execution_count": 25,
     "metadata": {},
     "output_type": "execute_result"
    }
   ],
   "source": [
    "expr = cos(2 * x)\n",
    "expr.evalf(subs = {x : 2.4})"
   ]
  },
  {
   "cell_type": "code",
   "execution_count": 45,
   "metadata": {},
   "outputs": [
    {
     "data": {
      "image/png": "[encoded data removed]",
      "text/latex": [
       "$$\\left ( -4.0 \\cdot 10^{-124}, \\quad 0\\right )$$"
      ],
      "text/plain": [
       "(-0.e-124, 0)"
      ]
     },
     "execution_count": 45,
     "metadata": {},
     "output_type": "execute_result"
    }
   ],
   "source": [
    "one = cos(1) ** 2 + sin(1) ** 2\n",
    "(one - 1).evalf(), (one - 1).evalf(chop=True)"
   ]
  },
  {
   "cell_type": "markdown",
   "metadata": {},
   "source": [
    "### subs变量互换"
   ]
  },
  {
   "cell_type": "code",
   "execution_count": 51,
   "metadata": {},
   "outputs": [
    {
     "data": {
      "image/png": "[encoded data removed]",
      "text/latex": [
       "$$\\left [ \\left ( 1, \\quad 1\\right ), \\quad \\left ( x^{2}, \\quad y^{2}\\right ), \\quad \\left ( x^{4}, \\quad y^{4}\\right )\\right ]$$"
      ],
      "text/plain": [
       "⎡        ⎛ 2   2⎞  ⎛ 4   4⎞⎤\n",
       "⎣(1, 1), ⎝x , y ⎠, ⎝x , y ⎠⎦"
      ]
     },
     "metadata": {},
     "output_type": "display_data"
    },
    {
     "data": {
      "image/png": "[encoded data removed]",
      "text/latex": [
       "$$\\left ( x^{4} - 4 x^{3} + 4 x^{2} - 2 x + 3, \\quad - 4 x^{3} - 2 x + y^{4} + 4 y^{2} + 3\\right )$$"
      ],
      "text/plain": [
       "⎛ 4      3      2                 3          4      2    ⎞\n",
       "⎝x  - 4⋅x  + 4⋅x  - 2⋅x + 3, - 4⋅x  - 2⋅x + y  + 4⋅y  + 3⎠"
      ]
     },
     "execution_count": 51,
     "metadata": {},
     "output_type": "execute_result"
    }
   ],
   "source": [
    "expr = x ** 4 - 4 * x ** 3 + 4 * x ** 2 - 2 * x + 3\n",
    "replacements = [(x ** i, y ** i) for i in range(5) if i % 2 == 0]\n",
    "display(replacements)\n",
    "expr, expr.subs(replacements)"
   ]
  },
  {
   "cell_type": "markdown",
   "metadata": {},
   "source": [
    "使用list进行多变量替换"
   ]
  },
  {
   "cell_type": "code",
   "execution_count": 47,
   "metadata": {},
   "outputs": [
    {
     "data": {
      "image/png": "[encoded data removed]",
      "text/latex": [
       "$$\\left ( x^{3} + 4 x y - z, \\quad 40\\right )$$"
      ],
      "text/plain": [
       "⎛ 3                ⎞\n",
       "⎝x  + 4⋅x⋅y - z, 40⎠"
      ]
     },
     "execution_count": 47,
     "metadata": {},
     "output_type": "execute_result"
    }
   ],
   "source": [
    "expr = x ** 3 + 4 * x * y - z\n",
    "expr, expr.subs([(x, 2), (y, 4), (z, 0)])"
   ]
  },
  {
   "cell_type": "markdown",
   "metadata": {},
   "source": [
    "### 展示等式"
   ]
  },
  {
   "cell_type": "code",
   "execution_count": 6,
   "metadata": {},
   "outputs": [
    {
     "data": {
      "image/png": "[encoded data removed]",
      "text/latex": [
       "$$x + 1 = 4$$"
      ],
      "text/plain": [
       "x + 1 = 4"
      ]
     },
     "execution_count": 6,
     "metadata": {},
     "output_type": "execute_result"
    }
   ],
   "source": [
    "Eq(x + 1, 4)"
   ]
  },
  {
   "cell_type": "markdown",
   "metadata": {},
   "source": [
    "衡量两个表达式是否结构相同"
   ]
  },
  {
   "cell_type": "code",
   "execution_count": 52,
   "metadata": {},
   "outputs": [
    {
     "data": {
      "text/plain": [
       "False"
      ]
     },
     "execution_count": 52,
     "metadata": {},
     "output_type": "execute_result"
    }
   ],
   "source": [
    "(x + 1) ** 2 == x ** 2 + 2 * x +1"
   ]
  },
  {
   "cell_type": "markdown",
   "metadata": {},
   "source": [
    "使用simplify化简"
   ]
  },
  {
   "cell_type": "code",
   "execution_count": 58,
   "metadata": {},
   "outputs": [
    {
     "data": {
      "image/png": "[encoded data removed]",
      "text/latex": [
       "$$\\left(x + 1\\right)^{2}$$"
      ],
      "text/plain": [
       "       2\n",
       "(x + 1) "
      ]
     },
     "metadata": {},
     "output_type": "display_data"
    },
    {
     "data": {
      "image/png": "[encoded data removed]",
      "text/latex": [
       "$$x^{2} + 2 x + 1$$"
      ],
      "text/plain": [
       " 2          \n",
       "x  + 2⋅x + 1"
      ]
     },
     "metadata": {},
     "output_type": "display_data"
    },
    {
     "data": {
      "image/png": "[encoded data removed]",
      "text/latex": [
       "$$0$$"
      ],
      "text/plain": [
       "0"
      ]
     },
     "metadata": {},
     "output_type": "display_data"
    },
    {
     "data": {
      "image/png": "[encoded data removed]",
      "text/latex": [
       "$$\\left ( x^{2} - 2 x + 1, \\quad 4 x\\right )$$"
      ],
      "text/plain": [
       "⎛ 2               ⎞\n",
       "⎝x  - 2⋅x + 1, 4⋅x⎠"
      ]
     },
     "execution_count": 58,
     "metadata": {},
     "output_type": "execute_result"
    }
   ],
   "source": [
    "a = (x + 1) ** 2\n",
    "b = x ** 2 + 2 * x + 1\n",
    "display(a, b, simplify(a - b))\n",
    "c = x ** 2 - 2 * x + 1\n",
    "c, simplify(a - c)"
   ]
  },
  {
   "cell_type": "code",
   "execution_count": 59,
   "metadata": {},
   "outputs": [
    {
     "data": {
      "image/png": "[encoded data removed]",
      "text/latex": [
       "$$\\left ( \\Gamma\\left(x\\right), \\quad \\Gamma\\left(x - 2\\right), \\quad \\left(x - 2\\right) \\left(x - 1\\right)\\right )$$"
      ],
      "text/plain": [
       "(Γ(x), Γ(x - 2), (x - 2)⋅(x - 1))"
      ]
     },
     "execution_count": 59,
     "metadata": {},
     "output_type": "execute_result"
    }
   ],
   "source": [
    "gamma(x), gamma(x - 2), simplify(gamma(x)/gamma(x - 2))"
   ]
  },
  {
   "cell_type": "code",
   "execution_count": 60,
   "metadata": {},
   "outputs": [
    {
     "data": {
      "image/png": "[encoded data removed]",
      "text/latex": [
       "$$\\left ( x^{2} + 2 x + 1, \\quad \\left(x + 1\\right)^{2}\\right )$$"
      ],
      "text/plain": [
       "⎛ 2                   2⎞\n",
       "⎝x  + 2⋅x + 1, (x + 1) ⎠"
      ]
     },
     "execution_count": 60,
     "metadata": {},
     "output_type": "execute_result"
    }
   ],
   "source": [
    "simplify(x**2 + 2*x + 1), factor(simplify(x**2 + 2*x + 1))"
   ]
  },
  {
   "cell_type": "code",
   "execution_count": 63,
   "metadata": {},
   "outputs": [
    {
     "data": {
      "image/png": "[encoded data removed]",
      "text/latex": [
       "$$\\left ( \\sin^{4}{\\left (x \\right )} - 2 \\sin^{2}{\\left (x \\right )} \\cos^{2}{\\left (x \\right )} + \\cos^{4}{\\left (x \\right )}, \\quad \\frac{\\cos{\\left (4 x \\right )}}{2} + \\frac{1}{2}\\right )$$"
      ],
      "text/plain": [
       "⎛   4           2       2         4     cos(4⋅x)   1⎞\n",
       "⎜sin (x) - 2⋅sin (x)⋅cos (x) + cos (x), ──────── + ─⎟\n",
       "⎝                                          2       2⎠"
      ]
     },
     "execution_count": 63,
     "metadata": {},
     "output_type": "execute_result"
    }
   ],
   "source": [
    "expr = sin(x) ** 4 - 2 * cos(x) ** 2 * sin(x) ** 2 + cos(x) ** 4\n",
    "expr, trigsimp(expr)    #三角函数展开"
   ]
  },
  {
   "cell_type": "markdown",
   "metadata": {},
   "source": [
    "用sympify将string转化为表达式"
   ]
  },
  {
   "cell_type": "code",
   "execution_count": 64,
   "metadata": {},
   "outputs": [
    {
     "data": {
      "image/png": "[encoded data removed]",
      "text/latex": [
       "$$x^{2} + 3 x - \\frac{1}{2}$$"
      ],
      "text/plain": [
       " 2         1\n",
       "x  + 3⋅x - ─\n",
       "           2"
      ]
     },
     "execution_count": 64,
     "metadata": {},
     "output_type": "execute_result"
    }
   ],
   "source": [
    "sympify(\"x ** 2 + 3 * x - 1 / 2\")"
   ]
  },
  {
   "cell_type": "markdown",
   "metadata": {},
   "source": [
    "### 判断表达式是否相等"
   ]
  },
  {
   "cell_type": "code",
   "execution_count": 66,
   "metadata": {},
   "outputs": [
    {
     "data": {
      "image/png": "[encoded data removed]",
      "text/latex": [
       "$$- \\sin^{2}{\\left (x \\right )} + \\cos^{2}{\\left (x \\right )}$$"
      ],
      "text/plain": [
       "     2         2   \n",
       "- sin (x) + cos (x)"
      ]
     },
     "metadata": {},
     "output_type": "display_data"
    },
    {
     "data": {
      "image/png": "[encoded data removed]",
      "text/latex": [
       "$$\\cos{\\left (2 x \\right )}$$"
      ],
      "text/plain": [
       "cos(2⋅x)"
      ]
     },
     "metadata": {},
     "output_type": "display_data"
    },
    {
     "data": {
      "text/plain": [
       "True"
      ]
     },
     "metadata": {},
     "output_type": "display_data"
    }
   ],
   "source": [
    "a = cos(x) ** 2 - sin(x) ** 2\n",
    "b = cos(2 * x)\n",
    "display(a, b, a.equals(b))"
   ]
  },
  {
   "cell_type": "markdown",
   "metadata": {},
   "source": [
    "### 格式化输出(分式)"
   ]
  },
  {
   "cell_type": "code",
   "execution_count": 43,
   "metadata": {},
   "outputs": [
    {
     "data": {
      "image/png": "[encoded data removed]",
      "text/latex": [
       "$$\\frac{1}{3}$$"
      ],
      "text/plain": [
       "1/3"
      ]
     },
     "execution_count": 43,
     "metadata": {},
     "output_type": "execute_result"
    }
   ],
   "source": [
    "Integer(1) / Integer(3)"
   ]
  },
  {
   "cell_type": "code",
   "execution_count": 68,
   "metadata": {},
   "outputs": [
    {
     "data": {
      "image/png": "[encoded data removed]",
      "text/latex": [
       "$$\\left ( \\frac{1}{2}, \\quad x + 0.5, \\quad x + \\frac{1}{2}\\right )$$"
      ],
      "text/plain": [
       "(1/2, x + 0.5, x + 1/2)"
      ]
     },
     "execution_count": 68,
     "metadata": {},
     "output_type": "execute_result"
    }
   ],
   "source": [
    "Rational(1, 2), x + 1 / 2, x + Rational(1, 2)"
   ]
  },
  {
   "cell_type": "markdown",
   "metadata": {},
   "source": [
    "## lambdify"
   ]
  },
  {
   "cell_type": "code",
   "execution_count": 36,
   "metadata": {},
   "outputs": [
    {
     "data": {
      "text/plain": [
       "array([ 0.        ,  0.84147098,  0.90929743,  0.14112001, -0.7568025 ,\n",
       "       -0.95892427, -0.2794155 ,  0.6569866 ,  0.98935825,  0.41211849])"
      ]
     },
     "execution_count": 36,
     "metadata": {},
     "output_type": "execute_result"
    }
   ],
   "source": [
    "a = np.arange(10)\n",
    "expr = sin(x)\n",
    "f = lambdify(x, expr, \"numpy\")\n",
    "f(a)"
   ]
  },
  {
   "cell_type": "code",
   "execution_count": 41,
   "metadata": {},
   "outputs": [
    {
     "data": {
      "image/png": "[encoded data removed]",
      "text/latex": [
       "$$0.09983341664682815$$"
      ],
      "text/plain": [
       "0.09983341664682815"
      ]
     },
     "execution_count": 41,
     "metadata": {},
     "output_type": "execute_result"
    }
   ],
   "source": [
    "f = lambdify(x, expr, \"math\")\n",
    "f(0.1)"
   ]
  },
  {
   "cell_type": "code",
   "execution_count": 72,
   "metadata": {},
   "outputs": [
    {
     "data": {
      "image/png": "[encoded data removed]",
      "text/latex": [
       "$$- 1.11111111111111 y^{2} + 2.22222222222222 y z - 1.11111111111111 z^{2}$$"
      ],
      "text/plain": [
       "                    2                                            2\n",
       "- 1.11111111111111⋅y  + 2.22222222222222⋅y⋅z - 1.11111111111111⋅z "
      ]
     },
     "execution_count": 72,
     "metadata": {},
     "output_type": "execute_result"
    }
   ],
   "source": [
    "def mysin(x):\n",
    "     \"\"\"\n",
    "     My sine. Note that this is only accurate for small x.\n",
    "     \"\"\"\n",
    "     return x\n",
    "f = lambdify(x, expr, {\"sin\":mysin})\n",
    "f(0.1)"
   ]
  },
  {
   "cell_type": "markdown",
   "metadata": {
    "toc-hr-collapsed": false
   },
   "source": [
    "## 导数与极限"
   ]
  },
  {
   "cell_type": "markdown",
   "metadata": {},
   "source": [
    "### 求导"
   ]
  },
  {
   "cell_type": "markdown",
   "metadata": {},
   "source": [
    "$sin(x)e^x$"
   ]
  },
  {
   "cell_type": "code",
   "execution_count": 7,
   "metadata": {},
   "outputs": [
    {
     "data": {
      "image/png": "[encoded data removed]",
      "text/latex": [
       "$$e^{x} \\sin{\\left (x \\right )} + e^{x} \\cos{\\left (x \\right )}$$"
      ],
      "text/plain": [
       " x           x       \n",
       "ℯ ⋅sin(x) + ℯ ⋅cos(x)"
      ]
     },
     "execution_count": 7,
     "metadata": {},
     "output_type": "execute_result"
    }
   ],
   "source": [
    "diff(sin(x) * exp(x), x)"
   ]
  },
  {
   "cell_type": "markdown",
   "metadata": {},
   "source": [
    "### 求极限"
   ]
  },
  {
   "cell_type": "markdown",
   "metadata": {},
   "source": [
    "$\\lim_{x\\rightarrow0}x\\cot{3x}$"
   ]
  },
  {
   "cell_type": "code",
   "execution_count": 7,
   "metadata": {},
   "outputs": [
    {
     "data": {
      "image/png": "[encoded data removed]",
      "text/latex": [
       "$$\\frac{1}{3}$$"
      ],
      "text/plain": [
       "1/3"
      ]
     },
     "execution_count": 7,
     "metadata": {},
     "output_type": "execute_result"
    }
   ],
   "source": [
    "limit((x * cot(3 * x)), x, 0)"
   ]
  },
  {
   "cell_type": "markdown",
   "metadata": {},
   "source": [
    "$\\lim_{x\\rightarrow\\infty}\\frac{(x^3+x^2+1)(\\sin{x}+\\cos{x})}{2^x+x^3}$"
   ]
  },
  {
   "cell_type": "code",
   "execution_count": 21,
   "metadata": {},
   "outputs": [
    {
     "data": {
      "image/png": "[encoded data removed]",
      "text/latex": [
       "$$0$$"
      ],
      "text/plain": [
       "0"
      ]
     },
     "execution_count": 21,
     "metadata": {},
     "output_type": "execute_result"
    }
   ],
   "source": [
    "limit((x ** 3 + x ** 2 + 1) / (2 ** x + x ** 3) * (sin(x) + cos(x)), x, oo)"
   ]
  },
  {
   "cell_type": "markdown",
   "metadata": {},
   "source": [
    "$\\lim_{x\\rightarrow0}\\frac{x^2\\sin{\\frac{1}{x}}+\\sin{x}}{x}$"
   ]
  },
  {
   "cell_type": "code",
   "execution_count": 22,
   "metadata": {},
   "outputs": [
    {
     "data": {
      "image/png": "[encoded data removed]",
      "text/latex": [
       "$$1$$"
      ],
      "text/plain": [
       "1"
      ]
     },
     "execution_count": 22,
     "metadata": {},
     "output_type": "execute_result"
    }
   ],
   "source": [
    "limit((x ** 2 * sin(1 / x) + sin(x)) / x, x, 0)"
   ]
  },
  {
   "cell_type": "markdown",
   "metadata": {
    "toc-hr-collapsed": false
   },
   "source": [
    "## 函数展开与级数"
   ]
  },
  {
   "cell_type": "markdown",
   "metadata": {},
   "source": [
    "展开三角函数$sin(2x)+cos(2x)$"
   ]
  },
  {
   "cell_type": "code",
   "execution_count": 9,
   "metadata": {},
   "outputs": [
    {
     "data": {
      "image/png": "[encoded data removed]",
      "text/latex": [
       "$$2 \\sin{\\left (x \\right )} \\cos{\\left (x \\right )} + 2 \\cos^{2}{\\left (x \\right )} - 1$$"
      ],
      "text/plain": [
       "                       2       \n",
       "2⋅sin(x)⋅cos(x) + 2⋅cos (x) - 1"
      ]
     },
     "execution_count": 9,
     "metadata": {},
     "output_type": "execute_result"
    }
   ],
   "source": [
    "expr = sin(2 * x) + cos(2 * x)\n",
    "expand_trig(expr)"
   ]
  },
  {
   "cell_type": "markdown",
   "metadata": {},
   "source": [
    "使用subs进行替换"
   ]
  },
  {
   "cell_type": "code",
   "execution_count": 10,
   "metadata": {},
   "outputs": [
    {
     "data": {
      "image/png": "[encoded data removed]",
      "text/latex": [
       "$$2 \\sin{\\left (x \\right )} \\cos{\\left (x \\right )} + \\cos{\\left (2 x \\right )}$$"
      ],
      "text/plain": [
       "2⋅sin(x)⋅cos(x) + cos(2⋅x)"
      ]
     },
     "execution_count": 10,
     "metadata": {},
     "output_type": "execute_result"
    }
   ],
   "source": [
    "expr.subs(sin(2*x), 2*sin(x)*cos(x))"
   ]
  },
  {
   "cell_type": "markdown",
   "metadata": {},
   "source": [
    "级数1：$\\frac{1}{n^{2}} - \\frac{1}{n}$\n",
    "级数2：$\\frac{n-100}{n}$"
   ]
  },
  {
   "cell_type": "code",
   "execution_count": 40,
   "metadata": {},
   "outputs": [
    {
     "data": {
      "image/png": "[encoded data removed]",
      "text/latex": [
       "$$\\left ( \\mathrm{False}, \\quad \\mathrm{False}\\right )$$"
      ],
      "text/plain": [
       "(False, False)"
      ]
     },
     "execution_count": 40,
     "metadata": {},
     "output_type": "execute_result"
    }
   ],
   "source": [
    "i, n = symbols('i n', integer = True)\n",
    "expr1 = 1 / (n ** 2) - 1 / n\n",
    "expr2 = (n - 100) / n\n",
    "Sum(expr1, (n, 1, oo)).is_convergent(),Sum(expr2, (n, 1, oo)).is_convergent()"
   ]
  },
  {
   "cell_type": "markdown",
   "metadata": {},
   "source": [
    "连乘收敛判定:$\\prod_{i=1}^{n}\\frac{n}{n+1}$"
   ]
  },
  {
   "cell_type": "code",
   "execution_count": 41,
   "metadata": {},
   "outputs": [
    {
     "data": {
      "image/png": "[encoded data removed]",
      "text/latex": [
       "$$\\mathrm{False}$$"
      ],
      "text/plain": [
       "False"
      ]
     },
     "execution_count": 41,
     "metadata": {},
     "output_type": "execute_result"
    }
   ],
   "source": [
    "Product(n/(n + 1), (n, 1, oo)).is_convergent()"
   ]
  },
  {
   "cell_type": "markdown",
   "metadata": {},
   "source": [
    "判定绝对收敛$\\sum_{i=1}^\\infty (-1)^n$与$\\sum_{i=1}^\\infty \\frac{-1^n}{n^2}$"
   ]
  },
  {
   "cell_type": "code",
   "execution_count": 43,
   "metadata": {},
   "outputs": [
    {
     "data": {
      "image/png": "[encoded data removed]",
      "text/latex": [
       "$$\\mathrm{True}$$"
      ],
      "text/plain": [
       "True"
      ]
     },
     "execution_count": 43,
     "metadata": {},
     "output_type": "execute_result"
    }
   ],
   "source": [
    "Sum((-1)**n, (n, 1, oo)).is_absolutely_convergent(),Sum((-1)**n/n**2, (n, 1, oo)).is_absolutely_convergent() #判定绝对收敛"
   ]
  },
  {
   "cell_type": "markdown",
   "metadata": {},
   "source": [
    "$\\sum_{n=1}^∞\\frac{1}{n(n+1)(n+2)}$"
   ]
  },
  {
   "cell_type": "code",
   "execution_count": 6,
   "metadata": {},
   "outputs": [
    {
     "data": {
      "image/png": "[encoded data removed]",
      "text/latex": [
       "$$\\frac{1}{4}$$"
      ],
      "text/plain": [
       "1/4"
      ]
     },
     "execution_count": 6,
     "metadata": {},
     "output_type": "execute_result"
    }
   ],
   "source": [
    "expr = 1 / (n * (n + 1) * (n + 2))\n",
    "Sum(expr,(n, 1, oo)).doit()"
   ]
  },
  {
   "cell_type": "markdown",
   "metadata": {},
   "source": [
    "$\\sum_{n=1}^∞\\frac{1}{1(3n-2)(3n+1)}$"
   ]
  },
  {
   "cell_type": "code",
   "execution_count": 44,
   "metadata": {},
   "outputs": [
    {
     "data": {
      "image/png": "[encoded data removed]",
      "text/latex": [
       "$$\\left ( \\frac{\\Gamma\\left(\\frac{7}{3}\\right)}{4 \\Gamma\\left(\\frac{4}{3}\\right)}, \\quad 0.333333333333333\\right )$$"
      ],
      "text/plain": [
       "⎛ Γ(7/3)                    ⎞\n",
       "⎜────────, 0.333333333333333⎟\n",
       "⎝4⋅Γ(4/3)                   ⎠"
      ]
     },
     "execution_count": 44,
     "metadata": {},
     "output_type": "execute_result"
    }
   ],
   "source": [
    "expr = 1 / ((3 * n - 2) * (3 * n + 1))\n",
    "Sum(expr,(n, 1, oo)).doit(), Sum(expr,(n, 1, oo)).doit().evalf()"
   ]
  },
  {
   "cell_type": "markdown",
   "metadata": {},
   "source": [
    "$\\sum_{n=1}^∞\\frac{n}{(n+1)!}$"
   ]
  },
  {
   "cell_type": "code",
   "execution_count": 12,
   "metadata": {},
   "outputs": [
    {
     "data": {
      "image/png": "[encoded data removed]",
      "text/latex": [
       "$$1$$"
      ],
      "text/plain": [
       "1"
      ]
     },
     "execution_count": 12,
     "metadata": {},
     "output_type": "execute_result"
    }
   ],
   "source": [
    "expr = n / factorial(n + 1)    #阶乘\n",
    "Sum(expr, (n, 1, oo)).doit()"
   ]
  },
  {
   "cell_type": "markdown",
   "metadata": {},
   "source": [
    "$\\sum_{n=1}^∞\\prod_{i=1}^{n+1}\\frac{2}{2^{i}+1}$"
   ]
  },
  {
   "cell_type": "code",
   "execution_count": 23,
   "metadata": {},
   "outputs": [
    {
     "data": {
      "image/png": "[encoded data removed]",
      "text/latex": [
       "$$0.333333333333333$$"
      ],
      "text/plain": [
       "0.333333333333333"
      ]
     },
     "execution_count": 23,
     "metadata": {},
     "output_type": "execute_result"
    }
   ],
   "source": [
    "expr = 2 / (2 ** i + 1)\n",
    "prod = Product(expr, (i, 1, n + 1))\n",
    "sums = Sum(prod, (n, 1, oo))\n",
    "sums.evalf()"
   ]
  },
  {
   "cell_type": "markdown",
   "metadata": {
    "toc-hr-collapsed": false
   },
   "source": [
    "#### 泰勒展开"
   ]
  },
  {
   "cell_type": "code",
   "execution_count": 27,
   "metadata": {},
   "outputs": [
    {
     "data": {
      "image/png": "[encoded data removed]",
      "text/latex": [
       "$$e^{\\sin{\\left (x \\right )}}$$"
      ],
      "text/plain": [
       " sin(x)\n",
       "ℯ      "
      ]
     },
     "metadata": {},
     "output_type": "display_data"
    },
    {
     "data": {
      "image/png": "[encoded data removed]",
      "text/latex": [
       "$$1 + x + \\frac{x^{2}}{2} + O\\left(x^{4}\\right)$$"
      ],
      "text/plain": [
       "         2        \n",
       "        x     ⎛ 4⎞\n",
       "1 + x + ── + O⎝x ⎠\n",
       "        2         "
      ]
     },
     "execution_count": 27,
     "metadata": {},
     "output_type": "execute_result"
    }
   ],
   "source": [
    "expr = exp(sin(x))\n",
    "display(expr)\n",
    "expr.series(x, 0, 4)    #在0点四阶展开"
   ]
  },
  {
   "cell_type": "code",
   "execution_count": 28,
   "metadata": {},
   "outputs": [
    {
     "data": {
      "image/png": "[encoded data removed]",
      "text/latex": [
       "$$e^{\\sin{\\left (x_{0} \\right )}} + \\left(x - x_{0}\\right) e^{\\sin{\\left (x_{0} \\right )}} \\cos{\\left (x_{0} \\right )} + \\left(x - x_{0}\\right)^{2} \\left(- \\frac{e^{\\sin{\\left (x_{0} \\right )}} \\sin{\\left (x_{0} \\right )}}{2} + \\frac{e^{\\sin{\\left (x_{0} \\right )}} \\cos^{2}{\\left (x_{0} \\right )}}{2}\\right) + \\left(x - x_{0}\\right)^{3} \\left(- \\frac{e^{\\sin{\\left (x_{0} \\right )}} \\sin{\\left (x_{0} \\right )} \\cos{\\left (x_{0} \\right )}}{2} + \\frac{e^{\\sin{\\left (x_{0} \\right )}} \\cos^{3}{\\left (x_{0} \\right )}}{6} - \\frac{e^{\\sin{\\left (x_{0} \\right )}} \\cos{\\left (x_{0} \\right )}}{6}\\right) + O\\left(\\left(x - x_{0}\\right)^{4}; x\\rightarrow x_{0}\\right)$$"
      ],
      "text/plain": [
       "                                                 ⎛   sin(x₀)            sin(x₀\n",
       " sin(x₀)             sin(x₀)                   2 ⎜  ℯ       ⋅sin(x₀)   ℯ      \n",
       "ℯ        + (x - x₀)⋅ℯ       ⋅cos(x₀) + (x - x₀) ⋅⎜- ──────────────── + ───────\n",
       "                                                 ⎝         2                  \n",
       "\n",
       ")    2    ⎞             ⎛   sin(x₀)                    sin(x₀)    3        sin\n",
       " ⋅cos (x₀)⎟           3 ⎜  ℯ       ⋅sin(x₀)⋅cos(x₀)   ℯ       ⋅cos (x₀)   ℯ   \n",
       "──────────⎟ + (x - x₀) ⋅⎜- ──────────────────────── + ───────────────── - ────\n",
       " 2        ⎠             ⎝             2                       6               \n",
       "\n",
       "(x₀)        ⎞                       \n",
       "    ⋅cos(x₀)⎟    ⎛        4        ⎞\n",
       "────────────⎟ + O⎝(x - x₀) ; x → x₀⎠\n",
       "   6        ⎠                       "
      ]
     },
     "execution_count": 28,
     "metadata": {},
     "output_type": "execute_result"
    }
   ],
   "source": [
    "x0 = symbols(\"x0\")\n",
    "expr.series(x, x0, 4)"
   ]
  }
 ],
 "metadata": {
  "kernelspec": {
   "display_name": "Python 3",
   "language": "python",
   "name": "python3"
  },
  "language_info": {
   "codemirror_mode": {
    "name": "ipython",
    "version": 3
   },
   "file_extension": ".py",
   "mimetype": "text/x-python",
   "name": "python",
   "nbconvert_exporter": "python",
   "pygments_lexer": "ipython3",
   "version": "3.6.6"
  }
 },
 "nbformat": 4,
 "nbformat_minor": 2
}
