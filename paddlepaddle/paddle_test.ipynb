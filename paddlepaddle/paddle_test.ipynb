{
 "cells": [
  {
   "cell_type": "code",
   "execution_count": 1,
   "metadata": {},
   "outputs": [],
   "source": [
    "import paddle.v2 as paddle\n",
    "import numpy as np\n",
    "import matplotlib.pyplot as plt\n",
    "%matplotlib inline"
   ]
  },
  {
   "cell_type": "code",
   "execution_count": null,
   "metadata": {},
   "outputs": [],
   "source": [
    "# Initialize PaddlePaddle.\n",
    "paddle.init(use_gpu=False, trainer_count=1)\n",
    "\n",
    "# Configure the neural network.\n",
    "x = paddle.layer.data(name='x', type=paddle.data_type.dense_vector(13))\n",
    "y_predict = paddle.layer.fc(input=x, size=1, act=paddle.activation.Linear())\n",
    "\n",
    "with open('fit_a_line.tar', 'r') as f:\n",
    "    parameters = paddle.parameters.Parameters.from_tar(f)\n",
    "\n",
    "# Infer using provided test data.\n",
    "probs = paddle.infer(\n",
    "     output_layer=y_predict, parameters=parameters,\n",
    "     input=[item for item in paddle.dataset.uci_housing.test()()])\n",
    "\n",
    "for i in xrange(len(probs)):\n",
    "     print 'Predicted price: ${:,.2f}'.format(probs[i][0] * 1000)"
   ]
  },
  {
   "cell_type": "code",
   "execution_count": null,
   "metadata": {},
   "outputs": [],
   "source": []
  }
 ],
 "metadata": {
  "kernelspec": {
   "display_name": "Python 2",
   "language": "python",
   "name": "python2"
  },
  "language_info": {
   "codemirror_mode": {
    "name": "ipython",
    "version": 2
   },
   "file_extension": ".py",
   "mimetype": "text/x-python",
   "name": "python",
   "nbconvert_exporter": "python",
   "pygments_lexer": "ipython2",
   "version": "2.7.15"
  }
 },
 "nbformat": 4,
 "nbformat_minor": 2
}
